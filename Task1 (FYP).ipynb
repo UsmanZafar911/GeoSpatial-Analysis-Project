{
 "cells": [
  {
   "cell_type": "code",
   "execution_count": 21,
   "metadata": {
    "colab": {
     "base_uri": "https://localhost:8080/"
    },
    "id": "M1ysEyyWjvzV",
    "outputId": "d7071fc9-a249-4d1f-a3c4-1a09add1a3bc"
   },
   "outputs": [
    {
     "data": {
      "text/plain": [
       "\"\\nThe two datasets world's life expectancy data set and world's population dataset are merged together to use easily.\\nThe ISO country code will be used to plot countries boundries in the world choropleth charts.\\n\""
      ]
     },
     "execution_count": 21,
     "metadata": {},
     "output_type": "execute_result"
    }
   ],
   "source": [
    " ## PART 1 ##\n",
    "\n",
    "import pandas as pd\n",
    "import matplotlib.pyplot as plt\n",
    "import plotly.graph_objects as go\n",
    "import plotly.express as px\n",
    "\n",
    "\n",
    "\n",
    "## TASK 1.1 :\n",
    "    \n",
    "##Read LIFE EXPECTANCY dataset - skipping first 4 rows as they don't contain any data\n",
    "le_df = pd.read_csv('API_SP.DYN.LE00.MA.IN_DS2_en_csv_v2_2825277.csv' , skiprows=4)\n",
    "##Read TOTAL POPULATION dataset - skipping first 4 rows as they don't contain any data\n",
    "tp_df = pd.read_csv('API_SP.POP.TOTL_DS2_en_csv_v2_2763937.csv' ,skiprows=4)\n",
    "df = pd.DataFrame(columns =[\"Country Name\",\"Country Code\",'Population_1960', 'Population_1961', 'Population_1962', 'Population_1963', 'Population_1964', 'Population_1965', 'Population_1966', 'Population_1967', 'Population_1968', 'Population_1969', 'Population_1970', 'Population_1971', 'Population_1972', 'Population_1973', 'Population_1974', 'Population_1975', 'Population_1976', 'Population_1977', 'Population_1978', 'Population_1979', 'Population_1980', 'Population_1981', 'Population_1982', 'Population_1983', 'Population_1984', 'Population_1985', 'Population_1986', 'Population_1987', 'Population_1988', 'Population_1989', 'Population_1990', 'Population_1991', 'Population_1992', 'Population_1993', 'Population_1994', 'Population_1995', 'Population_1996', 'Population_1997', 'Population_1998', 'Population_1999', 'Population_2000', 'Population_2001', 'Population_2002', 'Population_2003', 'Population_2004', 'Population_2005', 'Population_2006', 'Population_2007', 'Population_2008', 'Population_2009', 'Population_2010', 'Population_2011', 'Population_2012', 'Population_2013', 'Population_2014', 'Population_2015', 'Population_2016', 'Population_2017', 'Population_2018', 'Population_2019', 'Population_2020',\n",
    "                            'Life_expectancy_1960', 'Life_expectancy_1961', 'Life_expectancy_1962', 'Life_expectancy_1963', 'Life_expectancy_1964', 'Life_expectancy_1965', 'Life_expectancy_1966', 'Life_expectancy_1967', 'Life_expectancy_1968', 'Life_expectancy_1969', 'Life_expectancy_1970', 'Life_expectancy_1971', 'Life_expectancy_1972', 'Life_expectancy_1973', 'Life_expectancy_1974', 'Life_expectancy_1975', 'Life_expectancy_1976', 'Life_expectancy_1977', 'Life_expectancy_1978', 'Life_expectancy_1979', 'Life_expectancy_1980', 'Life_expectancy_1981', 'Life_expectancy_1982', 'Life_expectancy_1983', 'Life_expectancy_1984', 'Life_expectancy_1985', 'Life_expectancy_1986', 'Life_expectancy_1987', 'Life_expectancy_1988', 'Life_expectancy_1989', 'Life_expectancy_1990', 'Life_expectancy_1991', 'Life_expectancy_1992', 'Life_expectancy_1993', 'Life_expectancy_1994', 'Life_expectancy_1995', 'Life_expectancy_1996', 'Life_expectancy_1997', 'Life_expectancy_1998', 'Life_expectancy_1999', 'Life_expectancy_2000', 'Life_expectancy_2001', 'Life_expectancy_2002', 'Life_expectancy_2003', 'Life_expectancy_2004', 'Life_expectancy_2005', 'Life_expectancy_2006', 'Life_expectancy_2007', 'Life_expectancy_2008', 'Life_expectancy_2009', 'Life_expectancy_2010', 'Life_expectancy_2011', 'Life_expectancy_2012', 'Life_expectancy_2013', 'Life_expectancy_2014', 'Life_expectancy_2015', 'Life_expectancy_2016', 'Life_expectancy_2017', 'Life_expectancy_2018', 'Life_expectancy_2019', 'Life_expectancy_2020'])\n",
    "years = [ \"1960\",\"1961\",\"1962\",\"1963\",\"1964\",\"1965\",\"1966\",\"1967\",\"1968\",\"1969\",\"1970\",\"1971\",\"1972\",\"1973\",\"1974\",\"1975\",\"1976\",\"1977\",\"1978\",\"1979\",\"1980\",\"1981\",\"1982\",\"1983\",\"1984\",\"1985\",\"1986\",\"1987\",\"1988\",\"1989\",\"1990\",\"1991\",\"1992\",\"1993\",\"1994\",\"1995\",\"1996\",\"1997\",\"1998\",\"1999\",\"2000\",\"2001\",\"2002\",\"2003\",\"2004\",\"2005\",\"2006\",\"2007\",\"2008\",\"2009\",\"2010\",\"2011\",\"2012\",\"2013\",\"2014\",\"2015\",\"2016\",\"2017\",\"2018\",\"2019\",\"2020\"]\n",
    "\n",
    "##Merging two datasets\n",
    "##World life expectancy dataset & World Population dataset from 1960 to 2020\n",
    "\n",
    "country_code=['IDB','IBT','IBD','HPC','LIC','IDA','WLD','SSD', 'SSA', 'SSF', 'SAS', 'PST', 'PSS', 'PSE', 'PRE', 'OSS', 'OED', 'NAC', 'MNA', 'MIC', 'CEB', 'CAF', 'ARB', 'AFW', 'AFE', 'MEA', 'MAF', 'MAC', 'LTE', 'LMY', 'LMC', 'LDC', 'LCN', 'LAC', 'INX', 'IMN', 'IDX', 'IBT', 'IBD', 'HPC', 'HIC', 'GNQ', 'FSM', 'FCS', 'EUU', 'EMU', 'ECS', 'ECA', 'EAS', 'EAR', 'EAP', 'CSS', 'CHI', 'SXM', 'SST', 'UMC', 'TSS', 'TSA', 'TMN', 'TLS', 'TLA', 'TEC', 'TEA']\n",
    "for i in le_df.index:\n",
    "  if str(le_df['Country Code'][i]) in country_code:\n",
    "    ##filteration -removing codes that doesn't belong to any country\n",
    "    continue\n",
    "  row = [le_df['Country Name'][i],\n",
    "         le_df['Country Code'][i]]\n",
    "  for year in years:\n",
    "    row.append(tp_df[year][i])\n",
    "  for year in years:\n",
    "    row.append(le_df[year][i]) \n",
    "  df.loc[len(df.index)] = row\n",
    "'''\n",
    "The two datasets world's life expectancy data set and world's population dataset are merged together to use easily.\n",
    "The ISO country code will be used to plot countries boundries in the world choropleth charts.\n",
    "'''\n",
    "# print (len(df))\n"
   ]
  },
  {
   "cell_type": "code",
   "execution_count": 22,
   "metadata": {
    "colab": {
     "base_uri": "https://localhost:8080/",
     "height": 542
    },
    "id": "CiGYISnQpCx5",
    "outputId": "24164460-bd73-4b58-9a19-7aedc9b54584"
   },
   "outputs": [
    {
     "data": {
      "application/vnd.plotly.v1+json": {
       "config": {
        "plotlyServerURL": "https://plot.ly"
       },
       "data": [
        {
         "autocolorscale": false,
         "colorbar": {
          "tickprefix": "",
          "title": {
           "text": "Life Expectancy Average"
          }
         },
         "colorscale": [
          [
           0,
           "rgb(103,0,31)"
          ],
          [
           0.1,
           "rgb(178,24,43)"
          ],
          [
           0.2,
           "rgb(214,96,77)"
          ],
          [
           0.3,
           "rgb(244,165,130)"
          ],
          [
           0.4,
           "rgb(253,219,199)"
          ],
          [
           0.5,
           "rgb(247,247,247)"
          ],
          [
           0.6,
           "rgb(209,229,240)"
          ],
          [
           0.7,
           "rgb(146,197,222)"
          ],
          [
           0.8,
           "rgb(67,147,195)"
          ],
          [
           0.9,
           "rgb(33,102,172)"
          ],
          [
           1,
           "rgb(5,48,97)"
          ]
         ],
         "locations": [
          "ABW",
          "AFG",
          "AGO",
          "ALB",
          "AND",
          "ARE",
          "ARG",
          "ARM",
          "ASM",
          "ATG",
          "AUS",
          "AUT",
          "AZE",
          "BDI",
          "BEL",
          "BEN",
          "BFA",
          "BGD",
          "BGR",
          "BHR",
          "BHS",
          "BIH",
          "BLR",
          "BLZ",
          "BMU",
          "BOL",
          "BRA",
          "BRB",
          "BRN",
          "BTN",
          "BWA",
          "CAN",
          "CHE",
          "CHL",
          "CHN",
          "CIV",
          "CMR",
          "COD",
          "COG",
          "COL",
          "COM",
          "CPV",
          "CRI",
          "CUB",
          "CUW",
          "CYM",
          "CYP",
          "CZE",
          "DEU",
          "DJI",
          "DMA",
          "DNK",
          "DOM",
          "DZA",
          "ECU",
          "EGY",
          "ERI",
          "ESP",
          "EST",
          "ETH",
          "FIN",
          "FJI",
          "FRA",
          "FRO",
          "GAB",
          "GBR",
          "GEO",
          "GHA",
          "GIB",
          "GIN",
          "GMB",
          "GNB",
          "GRC",
          "GRD",
          "GRL",
          "GTM",
          "GUM",
          "GUY",
          "HKG",
          "HND",
          "HRV",
          "HTI",
          "HUN",
          "IDN",
          "IND",
          "IRL",
          "IRN",
          "IRQ",
          "ISL",
          "ISR",
          "ITA",
          "JAM",
          "JOR",
          "JPN",
          "KAZ",
          "KEN",
          "KGZ",
          "KHM",
          "KIR",
          "KNA",
          "KOR",
          "KWT",
          "LAO",
          "LBN",
          "LBR",
          "LBY",
          "LCA",
          "LIE",
          "LKA",
          "LSO",
          "LTU",
          "LUX",
          "LVA",
          "MAR",
          "MCO",
          "MDA",
          "MDG",
          "MDV",
          "MEX",
          "MHL",
          "MKD",
          "MLI",
          "MLT",
          "MMR",
          "MNE",
          "MNG",
          "MNP",
          "MOZ",
          "MRT",
          "MUS",
          "MWI",
          "MYS",
          "NAM",
          "NCL",
          "NER",
          "NGA",
          "NIC",
          "NLD",
          "NOR",
          "NPL",
          "NRU",
          "NZL",
          "OMN",
          "PAK",
          "PAN",
          "PER",
          "PHL",
          "PLW",
          "PNG",
          "POL",
          "PRI",
          "PRK",
          "PRT",
          "PRY",
          "PYF",
          "QAT",
          "ROU",
          "RUS",
          "RWA",
          "SAU",
          "SDN",
          "SEN",
          "SGP",
          "SLB",
          "SLE",
          "SLV",
          "SMR",
          "SOM",
          "SRB",
          "STP",
          "SUR",
          "SVK",
          "SVN",
          "SWE",
          "SWZ",
          "SYC",
          "SYR",
          "TCA",
          "TCD",
          "TGO",
          "THA",
          "TJK",
          "TKM",
          "TON",
          "TTO",
          "TUN",
          "TUR",
          "TUV",
          "TZA",
          "UGA",
          "UKR",
          "URY",
          "USA",
          "UZB",
          "VCT",
          "VEN",
          "VGB",
          "VIR",
          "VNM",
          "VUT",
          "WSM",
          "XKX",
          "YEM",
          "ZAF",
          "ZMB",
          "ZWE"
         ],
         "marker": {
          "line": {
           "color": "darkgray",
           "width": 0.5
          }
         },
         "reversescale": true,
         "text": [
          "Aruba",
          "Afghanistan",
          "Angola",
          "Albania",
          "Andorra",
          "United Arab Emirates",
          "Argentina",
          "Armenia",
          "American Samoa",
          "Antigua and Barbuda",
          "Australia",
          "Austria",
          "Azerbaijan",
          "Burundi",
          "Belgium",
          "Benin",
          "Burkina Faso",
          "Bangladesh",
          "Bulgaria",
          "Bahrain",
          "Bahamas, The",
          "Bosnia and Herzegovina",
          "Belarus",
          "Belize",
          "Bermuda",
          "Bolivia",
          "Brazil",
          "Barbados",
          "Brunei Darussalam",
          "Bhutan",
          "Botswana",
          "Canada",
          "Switzerland",
          "Chile",
          "China",
          "Cote d'Ivoire",
          "Cameroon",
          "Congo, Dem. Rep.",
          "Congo, Rep.",
          "Colombia",
          "Comoros",
          "Cabo Verde",
          "Costa Rica",
          "Cuba",
          "Curacao",
          "Cayman Islands",
          "Cyprus",
          "Czech Republic",
          "Germany",
          "Djibouti",
          "Dominica",
          "Denmark",
          "Dominican Republic",
          "Algeria",
          "Ecuador",
          "Egypt, Arab Rep.",
          "Eritrea",
          "Spain",
          "Estonia",
          "Ethiopia",
          "Finland",
          "Fiji",
          "France",
          "Faroe Islands",
          "Gabon",
          "United Kingdom",
          "Georgia",
          "Ghana",
          "Gibraltar",
          "Guinea",
          "Gambia, The",
          "Guinea-Bissau",
          "Greece",
          "Grenada",
          "Greenland",
          "Guatemala",
          "Guam",
          "Guyana",
          "Hong Kong SAR, China",
          "Honduras",
          "Croatia",
          "Haiti",
          "Hungary",
          "Indonesia",
          "India",
          "Ireland",
          "Iran, Islamic Rep.",
          "Iraq",
          "Iceland",
          "Israel",
          "Italy",
          "Jamaica",
          "Jordan",
          "Japan",
          "Kazakhstan",
          "Kenya",
          "Kyrgyz Republic",
          "Cambodia",
          "Kiribati",
          "St. Kitts and Nevis",
          "Korea, Rep.",
          "Kuwait",
          "Lao PDR",
          "Lebanon",
          "Liberia",
          "Libya",
          "St. Lucia",
          "Liechtenstein",
          "Sri Lanka",
          "Lesotho",
          "Lithuania",
          "Luxembourg",
          "Latvia",
          "Morocco",
          "Monaco",
          "Moldova",
          "Madagascar",
          "Maldives",
          "Mexico",
          "Marshall Islands",
          "North Macedonia",
          "Mali",
          "Malta",
          "Myanmar",
          "Montenegro",
          "Mongolia",
          "Northern Mariana Islands",
          "Mozambique",
          "Mauritania",
          "Mauritius",
          "Malawi",
          "Malaysia",
          "Namibia",
          "New Caledonia",
          "Niger",
          "Nigeria",
          "Nicaragua",
          "Netherlands",
          "Norway",
          "Nepal",
          "Nauru",
          "New Zealand",
          "Oman",
          "Pakistan",
          "Panama",
          "Peru",
          "Philippines",
          "Palau",
          "Papua New Guinea",
          "Poland",
          "Puerto Rico",
          "Korea, Dem. People's Rep.",
          "Portugal",
          "Paraguay",
          "French Polynesia",
          "Qatar",
          "Romania",
          "Russian Federation",
          "Rwanda",
          "Saudi Arabia",
          "Sudan",
          "Senegal",
          "Singapore",
          "Solomon Islands",
          "Sierra Leone",
          "El Salvador",
          "San Marino",
          "Somalia",
          "Serbia",
          "Sao Tome and Principe",
          "Suriname",
          "Slovak Republic",
          "Slovenia",
          "Sweden",
          "Eswatini",
          "Seychelles",
          "Syrian Arab Republic",
          "Turks and Caicos Islands",
          "Chad",
          "Togo",
          "Thailand",
          "Tajikistan",
          "Turkmenistan",
          "Tonga",
          "Trinidad and Tobago",
          "Tunisia",
          "Turkey",
          "Tuvalu",
          "Tanzania",
          "Uganda",
          "Ukraine",
          "Uruguay",
          "United States",
          "Uzbekistan",
          "St. Vincent and the Grenadines",
          "Venezuela, RB",
          "British Virgin Islands",
          "Virgin Islands (U.S.)",
          "Vietnam",
          "Vanuatu",
          "Samoa",
          "Kosovo",
          "Yemen, Rep.",
          "South Africa",
          "Zambia",
          "Zimbabwe"
         ],
         "type": "choropleth",
         "z": [
          71.312,
          54.663,
          44.466,
          71.216,
          null,
          73.516,
          70.128,
          68.086,
          null,
          72.422,
          76.6,
          75.2,
          63.625,
          47.555,
          74.6,
          53.701,
          49.117,
          64.963,
          68.2,
          73.669,
          68.623,
          71.744,
          63.4,
          66.225,
          75.3,
          60.588,
          66.421,
          75.274,
          71.692,
          60.635,
          48.213,
          76.6,
          76.9,
          73.235,
          69.595,
          48.107,
          49.485,
          48.598,
          50.751,
          69.594,
          57.895,
          65.35,
          75.13,
          74.776,
          null,
          null,
          75.933,
          71.7,
          75,
          55.484,
          null,
          74.3,
          66.65,
          69.253,
          69.976,
          66.241,
          53.427,
          75.6,
          65.1,
          50.588,
          74.1,
          64.007,
          75.3,
          75.8,
          57.088,
          75.4,
          66.072,
          56.228,
          null,
          51.166,
          54.859,
          47.584,
          75.4,
          70.025,
          64.3,
          64.652,
          72.781,
          62.266,
          78,
          68.361,
          69.12,
          55.215,
          67.1,
          64.349,
          61.729,
          74,
          69.257,
          66.753,
          77.8,
          77.1,
          76.9,
          72.835,
          70.37,
          77.72,
          60.2,
          48.657,
          64.9,
          56.186,
          60.35,
          null,
          72.3,
          72.382,
          57.001,
          72.821,
          50.681,
          69.232,
          71.939,
          73.9,
          67.872,
          44.92,
          66.8,
          74.8,
          64.9,
          67.108,
          null,
          63.012,
          57.305,
          69.229,
          71.668,
          62.8,
          70.829,
          47.386,
          76.3,
          57.044,
          70.465,
          60.09,
          null,
          46.784,
          58.864,
          68.2,
          42.836,
          70.603,
          49.924,
          71.7,
          49.279,
          45.386,
          66.597,
          75.5,
          76,
          61.166,
          null,
          76.1,
          70.36,
          62.054,
          72.652,
          68.852,
          65.499,
          66.64,
          57.923,
          69.7,
          72.66,
          61.182,
          72.9,
          68.565,
          69.75,
          76.527,
          67.7,
          59.03,
          47.749,
          71.015,
          56.614,
          56.196,
          76,
          66.254,
          38.861,
          64.357,
          null,
          49.349,
          68.9,
          59.39,
          64.635,
          69.1,
          71.9,
          77.4,
          44.5,
          67.9,
          71.034,
          null,
          46.534,
          52.668,
          66.935,
          60.166,
          59.624,
          68.748,
          67.226,
          70.846,
          66.39,
          null,
          48.936,
          43.323,
          62.1,
          70.97,
          74.1,
          63.956,
          68.85,
          68.531,
          null,
          73.4,
          68.359,
          66.217,
          66.348,
          65.5,
          59.21,
          53.14,
          41.927,
          42.609
         ]
        }
       ],
       "layout": {
        "annotations": [
         {
          "showarrow": false,
          "x": 0.55,
          "xref": "paper",
          "y": 0.1,
          "yref": "paper"
         }
        ],
        "geo": {
         "projection": {
          "type": "equirectangular"
         },
         "showcoastlines": false,
         "showframe": false
        },
        "template": {
         "data": {
          "bar": [
           {
            "error_x": {
             "color": "#2a3f5f"
            },
            "error_y": {
             "color": "#2a3f5f"
            },
            "marker": {
             "line": {
              "color": "#E5ECF6",
              "width": 0.5
             },
             "pattern": {
              "fillmode": "overlay",
              "size": 10,
              "solidity": 0.2
             }
            },
            "type": "bar"
           }
          ],
          "barpolar": [
           {
            "marker": {
             "line": {
              "color": "#E5ECF6",
              "width": 0.5
             },
             "pattern": {
              "fillmode": "overlay",
              "size": 10,
              "solidity": 0.2
             }
            },
            "type": "barpolar"
           }
          ],
          "carpet": [
           {
            "aaxis": {
             "endlinecolor": "#2a3f5f",
             "gridcolor": "white",
             "linecolor": "white",
             "minorgridcolor": "white",
             "startlinecolor": "#2a3f5f"
            },
            "baxis": {
             "endlinecolor": "#2a3f5f",
             "gridcolor": "white",
             "linecolor": "white",
             "minorgridcolor": "white",
             "startlinecolor": "#2a3f5f"
            },
            "type": "carpet"
           }
          ],
          "choropleth": [
           {
            "colorbar": {
             "outlinewidth": 0,
             "ticks": ""
            },
            "type": "choropleth"
           }
          ],
          "contour": [
           {
            "colorbar": {
             "outlinewidth": 0,
             "ticks": ""
            },
            "colorscale": [
             [
              0,
              "#0d0887"
             ],
             [
              0.1111111111111111,
              "#46039f"
             ],
             [
              0.2222222222222222,
              "#7201a8"
             ],
             [
              0.3333333333333333,
              "#9c179e"
             ],
             [
              0.4444444444444444,
              "#bd3786"
             ],
             [
              0.5555555555555556,
              "#d8576b"
             ],
             [
              0.6666666666666666,
              "#ed7953"
             ],
             [
              0.7777777777777778,
              "#fb9f3a"
             ],
             [
              0.8888888888888888,
              "#fdca26"
             ],
             [
              1,
              "#f0f921"
             ]
            ],
            "type": "contour"
           }
          ],
          "contourcarpet": [
           {
            "colorbar": {
             "outlinewidth": 0,
             "ticks": ""
            },
            "type": "contourcarpet"
           }
          ],
          "heatmap": [
           {
            "colorbar": {
             "outlinewidth": 0,
             "ticks": ""
            },
            "colorscale": [
             [
              0,
              "#0d0887"
             ],
             [
              0.1111111111111111,
              "#46039f"
             ],
             [
              0.2222222222222222,
              "#7201a8"
             ],
             [
              0.3333333333333333,
              "#9c179e"
             ],
             [
              0.4444444444444444,
              "#bd3786"
             ],
             [
              0.5555555555555556,
              "#d8576b"
             ],
             [
              0.6666666666666666,
              "#ed7953"
             ],
             [
              0.7777777777777778,
              "#fb9f3a"
             ],
             [
              0.8888888888888888,
              "#fdca26"
             ],
             [
              1,
              "#f0f921"
             ]
            ],
            "type": "heatmap"
           }
          ],
          "heatmapgl": [
           {
            "colorbar": {
             "outlinewidth": 0,
             "ticks": ""
            },
            "colorscale": [
             [
              0,
              "#0d0887"
             ],
             [
              0.1111111111111111,
              "#46039f"
             ],
             [
              0.2222222222222222,
              "#7201a8"
             ],
             [
              0.3333333333333333,
              "#9c179e"
             ],
             [
              0.4444444444444444,
              "#bd3786"
             ],
             [
              0.5555555555555556,
              "#d8576b"
             ],
             [
              0.6666666666666666,
              "#ed7953"
             ],
             [
              0.7777777777777778,
              "#fb9f3a"
             ],
             [
              0.8888888888888888,
              "#fdca26"
             ],
             [
              1,
              "#f0f921"
             ]
            ],
            "type": "heatmapgl"
           }
          ],
          "histogram": [
           {
            "marker": {
             "pattern": {
              "fillmode": "overlay",
              "size": 10,
              "solidity": 0.2
             }
            },
            "type": "histogram"
           }
          ],
          "histogram2d": [
           {
            "colorbar": {
             "outlinewidth": 0,
             "ticks": ""
            },
            "colorscale": [
             [
              0,
              "#0d0887"
             ],
             [
              0.1111111111111111,
              "#46039f"
             ],
             [
              0.2222222222222222,
              "#7201a8"
             ],
             [
              0.3333333333333333,
              "#9c179e"
             ],
             [
              0.4444444444444444,
              "#bd3786"
             ],
             [
              0.5555555555555556,
              "#d8576b"
             ],
             [
              0.6666666666666666,
              "#ed7953"
             ],
             [
              0.7777777777777778,
              "#fb9f3a"
             ],
             [
              0.8888888888888888,
              "#fdca26"
             ],
             [
              1,
              "#f0f921"
             ]
            ],
            "type": "histogram2d"
           }
          ],
          "histogram2dcontour": [
           {
            "colorbar": {
             "outlinewidth": 0,
             "ticks": ""
            },
            "colorscale": [
             [
              0,
              "#0d0887"
             ],
             [
              0.1111111111111111,
              "#46039f"
             ],
             [
              0.2222222222222222,
              "#7201a8"
             ],
             [
              0.3333333333333333,
              "#9c179e"
             ],
             [
              0.4444444444444444,
              "#bd3786"
             ],
             [
              0.5555555555555556,
              "#d8576b"
             ],
             [
              0.6666666666666666,
              "#ed7953"
             ],
             [
              0.7777777777777778,
              "#fb9f3a"
             ],
             [
              0.8888888888888888,
              "#fdca26"
             ],
             [
              1,
              "#f0f921"
             ]
            ],
            "type": "histogram2dcontour"
           }
          ],
          "mesh3d": [
           {
            "colorbar": {
             "outlinewidth": 0,
             "ticks": ""
            },
            "type": "mesh3d"
           }
          ],
          "parcoords": [
           {
            "line": {
             "colorbar": {
              "outlinewidth": 0,
              "ticks": ""
             }
            },
            "type": "parcoords"
           }
          ],
          "pie": [
           {
            "automargin": true,
            "type": "pie"
           }
          ],
          "scatter": [
           {
            "marker": {
             "colorbar": {
              "outlinewidth": 0,
              "ticks": ""
             }
            },
            "type": "scatter"
           }
          ],
          "scatter3d": [
           {
            "line": {
             "colorbar": {
              "outlinewidth": 0,
              "ticks": ""
             }
            },
            "marker": {
             "colorbar": {
              "outlinewidth": 0,
              "ticks": ""
             }
            },
            "type": "scatter3d"
           }
          ],
          "scattercarpet": [
           {
            "marker": {
             "colorbar": {
              "outlinewidth": 0,
              "ticks": ""
             }
            },
            "type": "scattercarpet"
           }
          ],
          "scattergeo": [
           {
            "marker": {
             "colorbar": {
              "outlinewidth": 0,
              "ticks": ""
             }
            },
            "type": "scattergeo"
           }
          ],
          "scattergl": [
           {
            "marker": {
             "colorbar": {
              "outlinewidth": 0,
              "ticks": ""
             }
            },
            "type": "scattergl"
           }
          ],
          "scattermapbox": [
           {
            "marker": {
             "colorbar": {
              "outlinewidth": 0,
              "ticks": ""
             }
            },
            "type": "scattermapbox"
           }
          ],
          "scatterpolar": [
           {
            "marker": {
             "colorbar": {
              "outlinewidth": 0,
              "ticks": ""
             }
            },
            "type": "scatterpolar"
           }
          ],
          "scatterpolargl": [
           {
            "marker": {
             "colorbar": {
              "outlinewidth": 0,
              "ticks": ""
             }
            },
            "type": "scatterpolargl"
           }
          ],
          "scatterternary": [
           {
            "marker": {
             "colorbar": {
              "outlinewidth": 0,
              "ticks": ""
             }
            },
            "type": "scatterternary"
           }
          ],
          "surface": [
           {
            "colorbar": {
             "outlinewidth": 0,
             "ticks": ""
            },
            "colorscale": [
             [
              0,
              "#0d0887"
             ],
             [
              0.1111111111111111,
              "#46039f"
             ],
             [
              0.2222222222222222,
              "#7201a8"
             ],
             [
              0.3333333333333333,
              "#9c179e"
             ],
             [
              0.4444444444444444,
              "#bd3786"
             ],
             [
              0.5555555555555556,
              "#d8576b"
             ],
             [
              0.6666666666666666,
              "#ed7953"
             ],
             [
              0.7777777777777778,
              "#fb9f3a"
             ],
             [
              0.8888888888888888,
              "#fdca26"
             ],
             [
              1,
              "#f0f921"
             ]
            ],
            "type": "surface"
           }
          ],
          "table": [
           {
            "cells": {
             "fill": {
              "color": "#EBF0F8"
             },
             "line": {
              "color": "white"
             }
            },
            "header": {
             "fill": {
              "color": "#C8D4E3"
             },
             "line": {
              "color": "white"
             }
            },
            "type": "table"
           }
          ]
         },
         "layout": {
          "annotationdefaults": {
           "arrowcolor": "#2a3f5f",
           "arrowhead": 0,
           "arrowwidth": 1
          },
          "autotypenumbers": "strict",
          "coloraxis": {
           "colorbar": {
            "outlinewidth": 0,
            "ticks": ""
           }
          },
          "colorscale": {
           "diverging": [
            [
             0,
             "#8e0152"
            ],
            [
             0.1,
             "#c51b7d"
            ],
            [
             0.2,
             "#de77ae"
            ],
            [
             0.3,
             "#f1b6da"
            ],
            [
             0.4,
             "#fde0ef"
            ],
            [
             0.5,
             "#f7f7f7"
            ],
            [
             0.6,
             "#e6f5d0"
            ],
            [
             0.7,
             "#b8e186"
            ],
            [
             0.8,
             "#7fbc41"
            ],
            [
             0.9,
             "#4d9221"
            ],
            [
             1,
             "#276419"
            ]
           ],
           "sequential": [
            [
             0,
             "#0d0887"
            ],
            [
             0.1111111111111111,
             "#46039f"
            ],
            [
             0.2222222222222222,
             "#7201a8"
            ],
            [
             0.3333333333333333,
             "#9c179e"
            ],
            [
             0.4444444444444444,
             "#bd3786"
            ],
            [
             0.5555555555555556,
             "#d8576b"
            ],
            [
             0.6666666666666666,
             "#ed7953"
            ],
            [
             0.7777777777777778,
             "#fb9f3a"
            ],
            [
             0.8888888888888888,
             "#fdca26"
            ],
            [
             1,
             "#f0f921"
            ]
           ],
           "sequentialminus": [
            [
             0,
             "#0d0887"
            ],
            [
             0.1111111111111111,
             "#46039f"
            ],
            [
             0.2222222222222222,
             "#7201a8"
            ],
            [
             0.3333333333333333,
             "#9c179e"
            ],
            [
             0.4444444444444444,
             "#bd3786"
            ],
            [
             0.5555555555555556,
             "#d8576b"
            ],
            [
             0.6666666666666666,
             "#ed7953"
            ],
            [
             0.7777777777777778,
             "#fb9f3a"
            ],
            [
             0.8888888888888888,
             "#fdca26"
            ],
            [
             1,
             "#f0f921"
            ]
           ]
          },
          "colorway": [
           "#636efa",
           "#EF553B",
           "#00cc96",
           "#ab63fa",
           "#FFA15A",
           "#19d3f3",
           "#FF6692",
           "#B6E880",
           "#FF97FF",
           "#FECB52"
          ],
          "font": {
           "color": "#2a3f5f"
          },
          "geo": {
           "bgcolor": "white",
           "lakecolor": "white",
           "landcolor": "#E5ECF6",
           "showlakes": true,
           "showland": true,
           "subunitcolor": "white"
          },
          "hoverlabel": {
           "align": "left"
          },
          "hovermode": "closest",
          "mapbox": {
           "style": "light"
          },
          "paper_bgcolor": "white",
          "plot_bgcolor": "#E5ECF6",
          "polar": {
           "angularaxis": {
            "gridcolor": "white",
            "linecolor": "white",
            "ticks": ""
           },
           "bgcolor": "#E5ECF6",
           "radialaxis": {
            "gridcolor": "white",
            "linecolor": "white",
            "ticks": ""
           }
          },
          "scene": {
           "xaxis": {
            "backgroundcolor": "#E5ECF6",
            "gridcolor": "white",
            "gridwidth": 2,
            "linecolor": "white",
            "showbackground": true,
            "ticks": "",
            "zerolinecolor": "white"
           },
           "yaxis": {
            "backgroundcolor": "#E5ECF6",
            "gridcolor": "white",
            "gridwidth": 2,
            "linecolor": "white",
            "showbackground": true,
            "ticks": "",
            "zerolinecolor": "white"
           },
           "zaxis": {
            "backgroundcolor": "#E5ECF6",
            "gridcolor": "white",
            "gridwidth": 2,
            "linecolor": "white",
            "showbackground": true,
            "ticks": "",
            "zerolinecolor": "white"
           }
          },
          "shapedefaults": {
           "line": {
            "color": "#2a3f5f"
           }
          },
          "ternary": {
           "aaxis": {
            "gridcolor": "white",
            "linecolor": "white",
            "ticks": ""
           },
           "baxis": {
            "gridcolor": "white",
            "linecolor": "white",
            "ticks": ""
           },
           "bgcolor": "#E5ECF6",
           "caxis": {
            "gridcolor": "white",
            "linecolor": "white",
            "ticks": ""
           }
          },
          "title": {
           "x": 0.05
          },
          "xaxis": {
           "automargin": true,
           "gridcolor": "white",
           "linecolor": "white",
           "ticks": "",
           "title": {
            "standoff": 15
           },
           "zerolinecolor": "white",
           "zerolinewidth": 2
          },
          "yaxis": {
           "automargin": true,
           "gridcolor": "white",
           "linecolor": "white",
           "ticks": "",
           "title": {
            "standoff": 15
           },
           "zerolinecolor": "white",
           "zerolinewidth": 2
          }
         }
        },
        "title": {
         "text": "Life Expectancy Year 2000"
        }
       }
      },
      "text/html": [
       "<div>                            <div id=\"85bf8ac1-f87a-42eb-b967-0e56d6f01d1c\" class=\"plotly-graph-div\" style=\"height:525px; width:100%;\"></div>            <script type=\"text/javascript\">                require([\"plotly\"], function(Plotly) {                    window.PLOTLYENV=window.PLOTLYENV || {};                                    if (document.getElementById(\"85bf8ac1-f87a-42eb-b967-0e56d6f01d1c\")) {                    Plotly.newPlot(                        \"85bf8ac1-f87a-42eb-b967-0e56d6f01d1c\",                        [{\"autocolorscale\":false,\"colorbar\":{\"tickprefix\":\"\",\"title\":{\"text\":\"Life Expectancy Average\"}},\"colorscale\":[[0.0,\"rgb(103,0,31)\"],[0.1,\"rgb(178,24,43)\"],[0.2,\"rgb(214,96,77)\"],[0.3,\"rgb(244,165,130)\"],[0.4,\"rgb(253,219,199)\"],[0.5,\"rgb(247,247,247)\"],[0.6,\"rgb(209,229,240)\"],[0.7,\"rgb(146,197,222)\"],[0.8,\"rgb(67,147,195)\"],[0.9,\"rgb(33,102,172)\"],[1.0,\"rgb(5,48,97)\"]],\"locations\":[\"ABW\",\"AFG\",\"AGO\",\"ALB\",\"AND\",\"ARE\",\"ARG\",\"ARM\",\"ASM\",\"ATG\",\"AUS\",\"AUT\",\"AZE\",\"BDI\",\"BEL\",\"BEN\",\"BFA\",\"BGD\",\"BGR\",\"BHR\",\"BHS\",\"BIH\",\"BLR\",\"BLZ\",\"BMU\",\"BOL\",\"BRA\",\"BRB\",\"BRN\",\"BTN\",\"BWA\",\"CAN\",\"CHE\",\"CHL\",\"CHN\",\"CIV\",\"CMR\",\"COD\",\"COG\",\"COL\",\"COM\",\"CPV\",\"CRI\",\"CUB\",\"CUW\",\"CYM\",\"CYP\",\"CZE\",\"DEU\",\"DJI\",\"DMA\",\"DNK\",\"DOM\",\"DZA\",\"ECU\",\"EGY\",\"ERI\",\"ESP\",\"EST\",\"ETH\",\"FIN\",\"FJI\",\"FRA\",\"FRO\",\"GAB\",\"GBR\",\"GEO\",\"GHA\",\"GIB\",\"GIN\",\"GMB\",\"GNB\",\"GRC\",\"GRD\",\"GRL\",\"GTM\",\"GUM\",\"GUY\",\"HKG\",\"HND\",\"HRV\",\"HTI\",\"HUN\",\"IDN\",\"IND\",\"IRL\",\"IRN\",\"IRQ\",\"ISL\",\"ISR\",\"ITA\",\"JAM\",\"JOR\",\"JPN\",\"KAZ\",\"KEN\",\"KGZ\",\"KHM\",\"KIR\",\"KNA\",\"KOR\",\"KWT\",\"LAO\",\"LBN\",\"LBR\",\"LBY\",\"LCA\",\"LIE\",\"LKA\",\"LSO\",\"LTU\",\"LUX\",\"LVA\",\"MAR\",\"MCO\",\"MDA\",\"MDG\",\"MDV\",\"MEX\",\"MHL\",\"MKD\",\"MLI\",\"MLT\",\"MMR\",\"MNE\",\"MNG\",\"MNP\",\"MOZ\",\"MRT\",\"MUS\",\"MWI\",\"MYS\",\"NAM\",\"NCL\",\"NER\",\"NGA\",\"NIC\",\"NLD\",\"NOR\",\"NPL\",\"NRU\",\"NZL\",\"OMN\",\"PAK\",\"PAN\",\"PER\",\"PHL\",\"PLW\",\"PNG\",\"POL\",\"PRI\",\"PRK\",\"PRT\",\"PRY\",\"PYF\",\"QAT\",\"ROU\",\"RUS\",\"RWA\",\"SAU\",\"SDN\",\"SEN\",\"SGP\",\"SLB\",\"SLE\",\"SLV\",\"SMR\",\"SOM\",\"SRB\",\"STP\",\"SUR\",\"SVK\",\"SVN\",\"SWE\",\"SWZ\",\"SYC\",\"SYR\",\"TCA\",\"TCD\",\"TGO\",\"THA\",\"TJK\",\"TKM\",\"TON\",\"TTO\",\"TUN\",\"TUR\",\"TUV\",\"TZA\",\"UGA\",\"UKR\",\"URY\",\"USA\",\"UZB\",\"VCT\",\"VEN\",\"VGB\",\"VIR\",\"VNM\",\"VUT\",\"WSM\",\"XKX\",\"YEM\",\"ZAF\",\"ZMB\",\"ZWE\"],\"marker\":{\"line\":{\"color\":\"darkgray\",\"width\":0.5}},\"reversescale\":true,\"text\":[\"Aruba\",\"Afghanistan\",\"Angola\",\"Albania\",\"Andorra\",\"United Arab Emirates\",\"Argentina\",\"Armenia\",\"American Samoa\",\"Antigua and Barbuda\",\"Australia\",\"Austria\",\"Azerbaijan\",\"Burundi\",\"Belgium\",\"Benin\",\"Burkina Faso\",\"Bangladesh\",\"Bulgaria\",\"Bahrain\",\"Bahamas, The\",\"Bosnia and Herzegovina\",\"Belarus\",\"Belize\",\"Bermuda\",\"Bolivia\",\"Brazil\",\"Barbados\",\"Brunei Darussalam\",\"Bhutan\",\"Botswana\",\"Canada\",\"Switzerland\",\"Chile\",\"China\",\"Cote d'Ivoire\",\"Cameroon\",\"Congo, Dem. Rep.\",\"Congo, Rep.\",\"Colombia\",\"Comoros\",\"Cabo Verde\",\"Costa Rica\",\"Cuba\",\"Curacao\",\"Cayman Islands\",\"Cyprus\",\"Czech Republic\",\"Germany\",\"Djibouti\",\"Dominica\",\"Denmark\",\"Dominican Republic\",\"Algeria\",\"Ecuador\",\"Egypt, Arab Rep.\",\"Eritrea\",\"Spain\",\"Estonia\",\"Ethiopia\",\"Finland\",\"Fiji\",\"France\",\"Faroe Islands\",\"Gabon\",\"United Kingdom\",\"Georgia\",\"Ghana\",\"Gibraltar\",\"Guinea\",\"Gambia, The\",\"Guinea-Bissau\",\"Greece\",\"Grenada\",\"Greenland\",\"Guatemala\",\"Guam\",\"Guyana\",\"Hong Kong SAR, China\",\"Honduras\",\"Croatia\",\"Haiti\",\"Hungary\",\"Indonesia\",\"India\",\"Ireland\",\"Iran, Islamic Rep.\",\"Iraq\",\"Iceland\",\"Israel\",\"Italy\",\"Jamaica\",\"Jordan\",\"Japan\",\"Kazakhstan\",\"Kenya\",\"Kyrgyz Republic\",\"Cambodia\",\"Kiribati\",\"St. Kitts and Nevis\",\"Korea, Rep.\",\"Kuwait\",\"Lao PDR\",\"Lebanon\",\"Liberia\",\"Libya\",\"St. Lucia\",\"Liechtenstein\",\"Sri Lanka\",\"Lesotho\",\"Lithuania\",\"Luxembourg\",\"Latvia\",\"Morocco\",\"Monaco\",\"Moldova\",\"Madagascar\",\"Maldives\",\"Mexico\",\"Marshall Islands\",\"North Macedonia\",\"Mali\",\"Malta\",\"Myanmar\",\"Montenegro\",\"Mongolia\",\"Northern Mariana Islands\",\"Mozambique\",\"Mauritania\",\"Mauritius\",\"Malawi\",\"Malaysia\",\"Namibia\",\"New Caledonia\",\"Niger\",\"Nigeria\",\"Nicaragua\",\"Netherlands\",\"Norway\",\"Nepal\",\"Nauru\",\"New Zealand\",\"Oman\",\"Pakistan\",\"Panama\",\"Peru\",\"Philippines\",\"Palau\",\"Papua New Guinea\",\"Poland\",\"Puerto Rico\",\"Korea, Dem. People's Rep.\",\"Portugal\",\"Paraguay\",\"French Polynesia\",\"Qatar\",\"Romania\",\"Russian Federation\",\"Rwanda\",\"Saudi Arabia\",\"Sudan\",\"Senegal\",\"Singapore\",\"Solomon Islands\",\"Sierra Leone\",\"El Salvador\",\"San Marino\",\"Somalia\",\"Serbia\",\"Sao Tome and Principe\",\"Suriname\",\"Slovak Republic\",\"Slovenia\",\"Sweden\",\"Eswatini\",\"Seychelles\",\"Syrian Arab Republic\",\"Turks and Caicos Islands\",\"Chad\",\"Togo\",\"Thailand\",\"Tajikistan\",\"Turkmenistan\",\"Tonga\",\"Trinidad and Tobago\",\"Tunisia\",\"Turkey\",\"Tuvalu\",\"Tanzania\",\"Uganda\",\"Ukraine\",\"Uruguay\",\"United States\",\"Uzbekistan\",\"St. Vincent and the Grenadines\",\"Venezuela, RB\",\"British Virgin Islands\",\"Virgin Islands (U.S.)\",\"Vietnam\",\"Vanuatu\",\"Samoa\",\"Kosovo\",\"Yemen, Rep.\",\"South Africa\",\"Zambia\",\"Zimbabwe\"],\"z\":[71.312,54.663,44.466,71.216,null,73.516,70.128,68.086,null,72.422,76.6,75.2,63.625,47.555,74.6,53.701,49.117,64.963,68.2,73.669,68.623,71.744,63.4,66.225,75.3,60.588,66.421,75.274,71.692,60.635,48.213,76.6,76.9,73.235,69.595,48.107,49.485,48.598,50.751,69.594,57.895,65.35,75.13,74.776,null,null,75.933,71.7,75.0,55.484,null,74.3,66.65,69.253,69.976,66.241,53.427,75.6,65.1,50.588,74.1,64.007,75.3,75.8,57.088,75.4,66.072,56.228,null,51.166,54.859,47.584,75.4,70.025,64.3,64.652,72.781,62.266,78.0,68.361,69.12,55.215,67.1,64.349,61.729,74.0,69.257,66.753,77.8,77.1,76.9,72.835,70.37,77.72,60.2,48.657,64.9,56.186,60.35,null,72.3,72.382,57.001,72.821,50.681,69.232,71.939,73.9,67.872,44.92,66.8,74.8,64.9,67.108,null,63.012,57.305,69.229,71.668,62.8,70.829,47.386,76.3,57.044,70.465,60.09,null,46.784,58.864,68.2,42.836,70.603,49.924,71.7,49.279,45.386,66.597,75.5,76.0,61.166,null,76.1,70.36,62.054,72.652,68.852,65.499,66.64,57.923,69.7,72.66,61.182,72.9,68.565,69.75,76.527,67.7,59.03,47.749,71.015,56.614,56.196,76.0,66.254,38.861,64.357,null,49.349,68.9,59.39,64.635,69.1,71.9,77.4,44.5,67.9,71.034,null,46.534,52.668,66.935,60.166,59.624,68.748,67.226,70.846,66.39,null,48.936,43.323,62.1,70.97,74.1,63.956,68.85,68.531,null,73.4,68.359,66.217,66.348,65.5,59.21,53.14,41.927,42.609],\"type\":\"choropleth\"}],                        {\"template\":{\"data\":{\"bar\":[{\"error_x\":{\"color\":\"#2a3f5f\"},\"error_y\":{\"color\":\"#2a3f5f\"},\"marker\":{\"line\":{\"color\":\"#E5ECF6\",\"width\":0.5},\"pattern\":{\"fillmode\":\"overlay\",\"size\":10,\"solidity\":0.2}},\"type\":\"bar\"}],\"barpolar\":[{\"marker\":{\"line\":{\"color\":\"#E5ECF6\",\"width\":0.5},\"pattern\":{\"fillmode\":\"overlay\",\"size\":10,\"solidity\":0.2}},\"type\":\"barpolar\"}],\"carpet\":[{\"aaxis\":{\"endlinecolor\":\"#2a3f5f\",\"gridcolor\":\"white\",\"linecolor\":\"white\",\"minorgridcolor\":\"white\",\"startlinecolor\":\"#2a3f5f\"},\"baxis\":{\"endlinecolor\":\"#2a3f5f\",\"gridcolor\":\"white\",\"linecolor\":\"white\",\"minorgridcolor\":\"white\",\"startlinecolor\":\"#2a3f5f\"},\"type\":\"carpet\"}],\"choropleth\":[{\"colorbar\":{\"outlinewidth\":0,\"ticks\":\"\"},\"type\":\"choropleth\"}],\"contour\":[{\"colorbar\":{\"outlinewidth\":0,\"ticks\":\"\"},\"colorscale\":[[0.0,\"#0d0887\"],[0.1111111111111111,\"#46039f\"],[0.2222222222222222,\"#7201a8\"],[0.3333333333333333,\"#9c179e\"],[0.4444444444444444,\"#bd3786\"],[0.5555555555555556,\"#d8576b\"],[0.6666666666666666,\"#ed7953\"],[0.7777777777777778,\"#fb9f3a\"],[0.8888888888888888,\"#fdca26\"],[1.0,\"#f0f921\"]],\"type\":\"contour\"}],\"contourcarpet\":[{\"colorbar\":{\"outlinewidth\":0,\"ticks\":\"\"},\"type\":\"contourcarpet\"}],\"heatmap\":[{\"colorbar\":{\"outlinewidth\":0,\"ticks\":\"\"},\"colorscale\":[[0.0,\"#0d0887\"],[0.1111111111111111,\"#46039f\"],[0.2222222222222222,\"#7201a8\"],[0.3333333333333333,\"#9c179e\"],[0.4444444444444444,\"#bd3786\"],[0.5555555555555556,\"#d8576b\"],[0.6666666666666666,\"#ed7953\"],[0.7777777777777778,\"#fb9f3a\"],[0.8888888888888888,\"#fdca26\"],[1.0,\"#f0f921\"]],\"type\":\"heatmap\"}],\"heatmapgl\":[{\"colorbar\":{\"outlinewidth\":0,\"ticks\":\"\"},\"colorscale\":[[0.0,\"#0d0887\"],[0.1111111111111111,\"#46039f\"],[0.2222222222222222,\"#7201a8\"],[0.3333333333333333,\"#9c179e\"],[0.4444444444444444,\"#bd3786\"],[0.5555555555555556,\"#d8576b\"],[0.6666666666666666,\"#ed7953\"],[0.7777777777777778,\"#fb9f3a\"],[0.8888888888888888,\"#fdca26\"],[1.0,\"#f0f921\"]],\"type\":\"heatmapgl\"}],\"histogram\":[{\"marker\":{\"pattern\":{\"fillmode\":\"overlay\",\"size\":10,\"solidity\":0.2}},\"type\":\"histogram\"}],\"histogram2d\":[{\"colorbar\":{\"outlinewidth\":0,\"ticks\":\"\"},\"colorscale\":[[0.0,\"#0d0887\"],[0.1111111111111111,\"#46039f\"],[0.2222222222222222,\"#7201a8\"],[0.3333333333333333,\"#9c179e\"],[0.4444444444444444,\"#bd3786\"],[0.5555555555555556,\"#d8576b\"],[0.6666666666666666,\"#ed7953\"],[0.7777777777777778,\"#fb9f3a\"],[0.8888888888888888,\"#fdca26\"],[1.0,\"#f0f921\"]],\"type\":\"histogram2d\"}],\"histogram2dcontour\":[{\"colorbar\":{\"outlinewidth\":0,\"ticks\":\"\"},\"colorscale\":[[0.0,\"#0d0887\"],[0.1111111111111111,\"#46039f\"],[0.2222222222222222,\"#7201a8\"],[0.3333333333333333,\"#9c179e\"],[0.4444444444444444,\"#bd3786\"],[0.5555555555555556,\"#d8576b\"],[0.6666666666666666,\"#ed7953\"],[0.7777777777777778,\"#fb9f3a\"],[0.8888888888888888,\"#fdca26\"],[1.0,\"#f0f921\"]],\"type\":\"histogram2dcontour\"}],\"mesh3d\":[{\"colorbar\":{\"outlinewidth\":0,\"ticks\":\"\"},\"type\":\"mesh3d\"}],\"parcoords\":[{\"line\":{\"colorbar\":{\"outlinewidth\":0,\"ticks\":\"\"}},\"type\":\"parcoords\"}],\"pie\":[{\"automargin\":true,\"type\":\"pie\"}],\"scatter\":[{\"marker\":{\"colorbar\":{\"outlinewidth\":0,\"ticks\":\"\"}},\"type\":\"scatter\"}],\"scatter3d\":[{\"line\":{\"colorbar\":{\"outlinewidth\":0,\"ticks\":\"\"}},\"marker\":{\"colorbar\":{\"outlinewidth\":0,\"ticks\":\"\"}},\"type\":\"scatter3d\"}],\"scattercarpet\":[{\"marker\":{\"colorbar\":{\"outlinewidth\":0,\"ticks\":\"\"}},\"type\":\"scattercarpet\"}],\"scattergeo\":[{\"marker\":{\"colorbar\":{\"outlinewidth\":0,\"ticks\":\"\"}},\"type\":\"scattergeo\"}],\"scattergl\":[{\"marker\":{\"colorbar\":{\"outlinewidth\":0,\"ticks\":\"\"}},\"type\":\"scattergl\"}],\"scattermapbox\":[{\"marker\":{\"colorbar\":{\"outlinewidth\":0,\"ticks\":\"\"}},\"type\":\"scattermapbox\"}],\"scatterpolar\":[{\"marker\":{\"colorbar\":{\"outlinewidth\":0,\"ticks\":\"\"}},\"type\":\"scatterpolar\"}],\"scatterpolargl\":[{\"marker\":{\"colorbar\":{\"outlinewidth\":0,\"ticks\":\"\"}},\"type\":\"scatterpolargl\"}],\"scatterternary\":[{\"marker\":{\"colorbar\":{\"outlinewidth\":0,\"ticks\":\"\"}},\"type\":\"scatterternary\"}],\"surface\":[{\"colorbar\":{\"outlinewidth\":0,\"ticks\":\"\"},\"colorscale\":[[0.0,\"#0d0887\"],[0.1111111111111111,\"#46039f\"],[0.2222222222222222,\"#7201a8\"],[0.3333333333333333,\"#9c179e\"],[0.4444444444444444,\"#bd3786\"],[0.5555555555555556,\"#d8576b\"],[0.6666666666666666,\"#ed7953\"],[0.7777777777777778,\"#fb9f3a\"],[0.8888888888888888,\"#fdca26\"],[1.0,\"#f0f921\"]],\"type\":\"surface\"}],\"table\":[{\"cells\":{\"fill\":{\"color\":\"#EBF0F8\"},\"line\":{\"color\":\"white\"}},\"header\":{\"fill\":{\"color\":\"#C8D4E3\"},\"line\":{\"color\":\"white\"}},\"type\":\"table\"}]},\"layout\":{\"annotationdefaults\":{\"arrowcolor\":\"#2a3f5f\",\"arrowhead\":0,\"arrowwidth\":1},\"autotypenumbers\":\"strict\",\"coloraxis\":{\"colorbar\":{\"outlinewidth\":0,\"ticks\":\"\"}},\"colorscale\":{\"diverging\":[[0,\"#8e0152\"],[0.1,\"#c51b7d\"],[0.2,\"#de77ae\"],[0.3,\"#f1b6da\"],[0.4,\"#fde0ef\"],[0.5,\"#f7f7f7\"],[0.6,\"#e6f5d0\"],[0.7,\"#b8e186\"],[0.8,\"#7fbc41\"],[0.9,\"#4d9221\"],[1,\"#276419\"]],\"sequential\":[[0.0,\"#0d0887\"],[0.1111111111111111,\"#46039f\"],[0.2222222222222222,\"#7201a8\"],[0.3333333333333333,\"#9c179e\"],[0.4444444444444444,\"#bd3786\"],[0.5555555555555556,\"#d8576b\"],[0.6666666666666666,\"#ed7953\"],[0.7777777777777778,\"#fb9f3a\"],[0.8888888888888888,\"#fdca26\"],[1.0,\"#f0f921\"]],\"sequentialminus\":[[0.0,\"#0d0887\"],[0.1111111111111111,\"#46039f\"],[0.2222222222222222,\"#7201a8\"],[0.3333333333333333,\"#9c179e\"],[0.4444444444444444,\"#bd3786\"],[0.5555555555555556,\"#d8576b\"],[0.6666666666666666,\"#ed7953\"],[0.7777777777777778,\"#fb9f3a\"],[0.8888888888888888,\"#fdca26\"],[1.0,\"#f0f921\"]]},\"colorway\":[\"#636efa\",\"#EF553B\",\"#00cc96\",\"#ab63fa\",\"#FFA15A\",\"#19d3f3\",\"#FF6692\",\"#B6E880\",\"#FF97FF\",\"#FECB52\"],\"font\":{\"color\":\"#2a3f5f\"},\"geo\":{\"bgcolor\":\"white\",\"lakecolor\":\"white\",\"landcolor\":\"#E5ECF6\",\"showlakes\":true,\"showland\":true,\"subunitcolor\":\"white\"},\"hoverlabel\":{\"align\":\"left\"},\"hovermode\":\"closest\",\"mapbox\":{\"style\":\"light\"},\"paper_bgcolor\":\"white\",\"plot_bgcolor\":\"#E5ECF6\",\"polar\":{\"angularaxis\":{\"gridcolor\":\"white\",\"linecolor\":\"white\",\"ticks\":\"\"},\"bgcolor\":\"#E5ECF6\",\"radialaxis\":{\"gridcolor\":\"white\",\"linecolor\":\"white\",\"ticks\":\"\"}},\"scene\":{\"xaxis\":{\"backgroundcolor\":\"#E5ECF6\",\"gridcolor\":\"white\",\"gridwidth\":2,\"linecolor\":\"white\",\"showbackground\":true,\"ticks\":\"\",\"zerolinecolor\":\"white\"},\"yaxis\":{\"backgroundcolor\":\"#E5ECF6\",\"gridcolor\":\"white\",\"gridwidth\":2,\"linecolor\":\"white\",\"showbackground\":true,\"ticks\":\"\",\"zerolinecolor\":\"white\"},\"zaxis\":{\"backgroundcolor\":\"#E5ECF6\",\"gridcolor\":\"white\",\"gridwidth\":2,\"linecolor\":\"white\",\"showbackground\":true,\"ticks\":\"\",\"zerolinecolor\":\"white\"}},\"shapedefaults\":{\"line\":{\"color\":\"#2a3f5f\"}},\"ternary\":{\"aaxis\":{\"gridcolor\":\"white\",\"linecolor\":\"white\",\"ticks\":\"\"},\"baxis\":{\"gridcolor\":\"white\",\"linecolor\":\"white\",\"ticks\":\"\"},\"bgcolor\":\"#E5ECF6\",\"caxis\":{\"gridcolor\":\"white\",\"linecolor\":\"white\",\"ticks\":\"\"}},\"title\":{\"x\":0.05},\"xaxis\":{\"automargin\":true,\"gridcolor\":\"white\",\"linecolor\":\"white\",\"ticks\":\"\",\"title\":{\"standoff\":15},\"zerolinecolor\":\"white\",\"zerolinewidth\":2},\"yaxis\":{\"automargin\":true,\"gridcolor\":\"white\",\"linecolor\":\"white\",\"ticks\":\"\",\"title\":{\"standoff\":15},\"zerolinecolor\":\"white\",\"zerolinewidth\":2}}},\"title\":{\"text\":\"Life Expectancy Year 2000\"},\"geo\":{\"projection\":{\"type\":\"equirectangular\"},\"showframe\":false,\"showcoastlines\":false},\"annotations\":[{\"showarrow\":false,\"x\":0.55,\"xref\":\"paper\",\"y\":0.1,\"yref\":\"paper\"}]},                        {\"responsive\": true}                    ).then(function(){\n",
       "                            \n",
       "var gd = document.getElementById('85bf8ac1-f87a-42eb-b967-0e56d6f01d1c');\n",
       "var x = new MutationObserver(function (mutations, observer) {{\n",
       "        var display = window.getComputedStyle(gd).display;\n",
       "        if (!display || display === 'none') {{\n",
       "            console.log([gd, 'removed!']);\n",
       "            Plotly.purge(gd);\n",
       "            observer.disconnect();\n",
       "        }}\n",
       "}});\n",
       "\n",
       "// Listen for the removal of the full notebook cells\n",
       "var notebookContainer = gd.closest('#notebook-container');\n",
       "if (notebookContainer) {{\n",
       "    x.observe(notebookContainer, {childList: true});\n",
       "}}\n",
       "\n",
       "// Listen for the clearing of the current output cell\n",
       "var outputEl = gd.closest('.output');\n",
       "if (outputEl) {{\n",
       "    x.observe(outputEl, {childList: true});\n",
       "}}\n",
       "\n",
       "                        })                };                });            </script>        </div>"
      ]
     },
     "metadata": {},
     "output_type": "display_data"
    }
   ],
   "source": [
    "\n",
    "'''\n",
    "TASK 1.1 :\n",
    "          CHART 1 -PLOT for year 2000\n",
    "\n",
    "          For choropleth plots, pythons plotly library is used that makes use of geospatial data.\n",
    "          The following chart contains the world data of life expectancy for the year 2000.\n",
    "'''\n",
    "fig = go.Figure(data=go.Choropleth(\n",
    "    locations = df['Country Code'],\n",
    "    z = df['Life_expectancy_2000'],\n",
    "    text = df['Country Name'],\n",
    "    colorscale = 'rdbu',\n",
    "    autocolorscale=False,\n",
    "    reversescale=True,\n",
    "    marker_line_color='darkgray',\n",
    "    marker_line_width=0.5,\n",
    "    colorbar_tickprefix = '',\n",
    "    colorbar_title = 'Life Expectancy Average',\n",
    "))\n",
    "fig.update_layout(\n",
    "    title_text='Life Expectancy Year 2000',\n",
    "    geo=dict(\n",
    "        showframe=False,\n",
    "        showcoastlines=False,\n",
    "        projection_type='equirectangular'\n",
    "    ),\n",
    "    annotations = [dict(\n",
    "        x=0.55,\n",
    "        y=0.1,\n",
    "        xref='paper',\n",
    "        yref='paper',\n",
    "        showarrow = False\n",
    "    )]\n",
    ")"
   ]
  },
  {
   "cell_type": "code",
   "execution_count": 23,
   "metadata": {
    "colab": {
     "base_uri": "https://localhost:8080/",
     "height": 542
    },
    "id": "Vvs5qpl-pDKX",
    "outputId": "ac5e25be-cc3b-4938-a807-1baaf2dbec38"
   },
   "outputs": [
    {
     "data": {
      "application/vnd.plotly.v1+json": {
       "config": {
        "plotlyServerURL": "https://plot.ly"
       },
       "data": [
        {
         "autocolorscale": false,
         "colorbar": {
          "tickprefix": "",
          "title": {
           "text": "Life Expectancy Average"
          }
         },
         "colorscale": [
          [
           0,
           "#fee838"
          ],
          [
           0.1111111111111111,
           "#e1cc55"
          ],
          [
           0.2222222222222222,
           "#c3b369"
          ],
          [
           0.3333333333333333,
           "#a59c74"
          ],
          [
           0.4444444444444444,
           "#8a8678"
          ],
          [
           0.5555555555555556,
           "#707173"
          ],
          [
           0.6666666666666666,
           "#575d6d"
          ],
          [
           0.7777777777777778,
           "#3b496c"
          ],
          [
           0.8888888888888888,
           "#123570"
          ],
          [
           1,
           "#00224e"
          ]
         ],
         "locations": [
          "ABW",
          "AFG",
          "AGO",
          "ALB",
          "AND",
          "ARE",
          "ARG",
          "ARM",
          "ASM",
          "ATG",
          "AUS",
          "AUT",
          "AZE",
          "BDI",
          "BEL",
          "BEN",
          "BFA",
          "BGD",
          "BGR",
          "BHR",
          "BHS",
          "BIH",
          "BLR",
          "BLZ",
          "BMU",
          "BOL",
          "BRA",
          "BRB",
          "BRN",
          "BTN",
          "BWA",
          "CAN",
          "CHE",
          "CHL",
          "CHN",
          "CIV",
          "CMR",
          "COD",
          "COG",
          "COL",
          "COM",
          "CPV",
          "CRI",
          "CUB",
          "CUW",
          "CYM",
          "CYP",
          "CZE",
          "DEU",
          "DJI",
          "DMA",
          "DNK",
          "DOM",
          "DZA",
          "ECU",
          "EGY",
          "ERI",
          "ESP",
          "EST",
          "ETH",
          "FIN",
          "FJI",
          "FRA",
          "FRO",
          "GAB",
          "GBR",
          "GEO",
          "GHA",
          "GIB",
          "GIN",
          "GMB",
          "GNB",
          "GRC",
          "GRD",
          "GRL",
          "GTM",
          "GUM",
          "GUY",
          "HKG",
          "HND",
          "HRV",
          "HTI",
          "HUN",
          "IDN",
          "IND",
          "IRL",
          "IRN",
          "IRQ",
          "ISL",
          "ISR",
          "ITA",
          "JAM",
          "JOR",
          "JPN",
          "KAZ",
          "KEN",
          "KGZ",
          "KHM",
          "KIR",
          "KNA",
          "KOR",
          "KWT",
          "LAO",
          "LBN",
          "LBR",
          "LBY",
          "LCA",
          "LIE",
          "LKA",
          "LSO",
          "LTU",
          "LUX",
          "LVA",
          "MAR",
          "MCO",
          "MDA",
          "MDG",
          "MDV",
          "MEX",
          "MHL",
          "MKD",
          "MLI",
          "MLT",
          "MMR",
          "MNE",
          "MNG",
          "MNP",
          "MOZ",
          "MRT",
          "MUS",
          "MWI",
          "MYS",
          "NAM",
          "NCL",
          "NER",
          "NGA",
          "NIC",
          "NLD",
          "NOR",
          "NPL",
          "NRU",
          "NZL",
          "OMN",
          "PAK",
          "PAN",
          "PER",
          "PHL",
          "PLW",
          "PNG",
          "POL",
          "PRI",
          "PRK",
          "PRT",
          "PRY",
          "PYF",
          "QAT",
          "ROU",
          "RUS",
          "RWA",
          "SAU",
          "SDN",
          "SEN",
          "SGP",
          "SLB",
          "SLE",
          "SLV",
          "SMR",
          "SOM",
          "SRB",
          "STP",
          "SUR",
          "SVK",
          "SVN",
          "SWE",
          "SWZ",
          "SYC",
          "SYR",
          "TCA",
          "TCD",
          "TGO",
          "THA",
          "TJK",
          "TKM",
          "TON",
          "TTO",
          "TUN",
          "TUR",
          "TUV",
          "TZA",
          "UGA",
          "UKR",
          "URY",
          "USA",
          "UZB",
          "VCT",
          "VEN",
          "VGB",
          "VIR",
          "VNM",
          "VUT",
          "WSM",
          "XKX",
          "YEM",
          "ZAF",
          "ZMB",
          "ZWE"
         ],
         "marker": {
          "line": {
           "color": "darkgray",
           "width": 0.5
          }
         },
         "reversescale": true,
         "text": [
          "Aruba",
          "Afghanistan",
          "Angola",
          "Albania",
          "Andorra",
          "United Arab Emirates",
          "Argentina",
          "Armenia",
          "American Samoa",
          "Antigua and Barbuda",
          "Australia",
          "Austria",
          "Azerbaijan",
          "Burundi",
          "Belgium",
          "Benin",
          "Burkina Faso",
          "Bangladesh",
          "Bulgaria",
          "Bahrain",
          "Bahamas, The",
          "Bosnia and Herzegovina",
          "Belarus",
          "Belize",
          "Bermuda",
          "Bolivia",
          "Brazil",
          "Barbados",
          "Brunei Darussalam",
          "Bhutan",
          "Botswana",
          "Canada",
          "Switzerland",
          "Chile",
          "China",
          "Cote d'Ivoire",
          "Cameroon",
          "Congo, Dem. Rep.",
          "Congo, Rep.",
          "Colombia",
          "Comoros",
          "Cabo Verde",
          "Costa Rica",
          "Cuba",
          "Curacao",
          "Cayman Islands",
          "Cyprus",
          "Czech Republic",
          "Germany",
          "Djibouti",
          "Dominica",
          "Denmark",
          "Dominican Republic",
          "Algeria",
          "Ecuador",
          "Egypt, Arab Rep.",
          "Eritrea",
          "Spain",
          "Estonia",
          "Ethiopia",
          "Finland",
          "Fiji",
          "France",
          "Faroe Islands",
          "Gabon",
          "United Kingdom",
          "Georgia",
          "Ghana",
          "Gibraltar",
          "Guinea",
          "Gambia, The",
          "Guinea-Bissau",
          "Greece",
          "Grenada",
          "Greenland",
          "Guatemala",
          "Guam",
          "Guyana",
          "Hong Kong SAR, China",
          "Honduras",
          "Croatia",
          "Haiti",
          "Hungary",
          "Indonesia",
          "India",
          "Ireland",
          "Iran, Islamic Rep.",
          "Iraq",
          "Iceland",
          "Israel",
          "Italy",
          "Jamaica",
          "Jordan",
          "Japan",
          "Kazakhstan",
          "Kenya",
          "Kyrgyz Republic",
          "Cambodia",
          "Kiribati",
          "St. Kitts and Nevis",
          "Korea, Rep.",
          "Kuwait",
          "Lao PDR",
          "Lebanon",
          "Liberia",
          "Libya",
          "St. Lucia",
          "Liechtenstein",
          "Sri Lanka",
          "Lesotho",
          "Lithuania",
          "Luxembourg",
          "Latvia",
          "Morocco",
          "Monaco",
          "Moldova",
          "Madagascar",
          "Maldives",
          "Mexico",
          "Marshall Islands",
          "North Macedonia",
          "Mali",
          "Malta",
          "Myanmar",
          "Montenegro",
          "Mongolia",
          "Northern Mariana Islands",
          "Mozambique",
          "Mauritania",
          "Mauritius",
          "Malawi",
          "Malaysia",
          "Namibia",
          "New Caledonia",
          "Niger",
          "Nigeria",
          "Nicaragua",
          "Netherlands",
          "Norway",
          "Nepal",
          "Nauru",
          "New Zealand",
          "Oman",
          "Pakistan",
          "Panama",
          "Peru",
          "Philippines",
          "Palau",
          "Papua New Guinea",
          "Poland",
          "Puerto Rico",
          "Korea, Dem. People's Rep.",
          "Portugal",
          "Paraguay",
          "French Polynesia",
          "Qatar",
          "Romania",
          "Russian Federation",
          "Rwanda",
          "Saudi Arabia",
          "Sudan",
          "Senegal",
          "Singapore",
          "Solomon Islands",
          "Sierra Leone",
          "El Salvador",
          "San Marino",
          "Somalia",
          "Serbia",
          "Sao Tome and Principe",
          "Suriname",
          "Slovak Republic",
          "Slovenia",
          "Sweden",
          "Eswatini",
          "Seychelles",
          "Syrian Arab Republic",
          "Turks and Caicos Islands",
          "Chad",
          "Togo",
          "Thailand",
          "Tajikistan",
          "Turkmenistan",
          "Tonga",
          "Trinidad and Tobago",
          "Tunisia",
          "Turkey",
          "Tuvalu",
          "Tanzania",
          "Uganda",
          "Ukraine",
          "Uruguay",
          "United States",
          "Uzbekistan",
          "St. Vincent and the Grenadines",
          "Venezuela, RB",
          "British Virgin Islands",
          "Virgin Islands (U.S.)",
          "Vietnam",
          "Vanuatu",
          "Samoa",
          "Kosovo",
          "Yemen, Rep.",
          "South Africa",
          "Zambia",
          "Zimbabwe"
         ],
         "type": "choropleth",
         "z": [
          72.517,
          59.683,
          52.848,
          74.145,
          null,
          75.624,
          71.837,
          69.989,
          null,
          74.439,
          79.5,
          77.8,
          67.772,
          55.467,
          77.5,
          57.869,
          56.441,
          68.694,
          70,
          75.268,
          69.619,
          73.479,
          64.6,
          69.594,
          76.63,
          65.619,
          69.95,
          76.811,
          73.661,
          68.157,
          57.802,
          79.1,
          80.1,
          75.745,
          72.476,
          51.689,
          53.889,
          55.479,
          58.969,
          72.422,
          60.27,
          67.268,
          76.367,
          76.368,
          null,
          79.8,
          77.243,
          74.4,
          77.5,
          58.612,
          null,
          77.1,
          69.087,
          73.766,
          72.266,
          68.178,
          60.191,
          78.7,
          70.6,
          59.976,
          76.7,
          65.178,
          78.2,
          78.2,
          59.995,
          78.5,
          66.861,
          60.101,
          null,
          56.016,
          58.392,
          52.232,
          77.9,
          70.473,
          68.54,
          68.219,
          75.109,
          64.817,
          80.1,
          70.945,
          73.5,
          58.495,
          70.5,
          67.182,
          65.723,
          78.5,
          72.476,
          65.857,
          79.8,
          79.7,
          79.5,
          72.582,
          71.888,
          79.55,
          63.55,
          58.933,
          65.3,
          64.313,
          61.945,
          null,
          76.8,
          73.63,
          62.477,
          76.6,
          57.978,
          69.473,
          73.457,
          79.5,
          71.995,
          42.412,
          68,
          77.9,
          68.8,
          73.046,
          null,
          65.577,
          61.93,
          74.713,
          72.135,
          null,
          72.66,
          54.62,
          79.3,
          60.102,
          72.792,
          63.486,
          null,
          49.816,
          60.708,
          69.46,
          52.807,
          72.497,
          54.586,
          74.5,
          56.364,
          50.161,
          69.185,
          78.8,
          78.9,
          66.29,
          null,
          78.8,
          73.865,
          64.377,
          73.932,
          71.968,
          65.957,
          null,
          60.702,
          72.1,
          74.763,
          65.96,
          76.1,
          70.735,
          73.458,
          77.932,
          69.8,
          63.09,
          61.672,
          72.625,
          61.031,
          62.62,
          79.2,
          69.067,
          48.497,
          66.476,
          null,
          52.441,
          71.8,
          65.173,
          67.336,
          71.6,
          76.3,
          79.5,
          44.369,
          69.1,
          68.113,
          null,
          49.604,
          56.781,
          70.749,
          66.549,
          63.161,
          68.081,
          69.217,
          72.842,
          71.199,
          null,
          56.776,
          55.349,
          65.28,
          72.929,
          76.2,
          66.943,
          69.491,
          69.405,
          null,
          74.5,
          70.725,
          67.634,
          69.51,
          67.9,
          63.93,
          54.906,
          53.478,
          48.884
         ]
        }
       ],
       "layout": {
        "annotations": [
         {
          "showarrow": false,
          "x": 0.55,
          "xref": "paper",
          "y": 0.1,
          "yref": "paper"
         }
        ],
        "geo": {
         "projection": {
          "type": "equirectangular"
         },
         "showcoastlines": false,
         "showframe": false
        },
        "template": {
         "data": {
          "bar": [
           {
            "error_x": {
             "color": "#2a3f5f"
            },
            "error_y": {
             "color": "#2a3f5f"
            },
            "marker": {
             "line": {
              "color": "#E5ECF6",
              "width": 0.5
             },
             "pattern": {
              "fillmode": "overlay",
              "size": 10,
              "solidity": 0.2
             }
            },
            "type": "bar"
           }
          ],
          "barpolar": [
           {
            "marker": {
             "line": {
              "color": "#E5ECF6",
              "width": 0.5
             },
             "pattern": {
              "fillmode": "overlay",
              "size": 10,
              "solidity": 0.2
             }
            },
            "type": "barpolar"
           }
          ],
          "carpet": [
           {
            "aaxis": {
             "endlinecolor": "#2a3f5f",
             "gridcolor": "white",
             "linecolor": "white",
             "minorgridcolor": "white",
             "startlinecolor": "#2a3f5f"
            },
            "baxis": {
             "endlinecolor": "#2a3f5f",
             "gridcolor": "white",
             "linecolor": "white",
             "minorgridcolor": "white",
             "startlinecolor": "#2a3f5f"
            },
            "type": "carpet"
           }
          ],
          "choropleth": [
           {
            "colorbar": {
             "outlinewidth": 0,
             "ticks": ""
            },
            "type": "choropleth"
           }
          ],
          "contour": [
           {
            "colorbar": {
             "outlinewidth": 0,
             "ticks": ""
            },
            "colorscale": [
             [
              0,
              "#0d0887"
             ],
             [
              0.1111111111111111,
              "#46039f"
             ],
             [
              0.2222222222222222,
              "#7201a8"
             ],
             [
              0.3333333333333333,
              "#9c179e"
             ],
             [
              0.4444444444444444,
              "#bd3786"
             ],
             [
              0.5555555555555556,
              "#d8576b"
             ],
             [
              0.6666666666666666,
              "#ed7953"
             ],
             [
              0.7777777777777778,
              "#fb9f3a"
             ],
             [
              0.8888888888888888,
              "#fdca26"
             ],
             [
              1,
              "#f0f921"
             ]
            ],
            "type": "contour"
           }
          ],
          "contourcarpet": [
           {
            "colorbar": {
             "outlinewidth": 0,
             "ticks": ""
            },
            "type": "contourcarpet"
           }
          ],
          "heatmap": [
           {
            "colorbar": {
             "outlinewidth": 0,
             "ticks": ""
            },
            "colorscale": [
             [
              0,
              "#0d0887"
             ],
             [
              0.1111111111111111,
              "#46039f"
             ],
             [
              0.2222222222222222,
              "#7201a8"
             ],
             [
              0.3333333333333333,
              "#9c179e"
             ],
             [
              0.4444444444444444,
              "#bd3786"
             ],
             [
              0.5555555555555556,
              "#d8576b"
             ],
             [
              0.6666666666666666,
              "#ed7953"
             ],
             [
              0.7777777777777778,
              "#fb9f3a"
             ],
             [
              0.8888888888888888,
              "#fdca26"
             ],
             [
              1,
              "#f0f921"
             ]
            ],
            "type": "heatmap"
           }
          ],
          "heatmapgl": [
           {
            "colorbar": {
             "outlinewidth": 0,
             "ticks": ""
            },
            "colorscale": [
             [
              0,
              "#0d0887"
             ],
             [
              0.1111111111111111,
              "#46039f"
             ],
             [
              0.2222222222222222,
              "#7201a8"
             ],
             [
              0.3333333333333333,
              "#9c179e"
             ],
             [
              0.4444444444444444,
              "#bd3786"
             ],
             [
              0.5555555555555556,
              "#d8576b"
             ],
             [
              0.6666666666666666,
              "#ed7953"
             ],
             [
              0.7777777777777778,
              "#fb9f3a"
             ],
             [
              0.8888888888888888,
              "#fdca26"
             ],
             [
              1,
              "#f0f921"
             ]
            ],
            "type": "heatmapgl"
           }
          ],
          "histogram": [
           {
            "marker": {
             "pattern": {
              "fillmode": "overlay",
              "size": 10,
              "solidity": 0.2
             }
            },
            "type": "histogram"
           }
          ],
          "histogram2d": [
           {
            "colorbar": {
             "outlinewidth": 0,
             "ticks": ""
            },
            "colorscale": [
             [
              0,
              "#0d0887"
             ],
             [
              0.1111111111111111,
              "#46039f"
             ],
             [
              0.2222222222222222,
              "#7201a8"
             ],
             [
              0.3333333333333333,
              "#9c179e"
             ],
             [
              0.4444444444444444,
              "#bd3786"
             ],
             [
              0.5555555555555556,
              "#d8576b"
             ],
             [
              0.6666666666666666,
              "#ed7953"
             ],
             [
              0.7777777777777778,
              "#fb9f3a"
             ],
             [
              0.8888888888888888,
              "#fdca26"
             ],
             [
              1,
              "#f0f921"
             ]
            ],
            "type": "histogram2d"
           }
          ],
          "histogram2dcontour": [
           {
            "colorbar": {
             "outlinewidth": 0,
             "ticks": ""
            },
            "colorscale": [
             [
              0,
              "#0d0887"
             ],
             [
              0.1111111111111111,
              "#46039f"
             ],
             [
              0.2222222222222222,
              "#7201a8"
             ],
             [
              0.3333333333333333,
              "#9c179e"
             ],
             [
              0.4444444444444444,
              "#bd3786"
             ],
             [
              0.5555555555555556,
              "#d8576b"
             ],
             [
              0.6666666666666666,
              "#ed7953"
             ],
             [
              0.7777777777777778,
              "#fb9f3a"
             ],
             [
              0.8888888888888888,
              "#fdca26"
             ],
             [
              1,
              "#f0f921"
             ]
            ],
            "type": "histogram2dcontour"
           }
          ],
          "mesh3d": [
           {
            "colorbar": {
             "outlinewidth": 0,
             "ticks": ""
            },
            "type": "mesh3d"
           }
          ],
          "parcoords": [
           {
            "line": {
             "colorbar": {
              "outlinewidth": 0,
              "ticks": ""
             }
            },
            "type": "parcoords"
           }
          ],
          "pie": [
           {
            "automargin": true,
            "type": "pie"
           }
          ],
          "scatter": [
           {
            "marker": {
             "colorbar": {
              "outlinewidth": 0,
              "ticks": ""
             }
            },
            "type": "scatter"
           }
          ],
          "scatter3d": [
           {
            "line": {
             "colorbar": {
              "outlinewidth": 0,
              "ticks": ""
             }
            },
            "marker": {
             "colorbar": {
              "outlinewidth": 0,
              "ticks": ""
             }
            },
            "type": "scatter3d"
           }
          ],
          "scattercarpet": [
           {
            "marker": {
             "colorbar": {
              "outlinewidth": 0,
              "ticks": ""
             }
            },
            "type": "scattercarpet"
           }
          ],
          "scattergeo": [
           {
            "marker": {
             "colorbar": {
              "outlinewidth": 0,
              "ticks": ""
             }
            },
            "type": "scattergeo"
           }
          ],
          "scattergl": [
           {
            "marker": {
             "colorbar": {
              "outlinewidth": 0,
              "ticks": ""
             }
            },
            "type": "scattergl"
           }
          ],
          "scattermapbox": [
           {
            "marker": {
             "colorbar": {
              "outlinewidth": 0,
              "ticks": ""
             }
            },
            "type": "scattermapbox"
           }
          ],
          "scatterpolar": [
           {
            "marker": {
             "colorbar": {
              "outlinewidth": 0,
              "ticks": ""
             }
            },
            "type": "scatterpolar"
           }
          ],
          "scatterpolargl": [
           {
            "marker": {
             "colorbar": {
              "outlinewidth": 0,
              "ticks": ""
             }
            },
            "type": "scatterpolargl"
           }
          ],
          "scatterternary": [
           {
            "marker": {
             "colorbar": {
              "outlinewidth": 0,
              "ticks": ""
             }
            },
            "type": "scatterternary"
           }
          ],
          "surface": [
           {
            "colorbar": {
             "outlinewidth": 0,
             "ticks": ""
            },
            "colorscale": [
             [
              0,
              "#0d0887"
             ],
             [
              0.1111111111111111,
              "#46039f"
             ],
             [
              0.2222222222222222,
              "#7201a8"
             ],
             [
              0.3333333333333333,
              "#9c179e"
             ],
             [
              0.4444444444444444,
              "#bd3786"
             ],
             [
              0.5555555555555556,
              "#d8576b"
             ],
             [
              0.6666666666666666,
              "#ed7953"
             ],
             [
              0.7777777777777778,
              "#fb9f3a"
             ],
             [
              0.8888888888888888,
              "#fdca26"
             ],
             [
              1,
              "#f0f921"
             ]
            ],
            "type": "surface"
           }
          ],
          "table": [
           {
            "cells": {
             "fill": {
              "color": "#EBF0F8"
             },
             "line": {
              "color": "white"
             }
            },
            "header": {
             "fill": {
              "color": "#C8D4E3"
             },
             "line": {
              "color": "white"
             }
            },
            "type": "table"
           }
          ]
         },
         "layout": {
          "annotationdefaults": {
           "arrowcolor": "#2a3f5f",
           "arrowhead": 0,
           "arrowwidth": 1
          },
          "autotypenumbers": "strict",
          "coloraxis": {
           "colorbar": {
            "outlinewidth": 0,
            "ticks": ""
           }
          },
          "colorscale": {
           "diverging": [
            [
             0,
             "#8e0152"
            ],
            [
             0.1,
             "#c51b7d"
            ],
            [
             0.2,
             "#de77ae"
            ],
            [
             0.3,
             "#f1b6da"
            ],
            [
             0.4,
             "#fde0ef"
            ],
            [
             0.5,
             "#f7f7f7"
            ],
            [
             0.6,
             "#e6f5d0"
            ],
            [
             0.7,
             "#b8e186"
            ],
            [
             0.8,
             "#7fbc41"
            ],
            [
             0.9,
             "#4d9221"
            ],
            [
             1,
             "#276419"
            ]
           ],
           "sequential": [
            [
             0,
             "#0d0887"
            ],
            [
             0.1111111111111111,
             "#46039f"
            ],
            [
             0.2222222222222222,
             "#7201a8"
            ],
            [
             0.3333333333333333,
             "#9c179e"
            ],
            [
             0.4444444444444444,
             "#bd3786"
            ],
            [
             0.5555555555555556,
             "#d8576b"
            ],
            [
             0.6666666666666666,
             "#ed7953"
            ],
            [
             0.7777777777777778,
             "#fb9f3a"
            ],
            [
             0.8888888888888888,
             "#fdca26"
            ],
            [
             1,
             "#f0f921"
            ]
           ],
           "sequentialminus": [
            [
             0,
             "#0d0887"
            ],
            [
             0.1111111111111111,
             "#46039f"
            ],
            [
             0.2222222222222222,
             "#7201a8"
            ],
            [
             0.3333333333333333,
             "#9c179e"
            ],
            [
             0.4444444444444444,
             "#bd3786"
            ],
            [
             0.5555555555555556,
             "#d8576b"
            ],
            [
             0.6666666666666666,
             "#ed7953"
            ],
            [
             0.7777777777777778,
             "#fb9f3a"
            ],
            [
             0.8888888888888888,
             "#fdca26"
            ],
            [
             1,
             "#f0f921"
            ]
           ]
          },
          "colorway": [
           "#636efa",
           "#EF553B",
           "#00cc96",
           "#ab63fa",
           "#FFA15A",
           "#19d3f3",
           "#FF6692",
           "#B6E880",
           "#FF97FF",
           "#FECB52"
          ],
          "font": {
           "color": "#2a3f5f"
          },
          "geo": {
           "bgcolor": "white",
           "lakecolor": "white",
           "landcolor": "#E5ECF6",
           "showlakes": true,
           "showland": true,
           "subunitcolor": "white"
          },
          "hoverlabel": {
           "align": "left"
          },
          "hovermode": "closest",
          "mapbox": {
           "style": "light"
          },
          "paper_bgcolor": "white",
          "plot_bgcolor": "#E5ECF6",
          "polar": {
           "angularaxis": {
            "gridcolor": "white",
            "linecolor": "white",
            "ticks": ""
           },
           "bgcolor": "#E5ECF6",
           "radialaxis": {
            "gridcolor": "white",
            "linecolor": "white",
            "ticks": ""
           }
          },
          "scene": {
           "xaxis": {
            "backgroundcolor": "#E5ECF6",
            "gridcolor": "white",
            "gridwidth": 2,
            "linecolor": "white",
            "showbackground": true,
            "ticks": "",
            "zerolinecolor": "white"
           },
           "yaxis": {
            "backgroundcolor": "#E5ECF6",
            "gridcolor": "white",
            "gridwidth": 2,
            "linecolor": "white",
            "showbackground": true,
            "ticks": "",
            "zerolinecolor": "white"
           },
           "zaxis": {
            "backgroundcolor": "#E5ECF6",
            "gridcolor": "white",
            "gridwidth": 2,
            "linecolor": "white",
            "showbackground": true,
            "ticks": "",
            "zerolinecolor": "white"
           }
          },
          "shapedefaults": {
           "line": {
            "color": "#2a3f5f"
           }
          },
          "ternary": {
           "aaxis": {
            "gridcolor": "white",
            "linecolor": "white",
            "ticks": ""
           },
           "baxis": {
            "gridcolor": "white",
            "linecolor": "white",
            "ticks": ""
           },
           "bgcolor": "#E5ECF6",
           "caxis": {
            "gridcolor": "white",
            "linecolor": "white",
            "ticks": ""
           }
          },
          "title": {
           "x": 0.05
          },
          "xaxis": {
           "automargin": true,
           "gridcolor": "white",
           "linecolor": "white",
           "ticks": "",
           "title": {
            "standoff": 15
           },
           "zerolinecolor": "white",
           "zerolinewidth": 2
          },
          "yaxis": {
           "automargin": true,
           "gridcolor": "white",
           "linecolor": "white",
           "ticks": "",
           "title": {
            "standoff": 15
           },
           "zerolinecolor": "white",
           "zerolinewidth": 2
          }
         }
        },
        "title": {
         "text": "Life Expectancy Year 2010"
        }
       }
      },
      "text/html": [
       "<div>                            <div id=\"cae44551-0c78-41bf-8ad1-8399155b15af\" class=\"plotly-graph-div\" style=\"height:525px; width:100%;\"></div>            <script type=\"text/javascript\">                require([\"plotly\"], function(Plotly) {                    window.PLOTLYENV=window.PLOTLYENV || {};                                    if (document.getElementById(\"cae44551-0c78-41bf-8ad1-8399155b15af\")) {                    Plotly.newPlot(                        \"cae44551-0c78-41bf-8ad1-8399155b15af\",                        [{\"autocolorscale\":false,\"colorbar\":{\"tickprefix\":\"\",\"title\":{\"text\":\"Life Expectancy Average\"}},\"colorscale\":[[0.0,\"#fee838\"],[0.1111111111111111,\"#e1cc55\"],[0.2222222222222222,\"#c3b369\"],[0.3333333333333333,\"#a59c74\"],[0.4444444444444444,\"#8a8678\"],[0.5555555555555556,\"#707173\"],[0.6666666666666666,\"#575d6d\"],[0.7777777777777778,\"#3b496c\"],[0.8888888888888888,\"#123570\"],[1.0,\"#00224e\"]],\"locations\":[\"ABW\",\"AFG\",\"AGO\",\"ALB\",\"AND\",\"ARE\",\"ARG\",\"ARM\",\"ASM\",\"ATG\",\"AUS\",\"AUT\",\"AZE\",\"BDI\",\"BEL\",\"BEN\",\"BFA\",\"BGD\",\"BGR\",\"BHR\",\"BHS\",\"BIH\",\"BLR\",\"BLZ\",\"BMU\",\"BOL\",\"BRA\",\"BRB\",\"BRN\",\"BTN\",\"BWA\",\"CAN\",\"CHE\",\"CHL\",\"CHN\",\"CIV\",\"CMR\",\"COD\",\"COG\",\"COL\",\"COM\",\"CPV\",\"CRI\",\"CUB\",\"CUW\",\"CYM\",\"CYP\",\"CZE\",\"DEU\",\"DJI\",\"DMA\",\"DNK\",\"DOM\",\"DZA\",\"ECU\",\"EGY\",\"ERI\",\"ESP\",\"EST\",\"ETH\",\"FIN\",\"FJI\",\"FRA\",\"FRO\",\"GAB\",\"GBR\",\"GEO\",\"GHA\",\"GIB\",\"GIN\",\"GMB\",\"GNB\",\"GRC\",\"GRD\",\"GRL\",\"GTM\",\"GUM\",\"GUY\",\"HKG\",\"HND\",\"HRV\",\"HTI\",\"HUN\",\"IDN\",\"IND\",\"IRL\",\"IRN\",\"IRQ\",\"ISL\",\"ISR\",\"ITA\",\"JAM\",\"JOR\",\"JPN\",\"KAZ\",\"KEN\",\"KGZ\",\"KHM\",\"KIR\",\"KNA\",\"KOR\",\"KWT\",\"LAO\",\"LBN\",\"LBR\",\"LBY\",\"LCA\",\"LIE\",\"LKA\",\"LSO\",\"LTU\",\"LUX\",\"LVA\",\"MAR\",\"MCO\",\"MDA\",\"MDG\",\"MDV\",\"MEX\",\"MHL\",\"MKD\",\"MLI\",\"MLT\",\"MMR\",\"MNE\",\"MNG\",\"MNP\",\"MOZ\",\"MRT\",\"MUS\",\"MWI\",\"MYS\",\"NAM\",\"NCL\",\"NER\",\"NGA\",\"NIC\",\"NLD\",\"NOR\",\"NPL\",\"NRU\",\"NZL\",\"OMN\",\"PAK\",\"PAN\",\"PER\",\"PHL\",\"PLW\",\"PNG\",\"POL\",\"PRI\",\"PRK\",\"PRT\",\"PRY\",\"PYF\",\"QAT\",\"ROU\",\"RUS\",\"RWA\",\"SAU\",\"SDN\",\"SEN\",\"SGP\",\"SLB\",\"SLE\",\"SLV\",\"SMR\",\"SOM\",\"SRB\",\"STP\",\"SUR\",\"SVK\",\"SVN\",\"SWE\",\"SWZ\",\"SYC\",\"SYR\",\"TCA\",\"TCD\",\"TGO\",\"THA\",\"TJK\",\"TKM\",\"TON\",\"TTO\",\"TUN\",\"TUR\",\"TUV\",\"TZA\",\"UGA\",\"UKR\",\"URY\",\"USA\",\"UZB\",\"VCT\",\"VEN\",\"VGB\",\"VIR\",\"VNM\",\"VUT\",\"WSM\",\"XKX\",\"YEM\",\"ZAF\",\"ZMB\",\"ZWE\"],\"marker\":{\"line\":{\"color\":\"darkgray\",\"width\":0.5}},\"reversescale\":true,\"text\":[\"Aruba\",\"Afghanistan\",\"Angola\",\"Albania\",\"Andorra\",\"United Arab Emirates\",\"Argentina\",\"Armenia\",\"American Samoa\",\"Antigua and Barbuda\",\"Australia\",\"Austria\",\"Azerbaijan\",\"Burundi\",\"Belgium\",\"Benin\",\"Burkina Faso\",\"Bangladesh\",\"Bulgaria\",\"Bahrain\",\"Bahamas, The\",\"Bosnia and Herzegovina\",\"Belarus\",\"Belize\",\"Bermuda\",\"Bolivia\",\"Brazil\",\"Barbados\",\"Brunei Darussalam\",\"Bhutan\",\"Botswana\",\"Canada\",\"Switzerland\",\"Chile\",\"China\",\"Cote d'Ivoire\",\"Cameroon\",\"Congo, Dem. Rep.\",\"Congo, Rep.\",\"Colombia\",\"Comoros\",\"Cabo Verde\",\"Costa Rica\",\"Cuba\",\"Curacao\",\"Cayman Islands\",\"Cyprus\",\"Czech Republic\",\"Germany\",\"Djibouti\",\"Dominica\",\"Denmark\",\"Dominican Republic\",\"Algeria\",\"Ecuador\",\"Egypt, Arab Rep.\",\"Eritrea\",\"Spain\",\"Estonia\",\"Ethiopia\",\"Finland\",\"Fiji\",\"France\",\"Faroe Islands\",\"Gabon\",\"United Kingdom\",\"Georgia\",\"Ghana\",\"Gibraltar\",\"Guinea\",\"Gambia, The\",\"Guinea-Bissau\",\"Greece\",\"Grenada\",\"Greenland\",\"Guatemala\",\"Guam\",\"Guyana\",\"Hong Kong SAR, China\",\"Honduras\",\"Croatia\",\"Haiti\",\"Hungary\",\"Indonesia\",\"India\",\"Ireland\",\"Iran, Islamic Rep.\",\"Iraq\",\"Iceland\",\"Israel\",\"Italy\",\"Jamaica\",\"Jordan\",\"Japan\",\"Kazakhstan\",\"Kenya\",\"Kyrgyz Republic\",\"Cambodia\",\"Kiribati\",\"St. Kitts and Nevis\",\"Korea, Rep.\",\"Kuwait\",\"Lao PDR\",\"Lebanon\",\"Liberia\",\"Libya\",\"St. Lucia\",\"Liechtenstein\",\"Sri Lanka\",\"Lesotho\",\"Lithuania\",\"Luxembourg\",\"Latvia\",\"Morocco\",\"Monaco\",\"Moldova\",\"Madagascar\",\"Maldives\",\"Mexico\",\"Marshall Islands\",\"North Macedonia\",\"Mali\",\"Malta\",\"Myanmar\",\"Montenegro\",\"Mongolia\",\"Northern Mariana Islands\",\"Mozambique\",\"Mauritania\",\"Mauritius\",\"Malawi\",\"Malaysia\",\"Namibia\",\"New Caledonia\",\"Niger\",\"Nigeria\",\"Nicaragua\",\"Netherlands\",\"Norway\",\"Nepal\",\"Nauru\",\"New Zealand\",\"Oman\",\"Pakistan\",\"Panama\",\"Peru\",\"Philippines\",\"Palau\",\"Papua New Guinea\",\"Poland\",\"Puerto Rico\",\"Korea, Dem. People's Rep.\",\"Portugal\",\"Paraguay\",\"French Polynesia\",\"Qatar\",\"Romania\",\"Russian Federation\",\"Rwanda\",\"Saudi Arabia\",\"Sudan\",\"Senegal\",\"Singapore\",\"Solomon Islands\",\"Sierra Leone\",\"El Salvador\",\"San Marino\",\"Somalia\",\"Serbia\",\"Sao Tome and Principe\",\"Suriname\",\"Slovak Republic\",\"Slovenia\",\"Sweden\",\"Eswatini\",\"Seychelles\",\"Syrian Arab Republic\",\"Turks and Caicos Islands\",\"Chad\",\"Togo\",\"Thailand\",\"Tajikistan\",\"Turkmenistan\",\"Tonga\",\"Trinidad and Tobago\",\"Tunisia\",\"Turkey\",\"Tuvalu\",\"Tanzania\",\"Uganda\",\"Ukraine\",\"Uruguay\",\"United States\",\"Uzbekistan\",\"St. Vincent and the Grenadines\",\"Venezuela, RB\",\"British Virgin Islands\",\"Virgin Islands (U.S.)\",\"Vietnam\",\"Vanuatu\",\"Samoa\",\"Kosovo\",\"Yemen, Rep.\",\"South Africa\",\"Zambia\",\"Zimbabwe\"],\"z\":[72.517,59.683,52.848,74.145,null,75.624,71.837,69.989,null,74.439,79.5,77.8,67.772,55.467,77.5,57.869,56.441,68.694,70.0,75.268,69.619,73.479,64.6,69.594,76.63,65.619,69.95,76.811,73.661,68.157,57.802,79.1,80.1,75.745,72.476,51.689,53.889,55.479,58.969,72.422,60.27,67.268,76.367,76.368,null,79.8,77.243,74.4,77.5,58.612,null,77.1,69.087,73.766,72.266,68.178,60.191,78.7,70.6,59.976,76.7,65.178,78.2,78.2,59.995,78.5,66.861,60.101,null,56.016,58.392,52.232,77.9,70.473,68.54,68.219,75.109,64.817,80.1,70.945,73.5,58.495,70.5,67.182,65.723,78.5,72.476,65.857,79.8,79.7,79.5,72.582,71.888,79.55,63.55,58.933,65.3,64.313,61.945,null,76.8,73.63,62.477,76.6,57.978,69.473,73.457,79.5,71.995,42.412,68.0,77.9,68.8,73.046,null,65.577,61.93,74.713,72.135,null,72.66,54.62,79.3,60.102,72.792,63.486,null,49.816,60.708,69.46,52.807,72.497,54.586,74.5,56.364,50.161,69.185,78.8,78.9,66.29,null,78.8,73.865,64.377,73.932,71.968,65.957,null,60.702,72.1,74.763,65.96,76.1,70.735,73.458,77.932,69.8,63.09,61.672,72.625,61.031,62.62,79.2,69.067,48.497,66.476,null,52.441,71.8,65.173,67.336,71.6,76.3,79.5,44.369,69.1,68.113,null,49.604,56.781,70.749,66.549,63.161,68.081,69.217,72.842,71.199,null,56.776,55.349,65.28,72.929,76.2,66.943,69.491,69.405,null,74.5,70.725,67.634,69.51,67.9,63.93,54.906,53.478,48.884],\"type\":\"choropleth\"}],                        {\"template\":{\"data\":{\"bar\":[{\"error_x\":{\"color\":\"#2a3f5f\"},\"error_y\":{\"color\":\"#2a3f5f\"},\"marker\":{\"line\":{\"color\":\"#E5ECF6\",\"width\":0.5},\"pattern\":{\"fillmode\":\"overlay\",\"size\":10,\"solidity\":0.2}},\"type\":\"bar\"}],\"barpolar\":[{\"marker\":{\"line\":{\"color\":\"#E5ECF6\",\"width\":0.5},\"pattern\":{\"fillmode\":\"overlay\",\"size\":10,\"solidity\":0.2}},\"type\":\"barpolar\"}],\"carpet\":[{\"aaxis\":{\"endlinecolor\":\"#2a3f5f\",\"gridcolor\":\"white\",\"linecolor\":\"white\",\"minorgridcolor\":\"white\",\"startlinecolor\":\"#2a3f5f\"},\"baxis\":{\"endlinecolor\":\"#2a3f5f\",\"gridcolor\":\"white\",\"linecolor\":\"white\",\"minorgridcolor\":\"white\",\"startlinecolor\":\"#2a3f5f\"},\"type\":\"carpet\"}],\"choropleth\":[{\"colorbar\":{\"outlinewidth\":0,\"ticks\":\"\"},\"type\":\"choropleth\"}],\"contour\":[{\"colorbar\":{\"outlinewidth\":0,\"ticks\":\"\"},\"colorscale\":[[0.0,\"#0d0887\"],[0.1111111111111111,\"#46039f\"],[0.2222222222222222,\"#7201a8\"],[0.3333333333333333,\"#9c179e\"],[0.4444444444444444,\"#bd3786\"],[0.5555555555555556,\"#d8576b\"],[0.6666666666666666,\"#ed7953\"],[0.7777777777777778,\"#fb9f3a\"],[0.8888888888888888,\"#fdca26\"],[1.0,\"#f0f921\"]],\"type\":\"contour\"}],\"contourcarpet\":[{\"colorbar\":{\"outlinewidth\":0,\"ticks\":\"\"},\"type\":\"contourcarpet\"}],\"heatmap\":[{\"colorbar\":{\"outlinewidth\":0,\"ticks\":\"\"},\"colorscale\":[[0.0,\"#0d0887\"],[0.1111111111111111,\"#46039f\"],[0.2222222222222222,\"#7201a8\"],[0.3333333333333333,\"#9c179e\"],[0.4444444444444444,\"#bd3786\"],[0.5555555555555556,\"#d8576b\"],[0.6666666666666666,\"#ed7953\"],[0.7777777777777778,\"#fb9f3a\"],[0.8888888888888888,\"#fdca26\"],[1.0,\"#f0f921\"]],\"type\":\"heatmap\"}],\"heatmapgl\":[{\"colorbar\":{\"outlinewidth\":0,\"ticks\":\"\"},\"colorscale\":[[0.0,\"#0d0887\"],[0.1111111111111111,\"#46039f\"],[0.2222222222222222,\"#7201a8\"],[0.3333333333333333,\"#9c179e\"],[0.4444444444444444,\"#bd3786\"],[0.5555555555555556,\"#d8576b\"],[0.6666666666666666,\"#ed7953\"],[0.7777777777777778,\"#fb9f3a\"],[0.8888888888888888,\"#fdca26\"],[1.0,\"#f0f921\"]],\"type\":\"heatmapgl\"}],\"histogram\":[{\"marker\":{\"pattern\":{\"fillmode\":\"overlay\",\"size\":10,\"solidity\":0.2}},\"type\":\"histogram\"}],\"histogram2d\":[{\"colorbar\":{\"outlinewidth\":0,\"ticks\":\"\"},\"colorscale\":[[0.0,\"#0d0887\"],[0.1111111111111111,\"#46039f\"],[0.2222222222222222,\"#7201a8\"],[0.3333333333333333,\"#9c179e\"],[0.4444444444444444,\"#bd3786\"],[0.5555555555555556,\"#d8576b\"],[0.6666666666666666,\"#ed7953\"],[0.7777777777777778,\"#fb9f3a\"],[0.8888888888888888,\"#fdca26\"],[1.0,\"#f0f921\"]],\"type\":\"histogram2d\"}],\"histogram2dcontour\":[{\"colorbar\":{\"outlinewidth\":0,\"ticks\":\"\"},\"colorscale\":[[0.0,\"#0d0887\"],[0.1111111111111111,\"#46039f\"],[0.2222222222222222,\"#7201a8\"],[0.3333333333333333,\"#9c179e\"],[0.4444444444444444,\"#bd3786\"],[0.5555555555555556,\"#d8576b\"],[0.6666666666666666,\"#ed7953\"],[0.7777777777777778,\"#fb9f3a\"],[0.8888888888888888,\"#fdca26\"],[1.0,\"#f0f921\"]],\"type\":\"histogram2dcontour\"}],\"mesh3d\":[{\"colorbar\":{\"outlinewidth\":0,\"ticks\":\"\"},\"type\":\"mesh3d\"}],\"parcoords\":[{\"line\":{\"colorbar\":{\"outlinewidth\":0,\"ticks\":\"\"}},\"type\":\"parcoords\"}],\"pie\":[{\"automargin\":true,\"type\":\"pie\"}],\"scatter\":[{\"marker\":{\"colorbar\":{\"outlinewidth\":0,\"ticks\":\"\"}},\"type\":\"scatter\"}],\"scatter3d\":[{\"line\":{\"colorbar\":{\"outlinewidth\":0,\"ticks\":\"\"}},\"marker\":{\"colorbar\":{\"outlinewidth\":0,\"ticks\":\"\"}},\"type\":\"scatter3d\"}],\"scattercarpet\":[{\"marker\":{\"colorbar\":{\"outlinewidth\":0,\"ticks\":\"\"}},\"type\":\"scattercarpet\"}],\"scattergeo\":[{\"marker\":{\"colorbar\":{\"outlinewidth\":0,\"ticks\":\"\"}},\"type\":\"scattergeo\"}],\"scattergl\":[{\"marker\":{\"colorbar\":{\"outlinewidth\":0,\"ticks\":\"\"}},\"type\":\"scattergl\"}],\"scattermapbox\":[{\"marker\":{\"colorbar\":{\"outlinewidth\":0,\"ticks\":\"\"}},\"type\":\"scattermapbox\"}],\"scatterpolar\":[{\"marker\":{\"colorbar\":{\"outlinewidth\":0,\"ticks\":\"\"}},\"type\":\"scatterpolar\"}],\"scatterpolargl\":[{\"marker\":{\"colorbar\":{\"outlinewidth\":0,\"ticks\":\"\"}},\"type\":\"scatterpolargl\"}],\"scatterternary\":[{\"marker\":{\"colorbar\":{\"outlinewidth\":0,\"ticks\":\"\"}},\"type\":\"scatterternary\"}],\"surface\":[{\"colorbar\":{\"outlinewidth\":0,\"ticks\":\"\"},\"colorscale\":[[0.0,\"#0d0887\"],[0.1111111111111111,\"#46039f\"],[0.2222222222222222,\"#7201a8\"],[0.3333333333333333,\"#9c179e\"],[0.4444444444444444,\"#bd3786\"],[0.5555555555555556,\"#d8576b\"],[0.6666666666666666,\"#ed7953\"],[0.7777777777777778,\"#fb9f3a\"],[0.8888888888888888,\"#fdca26\"],[1.0,\"#f0f921\"]],\"type\":\"surface\"}],\"table\":[{\"cells\":{\"fill\":{\"color\":\"#EBF0F8\"},\"line\":{\"color\":\"white\"}},\"header\":{\"fill\":{\"color\":\"#C8D4E3\"},\"line\":{\"color\":\"white\"}},\"type\":\"table\"}]},\"layout\":{\"annotationdefaults\":{\"arrowcolor\":\"#2a3f5f\",\"arrowhead\":0,\"arrowwidth\":1},\"autotypenumbers\":\"strict\",\"coloraxis\":{\"colorbar\":{\"outlinewidth\":0,\"ticks\":\"\"}},\"colorscale\":{\"diverging\":[[0,\"#8e0152\"],[0.1,\"#c51b7d\"],[0.2,\"#de77ae\"],[0.3,\"#f1b6da\"],[0.4,\"#fde0ef\"],[0.5,\"#f7f7f7\"],[0.6,\"#e6f5d0\"],[0.7,\"#b8e186\"],[0.8,\"#7fbc41\"],[0.9,\"#4d9221\"],[1,\"#276419\"]],\"sequential\":[[0.0,\"#0d0887\"],[0.1111111111111111,\"#46039f\"],[0.2222222222222222,\"#7201a8\"],[0.3333333333333333,\"#9c179e\"],[0.4444444444444444,\"#bd3786\"],[0.5555555555555556,\"#d8576b\"],[0.6666666666666666,\"#ed7953\"],[0.7777777777777778,\"#fb9f3a\"],[0.8888888888888888,\"#fdca26\"],[1.0,\"#f0f921\"]],\"sequentialminus\":[[0.0,\"#0d0887\"],[0.1111111111111111,\"#46039f\"],[0.2222222222222222,\"#7201a8\"],[0.3333333333333333,\"#9c179e\"],[0.4444444444444444,\"#bd3786\"],[0.5555555555555556,\"#d8576b\"],[0.6666666666666666,\"#ed7953\"],[0.7777777777777778,\"#fb9f3a\"],[0.8888888888888888,\"#fdca26\"],[1.0,\"#f0f921\"]]},\"colorway\":[\"#636efa\",\"#EF553B\",\"#00cc96\",\"#ab63fa\",\"#FFA15A\",\"#19d3f3\",\"#FF6692\",\"#B6E880\",\"#FF97FF\",\"#FECB52\"],\"font\":{\"color\":\"#2a3f5f\"},\"geo\":{\"bgcolor\":\"white\",\"lakecolor\":\"white\",\"landcolor\":\"#E5ECF6\",\"showlakes\":true,\"showland\":true,\"subunitcolor\":\"white\"},\"hoverlabel\":{\"align\":\"left\"},\"hovermode\":\"closest\",\"mapbox\":{\"style\":\"light\"},\"paper_bgcolor\":\"white\",\"plot_bgcolor\":\"#E5ECF6\",\"polar\":{\"angularaxis\":{\"gridcolor\":\"white\",\"linecolor\":\"white\",\"ticks\":\"\"},\"bgcolor\":\"#E5ECF6\",\"radialaxis\":{\"gridcolor\":\"white\",\"linecolor\":\"white\",\"ticks\":\"\"}},\"scene\":{\"xaxis\":{\"backgroundcolor\":\"#E5ECF6\",\"gridcolor\":\"white\",\"gridwidth\":2,\"linecolor\":\"white\",\"showbackground\":true,\"ticks\":\"\",\"zerolinecolor\":\"white\"},\"yaxis\":{\"backgroundcolor\":\"#E5ECF6\",\"gridcolor\":\"white\",\"gridwidth\":2,\"linecolor\":\"white\",\"showbackground\":true,\"ticks\":\"\",\"zerolinecolor\":\"white\"},\"zaxis\":{\"backgroundcolor\":\"#E5ECF6\",\"gridcolor\":\"white\",\"gridwidth\":2,\"linecolor\":\"white\",\"showbackground\":true,\"ticks\":\"\",\"zerolinecolor\":\"white\"}},\"shapedefaults\":{\"line\":{\"color\":\"#2a3f5f\"}},\"ternary\":{\"aaxis\":{\"gridcolor\":\"white\",\"linecolor\":\"white\",\"ticks\":\"\"},\"baxis\":{\"gridcolor\":\"white\",\"linecolor\":\"white\",\"ticks\":\"\"},\"bgcolor\":\"#E5ECF6\",\"caxis\":{\"gridcolor\":\"white\",\"linecolor\":\"white\",\"ticks\":\"\"}},\"title\":{\"x\":0.05},\"xaxis\":{\"automargin\":true,\"gridcolor\":\"white\",\"linecolor\":\"white\",\"ticks\":\"\",\"title\":{\"standoff\":15},\"zerolinecolor\":\"white\",\"zerolinewidth\":2},\"yaxis\":{\"automargin\":true,\"gridcolor\":\"white\",\"linecolor\":\"white\",\"ticks\":\"\",\"title\":{\"standoff\":15},\"zerolinecolor\":\"white\",\"zerolinewidth\":2}}},\"title\":{\"text\":\"Life Expectancy Year 2010\"},\"geo\":{\"projection\":{\"type\":\"equirectangular\"},\"showframe\":false,\"showcoastlines\":false},\"annotations\":[{\"showarrow\":false,\"x\":0.55,\"xref\":\"paper\",\"y\":0.1,\"yref\":\"paper\"}]},                        {\"responsive\": true}                    ).then(function(){\n",
       "                            \n",
       "var gd = document.getElementById('cae44551-0c78-41bf-8ad1-8399155b15af');\n",
       "var x = new MutationObserver(function (mutations, observer) {{\n",
       "        var display = window.getComputedStyle(gd).display;\n",
       "        if (!display || display === 'none') {{\n",
       "            console.log([gd, 'removed!']);\n",
       "            Plotly.purge(gd);\n",
       "            observer.disconnect();\n",
       "        }}\n",
       "}});\n",
       "\n",
       "// Listen for the removal of the full notebook cells\n",
       "var notebookContainer = gd.closest('#notebook-container');\n",
       "if (notebookContainer) {{\n",
       "    x.observe(notebookContainer, {childList: true});\n",
       "}}\n",
       "\n",
       "// Listen for the clearing of the current output cell\n",
       "var outputEl = gd.closest('.output');\n",
       "if (outputEl) {{\n",
       "    x.observe(outputEl, {childList: true});\n",
       "}}\n",
       "\n",
       "                        })                };                });            </script>        </div>"
      ]
     },
     "metadata": {},
     "output_type": "display_data"
    }
   ],
   "source": [
    "\n",
    "'''\n",
    "TASK 1.1 :\n",
    "          CHART 1 -PLOT for year 2010\n",
    "          The following chart contains the world data of life expectancy for the year 2010.\n",
    "'''\n",
    "fig = go.Figure(data=go.Choropleth(\n",
    "    locations = df['Country Code'],\n",
    "    z = df['Life_expectancy_2010'],\n",
    "    text = df['Country Name'],\n",
    "    colorscale = 'Cividis_r',\n",
    "    autocolorscale=False,\n",
    "    reversescale=True,\n",
    "    marker_line_color='darkgray',\n",
    "    marker_line_width=0.5,\n",
    "    colorbar_tickprefix = '',\n",
    "    colorbar_title = 'Life Expectancy Average',\n",
    "))\n",
    "fig.update_layout(\n",
    "    title_text='Life Expectancy Year 2010',\n",
    "    geo=dict(\n",
    "        showframe=False,\n",
    "        showcoastlines=False,\n",
    "        projection_type='equirectangular'\n",
    "    ),\n",
    "    annotations = [dict(\n",
    "        x=0.55,\n",
    "        y=0.1,\n",
    "        xref='paper',\n",
    "        yref='paper',\n",
    "        showarrow = False\n",
    "    )]\n",
    ")"
   ]
  },
  {
   "cell_type": "code",
   "execution_count": 24,
   "metadata": {
    "colab": {
     "base_uri": "https://localhost:8080/",
     "height": 542
    },
    "id": "JVdgnHOhrb7D",
    "outputId": "fd8eded9-f62b-4a94-f5cb-a216c591e5cb"
   },
   "outputs": [
    {
     "data": {
      "application/vnd.plotly.v1+json": {
       "config": {
        "plotlyServerURL": "https://plot.ly"
       },
       "data": [
        {
         "autocolorscale": false,
         "colorbar": {
          "tickprefix": "",
          "title": {
           "text": "Life Expectancy Average"
          }
         },
         "colorscale": [
          [
           0,
           "rgb(255,245,240)"
          ],
          [
           0.125,
           "rgb(254,224,210)"
          ],
          [
           0.25,
           "rgb(252,187,161)"
          ],
          [
           0.375,
           "rgb(252,146,114)"
          ],
          [
           0.5,
           "rgb(251,106,74)"
          ],
          [
           0.625,
           "rgb(239,59,44)"
          ],
          [
           0.75,
           "rgb(203,24,29)"
          ],
          [
           0.875,
           "rgb(165,15,21)"
          ],
          [
           1,
           "rgb(103,0,13)"
          ]
         ],
         "locations": [
          "ABW",
          "AFG",
          "AGO",
          "ALB",
          "AND",
          "ARE",
          "ARG",
          "ARM",
          "ASM",
          "ATG",
          "AUS",
          "AUT",
          "AZE",
          "BDI",
          "BEL",
          "BEN",
          "BFA",
          "BGR",
          "BHR",
          "BHS",
          "BIH",
          "BLR",
          "BLZ",
          "BMU",
          "BOL",
          "BRB",
          "BRN",
          "BTN",
          "BWA",
          "CAN",
          "CHE",
          "CHL",
          "CIV",
          "CMR",
          "COD",
          "COG",
          "COL",
          "COM",
          "CPV",
          "CRI",
          "CUB",
          "CUW",
          "CYM",
          "CYP",
          "CZE",
          "DEU",
          "DJI",
          "DMA",
          "DNK",
          "DOM",
          "DZA",
          "ECU",
          "EGY",
          "ERI",
          "ESP",
          "EST",
          "ETH",
          "FIN",
          "FJI",
          "FRA",
          "FRO",
          "GAB",
          "GBR",
          "GEO",
          "GHA",
          "GIB",
          "GIN",
          "GMB",
          "GNB",
          "GRC",
          "GRD",
          "GRL",
          "GTM",
          "GUM",
          "GUY",
          "HKG",
          "HND",
          "HRV",
          "HTI",
          "HUN",
          "IRL",
          "IRN",
          "IRQ",
          "ISL",
          "ISR",
          "ITA",
          "JAM",
          "JOR",
          "JPN",
          "KAZ",
          "KEN",
          "KGZ",
          "KHM",
          "KIR",
          "KNA",
          "KOR",
          "KWT",
          "LAO",
          "LBN",
          "LBR",
          "LBY",
          "LCA",
          "LIE",
          "LKA",
          "LSO",
          "LTU",
          "LUX",
          "LVA",
          "MAR",
          "MCO",
          "MDA",
          "MDG",
          "MDV",
          "MEX",
          "MHL",
          "MKD",
          "MLI",
          "MLT",
          "MMR",
          "MNE",
          "MNG",
          "MNP",
          "MOZ",
          "MRT",
          "MUS",
          "MWI",
          "MYS",
          "NAM",
          "NCL",
          "NER",
          "NIC",
          "NLD",
          "NOR",
          "NPL",
          "NRU",
          "NZL",
          "OMN",
          "PAN",
          "PER",
          "PHL",
          "PLW",
          "PNG",
          "POL",
          "PRI",
          "PRK",
          "PRT",
          "PRY",
          "PYF",
          "QAT",
          "ROU",
          "RWA",
          "SAU",
          "SDN",
          "SEN",
          "SGP",
          "SLB",
          "SLE",
          "SLV",
          "SMR",
          "SOM",
          "SRB",
          "STP",
          "SUR",
          "SVK",
          "SVN",
          "SWE",
          "SWZ",
          "SYC",
          "SYR",
          "TCA",
          "TCD",
          "TGO",
          "THA",
          "TJK",
          "TKM",
          "TON",
          "TTO",
          "TUN",
          "TUR",
          "TUV",
          "TZA",
          "UGA",
          "UKR",
          "URY",
          "UZB",
          "VCT",
          "VEN",
          "VGB",
          "VIR",
          "VNM",
          "VUT",
          "WSM",
          "XKX",
          "YEM",
          "ZAF",
          "ZMB",
          "ZWE"
         ],
         "marker": {
          "line": {
           "color": "darkgray",
           "width": 0.5
          }
         },
         "reversescale": true,
         "text": [
          "Aruba",
          "Afghanistan",
          "Angola",
          "Albania",
          "Andorra",
          "United Arab Emirates",
          "Argentina",
          "Armenia",
          "American Samoa",
          "Antigua and Barbuda",
          "Australia",
          "Austria",
          "Azerbaijan",
          "Burundi",
          "Belgium",
          "Benin",
          "Burkina Faso",
          "Bulgaria",
          "Bahrain",
          "Bahamas, The",
          "Bosnia and Herzegovina",
          "Belarus",
          "Belize",
          "Bermuda",
          "Bolivia",
          "Barbados",
          "Brunei Darussalam",
          "Bhutan",
          "Botswana",
          "Canada",
          "Switzerland",
          "Chile",
          "Cote d'Ivoire",
          "Cameroon",
          "Congo, Dem. Rep.",
          "Congo, Rep.",
          "Colombia",
          "Comoros",
          "Cabo Verde",
          "Costa Rica",
          "Cuba",
          "Curacao",
          "Cayman Islands",
          "Cyprus",
          "Czech Republic",
          "Germany",
          "Djibouti",
          "Dominica",
          "Denmark",
          "Dominican Republic",
          "Algeria",
          "Ecuador",
          "Egypt, Arab Rep.",
          "Eritrea",
          "Spain",
          "Estonia",
          "Ethiopia",
          "Finland",
          "Fiji",
          "France",
          "Faroe Islands",
          "Gabon",
          "United Kingdom",
          "Georgia",
          "Ghana",
          "Gibraltar",
          "Guinea",
          "Gambia, The",
          "Guinea-Bissau",
          "Greece",
          "Grenada",
          "Greenland",
          "Guatemala",
          "Guam",
          "Guyana",
          "Hong Kong SAR, China",
          "Honduras",
          "Croatia",
          "Haiti",
          "Hungary",
          "Ireland",
          "Iran, Islamic Rep.",
          "Iraq",
          "Iceland",
          "Israel",
          "Italy",
          "Jamaica",
          "Jordan",
          "Japan",
          "Kazakhstan",
          "Kenya",
          "Kyrgyz Republic",
          "Cambodia",
          "Kiribati",
          "St. Kitts and Nevis",
          "Korea, Rep.",
          "Kuwait",
          "Lao PDR",
          "Lebanon",
          "Liberia",
          "Libya",
          "St. Lucia",
          "Liechtenstein",
          "Sri Lanka",
          "Lesotho",
          "Lithuania",
          "Luxembourg",
          "Latvia",
          "Morocco",
          "Monaco",
          "Moldova",
          "Madagascar",
          "Maldives",
          "Mexico",
          "Marshall Islands",
          "North Macedonia",
          "Mali",
          "Malta",
          "Myanmar",
          "Montenegro",
          "Mongolia",
          "Northern Mariana Islands",
          "Mozambique",
          "Mauritania",
          "Mauritius",
          "Malawi",
          "Malaysia",
          "Namibia",
          "New Caledonia",
          "Niger",
          "Nicaragua",
          "Netherlands",
          "Norway",
          "Nepal",
          "Nauru",
          "New Zealand",
          "Oman",
          "Panama",
          "Peru",
          "Philippines",
          "Palau",
          "Papua New Guinea",
          "Poland",
          "Puerto Rico",
          "Korea, Dem. People's Rep.",
          "Portugal",
          "Paraguay",
          "French Polynesia",
          "Qatar",
          "Romania",
          "Rwanda",
          "Saudi Arabia",
          "Sudan",
          "Senegal",
          "Singapore",
          "Solomon Islands",
          "Sierra Leone",
          "El Salvador",
          "San Marino",
          "Somalia",
          "Serbia",
          "Sao Tome and Principe",
          "Suriname",
          "Slovak Republic",
          "Slovenia",
          "Sweden",
          "Eswatini",
          "Seychelles",
          "Syrian Arab Republic",
          "Turks and Caicos Islands",
          "Chad",
          "Togo",
          "Thailand",
          "Tajikistan",
          "Turkmenistan",
          "Tonga",
          "Trinidad and Tobago",
          "Tunisia",
          "Turkey",
          "Tuvalu",
          "Tanzania",
          "Uganda",
          "Ukraine",
          "Uruguay",
          "Uzbekistan",
          "St. Vincent and the Grenadines",
          "Venezuela, RB",
          "British Virgin Islands",
          "Virgin Islands (U.S.)",
          "Vietnam",
          "Vanuatu",
          "Samoa",
          "Kosovo",
          "Yemen, Rep.",
          "South Africa",
          "Zambia",
          "Zimbabwe"
         ],
         "type": "choropleth",
         "z": [
          71.816,
          57.044,
          47.893,
          72.708,
          null,
          74.601,
          71.008,
          69.312,
          null,
          73.58,
          78.5,
          76.6,
          65.737,
          51.785,
          76.2,
          55.85,
          52.436,
          69,
          74.574,
          69.124,
          72.459,
          62.9,
          67.303,
          76.1,
          63.192,
          76.23,
          73.009,
          65.002,
          49.981,
          77.9,
          78.7,
          74.534,
          48.66,
          51.625,
          52.229,
          54.545,
          71.085,
          58.542,
          66.472,
          75.794,
          75.766,
          null,
          null,
          76.535,
          72.9,
          76.2,
          56.565,
          null,
          75.6,
          67.859,
          71.784,
          71.225,
          67.138,
          56.709,
          77,
          67.3,
          54.846,
          75.5,
          64.788,
          76.7,
          77.1,
          56.817,
          77,
          66.373,
          57.838,
          null,
          52.694,
          56.82,
          49.855,
          76.8,
          70.605,
          66.65,
          66.527,
          74.218,
          63.595,
          78.8,
          69.728,
          71.83,
          56.748,
          68.6,
          76.7,
          70.438,
          65.625,
          79.6,
          78.2,
          78.1,
          72.846,
          71.156,
          78.53,
          60.3,
          52.819,
          64.2,
          60.738,
          61.249,
          null,
          74.9,
          72.81,
          59.785,
          75.081,
          54.023,
          69.991,
          72.625,
          77.4,
          71.247,
          40.566,
          65.4,
          76.7,
          65.6,
          70.339,
          null,
          63.916,
          59.899,
          72.571,
          72.575,
          null,
          71.681,
          51.429,
          77.3,
          58.43,
          71.112,
          61.504,
          null,
          48.207,
          59.475,
          69.12,
          45.497,
          71.505,
          49.327,
          72.6,
          52.644,
          68.079,
          77.2,
          77.7,
          63.996,
          null,
          77.9,
          72.347,
          73.272,
          70.558,
          65.597,
          66.3,
          59.237,
          70.8,
          74.34,
          64.653,
          74.9,
          69.715,
          71.774,
          77.219,
          68.4,
          54.006,
          71.883,
          58.636,
          59.081,
          77.6,
          67.689,
          43.731,
          65.487,
          null,
          50.829,
          70.2,
          62.521,
          65.7,
          70.1,
          74.1,
          78.4,
          40.663,
          67.4,
          72.299,
          null,
          47.376,
          53.849,
          68.71,
          64.041,
          61.255,
          68.23,
          68.096,
          71.892,
          69.004,
          null,
          52.803,
          49.447,
          62.23,
          72.049,
          65.252,
          69.036,
          69.104,
          null,
          74.3,
          69.722,
          67.02,
          68.092,
          66.5,
          61.947,
          51.104,
          46.395,
          41.573
         ]
        }
       ],
       "layout": {
        "annotations": [
         {
          "showarrow": false,
          "x": 0.55,
          "xref": "paper",
          "y": 0.1,
          "yref": "paper"
         }
        ],
        "geo": {
         "projection": {
          "type": "equirectangular"
         },
         "showcoastlines": false,
         "showframe": false
        },
        "template": {
         "data": {
          "bar": [
           {
            "error_x": {
             "color": "#2a3f5f"
            },
            "error_y": {
             "color": "#2a3f5f"
            },
            "marker": {
             "line": {
              "color": "#E5ECF6",
              "width": 0.5
             },
             "pattern": {
              "fillmode": "overlay",
              "size": 10,
              "solidity": 0.2
             }
            },
            "type": "bar"
           }
          ],
          "barpolar": [
           {
            "marker": {
             "line": {
              "color": "#E5ECF6",
              "width": 0.5
             },
             "pattern": {
              "fillmode": "overlay",
              "size": 10,
              "solidity": 0.2
             }
            },
            "type": "barpolar"
           }
          ],
          "carpet": [
           {
            "aaxis": {
             "endlinecolor": "#2a3f5f",
             "gridcolor": "white",
             "linecolor": "white",
             "minorgridcolor": "white",
             "startlinecolor": "#2a3f5f"
            },
            "baxis": {
             "endlinecolor": "#2a3f5f",
             "gridcolor": "white",
             "linecolor": "white",
             "minorgridcolor": "white",
             "startlinecolor": "#2a3f5f"
            },
            "type": "carpet"
           }
          ],
          "choropleth": [
           {
            "colorbar": {
             "outlinewidth": 0,
             "ticks": ""
            },
            "type": "choropleth"
           }
          ],
          "contour": [
           {
            "colorbar": {
             "outlinewidth": 0,
             "ticks": ""
            },
            "colorscale": [
             [
              0,
              "#0d0887"
             ],
             [
              0.1111111111111111,
              "#46039f"
             ],
             [
              0.2222222222222222,
              "#7201a8"
             ],
             [
              0.3333333333333333,
              "#9c179e"
             ],
             [
              0.4444444444444444,
              "#bd3786"
             ],
             [
              0.5555555555555556,
              "#d8576b"
             ],
             [
              0.6666666666666666,
              "#ed7953"
             ],
             [
              0.7777777777777778,
              "#fb9f3a"
             ],
             [
              0.8888888888888888,
              "#fdca26"
             ],
             [
              1,
              "#f0f921"
             ]
            ],
            "type": "contour"
           }
          ],
          "contourcarpet": [
           {
            "colorbar": {
             "outlinewidth": 0,
             "ticks": ""
            },
            "type": "contourcarpet"
           }
          ],
          "heatmap": [
           {
            "colorbar": {
             "outlinewidth": 0,
             "ticks": ""
            },
            "colorscale": [
             [
              0,
              "#0d0887"
             ],
             [
              0.1111111111111111,
              "#46039f"
             ],
             [
              0.2222222222222222,
              "#7201a8"
             ],
             [
              0.3333333333333333,
              "#9c179e"
             ],
             [
              0.4444444444444444,
              "#bd3786"
             ],
             [
              0.5555555555555556,
              "#d8576b"
             ],
             [
              0.6666666666666666,
              "#ed7953"
             ],
             [
              0.7777777777777778,
              "#fb9f3a"
             ],
             [
              0.8888888888888888,
              "#fdca26"
             ],
             [
              1,
              "#f0f921"
             ]
            ],
            "type": "heatmap"
           }
          ],
          "heatmapgl": [
           {
            "colorbar": {
             "outlinewidth": 0,
             "ticks": ""
            },
            "colorscale": [
             [
              0,
              "#0d0887"
             ],
             [
              0.1111111111111111,
              "#46039f"
             ],
             [
              0.2222222222222222,
              "#7201a8"
             ],
             [
              0.3333333333333333,
              "#9c179e"
             ],
             [
              0.4444444444444444,
              "#bd3786"
             ],
             [
              0.5555555555555556,
              "#d8576b"
             ],
             [
              0.6666666666666666,
              "#ed7953"
             ],
             [
              0.7777777777777778,
              "#fb9f3a"
             ],
             [
              0.8888888888888888,
              "#fdca26"
             ],
             [
              1,
              "#f0f921"
             ]
            ],
            "type": "heatmapgl"
           }
          ],
          "histogram": [
           {
            "marker": {
             "pattern": {
              "fillmode": "overlay",
              "size": 10,
              "solidity": 0.2
             }
            },
            "type": "histogram"
           }
          ],
          "histogram2d": [
           {
            "colorbar": {
             "outlinewidth": 0,
             "ticks": ""
            },
            "colorscale": [
             [
              0,
              "#0d0887"
             ],
             [
              0.1111111111111111,
              "#46039f"
             ],
             [
              0.2222222222222222,
              "#7201a8"
             ],
             [
              0.3333333333333333,
              "#9c179e"
             ],
             [
              0.4444444444444444,
              "#bd3786"
             ],
             [
              0.5555555555555556,
              "#d8576b"
             ],
             [
              0.6666666666666666,
              "#ed7953"
             ],
             [
              0.7777777777777778,
              "#fb9f3a"
             ],
             [
              0.8888888888888888,
              "#fdca26"
             ],
             [
              1,
              "#f0f921"
             ]
            ],
            "type": "histogram2d"
           }
          ],
          "histogram2dcontour": [
           {
            "colorbar": {
             "outlinewidth": 0,
             "ticks": ""
            },
            "colorscale": [
             [
              0,
              "#0d0887"
             ],
             [
              0.1111111111111111,
              "#46039f"
             ],
             [
              0.2222222222222222,
              "#7201a8"
             ],
             [
              0.3333333333333333,
              "#9c179e"
             ],
             [
              0.4444444444444444,
              "#bd3786"
             ],
             [
              0.5555555555555556,
              "#d8576b"
             ],
             [
              0.6666666666666666,
              "#ed7953"
             ],
             [
              0.7777777777777778,
              "#fb9f3a"
             ],
             [
              0.8888888888888888,
              "#fdca26"
             ],
             [
              1,
              "#f0f921"
             ]
            ],
            "type": "histogram2dcontour"
           }
          ],
          "mesh3d": [
           {
            "colorbar": {
             "outlinewidth": 0,
             "ticks": ""
            },
            "type": "mesh3d"
           }
          ],
          "parcoords": [
           {
            "line": {
             "colorbar": {
              "outlinewidth": 0,
              "ticks": ""
             }
            },
            "type": "parcoords"
           }
          ],
          "pie": [
           {
            "automargin": true,
            "type": "pie"
           }
          ],
          "scatter": [
           {
            "marker": {
             "colorbar": {
              "outlinewidth": 0,
              "ticks": ""
             }
            },
            "type": "scatter"
           }
          ],
          "scatter3d": [
           {
            "line": {
             "colorbar": {
              "outlinewidth": 0,
              "ticks": ""
             }
            },
            "marker": {
             "colorbar": {
              "outlinewidth": 0,
              "ticks": ""
             }
            },
            "type": "scatter3d"
           }
          ],
          "scattercarpet": [
           {
            "marker": {
             "colorbar": {
              "outlinewidth": 0,
              "ticks": ""
             }
            },
            "type": "scattercarpet"
           }
          ],
          "scattergeo": [
           {
            "marker": {
             "colorbar": {
              "outlinewidth": 0,
              "ticks": ""
             }
            },
            "type": "scattergeo"
           }
          ],
          "scattergl": [
           {
            "marker": {
             "colorbar": {
              "outlinewidth": 0,
              "ticks": ""
             }
            },
            "type": "scattergl"
           }
          ],
          "scattermapbox": [
           {
            "marker": {
             "colorbar": {
              "outlinewidth": 0,
              "ticks": ""
             }
            },
            "type": "scattermapbox"
           }
          ],
          "scatterpolar": [
           {
            "marker": {
             "colorbar": {
              "outlinewidth": 0,
              "ticks": ""
             }
            },
            "type": "scatterpolar"
           }
          ],
          "scatterpolargl": [
           {
            "marker": {
             "colorbar": {
              "outlinewidth": 0,
              "ticks": ""
             }
            },
            "type": "scatterpolargl"
           }
          ],
          "scatterternary": [
           {
            "marker": {
             "colorbar": {
              "outlinewidth": 0,
              "ticks": ""
             }
            },
            "type": "scatterternary"
           }
          ],
          "surface": [
           {
            "colorbar": {
             "outlinewidth": 0,
             "ticks": ""
            },
            "colorscale": [
             [
              0,
              "#0d0887"
             ],
             [
              0.1111111111111111,
              "#46039f"
             ],
             [
              0.2222222222222222,
              "#7201a8"
             ],
             [
              0.3333333333333333,
              "#9c179e"
             ],
             [
              0.4444444444444444,
              "#bd3786"
             ],
             [
              0.5555555555555556,
              "#d8576b"
             ],
             [
              0.6666666666666666,
              "#ed7953"
             ],
             [
              0.7777777777777778,
              "#fb9f3a"
             ],
             [
              0.8888888888888888,
              "#fdca26"
             ],
             [
              1,
              "#f0f921"
             ]
            ],
            "type": "surface"
           }
          ],
          "table": [
           {
            "cells": {
             "fill": {
              "color": "#EBF0F8"
             },
             "line": {
              "color": "white"
             }
            },
            "header": {
             "fill": {
              "color": "#C8D4E3"
             },
             "line": {
              "color": "white"
             }
            },
            "type": "table"
           }
          ]
         },
         "layout": {
          "annotationdefaults": {
           "arrowcolor": "#2a3f5f",
           "arrowhead": 0,
           "arrowwidth": 1
          },
          "autotypenumbers": "strict",
          "coloraxis": {
           "colorbar": {
            "outlinewidth": 0,
            "ticks": ""
           }
          },
          "colorscale": {
           "diverging": [
            [
             0,
             "#8e0152"
            ],
            [
             0.1,
             "#c51b7d"
            ],
            [
             0.2,
             "#de77ae"
            ],
            [
             0.3,
             "#f1b6da"
            ],
            [
             0.4,
             "#fde0ef"
            ],
            [
             0.5,
             "#f7f7f7"
            ],
            [
             0.6,
             "#e6f5d0"
            ],
            [
             0.7,
             "#b8e186"
            ],
            [
             0.8,
             "#7fbc41"
            ],
            [
             0.9,
             "#4d9221"
            ],
            [
             1,
             "#276419"
            ]
           ],
           "sequential": [
            [
             0,
             "#0d0887"
            ],
            [
             0.1111111111111111,
             "#46039f"
            ],
            [
             0.2222222222222222,
             "#7201a8"
            ],
            [
             0.3333333333333333,
             "#9c179e"
            ],
            [
             0.4444444444444444,
             "#bd3786"
            ],
            [
             0.5555555555555556,
             "#d8576b"
            ],
            [
             0.6666666666666666,
             "#ed7953"
            ],
            [
             0.7777777777777778,
             "#fb9f3a"
            ],
            [
             0.8888888888888888,
             "#fdca26"
            ],
            [
             1,
             "#f0f921"
            ]
           ],
           "sequentialminus": [
            [
             0,
             "#0d0887"
            ],
            [
             0.1111111111111111,
             "#46039f"
            ],
            [
             0.2222222222222222,
             "#7201a8"
            ],
            [
             0.3333333333333333,
             "#9c179e"
            ],
            [
             0.4444444444444444,
             "#bd3786"
            ],
            [
             0.5555555555555556,
             "#d8576b"
            ],
            [
             0.6666666666666666,
             "#ed7953"
            ],
            [
             0.7777777777777778,
             "#fb9f3a"
            ],
            [
             0.8888888888888888,
             "#fdca26"
            ],
            [
             1,
             "#f0f921"
            ]
           ]
          },
          "colorway": [
           "#636efa",
           "#EF553B",
           "#00cc96",
           "#ab63fa",
           "#FFA15A",
           "#19d3f3",
           "#FF6692",
           "#B6E880",
           "#FF97FF",
           "#FECB52"
          ],
          "font": {
           "color": "#2a3f5f"
          },
          "geo": {
           "bgcolor": "white",
           "lakecolor": "white",
           "landcolor": "#E5ECF6",
           "showlakes": true,
           "showland": true,
           "subunitcolor": "white"
          },
          "hoverlabel": {
           "align": "left"
          },
          "hovermode": "closest",
          "mapbox": {
           "style": "light"
          },
          "paper_bgcolor": "white",
          "plot_bgcolor": "#E5ECF6",
          "polar": {
           "angularaxis": {
            "gridcolor": "white",
            "linecolor": "white",
            "ticks": ""
           },
           "bgcolor": "#E5ECF6",
           "radialaxis": {
            "gridcolor": "white",
            "linecolor": "white",
            "ticks": ""
           }
          },
          "scene": {
           "xaxis": {
            "backgroundcolor": "#E5ECF6",
            "gridcolor": "white",
            "gridwidth": 2,
            "linecolor": "white",
            "showbackground": true,
            "ticks": "",
            "zerolinecolor": "white"
           },
           "yaxis": {
            "backgroundcolor": "#E5ECF6",
            "gridcolor": "white",
            "gridwidth": 2,
            "linecolor": "white",
            "showbackground": true,
            "ticks": "",
            "zerolinecolor": "white"
           },
           "zaxis": {
            "backgroundcolor": "#E5ECF6",
            "gridcolor": "white",
            "gridwidth": 2,
            "linecolor": "white",
            "showbackground": true,
            "ticks": "",
            "zerolinecolor": "white"
           }
          },
          "shapedefaults": {
           "line": {
            "color": "#2a3f5f"
           }
          },
          "ternary": {
           "aaxis": {
            "gridcolor": "white",
            "linecolor": "white",
            "ticks": ""
           },
           "baxis": {
            "gridcolor": "white",
            "linecolor": "white",
            "ticks": ""
           },
           "bgcolor": "#E5ECF6",
           "caxis": {
            "gridcolor": "white",
            "linecolor": "white",
            "ticks": ""
           }
          },
          "title": {
           "x": 0.05
          },
          "xaxis": {
           "automargin": true,
           "gridcolor": "white",
           "linecolor": "white",
           "ticks": "",
           "title": {
            "standoff": 15
           },
           "zerolinecolor": "white",
           "zerolinewidth": 2
          },
          "yaxis": {
           "automargin": true,
           "gridcolor": "white",
           "linecolor": "white",
           "ticks": "",
           "title": {
            "standoff": 15
           },
           "zerolinecolor": "white",
           "zerolinewidth": 2
          }
         }
        },
        "title": {
         "text": "Life Expectancy 2005, Countries where population <138865014"
        }
       }
      },
      "text/html": [
       "<div>                            <div id=\"1a8a558b-cc1e-4008-9d5d-43c1dd98185d\" class=\"plotly-graph-div\" style=\"height:525px; width:100%;\"></div>            <script type=\"text/javascript\">                require([\"plotly\"], function(Plotly) {                    window.PLOTLYENV=window.PLOTLYENV || {};                                    if (document.getElementById(\"1a8a558b-cc1e-4008-9d5d-43c1dd98185d\")) {                    Plotly.newPlot(                        \"1a8a558b-cc1e-4008-9d5d-43c1dd98185d\",                        [{\"autocolorscale\":false,\"colorbar\":{\"tickprefix\":\"\",\"title\":{\"text\":\"Life Expectancy Average\"}},\"colorscale\":[[0.0,\"rgb(255,245,240)\"],[0.125,\"rgb(254,224,210)\"],[0.25,\"rgb(252,187,161)\"],[0.375,\"rgb(252,146,114)\"],[0.5,\"rgb(251,106,74)\"],[0.625,\"rgb(239,59,44)\"],[0.75,\"rgb(203,24,29)\"],[0.875,\"rgb(165,15,21)\"],[1.0,\"rgb(103,0,13)\"]],\"locations\":[\"ABW\",\"AFG\",\"AGO\",\"ALB\",\"AND\",\"ARE\",\"ARG\",\"ARM\",\"ASM\",\"ATG\",\"AUS\",\"AUT\",\"AZE\",\"BDI\",\"BEL\",\"BEN\",\"BFA\",\"BGR\",\"BHR\",\"BHS\",\"BIH\",\"BLR\",\"BLZ\",\"BMU\",\"BOL\",\"BRB\",\"BRN\",\"BTN\",\"BWA\",\"CAN\",\"CHE\",\"CHL\",\"CIV\",\"CMR\",\"COD\",\"COG\",\"COL\",\"COM\",\"CPV\",\"CRI\",\"CUB\",\"CUW\",\"CYM\",\"CYP\",\"CZE\",\"DEU\",\"DJI\",\"DMA\",\"DNK\",\"DOM\",\"DZA\",\"ECU\",\"EGY\",\"ERI\",\"ESP\",\"EST\",\"ETH\",\"FIN\",\"FJI\",\"FRA\",\"FRO\",\"GAB\",\"GBR\",\"GEO\",\"GHA\",\"GIB\",\"GIN\",\"GMB\",\"GNB\",\"GRC\",\"GRD\",\"GRL\",\"GTM\",\"GUM\",\"GUY\",\"HKG\",\"HND\",\"HRV\",\"HTI\",\"HUN\",\"IRL\",\"IRN\",\"IRQ\",\"ISL\",\"ISR\",\"ITA\",\"JAM\",\"JOR\",\"JPN\",\"KAZ\",\"KEN\",\"KGZ\",\"KHM\",\"KIR\",\"KNA\",\"KOR\",\"KWT\",\"LAO\",\"LBN\",\"LBR\",\"LBY\",\"LCA\",\"LIE\",\"LKA\",\"LSO\",\"LTU\",\"LUX\",\"LVA\",\"MAR\",\"MCO\",\"MDA\",\"MDG\",\"MDV\",\"MEX\",\"MHL\",\"MKD\",\"MLI\",\"MLT\",\"MMR\",\"MNE\",\"MNG\",\"MNP\",\"MOZ\",\"MRT\",\"MUS\",\"MWI\",\"MYS\",\"NAM\",\"NCL\",\"NER\",\"NIC\",\"NLD\",\"NOR\",\"NPL\",\"NRU\",\"NZL\",\"OMN\",\"PAN\",\"PER\",\"PHL\",\"PLW\",\"PNG\",\"POL\",\"PRI\",\"PRK\",\"PRT\",\"PRY\",\"PYF\",\"QAT\",\"ROU\",\"RWA\",\"SAU\",\"SDN\",\"SEN\",\"SGP\",\"SLB\",\"SLE\",\"SLV\",\"SMR\",\"SOM\",\"SRB\",\"STP\",\"SUR\",\"SVK\",\"SVN\",\"SWE\",\"SWZ\",\"SYC\",\"SYR\",\"TCA\",\"TCD\",\"TGO\",\"THA\",\"TJK\",\"TKM\",\"TON\",\"TTO\",\"TUN\",\"TUR\",\"TUV\",\"TZA\",\"UGA\",\"UKR\",\"URY\",\"UZB\",\"VCT\",\"VEN\",\"VGB\",\"VIR\",\"VNM\",\"VUT\",\"WSM\",\"XKX\",\"YEM\",\"ZAF\",\"ZMB\",\"ZWE\"],\"marker\":{\"line\":{\"color\":\"darkgray\",\"width\":0.5}},\"reversescale\":true,\"text\":[\"Aruba\",\"Afghanistan\",\"Angola\",\"Albania\",\"Andorra\",\"United Arab Emirates\",\"Argentina\",\"Armenia\",\"American Samoa\",\"Antigua and Barbuda\",\"Australia\",\"Austria\",\"Azerbaijan\",\"Burundi\",\"Belgium\",\"Benin\",\"Burkina Faso\",\"Bulgaria\",\"Bahrain\",\"Bahamas, The\",\"Bosnia and Herzegovina\",\"Belarus\",\"Belize\",\"Bermuda\",\"Bolivia\",\"Barbados\",\"Brunei Darussalam\",\"Bhutan\",\"Botswana\",\"Canada\",\"Switzerland\",\"Chile\",\"Cote d'Ivoire\",\"Cameroon\",\"Congo, Dem. Rep.\",\"Congo, Rep.\",\"Colombia\",\"Comoros\",\"Cabo Verde\",\"Costa Rica\",\"Cuba\",\"Curacao\",\"Cayman Islands\",\"Cyprus\",\"Czech Republic\",\"Germany\",\"Djibouti\",\"Dominica\",\"Denmark\",\"Dominican Republic\",\"Algeria\",\"Ecuador\",\"Egypt, Arab Rep.\",\"Eritrea\",\"Spain\",\"Estonia\",\"Ethiopia\",\"Finland\",\"Fiji\",\"France\",\"Faroe Islands\",\"Gabon\",\"United Kingdom\",\"Georgia\",\"Ghana\",\"Gibraltar\",\"Guinea\",\"Gambia, The\",\"Guinea-Bissau\",\"Greece\",\"Grenada\",\"Greenland\",\"Guatemala\",\"Guam\",\"Guyana\",\"Hong Kong SAR, China\",\"Honduras\",\"Croatia\",\"Haiti\",\"Hungary\",\"Ireland\",\"Iran, Islamic Rep.\",\"Iraq\",\"Iceland\",\"Israel\",\"Italy\",\"Jamaica\",\"Jordan\",\"Japan\",\"Kazakhstan\",\"Kenya\",\"Kyrgyz Republic\",\"Cambodia\",\"Kiribati\",\"St. Kitts and Nevis\",\"Korea, Rep.\",\"Kuwait\",\"Lao PDR\",\"Lebanon\",\"Liberia\",\"Libya\",\"St. Lucia\",\"Liechtenstein\",\"Sri Lanka\",\"Lesotho\",\"Lithuania\",\"Luxembourg\",\"Latvia\",\"Morocco\",\"Monaco\",\"Moldova\",\"Madagascar\",\"Maldives\",\"Mexico\",\"Marshall Islands\",\"North Macedonia\",\"Mali\",\"Malta\",\"Myanmar\",\"Montenegro\",\"Mongolia\",\"Northern Mariana Islands\",\"Mozambique\",\"Mauritania\",\"Mauritius\",\"Malawi\",\"Malaysia\",\"Namibia\",\"New Caledonia\",\"Niger\",\"Nicaragua\",\"Netherlands\",\"Norway\",\"Nepal\",\"Nauru\",\"New Zealand\",\"Oman\",\"Panama\",\"Peru\",\"Philippines\",\"Palau\",\"Papua New Guinea\",\"Poland\",\"Puerto Rico\",\"Korea, Dem. People's Rep.\",\"Portugal\",\"Paraguay\",\"French Polynesia\",\"Qatar\",\"Romania\",\"Rwanda\",\"Saudi Arabia\",\"Sudan\",\"Senegal\",\"Singapore\",\"Solomon Islands\",\"Sierra Leone\",\"El Salvador\",\"San Marino\",\"Somalia\",\"Serbia\",\"Sao Tome and Principe\",\"Suriname\",\"Slovak Republic\",\"Slovenia\",\"Sweden\",\"Eswatini\",\"Seychelles\",\"Syrian Arab Republic\",\"Turks and Caicos Islands\",\"Chad\",\"Togo\",\"Thailand\",\"Tajikistan\",\"Turkmenistan\",\"Tonga\",\"Trinidad and Tobago\",\"Tunisia\",\"Turkey\",\"Tuvalu\",\"Tanzania\",\"Uganda\",\"Ukraine\",\"Uruguay\",\"Uzbekistan\",\"St. Vincent and the Grenadines\",\"Venezuela, RB\",\"British Virgin Islands\",\"Virgin Islands (U.S.)\",\"Vietnam\",\"Vanuatu\",\"Samoa\",\"Kosovo\",\"Yemen, Rep.\",\"South Africa\",\"Zambia\",\"Zimbabwe\"],\"z\":[71.816,57.044,47.893,72.708,null,74.601,71.008,69.312,null,73.58,78.5,76.6,65.737,51.785,76.2,55.85,52.436,69.0,74.574,69.124,72.459,62.9,67.303,76.1,63.192,76.23,73.009,65.002,49.981,77.9,78.7,74.534,48.66,51.625,52.229,54.545,71.085,58.542,66.472,75.794,75.766,null,null,76.535,72.9,76.2,56.565,null,75.6,67.859,71.784,71.225,67.138,56.709,77.0,67.3,54.846,75.5,64.788,76.7,77.1,56.817,77.0,66.373,57.838,null,52.694,56.82,49.855,76.8,70.605,66.65,66.527,74.218,63.595,78.8,69.728,71.83,56.748,68.6,76.7,70.438,65.625,79.6,78.2,78.1,72.846,71.156,78.53,60.3,52.819,64.2,60.738,61.249,null,74.9,72.81,59.785,75.081,54.023,69.991,72.625,77.4,71.247,40.566,65.4,76.7,65.6,70.339,null,63.916,59.899,72.571,72.575,null,71.681,51.429,77.3,58.43,71.112,61.504,null,48.207,59.475,69.12,45.497,71.505,49.327,72.6,52.644,68.079,77.2,77.7,63.996,null,77.9,72.347,73.272,70.558,65.597,66.3,59.237,70.8,74.34,64.653,74.9,69.715,71.774,77.219,68.4,54.006,71.883,58.636,59.081,77.6,67.689,43.731,65.487,null,50.829,70.2,62.521,65.7,70.1,74.1,78.4,40.663,67.4,72.299,null,47.376,53.849,68.71,64.041,61.255,68.23,68.096,71.892,69.004,null,52.803,49.447,62.23,72.049,65.252,69.036,69.104,null,74.3,69.722,67.02,68.092,66.5,61.947,51.104,46.395,41.573],\"type\":\"choropleth\"}],                        {\"template\":{\"data\":{\"bar\":[{\"error_x\":{\"color\":\"#2a3f5f\"},\"error_y\":{\"color\":\"#2a3f5f\"},\"marker\":{\"line\":{\"color\":\"#E5ECF6\",\"width\":0.5},\"pattern\":{\"fillmode\":\"overlay\",\"size\":10,\"solidity\":0.2}},\"type\":\"bar\"}],\"barpolar\":[{\"marker\":{\"line\":{\"color\":\"#E5ECF6\",\"width\":0.5},\"pattern\":{\"fillmode\":\"overlay\",\"size\":10,\"solidity\":0.2}},\"type\":\"barpolar\"}],\"carpet\":[{\"aaxis\":{\"endlinecolor\":\"#2a3f5f\",\"gridcolor\":\"white\",\"linecolor\":\"white\",\"minorgridcolor\":\"white\",\"startlinecolor\":\"#2a3f5f\"},\"baxis\":{\"endlinecolor\":\"#2a3f5f\",\"gridcolor\":\"white\",\"linecolor\":\"white\",\"minorgridcolor\":\"white\",\"startlinecolor\":\"#2a3f5f\"},\"type\":\"carpet\"}],\"choropleth\":[{\"colorbar\":{\"outlinewidth\":0,\"ticks\":\"\"},\"type\":\"choropleth\"}],\"contour\":[{\"colorbar\":{\"outlinewidth\":0,\"ticks\":\"\"},\"colorscale\":[[0.0,\"#0d0887\"],[0.1111111111111111,\"#46039f\"],[0.2222222222222222,\"#7201a8\"],[0.3333333333333333,\"#9c179e\"],[0.4444444444444444,\"#bd3786\"],[0.5555555555555556,\"#d8576b\"],[0.6666666666666666,\"#ed7953\"],[0.7777777777777778,\"#fb9f3a\"],[0.8888888888888888,\"#fdca26\"],[1.0,\"#f0f921\"]],\"type\":\"contour\"}],\"contourcarpet\":[{\"colorbar\":{\"outlinewidth\":0,\"ticks\":\"\"},\"type\":\"contourcarpet\"}],\"heatmap\":[{\"colorbar\":{\"outlinewidth\":0,\"ticks\":\"\"},\"colorscale\":[[0.0,\"#0d0887\"],[0.1111111111111111,\"#46039f\"],[0.2222222222222222,\"#7201a8\"],[0.3333333333333333,\"#9c179e\"],[0.4444444444444444,\"#bd3786\"],[0.5555555555555556,\"#d8576b\"],[0.6666666666666666,\"#ed7953\"],[0.7777777777777778,\"#fb9f3a\"],[0.8888888888888888,\"#fdca26\"],[1.0,\"#f0f921\"]],\"type\":\"heatmap\"}],\"heatmapgl\":[{\"colorbar\":{\"outlinewidth\":0,\"ticks\":\"\"},\"colorscale\":[[0.0,\"#0d0887\"],[0.1111111111111111,\"#46039f\"],[0.2222222222222222,\"#7201a8\"],[0.3333333333333333,\"#9c179e\"],[0.4444444444444444,\"#bd3786\"],[0.5555555555555556,\"#d8576b\"],[0.6666666666666666,\"#ed7953\"],[0.7777777777777778,\"#fb9f3a\"],[0.8888888888888888,\"#fdca26\"],[1.0,\"#f0f921\"]],\"type\":\"heatmapgl\"}],\"histogram\":[{\"marker\":{\"pattern\":{\"fillmode\":\"overlay\",\"size\":10,\"solidity\":0.2}},\"type\":\"histogram\"}],\"histogram2d\":[{\"colorbar\":{\"outlinewidth\":0,\"ticks\":\"\"},\"colorscale\":[[0.0,\"#0d0887\"],[0.1111111111111111,\"#46039f\"],[0.2222222222222222,\"#7201a8\"],[0.3333333333333333,\"#9c179e\"],[0.4444444444444444,\"#bd3786\"],[0.5555555555555556,\"#d8576b\"],[0.6666666666666666,\"#ed7953\"],[0.7777777777777778,\"#fb9f3a\"],[0.8888888888888888,\"#fdca26\"],[1.0,\"#f0f921\"]],\"type\":\"histogram2d\"}],\"histogram2dcontour\":[{\"colorbar\":{\"outlinewidth\":0,\"ticks\":\"\"},\"colorscale\":[[0.0,\"#0d0887\"],[0.1111111111111111,\"#46039f\"],[0.2222222222222222,\"#7201a8\"],[0.3333333333333333,\"#9c179e\"],[0.4444444444444444,\"#bd3786\"],[0.5555555555555556,\"#d8576b\"],[0.6666666666666666,\"#ed7953\"],[0.7777777777777778,\"#fb9f3a\"],[0.8888888888888888,\"#fdca26\"],[1.0,\"#f0f921\"]],\"type\":\"histogram2dcontour\"}],\"mesh3d\":[{\"colorbar\":{\"outlinewidth\":0,\"ticks\":\"\"},\"type\":\"mesh3d\"}],\"parcoords\":[{\"line\":{\"colorbar\":{\"outlinewidth\":0,\"ticks\":\"\"}},\"type\":\"parcoords\"}],\"pie\":[{\"automargin\":true,\"type\":\"pie\"}],\"scatter\":[{\"marker\":{\"colorbar\":{\"outlinewidth\":0,\"ticks\":\"\"}},\"type\":\"scatter\"}],\"scatter3d\":[{\"line\":{\"colorbar\":{\"outlinewidth\":0,\"ticks\":\"\"}},\"marker\":{\"colorbar\":{\"outlinewidth\":0,\"ticks\":\"\"}},\"type\":\"scatter3d\"}],\"scattercarpet\":[{\"marker\":{\"colorbar\":{\"outlinewidth\":0,\"ticks\":\"\"}},\"type\":\"scattercarpet\"}],\"scattergeo\":[{\"marker\":{\"colorbar\":{\"outlinewidth\":0,\"ticks\":\"\"}},\"type\":\"scattergeo\"}],\"scattergl\":[{\"marker\":{\"colorbar\":{\"outlinewidth\":0,\"ticks\":\"\"}},\"type\":\"scattergl\"}],\"scattermapbox\":[{\"marker\":{\"colorbar\":{\"outlinewidth\":0,\"ticks\":\"\"}},\"type\":\"scattermapbox\"}],\"scatterpolar\":[{\"marker\":{\"colorbar\":{\"outlinewidth\":0,\"ticks\":\"\"}},\"type\":\"scatterpolar\"}],\"scatterpolargl\":[{\"marker\":{\"colorbar\":{\"outlinewidth\":0,\"ticks\":\"\"}},\"type\":\"scatterpolargl\"}],\"scatterternary\":[{\"marker\":{\"colorbar\":{\"outlinewidth\":0,\"ticks\":\"\"}},\"type\":\"scatterternary\"}],\"surface\":[{\"colorbar\":{\"outlinewidth\":0,\"ticks\":\"\"},\"colorscale\":[[0.0,\"#0d0887\"],[0.1111111111111111,\"#46039f\"],[0.2222222222222222,\"#7201a8\"],[0.3333333333333333,\"#9c179e\"],[0.4444444444444444,\"#bd3786\"],[0.5555555555555556,\"#d8576b\"],[0.6666666666666666,\"#ed7953\"],[0.7777777777777778,\"#fb9f3a\"],[0.8888888888888888,\"#fdca26\"],[1.0,\"#f0f921\"]],\"type\":\"surface\"}],\"table\":[{\"cells\":{\"fill\":{\"color\":\"#EBF0F8\"},\"line\":{\"color\":\"white\"}},\"header\":{\"fill\":{\"color\":\"#C8D4E3\"},\"line\":{\"color\":\"white\"}},\"type\":\"table\"}]},\"layout\":{\"annotationdefaults\":{\"arrowcolor\":\"#2a3f5f\",\"arrowhead\":0,\"arrowwidth\":1},\"autotypenumbers\":\"strict\",\"coloraxis\":{\"colorbar\":{\"outlinewidth\":0,\"ticks\":\"\"}},\"colorscale\":{\"diverging\":[[0,\"#8e0152\"],[0.1,\"#c51b7d\"],[0.2,\"#de77ae\"],[0.3,\"#f1b6da\"],[0.4,\"#fde0ef\"],[0.5,\"#f7f7f7\"],[0.6,\"#e6f5d0\"],[0.7,\"#b8e186\"],[0.8,\"#7fbc41\"],[0.9,\"#4d9221\"],[1,\"#276419\"]],\"sequential\":[[0.0,\"#0d0887\"],[0.1111111111111111,\"#46039f\"],[0.2222222222222222,\"#7201a8\"],[0.3333333333333333,\"#9c179e\"],[0.4444444444444444,\"#bd3786\"],[0.5555555555555556,\"#d8576b\"],[0.6666666666666666,\"#ed7953\"],[0.7777777777777778,\"#fb9f3a\"],[0.8888888888888888,\"#fdca26\"],[1.0,\"#f0f921\"]],\"sequentialminus\":[[0.0,\"#0d0887\"],[0.1111111111111111,\"#46039f\"],[0.2222222222222222,\"#7201a8\"],[0.3333333333333333,\"#9c179e\"],[0.4444444444444444,\"#bd3786\"],[0.5555555555555556,\"#d8576b\"],[0.6666666666666666,\"#ed7953\"],[0.7777777777777778,\"#fb9f3a\"],[0.8888888888888888,\"#fdca26\"],[1.0,\"#f0f921\"]]},\"colorway\":[\"#636efa\",\"#EF553B\",\"#00cc96\",\"#ab63fa\",\"#FFA15A\",\"#19d3f3\",\"#FF6692\",\"#B6E880\",\"#FF97FF\",\"#FECB52\"],\"font\":{\"color\":\"#2a3f5f\"},\"geo\":{\"bgcolor\":\"white\",\"lakecolor\":\"white\",\"landcolor\":\"#E5ECF6\",\"showlakes\":true,\"showland\":true,\"subunitcolor\":\"white\"},\"hoverlabel\":{\"align\":\"left\"},\"hovermode\":\"closest\",\"mapbox\":{\"style\":\"light\"},\"paper_bgcolor\":\"white\",\"plot_bgcolor\":\"#E5ECF6\",\"polar\":{\"angularaxis\":{\"gridcolor\":\"white\",\"linecolor\":\"white\",\"ticks\":\"\"},\"bgcolor\":\"#E5ECF6\",\"radialaxis\":{\"gridcolor\":\"white\",\"linecolor\":\"white\",\"ticks\":\"\"}},\"scene\":{\"xaxis\":{\"backgroundcolor\":\"#E5ECF6\",\"gridcolor\":\"white\",\"gridwidth\":2,\"linecolor\":\"white\",\"showbackground\":true,\"ticks\":\"\",\"zerolinecolor\":\"white\"},\"yaxis\":{\"backgroundcolor\":\"#E5ECF6\",\"gridcolor\":\"white\",\"gridwidth\":2,\"linecolor\":\"white\",\"showbackground\":true,\"ticks\":\"\",\"zerolinecolor\":\"white\"},\"zaxis\":{\"backgroundcolor\":\"#E5ECF6\",\"gridcolor\":\"white\",\"gridwidth\":2,\"linecolor\":\"white\",\"showbackground\":true,\"ticks\":\"\",\"zerolinecolor\":\"white\"}},\"shapedefaults\":{\"line\":{\"color\":\"#2a3f5f\"}},\"ternary\":{\"aaxis\":{\"gridcolor\":\"white\",\"linecolor\":\"white\",\"ticks\":\"\"},\"baxis\":{\"gridcolor\":\"white\",\"linecolor\":\"white\",\"ticks\":\"\"},\"bgcolor\":\"#E5ECF6\",\"caxis\":{\"gridcolor\":\"white\",\"linecolor\":\"white\",\"ticks\":\"\"}},\"title\":{\"x\":0.05},\"xaxis\":{\"automargin\":true,\"gridcolor\":\"white\",\"linecolor\":\"white\",\"ticks\":\"\",\"title\":{\"standoff\":15},\"zerolinecolor\":\"white\",\"zerolinewidth\":2},\"yaxis\":{\"automargin\":true,\"gridcolor\":\"white\",\"linecolor\":\"white\",\"ticks\":\"\",\"title\":{\"standoff\":15},\"zerolinecolor\":\"white\",\"zerolinewidth\":2}}},\"title\":{\"text\":\"Life Expectancy 2005, Countries where population <138865014\"},\"geo\":{\"projection\":{\"type\":\"equirectangular\"},\"showframe\":false,\"showcoastlines\":false},\"annotations\":[{\"showarrow\":false,\"x\":0.55,\"xref\":\"paper\",\"y\":0.1,\"yref\":\"paper\"}]},                        {\"responsive\": true}                    ).then(function(){\n",
       "                            \n",
       "var gd = document.getElementById('1a8a558b-cc1e-4008-9d5d-43c1dd98185d');\n",
       "var x = new MutationObserver(function (mutations, observer) {{\n",
       "        var display = window.getComputedStyle(gd).display;\n",
       "        if (!display || display === 'none') {{\n",
       "            console.log([gd, 'removed!']);\n",
       "            Plotly.purge(gd);\n",
       "            observer.disconnect();\n",
       "        }}\n",
       "}});\n",
       "\n",
       "// Listen for the removal of the full notebook cells\n",
       "var notebookContainer = gd.closest('#notebook-container');\n",
       "if (notebookContainer) {{\n",
       "    x.observe(notebookContainer, {childList: true});\n",
       "}}\n",
       "\n",
       "// Listen for the clearing of the current output cell\n",
       "var outputEl = gd.closest('.output');\n",
       "if (outputEl) {{\n",
       "    x.observe(outputEl, {childList: true});\n",
       "}}\n",
       "\n",
       "                        })                };                });            </script>        </div>"
      ]
     },
     "metadata": {},
     "output_type": "display_data"
    }
   ],
   "source": [
    "'''\n",
    "TASK 1.2.1:\n",
    "          For year 2005, plot the life expectancy for only the countries having population less than 138865014.\n",
    "'''\n",
    "##Extract countries that has population less than 138865014 for the year 2005.\n",
    "##For the extracted countries generate a choropleth plot of life expectancy average for year 2005\n",
    "df_1 = df.loc[df['Population_2005'] < 138865014][['Country Name', 'Country Code', 'Life_expectancy_2005']].copy()\n",
    "\n",
    "fig = go.Figure(data=go.Choropleth(\n",
    "    locations = df_1['Country Code'],\n",
    "    z = df_1['Life_expectancy_2005'],\n",
    "    text = df_1['Country Name'],\n",
    "    colorscale = 'Reds',\n",
    "    autocolorscale=False,\n",
    "    reversescale=True,\n",
    "    marker_line_color='darkgray',\n",
    "    marker_line_width=0.5,\n",
    "    colorbar_tickprefix = '',\n",
    "    colorbar_title = 'Life Expectancy Average',\n",
    "))\n",
    "fig.update_layout(\n",
    "    title_text='Life Expectancy 2005, Countries where population <138865014',\n",
    "    geo=dict(\n",
    "        showframe=False,\n",
    "        showcoastlines=False,\n",
    "        projection_type='equirectangular'\n",
    "    ),\n",
    "    annotations = [dict(\n",
    "        x=0.55,\n",
    "        y=0.1,\n",
    "        xref='paper',\n",
    "        yref='paper',\n",
    "        showarrow = False\n",
    "    )]\n",
    ")\n",
    "###THe countries with population less than 138865014 are plotted.\n",
    "### Example -Spain,Portugal,Australia, Canada Etc (All these countries have population less than this limit )\n",
    "### The countries that have greater population than this limit are in bluegrey color"
   ]
  },
  {
   "cell_type": "code",
   "execution_count": 25,
   "metadata": {
    "colab": {
     "base_uri": "https://localhost:8080/",
     "height": 542
    },
    "id": "2xBbu6GPdYhi",
    "outputId": "579af9e4-1a90-4f96-ac98-7725d5fde428"
   },
   "outputs": [
    {
     "data": {
      "application/vnd.plotly.v1+json": {
       "config": {
        "plotlyServerURL": "https://plot.ly"
       },
       "data": [
        {
         "autocolorscale": false,
         "colorbar": {
          "tickprefix": "",
          "title": {
           "text": "Life Expectancy Average"
          }
         },
         "colorscale": [
          [
           0,
           "rgb(247,252,245)"
          ],
          [
           0.125,
           "rgb(229,245,224)"
          ],
          [
           0.25,
           "rgb(199,233,192)"
          ],
          [
           0.375,
           "rgb(161,217,155)"
          ],
          [
           0.5,
           "rgb(116,196,118)"
          ],
          [
           0.625,
           "rgb(65,171,93)"
          ],
          [
           0.75,
           "rgb(35,139,69)"
          ],
          [
           0.875,
           "rgb(0,109,44)"
          ],
          [
           1,
           "rgb(0,68,27)"
          ]
         ],
         "locations": [
          "CHN",
          "IND"
         ],
         "marker": {
          "line": {
           "color": "darkgray",
           "width": 0.5
          }
         },
         "reversescale": true,
         "text": [
          "China",
          "India"
         ],
         "type": "choropleth",
         "z": [
          71.297,
          63.689
         ]
        }
       ],
       "layout": {
        "annotations": [
         {
          "showarrow": false,
          "x": 0.55,
          "xref": "paper",
          "y": 0.1,
          "yref": "paper"
         }
        ],
        "geo": {
         "projection": {
          "type": "equirectangular"
         },
         "showcoastlines": false,
         "showframe": false
        },
        "template": {
         "data": {
          "bar": [
           {
            "error_x": {
             "color": "#2a3f5f"
            },
            "error_y": {
             "color": "#2a3f5f"
            },
            "marker": {
             "line": {
              "color": "#E5ECF6",
              "width": 0.5
             },
             "pattern": {
              "fillmode": "overlay",
              "size": 10,
              "solidity": 0.2
             }
            },
            "type": "bar"
           }
          ],
          "barpolar": [
           {
            "marker": {
             "line": {
              "color": "#E5ECF6",
              "width": 0.5
             },
             "pattern": {
              "fillmode": "overlay",
              "size": 10,
              "solidity": 0.2
             }
            },
            "type": "barpolar"
           }
          ],
          "carpet": [
           {
            "aaxis": {
             "endlinecolor": "#2a3f5f",
             "gridcolor": "white",
             "linecolor": "white",
             "minorgridcolor": "white",
             "startlinecolor": "#2a3f5f"
            },
            "baxis": {
             "endlinecolor": "#2a3f5f",
             "gridcolor": "white",
             "linecolor": "white",
             "minorgridcolor": "white",
             "startlinecolor": "#2a3f5f"
            },
            "type": "carpet"
           }
          ],
          "choropleth": [
           {
            "colorbar": {
             "outlinewidth": 0,
             "ticks": ""
            },
            "type": "choropleth"
           }
          ],
          "contour": [
           {
            "colorbar": {
             "outlinewidth": 0,
             "ticks": ""
            },
            "colorscale": [
             [
              0,
              "#0d0887"
             ],
             [
              0.1111111111111111,
              "#46039f"
             ],
             [
              0.2222222222222222,
              "#7201a8"
             ],
             [
              0.3333333333333333,
              "#9c179e"
             ],
             [
              0.4444444444444444,
              "#bd3786"
             ],
             [
              0.5555555555555556,
              "#d8576b"
             ],
             [
              0.6666666666666666,
              "#ed7953"
             ],
             [
              0.7777777777777778,
              "#fb9f3a"
             ],
             [
              0.8888888888888888,
              "#fdca26"
             ],
             [
              1,
              "#f0f921"
             ]
            ],
            "type": "contour"
           }
          ],
          "contourcarpet": [
           {
            "colorbar": {
             "outlinewidth": 0,
             "ticks": ""
            },
            "type": "contourcarpet"
           }
          ],
          "heatmap": [
           {
            "colorbar": {
             "outlinewidth": 0,
             "ticks": ""
            },
            "colorscale": [
             [
              0,
              "#0d0887"
             ],
             [
              0.1111111111111111,
              "#46039f"
             ],
             [
              0.2222222222222222,
              "#7201a8"
             ],
             [
              0.3333333333333333,
              "#9c179e"
             ],
             [
              0.4444444444444444,
              "#bd3786"
             ],
             [
              0.5555555555555556,
              "#d8576b"
             ],
             [
              0.6666666666666666,
              "#ed7953"
             ],
             [
              0.7777777777777778,
              "#fb9f3a"
             ],
             [
              0.8888888888888888,
              "#fdca26"
             ],
             [
              1,
              "#f0f921"
             ]
            ],
            "type": "heatmap"
           }
          ],
          "heatmapgl": [
           {
            "colorbar": {
             "outlinewidth": 0,
             "ticks": ""
            },
            "colorscale": [
             [
              0,
              "#0d0887"
             ],
             [
              0.1111111111111111,
              "#46039f"
             ],
             [
              0.2222222222222222,
              "#7201a8"
             ],
             [
              0.3333333333333333,
              "#9c179e"
             ],
             [
              0.4444444444444444,
              "#bd3786"
             ],
             [
              0.5555555555555556,
              "#d8576b"
             ],
             [
              0.6666666666666666,
              "#ed7953"
             ],
             [
              0.7777777777777778,
              "#fb9f3a"
             ],
             [
              0.8888888888888888,
              "#fdca26"
             ],
             [
              1,
              "#f0f921"
             ]
            ],
            "type": "heatmapgl"
           }
          ],
          "histogram": [
           {
            "marker": {
             "pattern": {
              "fillmode": "overlay",
              "size": 10,
              "solidity": 0.2
             }
            },
            "type": "histogram"
           }
          ],
          "histogram2d": [
           {
            "colorbar": {
             "outlinewidth": 0,
             "ticks": ""
            },
            "colorscale": [
             [
              0,
              "#0d0887"
             ],
             [
              0.1111111111111111,
              "#46039f"
             ],
             [
              0.2222222222222222,
              "#7201a8"
             ],
             [
              0.3333333333333333,
              "#9c179e"
             ],
             [
              0.4444444444444444,
              "#bd3786"
             ],
             [
              0.5555555555555556,
              "#d8576b"
             ],
             [
              0.6666666666666666,
              "#ed7953"
             ],
             [
              0.7777777777777778,
              "#fb9f3a"
             ],
             [
              0.8888888888888888,
              "#fdca26"
             ],
             [
              1,
              "#f0f921"
             ]
            ],
            "type": "histogram2d"
           }
          ],
          "histogram2dcontour": [
           {
            "colorbar": {
             "outlinewidth": 0,
             "ticks": ""
            },
            "colorscale": [
             [
              0,
              "#0d0887"
             ],
             [
              0.1111111111111111,
              "#46039f"
             ],
             [
              0.2222222222222222,
              "#7201a8"
             ],
             [
              0.3333333333333333,
              "#9c179e"
             ],
             [
              0.4444444444444444,
              "#bd3786"
             ],
             [
              0.5555555555555556,
              "#d8576b"
             ],
             [
              0.6666666666666666,
              "#ed7953"
             ],
             [
              0.7777777777777778,
              "#fb9f3a"
             ],
             [
              0.8888888888888888,
              "#fdca26"
             ],
             [
              1,
              "#f0f921"
             ]
            ],
            "type": "histogram2dcontour"
           }
          ],
          "mesh3d": [
           {
            "colorbar": {
             "outlinewidth": 0,
             "ticks": ""
            },
            "type": "mesh3d"
           }
          ],
          "parcoords": [
           {
            "line": {
             "colorbar": {
              "outlinewidth": 0,
              "ticks": ""
             }
            },
            "type": "parcoords"
           }
          ],
          "pie": [
           {
            "automargin": true,
            "type": "pie"
           }
          ],
          "scatter": [
           {
            "marker": {
             "colorbar": {
              "outlinewidth": 0,
              "ticks": ""
             }
            },
            "type": "scatter"
           }
          ],
          "scatter3d": [
           {
            "line": {
             "colorbar": {
              "outlinewidth": 0,
              "ticks": ""
             }
            },
            "marker": {
             "colorbar": {
              "outlinewidth": 0,
              "ticks": ""
             }
            },
            "type": "scatter3d"
           }
          ],
          "scattercarpet": [
           {
            "marker": {
             "colorbar": {
              "outlinewidth": 0,
              "ticks": ""
             }
            },
            "type": "scattercarpet"
           }
          ],
          "scattergeo": [
           {
            "marker": {
             "colorbar": {
              "outlinewidth": 0,
              "ticks": ""
             }
            },
            "type": "scattergeo"
           }
          ],
          "scattergl": [
           {
            "marker": {
             "colorbar": {
              "outlinewidth": 0,
              "ticks": ""
             }
            },
            "type": "scattergl"
           }
          ],
          "scattermapbox": [
           {
            "marker": {
             "colorbar": {
              "outlinewidth": 0,
              "ticks": ""
             }
            },
            "type": "scattermapbox"
           }
          ],
          "scatterpolar": [
           {
            "marker": {
             "colorbar": {
              "outlinewidth": 0,
              "ticks": ""
             }
            },
            "type": "scatterpolar"
           }
          ],
          "scatterpolargl": [
           {
            "marker": {
             "colorbar": {
              "outlinewidth": 0,
              "ticks": ""
             }
            },
            "type": "scatterpolargl"
           }
          ],
          "scatterternary": [
           {
            "marker": {
             "colorbar": {
              "outlinewidth": 0,
              "ticks": ""
             }
            },
            "type": "scatterternary"
           }
          ],
          "surface": [
           {
            "colorbar": {
             "outlinewidth": 0,
             "ticks": ""
            },
            "colorscale": [
             [
              0,
              "#0d0887"
             ],
             [
              0.1111111111111111,
              "#46039f"
             ],
             [
              0.2222222222222222,
              "#7201a8"
             ],
             [
              0.3333333333333333,
              "#9c179e"
             ],
             [
              0.4444444444444444,
              "#bd3786"
             ],
             [
              0.5555555555555556,
              "#d8576b"
             ],
             [
              0.6666666666666666,
              "#ed7953"
             ],
             [
              0.7777777777777778,
              "#fb9f3a"
             ],
             [
              0.8888888888888888,
              "#fdca26"
             ],
             [
              1,
              "#f0f921"
             ]
            ],
            "type": "surface"
           }
          ],
          "table": [
           {
            "cells": {
             "fill": {
              "color": "#EBF0F8"
             },
             "line": {
              "color": "white"
             }
            },
            "header": {
             "fill": {
              "color": "#C8D4E3"
             },
             "line": {
              "color": "white"
             }
            },
            "type": "table"
           }
          ]
         },
         "layout": {
          "annotationdefaults": {
           "arrowcolor": "#2a3f5f",
           "arrowhead": 0,
           "arrowwidth": 1
          },
          "autotypenumbers": "strict",
          "coloraxis": {
           "colorbar": {
            "outlinewidth": 0,
            "ticks": ""
           }
          },
          "colorscale": {
           "diverging": [
            [
             0,
             "#8e0152"
            ],
            [
             0.1,
             "#c51b7d"
            ],
            [
             0.2,
             "#de77ae"
            ],
            [
             0.3,
             "#f1b6da"
            ],
            [
             0.4,
             "#fde0ef"
            ],
            [
             0.5,
             "#f7f7f7"
            ],
            [
             0.6,
             "#e6f5d0"
            ],
            [
             0.7,
             "#b8e186"
            ],
            [
             0.8,
             "#7fbc41"
            ],
            [
             0.9,
             "#4d9221"
            ],
            [
             1,
             "#276419"
            ]
           ],
           "sequential": [
            [
             0,
             "#0d0887"
            ],
            [
             0.1111111111111111,
             "#46039f"
            ],
            [
             0.2222222222222222,
             "#7201a8"
            ],
            [
             0.3333333333333333,
             "#9c179e"
            ],
            [
             0.4444444444444444,
             "#bd3786"
            ],
            [
             0.5555555555555556,
             "#d8576b"
            ],
            [
             0.6666666666666666,
             "#ed7953"
            ],
            [
             0.7777777777777778,
             "#fb9f3a"
            ],
            [
             0.8888888888888888,
             "#fdca26"
            ],
            [
             1,
             "#f0f921"
            ]
           ],
           "sequentialminus": [
            [
             0,
             "#0d0887"
            ],
            [
             0.1111111111111111,
             "#46039f"
            ],
            [
             0.2222222222222222,
             "#7201a8"
            ],
            [
             0.3333333333333333,
             "#9c179e"
            ],
            [
             0.4444444444444444,
             "#bd3786"
            ],
            [
             0.5555555555555556,
             "#d8576b"
            ],
            [
             0.6666666666666666,
             "#ed7953"
            ],
            [
             0.7777777777777778,
             "#fb9f3a"
            ],
            [
             0.8888888888888888,
             "#fdca26"
            ],
            [
             1,
             "#f0f921"
            ]
           ]
          },
          "colorway": [
           "#636efa",
           "#EF553B",
           "#00cc96",
           "#ab63fa",
           "#FFA15A",
           "#19d3f3",
           "#FF6692",
           "#B6E880",
           "#FF97FF",
           "#FECB52"
          ],
          "font": {
           "color": "#2a3f5f"
          },
          "geo": {
           "bgcolor": "white",
           "lakecolor": "white",
           "landcolor": "#E5ECF6",
           "showlakes": true,
           "showland": true,
           "subunitcolor": "white"
          },
          "hoverlabel": {
           "align": "left"
          },
          "hovermode": "closest",
          "mapbox": {
           "style": "light"
          },
          "paper_bgcolor": "white",
          "plot_bgcolor": "#E5ECF6",
          "polar": {
           "angularaxis": {
            "gridcolor": "white",
            "linecolor": "white",
            "ticks": ""
           },
           "bgcolor": "#E5ECF6",
           "radialaxis": {
            "gridcolor": "white",
            "linecolor": "white",
            "ticks": ""
           }
          },
          "scene": {
           "xaxis": {
            "backgroundcolor": "#E5ECF6",
            "gridcolor": "white",
            "gridwidth": 2,
            "linecolor": "white",
            "showbackground": true,
            "ticks": "",
            "zerolinecolor": "white"
           },
           "yaxis": {
            "backgroundcolor": "#E5ECF6",
            "gridcolor": "white",
            "gridwidth": 2,
            "linecolor": "white",
            "showbackground": true,
            "ticks": "",
            "zerolinecolor": "white"
           },
           "zaxis": {
            "backgroundcolor": "#E5ECF6",
            "gridcolor": "white",
            "gridwidth": 2,
            "linecolor": "white",
            "showbackground": true,
            "ticks": "",
            "zerolinecolor": "white"
           }
          },
          "shapedefaults": {
           "line": {
            "color": "#2a3f5f"
           }
          },
          "ternary": {
           "aaxis": {
            "gridcolor": "white",
            "linecolor": "white",
            "ticks": ""
           },
           "baxis": {
            "gridcolor": "white",
            "linecolor": "white",
            "ticks": ""
           },
           "bgcolor": "#E5ECF6",
           "caxis": {
            "gridcolor": "white",
            "linecolor": "white",
            "ticks": ""
           }
          },
          "title": {
           "x": 0.05
          },
          "xaxis": {
           "automargin": true,
           "gridcolor": "white",
           "linecolor": "white",
           "ticks": "",
           "title": {
            "standoff": 15
           },
           "zerolinecolor": "white",
           "zerolinewidth": 2
          },
          "yaxis": {
           "automargin": true,
           "gridcolor": "white",
           "linecolor": "white",
           "ticks": "",
           "title": {
            "standoff": 15
           },
           "zerolinecolor": "white",
           "zerolinewidth": 2
          }
         }
        },
        "title": {
         "text": "Life Expectancy 2005, Countries where population >295516599"
        }
       }
      },
      "text/html": [
       "<div>                            <div id=\"f2642575-9f43-472f-94de-f38f020ad5da\" class=\"plotly-graph-div\" style=\"height:525px; width:100%;\"></div>            <script type=\"text/javascript\">                require([\"plotly\"], function(Plotly) {                    window.PLOTLYENV=window.PLOTLYENV || {};                                    if (document.getElementById(\"f2642575-9f43-472f-94de-f38f020ad5da\")) {                    Plotly.newPlot(                        \"f2642575-9f43-472f-94de-f38f020ad5da\",                        [{\"autocolorscale\":false,\"colorbar\":{\"tickprefix\":\"\",\"title\":{\"text\":\"Life Expectancy Average\"}},\"colorscale\":[[0.0,\"rgb(247,252,245)\"],[0.125,\"rgb(229,245,224)\"],[0.25,\"rgb(199,233,192)\"],[0.375,\"rgb(161,217,155)\"],[0.5,\"rgb(116,196,118)\"],[0.625,\"rgb(65,171,93)\"],[0.75,\"rgb(35,139,69)\"],[0.875,\"rgb(0,109,44)\"],[1.0,\"rgb(0,68,27)\"]],\"locations\":[\"CHN\",\"IND\"],\"marker\":{\"line\":{\"color\":\"darkgray\",\"width\":0.5}},\"reversescale\":true,\"text\":[\"China\",\"India\"],\"z\":[71.297,63.689],\"type\":\"choropleth\"}],                        {\"template\":{\"data\":{\"bar\":[{\"error_x\":{\"color\":\"#2a3f5f\"},\"error_y\":{\"color\":\"#2a3f5f\"},\"marker\":{\"line\":{\"color\":\"#E5ECF6\",\"width\":0.5},\"pattern\":{\"fillmode\":\"overlay\",\"size\":10,\"solidity\":0.2}},\"type\":\"bar\"}],\"barpolar\":[{\"marker\":{\"line\":{\"color\":\"#E5ECF6\",\"width\":0.5},\"pattern\":{\"fillmode\":\"overlay\",\"size\":10,\"solidity\":0.2}},\"type\":\"barpolar\"}],\"carpet\":[{\"aaxis\":{\"endlinecolor\":\"#2a3f5f\",\"gridcolor\":\"white\",\"linecolor\":\"white\",\"minorgridcolor\":\"white\",\"startlinecolor\":\"#2a3f5f\"},\"baxis\":{\"endlinecolor\":\"#2a3f5f\",\"gridcolor\":\"white\",\"linecolor\":\"white\",\"minorgridcolor\":\"white\",\"startlinecolor\":\"#2a3f5f\"},\"type\":\"carpet\"}],\"choropleth\":[{\"colorbar\":{\"outlinewidth\":0,\"ticks\":\"\"},\"type\":\"choropleth\"}],\"contour\":[{\"colorbar\":{\"outlinewidth\":0,\"ticks\":\"\"},\"colorscale\":[[0.0,\"#0d0887\"],[0.1111111111111111,\"#46039f\"],[0.2222222222222222,\"#7201a8\"],[0.3333333333333333,\"#9c179e\"],[0.4444444444444444,\"#bd3786\"],[0.5555555555555556,\"#d8576b\"],[0.6666666666666666,\"#ed7953\"],[0.7777777777777778,\"#fb9f3a\"],[0.8888888888888888,\"#fdca26\"],[1.0,\"#f0f921\"]],\"type\":\"contour\"}],\"contourcarpet\":[{\"colorbar\":{\"outlinewidth\":0,\"ticks\":\"\"},\"type\":\"contourcarpet\"}],\"heatmap\":[{\"colorbar\":{\"outlinewidth\":0,\"ticks\":\"\"},\"colorscale\":[[0.0,\"#0d0887\"],[0.1111111111111111,\"#46039f\"],[0.2222222222222222,\"#7201a8\"],[0.3333333333333333,\"#9c179e\"],[0.4444444444444444,\"#bd3786\"],[0.5555555555555556,\"#d8576b\"],[0.6666666666666666,\"#ed7953\"],[0.7777777777777778,\"#fb9f3a\"],[0.8888888888888888,\"#fdca26\"],[1.0,\"#f0f921\"]],\"type\":\"heatmap\"}],\"heatmapgl\":[{\"colorbar\":{\"outlinewidth\":0,\"ticks\":\"\"},\"colorscale\":[[0.0,\"#0d0887\"],[0.1111111111111111,\"#46039f\"],[0.2222222222222222,\"#7201a8\"],[0.3333333333333333,\"#9c179e\"],[0.4444444444444444,\"#bd3786\"],[0.5555555555555556,\"#d8576b\"],[0.6666666666666666,\"#ed7953\"],[0.7777777777777778,\"#fb9f3a\"],[0.8888888888888888,\"#fdca26\"],[1.0,\"#f0f921\"]],\"type\":\"heatmapgl\"}],\"histogram\":[{\"marker\":{\"pattern\":{\"fillmode\":\"overlay\",\"size\":10,\"solidity\":0.2}},\"type\":\"histogram\"}],\"histogram2d\":[{\"colorbar\":{\"outlinewidth\":0,\"ticks\":\"\"},\"colorscale\":[[0.0,\"#0d0887\"],[0.1111111111111111,\"#46039f\"],[0.2222222222222222,\"#7201a8\"],[0.3333333333333333,\"#9c179e\"],[0.4444444444444444,\"#bd3786\"],[0.5555555555555556,\"#d8576b\"],[0.6666666666666666,\"#ed7953\"],[0.7777777777777778,\"#fb9f3a\"],[0.8888888888888888,\"#fdca26\"],[1.0,\"#f0f921\"]],\"type\":\"histogram2d\"}],\"histogram2dcontour\":[{\"colorbar\":{\"outlinewidth\":0,\"ticks\":\"\"},\"colorscale\":[[0.0,\"#0d0887\"],[0.1111111111111111,\"#46039f\"],[0.2222222222222222,\"#7201a8\"],[0.3333333333333333,\"#9c179e\"],[0.4444444444444444,\"#bd3786\"],[0.5555555555555556,\"#d8576b\"],[0.6666666666666666,\"#ed7953\"],[0.7777777777777778,\"#fb9f3a\"],[0.8888888888888888,\"#fdca26\"],[1.0,\"#f0f921\"]],\"type\":\"histogram2dcontour\"}],\"mesh3d\":[{\"colorbar\":{\"outlinewidth\":0,\"ticks\":\"\"},\"type\":\"mesh3d\"}],\"parcoords\":[{\"line\":{\"colorbar\":{\"outlinewidth\":0,\"ticks\":\"\"}},\"type\":\"parcoords\"}],\"pie\":[{\"automargin\":true,\"type\":\"pie\"}],\"scatter\":[{\"marker\":{\"colorbar\":{\"outlinewidth\":0,\"ticks\":\"\"}},\"type\":\"scatter\"}],\"scatter3d\":[{\"line\":{\"colorbar\":{\"outlinewidth\":0,\"ticks\":\"\"}},\"marker\":{\"colorbar\":{\"outlinewidth\":0,\"ticks\":\"\"}},\"type\":\"scatter3d\"}],\"scattercarpet\":[{\"marker\":{\"colorbar\":{\"outlinewidth\":0,\"ticks\":\"\"}},\"type\":\"scattercarpet\"}],\"scattergeo\":[{\"marker\":{\"colorbar\":{\"outlinewidth\":0,\"ticks\":\"\"}},\"type\":\"scattergeo\"}],\"scattergl\":[{\"marker\":{\"colorbar\":{\"outlinewidth\":0,\"ticks\":\"\"}},\"type\":\"scattergl\"}],\"scattermapbox\":[{\"marker\":{\"colorbar\":{\"outlinewidth\":0,\"ticks\":\"\"}},\"type\":\"scattermapbox\"}],\"scatterpolar\":[{\"marker\":{\"colorbar\":{\"outlinewidth\":0,\"ticks\":\"\"}},\"type\":\"scatterpolar\"}],\"scatterpolargl\":[{\"marker\":{\"colorbar\":{\"outlinewidth\":0,\"ticks\":\"\"}},\"type\":\"scatterpolargl\"}],\"scatterternary\":[{\"marker\":{\"colorbar\":{\"outlinewidth\":0,\"ticks\":\"\"}},\"type\":\"scatterternary\"}],\"surface\":[{\"colorbar\":{\"outlinewidth\":0,\"ticks\":\"\"},\"colorscale\":[[0.0,\"#0d0887\"],[0.1111111111111111,\"#46039f\"],[0.2222222222222222,\"#7201a8\"],[0.3333333333333333,\"#9c179e\"],[0.4444444444444444,\"#bd3786\"],[0.5555555555555556,\"#d8576b\"],[0.6666666666666666,\"#ed7953\"],[0.7777777777777778,\"#fb9f3a\"],[0.8888888888888888,\"#fdca26\"],[1.0,\"#f0f921\"]],\"type\":\"surface\"}],\"table\":[{\"cells\":{\"fill\":{\"color\":\"#EBF0F8\"},\"line\":{\"color\":\"white\"}},\"header\":{\"fill\":{\"color\":\"#C8D4E3\"},\"line\":{\"color\":\"white\"}},\"type\":\"table\"}]},\"layout\":{\"annotationdefaults\":{\"arrowcolor\":\"#2a3f5f\",\"arrowhead\":0,\"arrowwidth\":1},\"autotypenumbers\":\"strict\",\"coloraxis\":{\"colorbar\":{\"outlinewidth\":0,\"ticks\":\"\"}},\"colorscale\":{\"diverging\":[[0,\"#8e0152\"],[0.1,\"#c51b7d\"],[0.2,\"#de77ae\"],[0.3,\"#f1b6da\"],[0.4,\"#fde0ef\"],[0.5,\"#f7f7f7\"],[0.6,\"#e6f5d0\"],[0.7,\"#b8e186\"],[0.8,\"#7fbc41\"],[0.9,\"#4d9221\"],[1,\"#276419\"]],\"sequential\":[[0.0,\"#0d0887\"],[0.1111111111111111,\"#46039f\"],[0.2222222222222222,\"#7201a8\"],[0.3333333333333333,\"#9c179e\"],[0.4444444444444444,\"#bd3786\"],[0.5555555555555556,\"#d8576b\"],[0.6666666666666666,\"#ed7953\"],[0.7777777777777778,\"#fb9f3a\"],[0.8888888888888888,\"#fdca26\"],[1.0,\"#f0f921\"]],\"sequentialminus\":[[0.0,\"#0d0887\"],[0.1111111111111111,\"#46039f\"],[0.2222222222222222,\"#7201a8\"],[0.3333333333333333,\"#9c179e\"],[0.4444444444444444,\"#bd3786\"],[0.5555555555555556,\"#d8576b\"],[0.6666666666666666,\"#ed7953\"],[0.7777777777777778,\"#fb9f3a\"],[0.8888888888888888,\"#fdca26\"],[1.0,\"#f0f921\"]]},\"colorway\":[\"#636efa\",\"#EF553B\",\"#00cc96\",\"#ab63fa\",\"#FFA15A\",\"#19d3f3\",\"#FF6692\",\"#B6E880\",\"#FF97FF\",\"#FECB52\"],\"font\":{\"color\":\"#2a3f5f\"},\"geo\":{\"bgcolor\":\"white\",\"lakecolor\":\"white\",\"landcolor\":\"#E5ECF6\",\"showlakes\":true,\"showland\":true,\"subunitcolor\":\"white\"},\"hoverlabel\":{\"align\":\"left\"},\"hovermode\":\"closest\",\"mapbox\":{\"style\":\"light\"},\"paper_bgcolor\":\"white\",\"plot_bgcolor\":\"#E5ECF6\",\"polar\":{\"angularaxis\":{\"gridcolor\":\"white\",\"linecolor\":\"white\",\"ticks\":\"\"},\"bgcolor\":\"#E5ECF6\",\"radialaxis\":{\"gridcolor\":\"white\",\"linecolor\":\"white\",\"ticks\":\"\"}},\"scene\":{\"xaxis\":{\"backgroundcolor\":\"#E5ECF6\",\"gridcolor\":\"white\",\"gridwidth\":2,\"linecolor\":\"white\",\"showbackground\":true,\"ticks\":\"\",\"zerolinecolor\":\"white\"},\"yaxis\":{\"backgroundcolor\":\"#E5ECF6\",\"gridcolor\":\"white\",\"gridwidth\":2,\"linecolor\":\"white\",\"showbackground\":true,\"ticks\":\"\",\"zerolinecolor\":\"white\"},\"zaxis\":{\"backgroundcolor\":\"#E5ECF6\",\"gridcolor\":\"white\",\"gridwidth\":2,\"linecolor\":\"white\",\"showbackground\":true,\"ticks\":\"\",\"zerolinecolor\":\"white\"}},\"shapedefaults\":{\"line\":{\"color\":\"#2a3f5f\"}},\"ternary\":{\"aaxis\":{\"gridcolor\":\"white\",\"linecolor\":\"white\",\"ticks\":\"\"},\"baxis\":{\"gridcolor\":\"white\",\"linecolor\":\"white\",\"ticks\":\"\"},\"bgcolor\":\"#E5ECF6\",\"caxis\":{\"gridcolor\":\"white\",\"linecolor\":\"white\",\"ticks\":\"\"}},\"title\":{\"x\":0.05},\"xaxis\":{\"automargin\":true,\"gridcolor\":\"white\",\"linecolor\":\"white\",\"ticks\":\"\",\"title\":{\"standoff\":15},\"zerolinecolor\":\"white\",\"zerolinewidth\":2},\"yaxis\":{\"automargin\":true,\"gridcolor\":\"white\",\"linecolor\":\"white\",\"ticks\":\"\",\"title\":{\"standoff\":15},\"zerolinecolor\":\"white\",\"zerolinewidth\":2}}},\"title\":{\"text\":\"Life Expectancy 2005, Countries where population >295516599\"},\"geo\":{\"projection\":{\"type\":\"equirectangular\"},\"showframe\":false,\"showcoastlines\":false},\"annotations\":[{\"showarrow\":false,\"x\":0.55,\"xref\":\"paper\",\"y\":0.1,\"yref\":\"paper\"}]},                        {\"responsive\": true}                    ).then(function(){\n",
       "                            \n",
       "var gd = document.getElementById('f2642575-9f43-472f-94de-f38f020ad5da');\n",
       "var x = new MutationObserver(function (mutations, observer) {{\n",
       "        var display = window.getComputedStyle(gd).display;\n",
       "        if (!display || display === 'none') {{\n",
       "            console.log([gd, 'removed!']);\n",
       "            Plotly.purge(gd);\n",
       "            observer.disconnect();\n",
       "        }}\n",
       "}});\n",
       "\n",
       "// Listen for the removal of the full notebook cells\n",
       "var notebookContainer = gd.closest('#notebook-container');\n",
       "if (notebookContainer) {{\n",
       "    x.observe(notebookContainer, {childList: true});\n",
       "}}\n",
       "\n",
       "// Listen for the clearing of the current output cell\n",
       "var outputEl = gd.closest('.output');\n",
       "if (outputEl) {{\n",
       "    x.observe(outputEl, {childList: true});\n",
       "}}\n",
       "\n",
       "                        })                };                });            </script>        </div>"
      ]
     },
     "metadata": {},
     "output_type": "display_data"
    }
   ],
   "source": [
    "'''\n",
    "TASK 1.2.2:\n",
    "          For  year  2005,  plot  the  life  expectancy  for  only  the  countries  having  population  greater  than \n",
    "          295516599.\n",
    "'''\n",
    "df_2 = df.loc[df['Population_2005'] > 295516599][['Country Name', 'Country Code', 'Life_expectancy_2005']].copy()\n",
    "df_2 = df_2.reset_index(drop=True)\n",
    "\n",
    "fig2 = go.Figure(data=go.Choropleth(\n",
    "    locations = df_2['Country Code'],\n",
    "    z = df_2['Life_expectancy_2005'],\n",
    "    text = df_2['Country Name'],\n",
    "    colorscale = 'Greens',\n",
    "    autocolorscale=False,\n",
    "    reversescale=True,\n",
    "    marker_line_color='darkgray',\n",
    "    marker_line_width=0.5,\n",
    "    colorbar_tickprefix = '',\n",
    "    colorbar_title = 'Life Expectancy Average',\n",
    "))\n",
    "fig2.update_layout(\n",
    "    title_text='Life Expectancy 2005, Countries where population >295516599',\n",
    "    geo=dict(\n",
    "        showframe=False,\n",
    "        showcoastlines=False,\n",
    "        projection_type='equirectangular'\n",
    "    ),\n",
    "    annotations = [dict(\n",
    "        x=0.55,\n",
    "        y=0.1,\n",
    "        xref='paper',\n",
    "        yref='paper',\n",
    "        showarrow = False\n",
    "    )]\n",
    ")\n",
    "###THe countries with population greater than 295516599 are plotted.\n",
    "### Example -China,India  (All these countries have population greater than this limit )\n",
    "### The countries that have lesser population than this limit are in bluegrey color"
   ]
  },
  {
   "cell_type": "markdown",
   "metadata": {},
   "source": [
    "### TASK 1.2.3:\n",
    "For year 2005, plot the life expectancy for only the countries having population between 63179356 and 1147609924"
   ]
  },
  {
   "cell_type": "code",
   "execution_count": 26,
   "metadata": {
    "colab": {
     "base_uri": "https://localhost:8080/",
     "height": 542
    },
    "id": "V8dLCmWsokKX",
    "outputId": "0a1e82e7-54c2-46d9-9526-bfd00a7076d1"
   },
   "outputs": [
    {
     "data": {
      "application/vnd.plotly.v1+json": {
       "config": {
        "plotlyServerURL": "https://plot.ly"
       },
       "data": [
        {
         "autocolorscale": false,
         "colorbar": {
          "tickprefix": "",
          "title": {
           "text": "Life Expectancy Average"
          }
         },
         "colorscale": [
          [
           0,
           "#440154"
          ],
          [
           0.1111111111111111,
           "#482878"
          ],
          [
           0.2222222222222222,
           "#3e4989"
          ],
          [
           0.3333333333333333,
           "#31688e"
          ],
          [
           0.4444444444444444,
           "#26828e"
          ],
          [
           0.5555555555555556,
           "#1f9e89"
          ],
          [
           0.6666666666666666,
           "#35b779"
          ],
          [
           0.7777777777777778,
           "#6ece58"
          ],
          [
           0.8888888888888888,
           "#b5de2b"
          ],
          [
           1,
           "#fde725"
          ]
         ],
         "locations": [
          "BGD",
          "BRA",
          "DEU",
          "EGY",
          "ETH",
          "IDN",
          "IRN",
          "JPN",
          "MEX",
          "NGA",
          "PAK",
          "PHL",
          "RUS",
          "THA",
          "TUR",
          "USA",
          "VNM"
         ],
         "marker": {
          "line": {
           "color": "darkgrey",
           "width": 0.5
          }
         },
         "reversescale": true,
         "text": [
          "Bangladesh",
          "Brazil",
          "Germany",
          "Egypt, Arab Rep.",
          "Ethiopia",
          "Indonesia",
          "Iran, Islamic Rep.",
          "Japan",
          "Mexico",
          "Nigeria",
          "Pakistan",
          "Philippines",
          "Russian Federation",
          "Thailand",
          "Turkey",
          "United States",
          "Vietnam"
         ],
         "type": "choropleth",
         "z": [
          66.949,
          68.166,
          76.2,
          67.138,
          54.846,
          65.579,
          70.438,
          78.53,
          72.575,
          47.504,
          63.102,
          65.597,
          58.92,
          68.71,
          69.004,
          75,
          69.722
         ]
        }
       ],
       "layout": {
        "annotations": [
         {
          "showarrow": false,
          "x": 0.55,
          "xref": "paper",
          "y": 0.1,
          "yref": "paper"
         }
        ],
        "geo": {
         "projection": {
          "type": "equirectangular"
         },
         "showcoastlines": false,
         "showframe": false
        },
        "template": {
         "data": {
          "bar": [
           {
            "error_x": {
             "color": "#2a3f5f"
            },
            "error_y": {
             "color": "#2a3f5f"
            },
            "marker": {
             "line": {
              "color": "#E5ECF6",
              "width": 0.5
             },
             "pattern": {
              "fillmode": "overlay",
              "size": 10,
              "solidity": 0.2
             }
            },
            "type": "bar"
           }
          ],
          "barpolar": [
           {
            "marker": {
             "line": {
              "color": "#E5ECF6",
              "width": 0.5
             },
             "pattern": {
              "fillmode": "overlay",
              "size": 10,
              "solidity": 0.2
             }
            },
            "type": "barpolar"
           }
          ],
          "carpet": [
           {
            "aaxis": {
             "endlinecolor": "#2a3f5f",
             "gridcolor": "white",
             "linecolor": "white",
             "minorgridcolor": "white",
             "startlinecolor": "#2a3f5f"
            },
            "baxis": {
             "endlinecolor": "#2a3f5f",
             "gridcolor": "white",
             "linecolor": "white",
             "minorgridcolor": "white",
             "startlinecolor": "#2a3f5f"
            },
            "type": "carpet"
           }
          ],
          "choropleth": [
           {
            "colorbar": {
             "outlinewidth": 0,
             "ticks": ""
            },
            "type": "choropleth"
           }
          ],
          "contour": [
           {
            "colorbar": {
             "outlinewidth": 0,
             "ticks": ""
            },
            "colorscale": [
             [
              0,
              "#0d0887"
             ],
             [
              0.1111111111111111,
              "#46039f"
             ],
             [
              0.2222222222222222,
              "#7201a8"
             ],
             [
              0.3333333333333333,
              "#9c179e"
             ],
             [
              0.4444444444444444,
              "#bd3786"
             ],
             [
              0.5555555555555556,
              "#d8576b"
             ],
             [
              0.6666666666666666,
              "#ed7953"
             ],
             [
              0.7777777777777778,
              "#fb9f3a"
             ],
             [
              0.8888888888888888,
              "#fdca26"
             ],
             [
              1,
              "#f0f921"
             ]
            ],
            "type": "contour"
           }
          ],
          "contourcarpet": [
           {
            "colorbar": {
             "outlinewidth": 0,
             "ticks": ""
            },
            "type": "contourcarpet"
           }
          ],
          "heatmap": [
           {
            "colorbar": {
             "outlinewidth": 0,
             "ticks": ""
            },
            "colorscale": [
             [
              0,
              "#0d0887"
             ],
             [
              0.1111111111111111,
              "#46039f"
             ],
             [
              0.2222222222222222,
              "#7201a8"
             ],
             [
              0.3333333333333333,
              "#9c179e"
             ],
             [
              0.4444444444444444,
              "#bd3786"
             ],
             [
              0.5555555555555556,
              "#d8576b"
             ],
             [
              0.6666666666666666,
              "#ed7953"
             ],
             [
              0.7777777777777778,
              "#fb9f3a"
             ],
             [
              0.8888888888888888,
              "#fdca26"
             ],
             [
              1,
              "#f0f921"
             ]
            ],
            "type": "heatmap"
           }
          ],
          "heatmapgl": [
           {
            "colorbar": {
             "outlinewidth": 0,
             "ticks": ""
            },
            "colorscale": [
             [
              0,
              "#0d0887"
             ],
             [
              0.1111111111111111,
              "#46039f"
             ],
             [
              0.2222222222222222,
              "#7201a8"
             ],
             [
              0.3333333333333333,
              "#9c179e"
             ],
             [
              0.4444444444444444,
              "#bd3786"
             ],
             [
              0.5555555555555556,
              "#d8576b"
             ],
             [
              0.6666666666666666,
              "#ed7953"
             ],
             [
              0.7777777777777778,
              "#fb9f3a"
             ],
             [
              0.8888888888888888,
              "#fdca26"
             ],
             [
              1,
              "#f0f921"
             ]
            ],
            "type": "heatmapgl"
           }
          ],
          "histogram": [
           {
            "marker": {
             "pattern": {
              "fillmode": "overlay",
              "size": 10,
              "solidity": 0.2
             }
            },
            "type": "histogram"
           }
          ],
          "histogram2d": [
           {
            "colorbar": {
             "outlinewidth": 0,
             "ticks": ""
            },
            "colorscale": [
             [
              0,
              "#0d0887"
             ],
             [
              0.1111111111111111,
              "#46039f"
             ],
             [
              0.2222222222222222,
              "#7201a8"
             ],
             [
              0.3333333333333333,
              "#9c179e"
             ],
             [
              0.4444444444444444,
              "#bd3786"
             ],
             [
              0.5555555555555556,
              "#d8576b"
             ],
             [
              0.6666666666666666,
              "#ed7953"
             ],
             [
              0.7777777777777778,
              "#fb9f3a"
             ],
             [
              0.8888888888888888,
              "#fdca26"
             ],
             [
              1,
              "#f0f921"
             ]
            ],
            "type": "histogram2d"
           }
          ],
          "histogram2dcontour": [
           {
            "colorbar": {
             "outlinewidth": 0,
             "ticks": ""
            },
            "colorscale": [
             [
              0,
              "#0d0887"
             ],
             [
              0.1111111111111111,
              "#46039f"
             ],
             [
              0.2222222222222222,
              "#7201a8"
             ],
             [
              0.3333333333333333,
              "#9c179e"
             ],
             [
              0.4444444444444444,
              "#bd3786"
             ],
             [
              0.5555555555555556,
              "#d8576b"
             ],
             [
              0.6666666666666666,
              "#ed7953"
             ],
             [
              0.7777777777777778,
              "#fb9f3a"
             ],
             [
              0.8888888888888888,
              "#fdca26"
             ],
             [
              1,
              "#f0f921"
             ]
            ],
            "type": "histogram2dcontour"
           }
          ],
          "mesh3d": [
           {
            "colorbar": {
             "outlinewidth": 0,
             "ticks": ""
            },
            "type": "mesh3d"
           }
          ],
          "parcoords": [
           {
            "line": {
             "colorbar": {
              "outlinewidth": 0,
              "ticks": ""
             }
            },
            "type": "parcoords"
           }
          ],
          "pie": [
           {
            "automargin": true,
            "type": "pie"
           }
          ],
          "scatter": [
           {
            "marker": {
             "colorbar": {
              "outlinewidth": 0,
              "ticks": ""
             }
            },
            "type": "scatter"
           }
          ],
          "scatter3d": [
           {
            "line": {
             "colorbar": {
              "outlinewidth": 0,
              "ticks": ""
             }
            },
            "marker": {
             "colorbar": {
              "outlinewidth": 0,
              "ticks": ""
             }
            },
            "type": "scatter3d"
           }
          ],
          "scattercarpet": [
           {
            "marker": {
             "colorbar": {
              "outlinewidth": 0,
              "ticks": ""
             }
            },
            "type": "scattercarpet"
           }
          ],
          "scattergeo": [
           {
            "marker": {
             "colorbar": {
              "outlinewidth": 0,
              "ticks": ""
             }
            },
            "type": "scattergeo"
           }
          ],
          "scattergl": [
           {
            "marker": {
             "colorbar": {
              "outlinewidth": 0,
              "ticks": ""
             }
            },
            "type": "scattergl"
           }
          ],
          "scattermapbox": [
           {
            "marker": {
             "colorbar": {
              "outlinewidth": 0,
              "ticks": ""
             }
            },
            "type": "scattermapbox"
           }
          ],
          "scatterpolar": [
           {
            "marker": {
             "colorbar": {
              "outlinewidth": 0,
              "ticks": ""
             }
            },
            "type": "scatterpolar"
           }
          ],
          "scatterpolargl": [
           {
            "marker": {
             "colorbar": {
              "outlinewidth": 0,
              "ticks": ""
             }
            },
            "type": "scatterpolargl"
           }
          ],
          "scatterternary": [
           {
            "marker": {
             "colorbar": {
              "outlinewidth": 0,
              "ticks": ""
             }
            },
            "type": "scatterternary"
           }
          ],
          "surface": [
           {
            "colorbar": {
             "outlinewidth": 0,
             "ticks": ""
            },
            "colorscale": [
             [
              0,
              "#0d0887"
             ],
             [
              0.1111111111111111,
              "#46039f"
             ],
             [
              0.2222222222222222,
              "#7201a8"
             ],
             [
              0.3333333333333333,
              "#9c179e"
             ],
             [
              0.4444444444444444,
              "#bd3786"
             ],
             [
              0.5555555555555556,
              "#d8576b"
             ],
             [
              0.6666666666666666,
              "#ed7953"
             ],
             [
              0.7777777777777778,
              "#fb9f3a"
             ],
             [
              0.8888888888888888,
              "#fdca26"
             ],
             [
              1,
              "#f0f921"
             ]
            ],
            "type": "surface"
           }
          ],
          "table": [
           {
            "cells": {
             "fill": {
              "color": "#EBF0F8"
             },
             "line": {
              "color": "white"
             }
            },
            "header": {
             "fill": {
              "color": "#C8D4E3"
             },
             "line": {
              "color": "white"
             }
            },
            "type": "table"
           }
          ]
         },
         "layout": {
          "annotationdefaults": {
           "arrowcolor": "#2a3f5f",
           "arrowhead": 0,
           "arrowwidth": 1
          },
          "autotypenumbers": "strict",
          "coloraxis": {
           "colorbar": {
            "outlinewidth": 0,
            "ticks": ""
           }
          },
          "colorscale": {
           "diverging": [
            [
             0,
             "#8e0152"
            ],
            [
             0.1,
             "#c51b7d"
            ],
            [
             0.2,
             "#de77ae"
            ],
            [
             0.3,
             "#f1b6da"
            ],
            [
             0.4,
             "#fde0ef"
            ],
            [
             0.5,
             "#f7f7f7"
            ],
            [
             0.6,
             "#e6f5d0"
            ],
            [
             0.7,
             "#b8e186"
            ],
            [
             0.8,
             "#7fbc41"
            ],
            [
             0.9,
             "#4d9221"
            ],
            [
             1,
             "#276419"
            ]
           ],
           "sequential": [
            [
             0,
             "#0d0887"
            ],
            [
             0.1111111111111111,
             "#46039f"
            ],
            [
             0.2222222222222222,
             "#7201a8"
            ],
            [
             0.3333333333333333,
             "#9c179e"
            ],
            [
             0.4444444444444444,
             "#bd3786"
            ],
            [
             0.5555555555555556,
             "#d8576b"
            ],
            [
             0.6666666666666666,
             "#ed7953"
            ],
            [
             0.7777777777777778,
             "#fb9f3a"
            ],
            [
             0.8888888888888888,
             "#fdca26"
            ],
            [
             1,
             "#f0f921"
            ]
           ],
           "sequentialminus": [
            [
             0,
             "#0d0887"
            ],
            [
             0.1111111111111111,
             "#46039f"
            ],
            [
             0.2222222222222222,
             "#7201a8"
            ],
            [
             0.3333333333333333,
             "#9c179e"
            ],
            [
             0.4444444444444444,
             "#bd3786"
            ],
            [
             0.5555555555555556,
             "#d8576b"
            ],
            [
             0.6666666666666666,
             "#ed7953"
            ],
            [
             0.7777777777777778,
             "#fb9f3a"
            ],
            [
             0.8888888888888888,
             "#fdca26"
            ],
            [
             1,
             "#f0f921"
            ]
           ]
          },
          "colorway": [
           "#636efa",
           "#EF553B",
           "#00cc96",
           "#ab63fa",
           "#FFA15A",
           "#19d3f3",
           "#FF6692",
           "#B6E880",
           "#FF97FF",
           "#FECB52"
          ],
          "font": {
           "color": "#2a3f5f"
          },
          "geo": {
           "bgcolor": "white",
           "lakecolor": "white",
           "landcolor": "#E5ECF6",
           "showlakes": true,
           "showland": true,
           "subunitcolor": "white"
          },
          "hoverlabel": {
           "align": "left"
          },
          "hovermode": "closest",
          "mapbox": {
           "style": "light"
          },
          "paper_bgcolor": "white",
          "plot_bgcolor": "#E5ECF6",
          "polar": {
           "angularaxis": {
            "gridcolor": "white",
            "linecolor": "white",
            "ticks": ""
           },
           "bgcolor": "#E5ECF6",
           "radialaxis": {
            "gridcolor": "white",
            "linecolor": "white",
            "ticks": ""
           }
          },
          "scene": {
           "xaxis": {
            "backgroundcolor": "#E5ECF6",
            "gridcolor": "white",
            "gridwidth": 2,
            "linecolor": "white",
            "showbackground": true,
            "ticks": "",
            "zerolinecolor": "white"
           },
           "yaxis": {
            "backgroundcolor": "#E5ECF6",
            "gridcolor": "white",
            "gridwidth": 2,
            "linecolor": "white",
            "showbackground": true,
            "ticks": "",
            "zerolinecolor": "white"
           },
           "zaxis": {
            "backgroundcolor": "#E5ECF6",
            "gridcolor": "white",
            "gridwidth": 2,
            "linecolor": "white",
            "showbackground": true,
            "ticks": "",
            "zerolinecolor": "white"
           }
          },
          "shapedefaults": {
           "line": {
            "color": "#2a3f5f"
           }
          },
          "ternary": {
           "aaxis": {
            "gridcolor": "white",
            "linecolor": "white",
            "ticks": ""
           },
           "baxis": {
            "gridcolor": "white",
            "linecolor": "white",
            "ticks": ""
           },
           "bgcolor": "#E5ECF6",
           "caxis": {
            "gridcolor": "white",
            "linecolor": "white",
            "ticks": ""
           }
          },
          "title": {
           "x": 0.05
          },
          "xaxis": {
           "automargin": true,
           "gridcolor": "white",
           "linecolor": "white",
           "ticks": "",
           "title": {
            "standoff": 15
           },
           "zerolinecolor": "white",
           "zerolinewidth": 2
          },
          "yaxis": {
           "automargin": true,
           "gridcolor": "white",
           "linecolor": "white",
           "ticks": "",
           "title": {
            "standoff": 15
           },
           "zerolinecolor": "white",
           "zerolinewidth": 2
          }
         }
        },
        "title": {
         "text": "Life Expectancy 2005, Countries where population >63179356 and <1147609924"
        }
       }
      },
      "text/html": [
       "<div>                            <div id=\"7a17cdca-9075-470f-9b24-9bead450922a\" class=\"plotly-graph-div\" style=\"height:525px; width:100%;\"></div>            <script type=\"text/javascript\">                require([\"plotly\"], function(Plotly) {                    window.PLOTLYENV=window.PLOTLYENV || {};                                    if (document.getElementById(\"7a17cdca-9075-470f-9b24-9bead450922a\")) {                    Plotly.newPlot(                        \"7a17cdca-9075-470f-9b24-9bead450922a\",                        [{\"autocolorscale\":false,\"colorbar\":{\"tickprefix\":\"\",\"title\":{\"text\":\"Life Expectancy Average\"}},\"colorscale\":[[0.0,\"#440154\"],[0.1111111111111111,\"#482878\"],[0.2222222222222222,\"#3e4989\"],[0.3333333333333333,\"#31688e\"],[0.4444444444444444,\"#26828e\"],[0.5555555555555556,\"#1f9e89\"],[0.6666666666666666,\"#35b779\"],[0.7777777777777778,\"#6ece58\"],[0.8888888888888888,\"#b5de2b\"],[1.0,\"#fde725\"]],\"locations\":[\"BGD\",\"BRA\",\"DEU\",\"EGY\",\"ETH\",\"IDN\",\"IRN\",\"JPN\",\"MEX\",\"NGA\",\"PAK\",\"PHL\",\"RUS\",\"THA\",\"TUR\",\"USA\",\"VNM\"],\"marker\":{\"line\":{\"color\":\"darkgrey\",\"width\":0.5}},\"reversescale\":true,\"text\":[\"Bangladesh\",\"Brazil\",\"Germany\",\"Egypt, Arab Rep.\",\"Ethiopia\",\"Indonesia\",\"Iran, Islamic Rep.\",\"Japan\",\"Mexico\",\"Nigeria\",\"Pakistan\",\"Philippines\",\"Russian Federation\",\"Thailand\",\"Turkey\",\"United States\",\"Vietnam\"],\"z\":[66.949,68.166,76.2,67.138,54.846,65.579,70.438,78.53,72.575,47.504,63.102,65.597,58.92,68.71,69.004,75.0,69.722],\"type\":\"choropleth\"}],                        {\"template\":{\"data\":{\"bar\":[{\"error_x\":{\"color\":\"#2a3f5f\"},\"error_y\":{\"color\":\"#2a3f5f\"},\"marker\":{\"line\":{\"color\":\"#E5ECF6\",\"width\":0.5},\"pattern\":{\"fillmode\":\"overlay\",\"size\":10,\"solidity\":0.2}},\"type\":\"bar\"}],\"barpolar\":[{\"marker\":{\"line\":{\"color\":\"#E5ECF6\",\"width\":0.5},\"pattern\":{\"fillmode\":\"overlay\",\"size\":10,\"solidity\":0.2}},\"type\":\"barpolar\"}],\"carpet\":[{\"aaxis\":{\"endlinecolor\":\"#2a3f5f\",\"gridcolor\":\"white\",\"linecolor\":\"white\",\"minorgridcolor\":\"white\",\"startlinecolor\":\"#2a3f5f\"},\"baxis\":{\"endlinecolor\":\"#2a3f5f\",\"gridcolor\":\"white\",\"linecolor\":\"white\",\"minorgridcolor\":\"white\",\"startlinecolor\":\"#2a3f5f\"},\"type\":\"carpet\"}],\"choropleth\":[{\"colorbar\":{\"outlinewidth\":0,\"ticks\":\"\"},\"type\":\"choropleth\"}],\"contour\":[{\"colorbar\":{\"outlinewidth\":0,\"ticks\":\"\"},\"colorscale\":[[0.0,\"#0d0887\"],[0.1111111111111111,\"#46039f\"],[0.2222222222222222,\"#7201a8\"],[0.3333333333333333,\"#9c179e\"],[0.4444444444444444,\"#bd3786\"],[0.5555555555555556,\"#d8576b\"],[0.6666666666666666,\"#ed7953\"],[0.7777777777777778,\"#fb9f3a\"],[0.8888888888888888,\"#fdca26\"],[1.0,\"#f0f921\"]],\"type\":\"contour\"}],\"contourcarpet\":[{\"colorbar\":{\"outlinewidth\":0,\"ticks\":\"\"},\"type\":\"contourcarpet\"}],\"heatmap\":[{\"colorbar\":{\"outlinewidth\":0,\"ticks\":\"\"},\"colorscale\":[[0.0,\"#0d0887\"],[0.1111111111111111,\"#46039f\"],[0.2222222222222222,\"#7201a8\"],[0.3333333333333333,\"#9c179e\"],[0.4444444444444444,\"#bd3786\"],[0.5555555555555556,\"#d8576b\"],[0.6666666666666666,\"#ed7953\"],[0.7777777777777778,\"#fb9f3a\"],[0.8888888888888888,\"#fdca26\"],[1.0,\"#f0f921\"]],\"type\":\"heatmap\"}],\"heatmapgl\":[{\"colorbar\":{\"outlinewidth\":0,\"ticks\":\"\"},\"colorscale\":[[0.0,\"#0d0887\"],[0.1111111111111111,\"#46039f\"],[0.2222222222222222,\"#7201a8\"],[0.3333333333333333,\"#9c179e\"],[0.4444444444444444,\"#bd3786\"],[0.5555555555555556,\"#d8576b\"],[0.6666666666666666,\"#ed7953\"],[0.7777777777777778,\"#fb9f3a\"],[0.8888888888888888,\"#fdca26\"],[1.0,\"#f0f921\"]],\"type\":\"heatmapgl\"}],\"histogram\":[{\"marker\":{\"pattern\":{\"fillmode\":\"overlay\",\"size\":10,\"solidity\":0.2}},\"type\":\"histogram\"}],\"histogram2d\":[{\"colorbar\":{\"outlinewidth\":0,\"ticks\":\"\"},\"colorscale\":[[0.0,\"#0d0887\"],[0.1111111111111111,\"#46039f\"],[0.2222222222222222,\"#7201a8\"],[0.3333333333333333,\"#9c179e\"],[0.4444444444444444,\"#bd3786\"],[0.5555555555555556,\"#d8576b\"],[0.6666666666666666,\"#ed7953\"],[0.7777777777777778,\"#fb9f3a\"],[0.8888888888888888,\"#fdca26\"],[1.0,\"#f0f921\"]],\"type\":\"histogram2d\"}],\"histogram2dcontour\":[{\"colorbar\":{\"outlinewidth\":0,\"ticks\":\"\"},\"colorscale\":[[0.0,\"#0d0887\"],[0.1111111111111111,\"#46039f\"],[0.2222222222222222,\"#7201a8\"],[0.3333333333333333,\"#9c179e\"],[0.4444444444444444,\"#bd3786\"],[0.5555555555555556,\"#d8576b\"],[0.6666666666666666,\"#ed7953\"],[0.7777777777777778,\"#fb9f3a\"],[0.8888888888888888,\"#fdca26\"],[1.0,\"#f0f921\"]],\"type\":\"histogram2dcontour\"}],\"mesh3d\":[{\"colorbar\":{\"outlinewidth\":0,\"ticks\":\"\"},\"type\":\"mesh3d\"}],\"parcoords\":[{\"line\":{\"colorbar\":{\"outlinewidth\":0,\"ticks\":\"\"}},\"type\":\"parcoords\"}],\"pie\":[{\"automargin\":true,\"type\":\"pie\"}],\"scatter\":[{\"marker\":{\"colorbar\":{\"outlinewidth\":0,\"ticks\":\"\"}},\"type\":\"scatter\"}],\"scatter3d\":[{\"line\":{\"colorbar\":{\"outlinewidth\":0,\"ticks\":\"\"}},\"marker\":{\"colorbar\":{\"outlinewidth\":0,\"ticks\":\"\"}},\"type\":\"scatter3d\"}],\"scattercarpet\":[{\"marker\":{\"colorbar\":{\"outlinewidth\":0,\"ticks\":\"\"}},\"type\":\"scattercarpet\"}],\"scattergeo\":[{\"marker\":{\"colorbar\":{\"outlinewidth\":0,\"ticks\":\"\"}},\"type\":\"scattergeo\"}],\"scattergl\":[{\"marker\":{\"colorbar\":{\"outlinewidth\":0,\"ticks\":\"\"}},\"type\":\"scattergl\"}],\"scattermapbox\":[{\"marker\":{\"colorbar\":{\"outlinewidth\":0,\"ticks\":\"\"}},\"type\":\"scattermapbox\"}],\"scatterpolar\":[{\"marker\":{\"colorbar\":{\"outlinewidth\":0,\"ticks\":\"\"}},\"type\":\"scatterpolar\"}],\"scatterpolargl\":[{\"marker\":{\"colorbar\":{\"outlinewidth\":0,\"ticks\":\"\"}},\"type\":\"scatterpolargl\"}],\"scatterternary\":[{\"marker\":{\"colorbar\":{\"outlinewidth\":0,\"ticks\":\"\"}},\"type\":\"scatterternary\"}],\"surface\":[{\"colorbar\":{\"outlinewidth\":0,\"ticks\":\"\"},\"colorscale\":[[0.0,\"#0d0887\"],[0.1111111111111111,\"#46039f\"],[0.2222222222222222,\"#7201a8\"],[0.3333333333333333,\"#9c179e\"],[0.4444444444444444,\"#bd3786\"],[0.5555555555555556,\"#d8576b\"],[0.6666666666666666,\"#ed7953\"],[0.7777777777777778,\"#fb9f3a\"],[0.8888888888888888,\"#fdca26\"],[1.0,\"#f0f921\"]],\"type\":\"surface\"}],\"table\":[{\"cells\":{\"fill\":{\"color\":\"#EBF0F8\"},\"line\":{\"color\":\"white\"}},\"header\":{\"fill\":{\"color\":\"#C8D4E3\"},\"line\":{\"color\":\"white\"}},\"type\":\"table\"}]},\"layout\":{\"annotationdefaults\":{\"arrowcolor\":\"#2a3f5f\",\"arrowhead\":0,\"arrowwidth\":1},\"autotypenumbers\":\"strict\",\"coloraxis\":{\"colorbar\":{\"outlinewidth\":0,\"ticks\":\"\"}},\"colorscale\":{\"diverging\":[[0,\"#8e0152\"],[0.1,\"#c51b7d\"],[0.2,\"#de77ae\"],[0.3,\"#f1b6da\"],[0.4,\"#fde0ef\"],[0.5,\"#f7f7f7\"],[0.6,\"#e6f5d0\"],[0.7,\"#b8e186\"],[0.8,\"#7fbc41\"],[0.9,\"#4d9221\"],[1,\"#276419\"]],\"sequential\":[[0.0,\"#0d0887\"],[0.1111111111111111,\"#46039f\"],[0.2222222222222222,\"#7201a8\"],[0.3333333333333333,\"#9c179e\"],[0.4444444444444444,\"#bd3786\"],[0.5555555555555556,\"#d8576b\"],[0.6666666666666666,\"#ed7953\"],[0.7777777777777778,\"#fb9f3a\"],[0.8888888888888888,\"#fdca26\"],[1.0,\"#f0f921\"]],\"sequentialminus\":[[0.0,\"#0d0887\"],[0.1111111111111111,\"#46039f\"],[0.2222222222222222,\"#7201a8\"],[0.3333333333333333,\"#9c179e\"],[0.4444444444444444,\"#bd3786\"],[0.5555555555555556,\"#d8576b\"],[0.6666666666666666,\"#ed7953\"],[0.7777777777777778,\"#fb9f3a\"],[0.8888888888888888,\"#fdca26\"],[1.0,\"#f0f921\"]]},\"colorway\":[\"#636efa\",\"#EF553B\",\"#00cc96\",\"#ab63fa\",\"#FFA15A\",\"#19d3f3\",\"#FF6692\",\"#B6E880\",\"#FF97FF\",\"#FECB52\"],\"font\":{\"color\":\"#2a3f5f\"},\"geo\":{\"bgcolor\":\"white\",\"lakecolor\":\"white\",\"landcolor\":\"#E5ECF6\",\"showlakes\":true,\"showland\":true,\"subunitcolor\":\"white\"},\"hoverlabel\":{\"align\":\"left\"},\"hovermode\":\"closest\",\"mapbox\":{\"style\":\"light\"},\"paper_bgcolor\":\"white\",\"plot_bgcolor\":\"#E5ECF6\",\"polar\":{\"angularaxis\":{\"gridcolor\":\"white\",\"linecolor\":\"white\",\"ticks\":\"\"},\"bgcolor\":\"#E5ECF6\",\"radialaxis\":{\"gridcolor\":\"white\",\"linecolor\":\"white\",\"ticks\":\"\"}},\"scene\":{\"xaxis\":{\"backgroundcolor\":\"#E5ECF6\",\"gridcolor\":\"white\",\"gridwidth\":2,\"linecolor\":\"white\",\"showbackground\":true,\"ticks\":\"\",\"zerolinecolor\":\"white\"},\"yaxis\":{\"backgroundcolor\":\"#E5ECF6\",\"gridcolor\":\"white\",\"gridwidth\":2,\"linecolor\":\"white\",\"showbackground\":true,\"ticks\":\"\",\"zerolinecolor\":\"white\"},\"zaxis\":{\"backgroundcolor\":\"#E5ECF6\",\"gridcolor\":\"white\",\"gridwidth\":2,\"linecolor\":\"white\",\"showbackground\":true,\"ticks\":\"\",\"zerolinecolor\":\"white\"}},\"shapedefaults\":{\"line\":{\"color\":\"#2a3f5f\"}},\"ternary\":{\"aaxis\":{\"gridcolor\":\"white\",\"linecolor\":\"white\",\"ticks\":\"\"},\"baxis\":{\"gridcolor\":\"white\",\"linecolor\":\"white\",\"ticks\":\"\"},\"bgcolor\":\"#E5ECF6\",\"caxis\":{\"gridcolor\":\"white\",\"linecolor\":\"white\",\"ticks\":\"\"}},\"title\":{\"x\":0.05},\"xaxis\":{\"automargin\":true,\"gridcolor\":\"white\",\"linecolor\":\"white\",\"ticks\":\"\",\"title\":{\"standoff\":15},\"zerolinecolor\":\"white\",\"zerolinewidth\":2},\"yaxis\":{\"automargin\":true,\"gridcolor\":\"white\",\"linecolor\":\"white\",\"ticks\":\"\",\"title\":{\"standoff\":15},\"zerolinecolor\":\"white\",\"zerolinewidth\":2}}},\"title\":{\"text\":\"Life Expectancy 2005, Countries where population >63179356 and <1147609924\"},\"geo\":{\"projection\":{\"type\":\"equirectangular\"},\"showframe\":false,\"showcoastlines\":false},\"annotations\":[{\"showarrow\":false,\"x\":0.55,\"xref\":\"paper\",\"y\":0.1,\"yref\":\"paper\"}]},                        {\"responsive\": true}                    ).then(function(){\n",
       "                            \n",
       "var gd = document.getElementById('7a17cdca-9075-470f-9b24-9bead450922a');\n",
       "var x = new MutationObserver(function (mutations, observer) {{\n",
       "        var display = window.getComputedStyle(gd).display;\n",
       "        if (!display || display === 'none') {{\n",
       "            console.log([gd, 'removed!']);\n",
       "            Plotly.purge(gd);\n",
       "            observer.disconnect();\n",
       "        }}\n",
       "}});\n",
       "\n",
       "// Listen for the removal of the full notebook cells\n",
       "var notebookContainer = gd.closest('#notebook-container');\n",
       "if (notebookContainer) {{\n",
       "    x.observe(notebookContainer, {childList: true});\n",
       "}}\n",
       "\n",
       "// Listen for the clearing of the current output cell\n",
       "var outputEl = gd.closest('.output');\n",
       "if (outputEl) {{\n",
       "    x.observe(outputEl, {childList: true});\n",
       "}}\n",
       "\n",
       "                        })                };                });            </script>        </div>"
      ]
     },
     "metadata": {},
     "output_type": "display_data"
    }
   ],
   "source": [
    "'''\n",
    "TASK 1.2.3:\n",
    "          For year 2005, plot the life expectancy for only the countries having population between 63179356 \n",
    "          and 1147609924\n",
    "'''\n",
    "df_3 = df.loc[df['Population_2005'] > 63179356]\n",
    "df_3 = df_3.loc[df['Population_2005'] < 1147609924][['Country Name', 'Country Code', 'Life_expectancy_2005']].copy()\n",
    "df_3 = df_3.reset_index(drop=True)\n",
    "\n",
    "fig3 = go.Figure(data=go.Choropleth(\n",
    "    locations = df_3['Country Code'],\n",
    "    z = df_3['Life_expectancy_2005'],\n",
    "    text = df_3['Country Name'],\n",
    "    colorscale = 'viridis',\n",
    "    autocolorscale=False,\n",
    "    reversescale=True,\n",
    "    marker_line_color='darkgrey',\n",
    "    marker_line_width=0.5,\n",
    "    colorbar_tickprefix = '',\n",
    "    colorbar_title = 'Life Expectancy Average',\n",
    "))\n",
    "fig3.update_layout(\n",
    "    title_text='Life Expectancy 2005, Countries where population >63179356 and <1147609924',\n",
    "    geo=dict(\n",
    "        showframe=False,\n",
    "        showcoastlines=False,\n",
    "        projection_type='equirectangular'\n",
    "    ),\n",
    "    annotations = [dict(\n",
    "        x=0.55,\n",
    "        y=0.1,\n",
    "        xref='paper',\n",
    "        yref='paper',\n",
    "        showarrow = False\n",
    "    )]\n",
    ")\n",
    "###THe countries with population in the range >63179356 and <1147609924 are plotted.\n",
    "### Example -Russia,Ethiopia,Nigeria etc  (All these countries have population in this range limit )\n",
    "### The countries that have lesser population than this limit or greater than this limit are in grey color"
   ]
  },
  {
   "cell_type": "code",
   "execution_count": 27,
   "metadata": {
    "colab": {
     "base_uri": "https://localhost:8080/",
     "height": 579
    },
    "id": "pgvvlCzwd7V5",
    "outputId": "e4e50369-e990-4d28-ad3d-047eac957c80"
   },
   "outputs": [
    {
     "name": "stdout",
     "output_type": "stream",
     "text": [
      "['China', 'CHN', 667070000.0, 660330000.0, 665770000.0, 682335000.0, 698355000.0, 715185000.0, 735400000.0, 754550000.0, 774510000.0, 796025000.0, 818315000.0, 841105000.0, 862030000.0, 881940000.0, 900350000.0, 916395000.0, 930685000.0, 943455000.0, 956165000.0, 969005000.0, 981235000.0, 993885000.0, 1008630000.0, 1023310000.0, 1036825000.0, 1051040000.0, 1066790000.0, 1084035000.0, 1101630000.0, 1118650000.0, 1135185000.0, 1150780000.0, 1164970000.0, 1178440000.0, 1191835000.0, 1204855000.0, 1217550000.0, 1230075000.0, 1241935000.0, 1252735000.0, 1262645000.0, 1271850000.0, 1280400000.0, 1288400000.0, 1296075000.0, 1303720000.0, 1311020000.0, 1317885000.0, 1324655000.0, 1331260000.0, 1337705000.0, 1344130000.0, 1350695000.0, 1357380000.0, 1364270000.0, 1371220000.0, 1378665000.0, 1386395000.0, 1392730000.0, 1397715000.0, 1402112000.0, 42.433, 42.767, 43.473, 44.596, 46.116, 47.956, 49.992, 52.062, 54.022, 55.794, 57.331, 58.635, 59.77, 60.791, 61.709, 62.532, 63.265, 63.912, 64.481, 64.982, 65.426, 65.823, 66.175, 66.486, 66.761, 66.995, 67.178, 67.306, 67.384, 67.425, 67.446, 67.468, 67.511, 67.592, 67.724, 67.916, 68.173, 68.483, 68.831, 69.207, 69.595, 69.981, 70.351, 70.697, 71.013, 71.297, 71.551, 71.788, 72.017, 72.244, 72.476, 72.72, 72.976, 73.242, 73.517, 73.793, 74.061, 74.315, 74.549, 74.761, nan]\n"
     ]
    },
    {
     "data": {
      "application/vnd.plotly.v1+json": {
       "config": {
        "plotlyServerURL": "https://plot.ly"
       },
       "data": [
        {
         "hovertemplate": "Year=%{x}<br>Life Expectancy=%{y}<extra></extra>",
         "legendgroup": "",
         "line": {
          "color": "#636efa",
          "dash": "solid"
         },
         "marker": {
          "symbol": "circle"
         },
         "mode": "lines",
         "name": "",
         "orientation": "v",
         "showlegend": false,
         "type": "scatter",
         "x": [
          2000,
          2001,
          2002,
          2003,
          2004,
          2005,
          2006,
          2007,
          2008,
          2009,
          2010
         ],
         "xaxis": "x",
         "y": [
          69.595,
          69.981,
          70.351,
          70.697,
          71.013,
          71.297,
          71.551,
          71.788,
          72.017,
          72.244,
          72.476
         ],
         "yaxis": "y"
        }
       ],
       "layout": {
        "legend": {
         "tracegroupgap": 0
        },
        "template": {
         "data": {
          "bar": [
           {
            "error_x": {
             "color": "#2a3f5f"
            },
            "error_y": {
             "color": "#2a3f5f"
            },
            "marker": {
             "line": {
              "color": "#E5ECF6",
              "width": 0.5
             },
             "pattern": {
              "fillmode": "overlay",
              "size": 10,
              "solidity": 0.2
             }
            },
            "type": "bar"
           }
          ],
          "barpolar": [
           {
            "marker": {
             "line": {
              "color": "#E5ECF6",
              "width": 0.5
             },
             "pattern": {
              "fillmode": "overlay",
              "size": 10,
              "solidity": 0.2
             }
            },
            "type": "barpolar"
           }
          ],
          "carpet": [
           {
            "aaxis": {
             "endlinecolor": "#2a3f5f",
             "gridcolor": "white",
             "linecolor": "white",
             "minorgridcolor": "white",
             "startlinecolor": "#2a3f5f"
            },
            "baxis": {
             "endlinecolor": "#2a3f5f",
             "gridcolor": "white",
             "linecolor": "white",
             "minorgridcolor": "white",
             "startlinecolor": "#2a3f5f"
            },
            "type": "carpet"
           }
          ],
          "choropleth": [
           {
            "colorbar": {
             "outlinewidth": 0,
             "ticks": ""
            },
            "type": "choropleth"
           }
          ],
          "contour": [
           {
            "colorbar": {
             "outlinewidth": 0,
             "ticks": ""
            },
            "colorscale": [
             [
              0,
              "#0d0887"
             ],
             [
              0.1111111111111111,
              "#46039f"
             ],
             [
              0.2222222222222222,
              "#7201a8"
             ],
             [
              0.3333333333333333,
              "#9c179e"
             ],
             [
              0.4444444444444444,
              "#bd3786"
             ],
             [
              0.5555555555555556,
              "#d8576b"
             ],
             [
              0.6666666666666666,
              "#ed7953"
             ],
             [
              0.7777777777777778,
              "#fb9f3a"
             ],
             [
              0.8888888888888888,
              "#fdca26"
             ],
             [
              1,
              "#f0f921"
             ]
            ],
            "type": "contour"
           }
          ],
          "contourcarpet": [
           {
            "colorbar": {
             "outlinewidth": 0,
             "ticks": ""
            },
            "type": "contourcarpet"
           }
          ],
          "heatmap": [
           {
            "colorbar": {
             "outlinewidth": 0,
             "ticks": ""
            },
            "colorscale": [
             [
              0,
              "#0d0887"
             ],
             [
              0.1111111111111111,
              "#46039f"
             ],
             [
              0.2222222222222222,
              "#7201a8"
             ],
             [
              0.3333333333333333,
              "#9c179e"
             ],
             [
              0.4444444444444444,
              "#bd3786"
             ],
             [
              0.5555555555555556,
              "#d8576b"
             ],
             [
              0.6666666666666666,
              "#ed7953"
             ],
             [
              0.7777777777777778,
              "#fb9f3a"
             ],
             [
              0.8888888888888888,
              "#fdca26"
             ],
             [
              1,
              "#f0f921"
             ]
            ],
            "type": "heatmap"
           }
          ],
          "heatmapgl": [
           {
            "colorbar": {
             "outlinewidth": 0,
             "ticks": ""
            },
            "colorscale": [
             [
              0,
              "#0d0887"
             ],
             [
              0.1111111111111111,
              "#46039f"
             ],
             [
              0.2222222222222222,
              "#7201a8"
             ],
             [
              0.3333333333333333,
              "#9c179e"
             ],
             [
              0.4444444444444444,
              "#bd3786"
             ],
             [
              0.5555555555555556,
              "#d8576b"
             ],
             [
              0.6666666666666666,
              "#ed7953"
             ],
             [
              0.7777777777777778,
              "#fb9f3a"
             ],
             [
              0.8888888888888888,
              "#fdca26"
             ],
             [
              1,
              "#f0f921"
             ]
            ],
            "type": "heatmapgl"
           }
          ],
          "histogram": [
           {
            "marker": {
             "pattern": {
              "fillmode": "overlay",
              "size": 10,
              "solidity": 0.2
             }
            },
            "type": "histogram"
           }
          ],
          "histogram2d": [
           {
            "colorbar": {
             "outlinewidth": 0,
             "ticks": ""
            },
            "colorscale": [
             [
              0,
              "#0d0887"
             ],
             [
              0.1111111111111111,
              "#46039f"
             ],
             [
              0.2222222222222222,
              "#7201a8"
             ],
             [
              0.3333333333333333,
              "#9c179e"
             ],
             [
              0.4444444444444444,
              "#bd3786"
             ],
             [
              0.5555555555555556,
              "#d8576b"
             ],
             [
              0.6666666666666666,
              "#ed7953"
             ],
             [
              0.7777777777777778,
              "#fb9f3a"
             ],
             [
              0.8888888888888888,
              "#fdca26"
             ],
             [
              1,
              "#f0f921"
             ]
            ],
            "type": "histogram2d"
           }
          ],
          "histogram2dcontour": [
           {
            "colorbar": {
             "outlinewidth": 0,
             "ticks": ""
            },
            "colorscale": [
             [
              0,
              "#0d0887"
             ],
             [
              0.1111111111111111,
              "#46039f"
             ],
             [
              0.2222222222222222,
              "#7201a8"
             ],
             [
              0.3333333333333333,
              "#9c179e"
             ],
             [
              0.4444444444444444,
              "#bd3786"
             ],
             [
              0.5555555555555556,
              "#d8576b"
             ],
             [
              0.6666666666666666,
              "#ed7953"
             ],
             [
              0.7777777777777778,
              "#fb9f3a"
             ],
             [
              0.8888888888888888,
              "#fdca26"
             ],
             [
              1,
              "#f0f921"
             ]
            ],
            "type": "histogram2dcontour"
           }
          ],
          "mesh3d": [
           {
            "colorbar": {
             "outlinewidth": 0,
             "ticks": ""
            },
            "type": "mesh3d"
           }
          ],
          "parcoords": [
           {
            "line": {
             "colorbar": {
              "outlinewidth": 0,
              "ticks": ""
             }
            },
            "type": "parcoords"
           }
          ],
          "pie": [
           {
            "automargin": true,
            "type": "pie"
           }
          ],
          "scatter": [
           {
            "marker": {
             "colorbar": {
              "outlinewidth": 0,
              "ticks": ""
             }
            },
            "type": "scatter"
           }
          ],
          "scatter3d": [
           {
            "line": {
             "colorbar": {
              "outlinewidth": 0,
              "ticks": ""
             }
            },
            "marker": {
             "colorbar": {
              "outlinewidth": 0,
              "ticks": ""
             }
            },
            "type": "scatter3d"
           }
          ],
          "scattercarpet": [
           {
            "marker": {
             "colorbar": {
              "outlinewidth": 0,
              "ticks": ""
             }
            },
            "type": "scattercarpet"
           }
          ],
          "scattergeo": [
           {
            "marker": {
             "colorbar": {
              "outlinewidth": 0,
              "ticks": ""
             }
            },
            "type": "scattergeo"
           }
          ],
          "scattergl": [
           {
            "marker": {
             "colorbar": {
              "outlinewidth": 0,
              "ticks": ""
             }
            },
            "type": "scattergl"
           }
          ],
          "scattermapbox": [
           {
            "marker": {
             "colorbar": {
              "outlinewidth": 0,
              "ticks": ""
             }
            },
            "type": "scattermapbox"
           }
          ],
          "scatterpolar": [
           {
            "marker": {
             "colorbar": {
              "outlinewidth": 0,
              "ticks": ""
             }
            },
            "type": "scatterpolar"
           }
          ],
          "scatterpolargl": [
           {
            "marker": {
             "colorbar": {
              "outlinewidth": 0,
              "ticks": ""
             }
            },
            "type": "scatterpolargl"
           }
          ],
          "scatterternary": [
           {
            "marker": {
             "colorbar": {
              "outlinewidth": 0,
              "ticks": ""
             }
            },
            "type": "scatterternary"
           }
          ],
          "surface": [
           {
            "colorbar": {
             "outlinewidth": 0,
             "ticks": ""
            },
            "colorscale": [
             [
              0,
              "#0d0887"
             ],
             [
              0.1111111111111111,
              "#46039f"
             ],
             [
              0.2222222222222222,
              "#7201a8"
             ],
             [
              0.3333333333333333,
              "#9c179e"
             ],
             [
              0.4444444444444444,
              "#bd3786"
             ],
             [
              0.5555555555555556,
              "#d8576b"
             ],
             [
              0.6666666666666666,
              "#ed7953"
             ],
             [
              0.7777777777777778,
              "#fb9f3a"
             ],
             [
              0.8888888888888888,
              "#fdca26"
             ],
             [
              1,
              "#f0f921"
             ]
            ],
            "type": "surface"
           }
          ],
          "table": [
           {
            "cells": {
             "fill": {
              "color": "#EBF0F8"
             },
             "line": {
              "color": "white"
             }
            },
            "header": {
             "fill": {
              "color": "#C8D4E3"
             },
             "line": {
              "color": "white"
             }
            },
            "type": "table"
           }
          ]
         },
         "layout": {
          "annotationdefaults": {
           "arrowcolor": "#2a3f5f",
           "arrowhead": 0,
           "arrowwidth": 1
          },
          "autotypenumbers": "strict",
          "coloraxis": {
           "colorbar": {
            "outlinewidth": 0,
            "ticks": ""
           }
          },
          "colorscale": {
           "diverging": [
            [
             0,
             "#8e0152"
            ],
            [
             0.1,
             "#c51b7d"
            ],
            [
             0.2,
             "#de77ae"
            ],
            [
             0.3,
             "#f1b6da"
            ],
            [
             0.4,
             "#fde0ef"
            ],
            [
             0.5,
             "#f7f7f7"
            ],
            [
             0.6,
             "#e6f5d0"
            ],
            [
             0.7,
             "#b8e186"
            ],
            [
             0.8,
             "#7fbc41"
            ],
            [
             0.9,
             "#4d9221"
            ],
            [
             1,
             "#276419"
            ]
           ],
           "sequential": [
            [
             0,
             "#0d0887"
            ],
            [
             0.1111111111111111,
             "#46039f"
            ],
            [
             0.2222222222222222,
             "#7201a8"
            ],
            [
             0.3333333333333333,
             "#9c179e"
            ],
            [
             0.4444444444444444,
             "#bd3786"
            ],
            [
             0.5555555555555556,
             "#d8576b"
            ],
            [
             0.6666666666666666,
             "#ed7953"
            ],
            [
             0.7777777777777778,
             "#fb9f3a"
            ],
            [
             0.8888888888888888,
             "#fdca26"
            ],
            [
             1,
             "#f0f921"
            ]
           ],
           "sequentialminus": [
            [
             0,
             "#0d0887"
            ],
            [
             0.1111111111111111,
             "#46039f"
            ],
            [
             0.2222222222222222,
             "#7201a8"
            ],
            [
             0.3333333333333333,
             "#9c179e"
            ],
            [
             0.4444444444444444,
             "#bd3786"
            ],
            [
             0.5555555555555556,
             "#d8576b"
            ],
            [
             0.6666666666666666,
             "#ed7953"
            ],
            [
             0.7777777777777778,
             "#fb9f3a"
            ],
            [
             0.8888888888888888,
             "#fdca26"
            ],
            [
             1,
             "#f0f921"
            ]
           ]
          },
          "colorway": [
           "#636efa",
           "#EF553B",
           "#00cc96",
           "#ab63fa",
           "#FFA15A",
           "#19d3f3",
           "#FF6692",
           "#B6E880",
           "#FF97FF",
           "#FECB52"
          ],
          "font": {
           "color": "#2a3f5f"
          },
          "geo": {
           "bgcolor": "white",
           "lakecolor": "white",
           "landcolor": "#E5ECF6",
           "showlakes": true,
           "showland": true,
           "subunitcolor": "white"
          },
          "hoverlabel": {
           "align": "left"
          },
          "hovermode": "closest",
          "mapbox": {
           "style": "light"
          },
          "paper_bgcolor": "white",
          "plot_bgcolor": "#E5ECF6",
          "polar": {
           "angularaxis": {
            "gridcolor": "white",
            "linecolor": "white",
            "ticks": ""
           },
           "bgcolor": "#E5ECF6",
           "radialaxis": {
            "gridcolor": "white",
            "linecolor": "white",
            "ticks": ""
           }
          },
          "scene": {
           "xaxis": {
            "backgroundcolor": "#E5ECF6",
            "gridcolor": "white",
            "gridwidth": 2,
            "linecolor": "white",
            "showbackground": true,
            "ticks": "",
            "zerolinecolor": "white"
           },
           "yaxis": {
            "backgroundcolor": "#E5ECF6",
            "gridcolor": "white",
            "gridwidth": 2,
            "linecolor": "white",
            "showbackground": true,
            "ticks": "",
            "zerolinecolor": "white"
           },
           "zaxis": {
            "backgroundcolor": "#E5ECF6",
            "gridcolor": "white",
            "gridwidth": 2,
            "linecolor": "white",
            "showbackground": true,
            "ticks": "",
            "zerolinecolor": "white"
           }
          },
          "shapedefaults": {
           "line": {
            "color": "#2a3f5f"
           }
          },
          "ternary": {
           "aaxis": {
            "gridcolor": "white",
            "linecolor": "white",
            "ticks": ""
           },
           "baxis": {
            "gridcolor": "white",
            "linecolor": "white",
            "ticks": ""
           },
           "bgcolor": "#E5ECF6",
           "caxis": {
            "gridcolor": "white",
            "linecolor": "white",
            "ticks": ""
           }
          },
          "title": {
           "x": 0.05
          },
          "xaxis": {
           "automargin": true,
           "gridcolor": "white",
           "linecolor": "white",
           "ticks": "",
           "title": {
            "standoff": 15
           },
           "zerolinecolor": "white",
           "zerolinewidth": 2
          },
          "yaxis": {
           "automargin": true,
           "gridcolor": "white",
           "linecolor": "white",
           "ticks": "",
           "title": {
            "standoff": 15
           },
           "zerolinecolor": "white",
           "zerolinewidth": 2
          }
         }
        },
        "title": {
         "text": "life expectancy from 2000 to 2010"
        },
        "xaxis": {
         "anchor": "y",
         "domain": [
          0,
          1
         ],
         "title": {
          "text": "Year"
         }
        },
        "yaxis": {
         "anchor": "x",
         "domain": [
          0,
          1
         ],
         "title": {
          "text": "Life Expectancy"
         }
        }
       }
      },
      "text/html": [
       "<div>                            <div id=\"4734d64e-bbea-469e-b437-eb048091d08e\" class=\"plotly-graph-div\" style=\"height:525px; width:100%;\"></div>            <script type=\"text/javascript\">                require([\"plotly\"], function(Plotly) {                    window.PLOTLYENV=window.PLOTLYENV || {};                                    if (document.getElementById(\"4734d64e-bbea-469e-b437-eb048091d08e\")) {                    Plotly.newPlot(                        \"4734d64e-bbea-469e-b437-eb048091d08e\",                        [{\"hovertemplate\":\"Year=%{x}<br>Life Expectancy=%{y}<extra></extra>\",\"legendgroup\":\"\",\"line\":{\"color\":\"#636efa\",\"dash\":\"solid\"},\"marker\":{\"symbol\":\"circle\"},\"mode\":\"lines\",\"name\":\"\",\"orientation\":\"v\",\"showlegend\":false,\"x\":[2000,2001,2002,2003,2004,2005,2006,2007,2008,2009,2010],\"xaxis\":\"x\",\"y\":[69.595,69.981,70.351,70.697,71.013,71.297,71.551,71.788,72.017,72.244,72.476],\"yaxis\":\"y\",\"type\":\"scatter\"}],                        {\"template\":{\"data\":{\"bar\":[{\"error_x\":{\"color\":\"#2a3f5f\"},\"error_y\":{\"color\":\"#2a3f5f\"},\"marker\":{\"line\":{\"color\":\"#E5ECF6\",\"width\":0.5},\"pattern\":{\"fillmode\":\"overlay\",\"size\":10,\"solidity\":0.2}},\"type\":\"bar\"}],\"barpolar\":[{\"marker\":{\"line\":{\"color\":\"#E5ECF6\",\"width\":0.5},\"pattern\":{\"fillmode\":\"overlay\",\"size\":10,\"solidity\":0.2}},\"type\":\"barpolar\"}],\"carpet\":[{\"aaxis\":{\"endlinecolor\":\"#2a3f5f\",\"gridcolor\":\"white\",\"linecolor\":\"white\",\"minorgridcolor\":\"white\",\"startlinecolor\":\"#2a3f5f\"},\"baxis\":{\"endlinecolor\":\"#2a3f5f\",\"gridcolor\":\"white\",\"linecolor\":\"white\",\"minorgridcolor\":\"white\",\"startlinecolor\":\"#2a3f5f\"},\"type\":\"carpet\"}],\"choropleth\":[{\"colorbar\":{\"outlinewidth\":0,\"ticks\":\"\"},\"type\":\"choropleth\"}],\"contour\":[{\"colorbar\":{\"outlinewidth\":0,\"ticks\":\"\"},\"colorscale\":[[0.0,\"#0d0887\"],[0.1111111111111111,\"#46039f\"],[0.2222222222222222,\"#7201a8\"],[0.3333333333333333,\"#9c179e\"],[0.4444444444444444,\"#bd3786\"],[0.5555555555555556,\"#d8576b\"],[0.6666666666666666,\"#ed7953\"],[0.7777777777777778,\"#fb9f3a\"],[0.8888888888888888,\"#fdca26\"],[1.0,\"#f0f921\"]],\"type\":\"contour\"}],\"contourcarpet\":[{\"colorbar\":{\"outlinewidth\":0,\"ticks\":\"\"},\"type\":\"contourcarpet\"}],\"heatmap\":[{\"colorbar\":{\"outlinewidth\":0,\"ticks\":\"\"},\"colorscale\":[[0.0,\"#0d0887\"],[0.1111111111111111,\"#46039f\"],[0.2222222222222222,\"#7201a8\"],[0.3333333333333333,\"#9c179e\"],[0.4444444444444444,\"#bd3786\"],[0.5555555555555556,\"#d8576b\"],[0.6666666666666666,\"#ed7953\"],[0.7777777777777778,\"#fb9f3a\"],[0.8888888888888888,\"#fdca26\"],[1.0,\"#f0f921\"]],\"type\":\"heatmap\"}],\"heatmapgl\":[{\"colorbar\":{\"outlinewidth\":0,\"ticks\":\"\"},\"colorscale\":[[0.0,\"#0d0887\"],[0.1111111111111111,\"#46039f\"],[0.2222222222222222,\"#7201a8\"],[0.3333333333333333,\"#9c179e\"],[0.4444444444444444,\"#bd3786\"],[0.5555555555555556,\"#d8576b\"],[0.6666666666666666,\"#ed7953\"],[0.7777777777777778,\"#fb9f3a\"],[0.8888888888888888,\"#fdca26\"],[1.0,\"#f0f921\"]],\"type\":\"heatmapgl\"}],\"histogram\":[{\"marker\":{\"pattern\":{\"fillmode\":\"overlay\",\"size\":10,\"solidity\":0.2}},\"type\":\"histogram\"}],\"histogram2d\":[{\"colorbar\":{\"outlinewidth\":0,\"ticks\":\"\"},\"colorscale\":[[0.0,\"#0d0887\"],[0.1111111111111111,\"#46039f\"],[0.2222222222222222,\"#7201a8\"],[0.3333333333333333,\"#9c179e\"],[0.4444444444444444,\"#bd3786\"],[0.5555555555555556,\"#d8576b\"],[0.6666666666666666,\"#ed7953\"],[0.7777777777777778,\"#fb9f3a\"],[0.8888888888888888,\"#fdca26\"],[1.0,\"#f0f921\"]],\"type\":\"histogram2d\"}],\"histogram2dcontour\":[{\"colorbar\":{\"outlinewidth\":0,\"ticks\":\"\"},\"colorscale\":[[0.0,\"#0d0887\"],[0.1111111111111111,\"#46039f\"],[0.2222222222222222,\"#7201a8\"],[0.3333333333333333,\"#9c179e\"],[0.4444444444444444,\"#bd3786\"],[0.5555555555555556,\"#d8576b\"],[0.6666666666666666,\"#ed7953\"],[0.7777777777777778,\"#fb9f3a\"],[0.8888888888888888,\"#fdca26\"],[1.0,\"#f0f921\"]],\"type\":\"histogram2dcontour\"}],\"mesh3d\":[{\"colorbar\":{\"outlinewidth\":0,\"ticks\":\"\"},\"type\":\"mesh3d\"}],\"parcoords\":[{\"line\":{\"colorbar\":{\"outlinewidth\":0,\"ticks\":\"\"}},\"type\":\"parcoords\"}],\"pie\":[{\"automargin\":true,\"type\":\"pie\"}],\"scatter\":[{\"marker\":{\"colorbar\":{\"outlinewidth\":0,\"ticks\":\"\"}},\"type\":\"scatter\"}],\"scatter3d\":[{\"line\":{\"colorbar\":{\"outlinewidth\":0,\"ticks\":\"\"}},\"marker\":{\"colorbar\":{\"outlinewidth\":0,\"ticks\":\"\"}},\"type\":\"scatter3d\"}],\"scattercarpet\":[{\"marker\":{\"colorbar\":{\"outlinewidth\":0,\"ticks\":\"\"}},\"type\":\"scattercarpet\"}],\"scattergeo\":[{\"marker\":{\"colorbar\":{\"outlinewidth\":0,\"ticks\":\"\"}},\"type\":\"scattergeo\"}],\"scattergl\":[{\"marker\":{\"colorbar\":{\"outlinewidth\":0,\"ticks\":\"\"}},\"type\":\"scattergl\"}],\"scattermapbox\":[{\"marker\":{\"colorbar\":{\"outlinewidth\":0,\"ticks\":\"\"}},\"type\":\"scattermapbox\"}],\"scatterpolar\":[{\"marker\":{\"colorbar\":{\"outlinewidth\":0,\"ticks\":\"\"}},\"type\":\"scatterpolar\"}],\"scatterpolargl\":[{\"marker\":{\"colorbar\":{\"outlinewidth\":0,\"ticks\":\"\"}},\"type\":\"scatterpolargl\"}],\"scatterternary\":[{\"marker\":{\"colorbar\":{\"outlinewidth\":0,\"ticks\":\"\"}},\"type\":\"scatterternary\"}],\"surface\":[{\"colorbar\":{\"outlinewidth\":0,\"ticks\":\"\"},\"colorscale\":[[0.0,\"#0d0887\"],[0.1111111111111111,\"#46039f\"],[0.2222222222222222,\"#7201a8\"],[0.3333333333333333,\"#9c179e\"],[0.4444444444444444,\"#bd3786\"],[0.5555555555555556,\"#d8576b\"],[0.6666666666666666,\"#ed7953\"],[0.7777777777777778,\"#fb9f3a\"],[0.8888888888888888,\"#fdca26\"],[1.0,\"#f0f921\"]],\"type\":\"surface\"}],\"table\":[{\"cells\":{\"fill\":{\"color\":\"#EBF0F8\"},\"line\":{\"color\":\"white\"}},\"header\":{\"fill\":{\"color\":\"#C8D4E3\"},\"line\":{\"color\":\"white\"}},\"type\":\"table\"}]},\"layout\":{\"annotationdefaults\":{\"arrowcolor\":\"#2a3f5f\",\"arrowhead\":0,\"arrowwidth\":1},\"autotypenumbers\":\"strict\",\"coloraxis\":{\"colorbar\":{\"outlinewidth\":0,\"ticks\":\"\"}},\"colorscale\":{\"diverging\":[[0,\"#8e0152\"],[0.1,\"#c51b7d\"],[0.2,\"#de77ae\"],[0.3,\"#f1b6da\"],[0.4,\"#fde0ef\"],[0.5,\"#f7f7f7\"],[0.6,\"#e6f5d0\"],[0.7,\"#b8e186\"],[0.8,\"#7fbc41\"],[0.9,\"#4d9221\"],[1,\"#276419\"]],\"sequential\":[[0.0,\"#0d0887\"],[0.1111111111111111,\"#46039f\"],[0.2222222222222222,\"#7201a8\"],[0.3333333333333333,\"#9c179e\"],[0.4444444444444444,\"#bd3786\"],[0.5555555555555556,\"#d8576b\"],[0.6666666666666666,\"#ed7953\"],[0.7777777777777778,\"#fb9f3a\"],[0.8888888888888888,\"#fdca26\"],[1.0,\"#f0f921\"]],\"sequentialminus\":[[0.0,\"#0d0887\"],[0.1111111111111111,\"#46039f\"],[0.2222222222222222,\"#7201a8\"],[0.3333333333333333,\"#9c179e\"],[0.4444444444444444,\"#bd3786\"],[0.5555555555555556,\"#d8576b\"],[0.6666666666666666,\"#ed7953\"],[0.7777777777777778,\"#fb9f3a\"],[0.8888888888888888,\"#fdca26\"],[1.0,\"#f0f921\"]]},\"colorway\":[\"#636efa\",\"#EF553B\",\"#00cc96\",\"#ab63fa\",\"#FFA15A\",\"#19d3f3\",\"#FF6692\",\"#B6E880\",\"#FF97FF\",\"#FECB52\"],\"font\":{\"color\":\"#2a3f5f\"},\"geo\":{\"bgcolor\":\"white\",\"lakecolor\":\"white\",\"landcolor\":\"#E5ECF6\",\"showlakes\":true,\"showland\":true,\"subunitcolor\":\"white\"},\"hoverlabel\":{\"align\":\"left\"},\"hovermode\":\"closest\",\"mapbox\":{\"style\":\"light\"},\"paper_bgcolor\":\"white\",\"plot_bgcolor\":\"#E5ECF6\",\"polar\":{\"angularaxis\":{\"gridcolor\":\"white\",\"linecolor\":\"white\",\"ticks\":\"\"},\"bgcolor\":\"#E5ECF6\",\"radialaxis\":{\"gridcolor\":\"white\",\"linecolor\":\"white\",\"ticks\":\"\"}},\"scene\":{\"xaxis\":{\"backgroundcolor\":\"#E5ECF6\",\"gridcolor\":\"white\",\"gridwidth\":2,\"linecolor\":\"white\",\"showbackground\":true,\"ticks\":\"\",\"zerolinecolor\":\"white\"},\"yaxis\":{\"backgroundcolor\":\"#E5ECF6\",\"gridcolor\":\"white\",\"gridwidth\":2,\"linecolor\":\"white\",\"showbackground\":true,\"ticks\":\"\",\"zerolinecolor\":\"white\"},\"zaxis\":{\"backgroundcolor\":\"#E5ECF6\",\"gridcolor\":\"white\",\"gridwidth\":2,\"linecolor\":\"white\",\"showbackground\":true,\"ticks\":\"\",\"zerolinecolor\":\"white\"}},\"shapedefaults\":{\"line\":{\"color\":\"#2a3f5f\"}},\"ternary\":{\"aaxis\":{\"gridcolor\":\"white\",\"linecolor\":\"white\",\"ticks\":\"\"},\"baxis\":{\"gridcolor\":\"white\",\"linecolor\":\"white\",\"ticks\":\"\"},\"bgcolor\":\"#E5ECF6\",\"caxis\":{\"gridcolor\":\"white\",\"linecolor\":\"white\",\"ticks\":\"\"}},\"title\":{\"x\":0.05},\"xaxis\":{\"automargin\":true,\"gridcolor\":\"white\",\"linecolor\":\"white\",\"ticks\":\"\",\"title\":{\"standoff\":15},\"zerolinecolor\":\"white\",\"zerolinewidth\":2},\"yaxis\":{\"automargin\":true,\"gridcolor\":\"white\",\"linecolor\":\"white\",\"ticks\":\"\",\"title\":{\"standoff\":15},\"zerolinecolor\":\"white\",\"zerolinewidth\":2}}},\"xaxis\":{\"anchor\":\"y\",\"domain\":[0.0,1.0],\"title\":{\"text\":\"Year\"}},\"yaxis\":{\"anchor\":\"x\",\"domain\":[0.0,1.0],\"title\":{\"text\":\"Life Expectancy\"}},\"legend\":{\"tracegroupgap\":0},\"title\":{\"text\":\"life expectancy from 2000 to 2010\"}},                        {\"responsive\": true}                    ).then(function(){\n",
       "                            \n",
       "var gd = document.getElementById('4734d64e-bbea-469e-b437-eb048091d08e');\n",
       "var x = new MutationObserver(function (mutations, observer) {{\n",
       "        var display = window.getComputedStyle(gd).display;\n",
       "        if (!display || display === 'none') {{\n",
       "            console.log([gd, 'removed!']);\n",
       "            Plotly.purge(gd);\n",
       "            observer.disconnect();\n",
       "        }}\n",
       "}});\n",
       "\n",
       "// Listen for the removal of the full notebook cells\n",
       "var notebookContainer = gd.closest('#notebook-container');\n",
       "if (notebookContainer) {{\n",
       "    x.observe(notebookContainer, {childList: true});\n",
       "}}\n",
       "\n",
       "// Listen for the clearing of the current output cell\n",
       "var outputEl = gd.closest('.output');\n",
       "if (outputEl) {{\n",
       "    x.observe(outputEl, {childList: true});\n",
       "}}\n",
       "\n",
       "                        })                };                });            </script>        </div>"
      ]
     },
     "metadata": {},
     "output_type": "display_data"
    }
   ],
   "source": [
    "'''\n",
    "TASK 1.2.4:\n",
    "          Plot the percentage change in the life expectancy from 2000 to 2010, for the country having the \n",
    "          highest population in 2005. \n",
    "'''\n",
    "\n",
    "##The country code with the highest population in the year 2005 is extracted\n",
    "df_4 = df.loc[df['Population_2005'].idxmax()].to_list()\n",
    "print (df_4)\n",
    "## After extracting the country code, the data for range 2000-2010 is extraced of life expectancy for that country code\n",
    "df_4_plot_x = [2000,2001,2002,2003,2004,2005,2006,2007,2008,2009,2010]\n",
    "df_4_plot_y = df_4[103:114].copy()\n",
    "\n",
    "\n",
    "df_4 = pd.DataFrame(columns=['Year','Life Expectancy'])\n",
    "df_4['Year'] = df_4_plot_x.copy()\n",
    "df_4['Life Expectancy'] = df_4_plot_y.copy()\n",
    "\n",
    "##This graph shows the year-on-year change in the life expectancy of the country with the highest population in the year 2005\n",
    "fig4 = px.line(df_4,x='Year', y='Life Expectancy',title='life expectancy from 2000 to 2010')\n",
    "fig4.show()\n",
    "\n",
    "\n"
   ]
  },
  {
   "cell_type": "code",
   "execution_count": 28,
   "metadata": {
    "colab": {
     "base_uri": "https://localhost:8080/",
     "height": 542
    },
    "id": "p0wAHlVthJyd",
    "outputId": "79c440dc-7f69-40aa-8670-d6370e164a66"
   },
   "outputs": [
    {
     "data": {
      "application/vnd.plotly.v1+json": {
       "config": {
        "plotlyServerURL": "https://plot.ly"
       },
       "data": [
        {
         "hovertemplate": "Country=Aruba<br>P_Mean=%{x}<br>LE_Mean=%{y}<br>width=%{marker.size}<extra></extra>",
         "legendgroup": "Aruba",
         "marker": {
          "color": "#636efa",
          "size": [
           0.5
          ],
          "sizemode": "area",
          "sizeref": 0.00125,
          "symbol": "circle"
         },
         "mode": "markers",
         "name": "Aruba",
         "orientation": "v",
         "showlegend": true,
         "type": "scatter",
         "x": [
          108107.3
         ],
         "xaxis": "x",
         "y": [
          79.0413
         ],
         "yaxis": "y"
        },
        {
         "hovertemplate": "Country=Afghanistan<br>P_Mean=%{x}<br>LE_Mean=%{y}<br>width=%{marker.size}<extra></extra>",
         "legendgroup": "Afghanistan",
         "marker": {
          "color": "#EF553B",
          "size": [
           0.5
          ],
          "sizemode": "area",
          "sizeref": 0.00125,
          "symbol": "circle"
         },
         "mode": "markers",
         "name": "Afghanistan",
         "orientation": "v",
         "showlegend": true,
         "type": "scatter",
         "x": [
          27788575.5
         ],
         "xaxis": "x",
         "y": [
          62.81289999999999
         ],
         "yaxis": "y"
        },
        {
         "hovertemplate": "Country=Angola<br>P_Mean=%{x}<br>LE_Mean=%{y}<br>width=%{marker.size}<extra></extra>",
         "legendgroup": "Angola",
         "marker": {
          "color": "#00cc96",
          "size": [
           0.5
          ],
          "sizemode": "area",
          "sizeref": 0.00125,
          "symbol": "circle"
         },
         "mode": "markers",
         "name": "Angola",
         "orientation": "v",
         "showlegend": true,
         "type": "scatter",
         "x": [
          21579529
         ],
         "xaxis": "x",
         "y": [
          53.03430000000001
         ],
         "yaxis": "y"
        },
        {
         "hovertemplate": "Country=Albania<br>P_Mean=%{x}<br>LE_Mean=%{y}<br>width=%{marker.size}<extra></extra>",
         "legendgroup": "Albania",
         "marker": {
          "color": "#ab63fa",
          "size": [
           0.5
          ],
          "sizemode": "area",
          "sizeref": 0.00125,
          "symbol": "circle"
         },
         "mode": "markers",
         "name": "Albania",
         "orientation": "v",
         "showlegend": true,
         "type": "scatter",
         "x": [
          3302867
         ],
         "xaxis": "x",
         "y": [
          79.96470000000001
         ],
         "yaxis": "y"
        },
        {
         "hovertemplate": "Country=Andorra<br>P_Mean=%{x}<br>LE_Mean=%{y}<br>width=%{marker.size}<extra></extra>",
         "legendgroup": "Andorra",
         "marker": {
          "color": "#FFA15A",
          "size": [
           0.5
          ],
          "sizemode": "area",
          "sizeref": 0.00125,
          "symbol": "circle"
         },
         "mode": "markers",
         "name": "Andorra",
         "orientation": "v",
         "showlegend": true,
         "type": "scatter",
         "x": [
          84753.5
         ],
         "xaxis": "x",
         "y": [
          null
         ],
         "yaxis": "y"
        },
        {
         "hovertemplate": "Country=United Arab Emirates<br>P_Mean=%{x}<br>LE_Mean=%{y}<br>width=%{marker.size}<extra></extra>",
         "legendgroup": "United Arab Emirates",
         "marker": {
          "color": "#19d3f3",
          "size": [
           0.5
          ],
          "sizemode": "area",
          "sizeref": 0.00125,
          "symbol": "circle"
         },
         "mode": "markers",
         "name": "United Arab Emirates",
         "orientation": "v",
         "showlegend": true,
         "type": "scatter",
         "x": [
          5731015.8
         ],
         "xaxis": "x",
         "y": [
          82.04740000000001
         ],
         "yaxis": "y"
        },
        {
         "hovertemplate": "Country=Argentina<br>P_Mean=%{x}<br>LE_Mean=%{y}<br>width=%{marker.size}<extra></extra>",
         "legendgroup": "Argentina",
         "marker": {
          "color": "#FF6692",
          "size": [
           0.5
          ],
          "sizemode": "area",
          "sizeref": 0.00125,
          "symbol": "circle"
         },
         "mode": "markers",
         "name": "Argentina",
         "orientation": "v",
         "showlegend": true,
         "type": "scatter",
         "x": [
          42762652
         ],
         "xaxis": "x",
         "y": [
          78.0975
         ],
         "yaxis": "y"
        },
        {
         "hovertemplate": "Country=Armenia<br>P_Mean=%{x}<br>LE_Mean=%{y}<br>width=%{marker.size}<extra></extra>",
         "legendgroup": "Armenia",
         "marker": {
          "color": "#B6E880",
          "size": [
           0.5
          ],
          "sizemode": "area",
          "sizeref": 0.00125,
          "symbol": "circle"
         },
         "mode": "markers",
         "name": "Armenia",
         "orientation": "v",
         "showlegend": true,
         "type": "scatter",
         "x": [
          3271811.3
         ],
         "xaxis": "x",
         "y": [
          76.1225
         ],
         "yaxis": "y"
        },
        {
         "hovertemplate": "Country=American Samoa<br>P_Mean=%{x}<br>LE_Mean=%{y}<br>width=%{marker.size}<extra></extra>",
         "legendgroup": "American Samoa",
         "marker": {
          "color": "#FF97FF",
          "size": [
           0.5
          ],
          "sizemode": "area",
          "sizeref": 0.00125,
          "symbol": "circle"
         },
         "mode": "markers",
         "name": "American Samoa",
         "orientation": "v",
         "showlegend": true,
         "type": "scatter",
         "x": [
          64185
         ],
         "xaxis": "x",
         "y": [
          null
         ],
         "yaxis": "y"
        },
        {
         "hovertemplate": "Country=Antigua and Barbuda<br>P_Mean=%{x}<br>LE_Mean=%{y}<br>width=%{marker.size}<extra></extra>",
         "legendgroup": "Antigua and Barbuda",
         "marker": {
          "color": "#FECB52",
          "size": [
           0.5
          ],
          "sizemode": "area",
          "sizeref": 0.00125,
          "symbol": "circle"
         },
         "mode": "markers",
         "name": "Antigua and Barbuda",
         "orientation": "v",
         "showlegend": true,
         "type": "scatter",
         "x": [
          89954.8
         ],
         "xaxis": "x",
         "y": [
          80.86909999999999
         ],
         "yaxis": "y"
        },
        {
         "hovertemplate": "Country=Australia<br>P_Mean=%{x}<br>LE_Mean=%{y}<br>width=%{marker.size}<extra></extra>",
         "legendgroup": "Australia",
         "marker": {
          "color": "#636efa",
          "size": [
           0.5
          ],
          "sizemode": "area",
          "sizeref": 0.00125,
          "symbol": "circle"
         },
         "mode": "markers",
         "name": "Australia",
         "orientation": "v",
         "showlegend": true,
         "type": "scatter",
         "x": [
          22513315
         ],
         "xaxis": "x",
         "y": [
          86.11
         ],
         "yaxis": "y"
        },
        {
         "hovertemplate": "Country=Austria<br>P_Mean=%{x}<br>LE_Mean=%{y}<br>width=%{marker.size}<extra></extra>",
         "legendgroup": "Austria",
         "marker": {
          "color": "#EF553B",
          "size": [
           0.5
          ],
          "sizemode": "area",
          "sizeref": 0.00125,
          "symbol": "circle"
         },
         "mode": "markers",
         "name": "Austria",
         "orientation": "v",
         "showlegend": true,
         "type": "scatter",
         "x": [
          9024938.5
         ],
         "xaxis": "x",
         "y": [
          84.31
         ],
         "yaxis": "y"
        },
        {
         "hovertemplate": "Country=Azerbaijan<br>P_Mean=%{x}<br>LE_Mean=%{y}<br>width=%{marker.size}<extra></extra>",
         "legendgroup": "Azerbaijan",
         "marker": {
          "color": "#00cc96",
          "size": [
           0.5
          ],
          "sizemode": "area",
          "sizeref": 0.00125,
          "symbol": "circle"
         },
         "mode": "markers",
         "name": "Azerbaijan",
         "orientation": "v",
         "showlegend": true,
         "type": "scatter",
         "x": [
          9309502.5
         ],
         "xaxis": "x",
         "y": [
          72.2977
         ],
         "yaxis": "y"
        },
        {
         "hovertemplate": "Country=Burundi<br>P_Mean=%{x}<br>LE_Mean=%{y}<br>width=%{marker.size}<extra></extra>",
         "legendgroup": "Burundi",
         "marker": {
          "color": "#ab63fa",
          "size": [
           0.5
          ],
          "sizemode": "area",
          "sizeref": 0.00125,
          "symbol": "circle"
         },
         "mode": "markers",
         "name": "Burundi",
         "orientation": "v",
         "showlegend": true,
         "type": "scatter",
         "x": [
          8168368.8
         ],
         "xaxis": "x",
         "y": [
          56.823899999999995
         ],
         "yaxis": "y"
        },
        {
         "hovertemplate": "Country=Belgium<br>P_Mean=%{x}<br>LE_Mean=%{y}<br>width=%{marker.size}<extra></extra>",
         "legendgroup": "Belgium",
         "marker": {
          "color": "#FFA15A",
          "size": [
           0.5
          ],
          "sizemode": "area",
          "sizeref": 0.00125,
          "symbol": "circle"
         },
         "mode": "markers",
         "name": "Belgium",
         "orientation": "v",
         "showlegend": true,
         "type": "scatter",
         "x": [
          11572220.2
         ],
         "xaxis": "x",
         "y": [
          83.75999999999999
         ],
         "yaxis": "y"
        },
        {
         "hovertemplate": "Country=Benin<br>P_Mean=%{x}<br>LE_Mean=%{y}<br>width=%{marker.size}<extra></extra>",
         "legendgroup": "Benin",
         "marker": {
          "color": "#19d3f3",
          "size": [
           0.5
          ],
          "sizemode": "area",
          "sizeref": 0.00125,
          "symbol": "circle"
         },
         "mode": "markers",
         "name": "Benin",
         "orientation": "v",
         "showlegend": true,
         "type": "scatter",
         "x": [
          8800342.1
         ],
         "xaxis": "x",
         "y": [
          61.39490000000001
         ],
         "yaxis": "y"
        },
        {
         "hovertemplate": "Country=Burkina Faso<br>P_Mean=%{x}<br>LE_Mean=%{y}<br>width=%{marker.size}<extra></extra>",
         "legendgroup": "Burkina Faso",
         "marker": {
          "color": "#FF6692",
          "size": [
           0.5
          ],
          "sizemode": "area",
          "sizeref": 0.00125,
          "symbol": "circle"
         },
         "mode": "markers",
         "name": "Burkina Faso",
         "orientation": "v",
         "showlegend": true,
         "type": "scatter",
         "x": [
          14847000.8
         ],
         "xaxis": "x",
         "y": [
          57.8341
         ],
         "yaxis": "y"
        },
        {
         "hovertemplate": "Country=Bangladesh<br>P_Mean=%{x}<br>LE_Mean=%{y}<br>width=%{marker.size}<extra></extra>",
         "legendgroup": "Bangladesh",
         "marker": {
          "color": "#B6E880",
          "size": [
           0.5
          ],
          "sizemode": "area",
          "sizeref": 0.00125,
          "symbol": "circle"
         },
         "mode": "markers",
         "name": "Bangladesh",
         "orientation": "v",
         "showlegend": true,
         "type": "scatter",
         "x": [
          152242410.7
         ],
         "xaxis": "x",
         "y": [
          73.60079999999999
         ],
         "yaxis": "y"
        },
        {
         "hovertemplate": "Country=Bulgaria<br>P_Mean=%{x}<br>LE_Mean=%{y}<br>width=%{marker.size}<extra></extra>",
         "legendgroup": "Bulgaria",
         "marker": {
          "color": "#FF97FF",
          "size": [
           0.5
          ],
          "sizemode": "area",
          "sizeref": 0.00125,
          "symbol": "circle"
         },
         "mode": "markers",
         "name": "Bulgaria",
         "orientation": "v",
         "showlegend": true,
         "type": "scatter",
         "x": [
          8464659.7
         ],
         "xaxis": "x",
         "y": [
          75.97
         ],
         "yaxis": "y"
        },
        {
         "hovertemplate": "Country=Bahrain<br>P_Mean=%{x}<br>LE_Mean=%{y}<br>width=%{marker.size}<extra></extra>",
         "legendgroup": "Bahrain",
         "marker": {
          "color": "#FECB52",
          "size": [
           0.5
          ],
          "sizemode": "area",
          "sizeref": 0.00125,
          "symbol": "circle"
         },
         "mode": "markers",
         "name": "Bahrain",
         "orientation": "v",
         "showlegend": true,
         "type": "scatter",
         "x": [
          1012994.2
         ],
         "xaxis": "x",
         "y": [
          81.9834
         ],
         "yaxis": "y"
        },
        {
         "hovertemplate": "Country=Bahamas, The<br>P_Mean=%{x}<br>LE_Mean=%{y}<br>width=%{marker.size}<extra></extra>",
         "legendgroup": "Bahamas, The",
         "marker": {
          "color": "#636efa",
          "size": [
           0.5
          ],
          "sizemode": "area",
          "sizeref": 0.00125,
          "symbol": "circle"
         },
         "mode": "markers",
         "name": "Bahamas, The",
         "orientation": "v",
         "showlegend": true,
         "type": "scatter",
         "x": [
          358181.9
         ],
         "xaxis": "x",
         "y": [
          76.03139999999999
         ],
         "yaxis": "y"
        },
        {
         "hovertemplate": "Country=Bosnia and Herzegovina<br>P_Mean=%{x}<br>LE_Mean=%{y}<br>width=%{marker.size}<extra></extra>",
         "legendgroup": "Bosnia and Herzegovina",
         "marker": {
          "color": "#EF553B",
          "size": [
           0.5
          ],
          "sizemode": "area",
          "sizeref": 0.00125,
          "symbol": "circle"
         },
         "mode": "markers",
         "name": "Bosnia and Herzegovina",
         "orientation": "v",
         "showlegend": true,
         "type": "scatter",
         "x": [
          4128168.1
         ],
         "xaxis": "x",
         "y": [
          79.8013
         ],
         "yaxis": "y"
        },
        {
         "hovertemplate": "Country=Belarus<br>P_Mean=%{x}<br>LE_Mean=%{y}<br>width=%{marker.size}<extra></extra>",
         "legendgroup": "Belarus",
         "marker": {
          "color": "#00cc96",
          "size": [
           0.5
          ],
          "sizemode": "area",
          "sizeref": 0.00125,
          "symbol": "circle"
         },
         "mode": "markers",
         "name": "Belarus",
         "orientation": "v",
         "showlegend": true,
         "type": "scatter",
         "x": [
          10665572.7
         ],
         "xaxis": "x",
         "y": [
          69.94000000000001
         ],
         "yaxis": "y"
        },
        {
         "hovertemplate": "Country=Belize<br>P_Mean=%{x}<br>LE_Mean=%{y}<br>width=%{marker.size}<extra></extra>",
         "legendgroup": "Belize",
         "marker": {
          "color": "#ab63fa",
          "size": [
           0.5
          ],
          "sizemode": "area",
          "sizeref": 0.00125,
          "symbol": "circle"
         },
         "mode": "markers",
         "name": "Belize",
         "orientation": "v",
         "showlegend": true,
         "type": "scatter",
         "x": [
          312881.8
         ],
         "xaxis": "x",
         "y": [
          74.30969999999999
         ],
         "yaxis": "y"
        },
        {
         "hovertemplate": "Country=Bermuda<br>P_Mean=%{x}<br>LE_Mean=%{y}<br>width=%{marker.size}<extra></extra>",
         "legendgroup": "Bermuda",
         "marker": {
          "color": "#FFA15A",
          "size": [
           0.5
          ],
          "sizemode": "area",
          "sizeref": 0.00125,
          "symbol": "circle"
         },
         "mode": "markers",
         "name": "Bermuda",
         "orientation": "v",
         "showlegend": true,
         "type": "scatter",
         "x": [
          70391.2
         ],
         "xaxis": "x",
         "y": [
          83.6736
         ],
         "yaxis": "y"
        },
        {
         "hovertemplate": "Country=Bolivia<br>P_Mean=%{x}<br>LE_Mean=%{y}<br>width=%{marker.size}<extra></extra>",
         "legendgroup": "Bolivia",
         "marker": {
          "color": "#19d3f3",
          "size": [
           0.5
          ],
          "sizemode": "area",
          "sizeref": 0.00125,
          "symbol": "circle"
         },
         "mode": "markers",
         "name": "Bolivia",
         "orientation": "v",
         "showlegend": true,
         "type": "scatter",
         "x": [
          10155723.2
         ],
         "xaxis": "x",
         "y": [
          69.4762
         ],
         "yaxis": "y"
        },
        {
         "hovertemplate": "Country=Brazil<br>P_Mean=%{x}<br>LE_Mean=%{y}<br>width=%{marker.size}<extra></extra>",
         "legendgroup": "Brazil",
         "marker": {
          "color": "#FF6692",
          "size": [
           0.5
          ],
          "sizemode": "area",
          "sizeref": 0.00125,
          "symbol": "circle"
         },
         "mode": "markers",
         "name": "Brazil",
         "orientation": "v",
         "showlegend": true,
         "type": "scatter",
         "x": [
          204339504.6
         ],
         "xaxis": "x",
         "y": [
          74.9939
         ],
         "yaxis": "y"
        },
        {
         "hovertemplate": "Country=Barbados<br>P_Mean=%{x}<br>LE_Mean=%{y}<br>width=%{marker.size}<extra></extra>",
         "legendgroup": "Barbados",
         "marker": {
          "color": "#B6E880",
          "size": [
           0.5
          ],
          "sizemode": "area",
          "sizeref": 0.00125,
          "symbol": "circle"
         },
         "mode": "markers",
         "name": "Barbados",
         "orientation": "v",
         "showlegend": true,
         "type": "scatter",
         "x": [
          304272.2
         ],
         "xaxis": "x",
         "y": [
          83.76950000000001
         ],
         "yaxis": "y"
        },
        {
         "hovertemplate": "Country=Brunei Darussalam<br>P_Mean=%{x}<br>LE_Mean=%{y}<br>width=%{marker.size}<extra></extra>",
         "legendgroup": "Brunei Darussalam",
         "marker": {
          "color": "#FF97FF",
          "size": [
           0.5
          ],
          "sizemode": "area",
          "sizeref": 0.00125,
          "symbol": "circle"
         },
         "mode": "markers",
         "name": "Brunei Darussalam",
         "orientation": "v",
         "showlegend": true,
         "type": "scatter",
         "x": [
          399500.4
         ],
         "xaxis": "x",
         "y": [
          80.1549
         ],
         "yaxis": "y"
        },
        {
         "hovertemplate": "Country=Bhutan<br>P_Mean=%{x}<br>LE_Mean=%{y}<br>width=%{marker.size}<extra></extra>",
         "legendgroup": "Bhutan",
         "marker": {
          "color": "#FECB52",
          "size": [
           0.5
          ],
          "sizemode": "area",
          "sizeref": 0.00125,
          "symbol": "circle"
         },
         "mode": "markers",
         "name": "Bhutan",
         "orientation": "v",
         "showlegend": true,
         "type": "scatter",
         "x": [
          708379.4
         ],
         "xaxis": "x",
         "y": [
          71.223
         ],
         "yaxis": "y"
        },
        {
         "hovertemplate": "Country=Botswana<br>P_Mean=%{x}<br>LE_Mean=%{y}<br>width=%{marker.size}<extra></extra>",
         "legendgroup": "Botswana",
         "marker": {
          "color": "#636efa",
          "size": [
           0.5
          ],
          "sizemode": "area",
          "sizeref": 0.00125,
          "symbol": "circle"
         },
         "mode": "markers",
         "name": "Botswana",
         "orientation": "v",
         "showlegend": true,
         "type": "scatter",
         "x": [
          1988924.7
         ],
         "xaxis": "x",
         "y": [
          56.388
         ],
         "yaxis": "y"
        },
        {
         "hovertemplate": "Country=Canada<br>P_Mean=%{x}<br>LE_Mean=%{y}<br>width=%{marker.size}<extra></extra>",
         "legendgroup": "Canada",
         "marker": {
          "color": "#EF553B",
          "size": [
           0.5
          ],
          "sizemode": "area",
          "sizeref": 0.00125,
          "symbol": "circle"
         },
         "mode": "markers",
         "name": "Canada",
         "orientation": "v",
         "showlegend": true,
         "type": "scatter",
         "x": [
          35523624.8
         ],
         "xaxis": "x",
         "y": [
          85.63
         ],
         "yaxis": "y"
        },
        {
         "hovertemplate": "Country=Switzerland<br>P_Mean=%{x}<br>LE_Mean=%{y}<br>width=%{marker.size}<extra></extra>",
         "legendgroup": "Switzerland",
         "marker": {
          "color": "#00cc96",
          "size": [
           0.5
          ],
          "sizemode": "area",
          "sizeref": 0.00125,
          "symbol": "circle"
         },
         "mode": "markers",
         "name": "Switzerland",
         "orientation": "v",
         "showlegend": true,
         "type": "scatter",
         "x": [
          8211606.4
         ],
         "xaxis": "x",
         "y": [
          86.55
         ],
         "yaxis": "y"
        },
        {
         "hovertemplate": "Country=Chile<br>P_Mean=%{x}<br>LE_Mean=%{y}<br>width=%{marker.size}<extra></extra>",
         "legendgroup": "Chile",
         "marker": {
          "color": "#ab63fa",
          "size": [
           0.5
          ],
          "sizemode": "area",
          "sizeref": 0.00125,
          "symbol": "circle"
         },
         "mode": "markers",
         "name": "Chile",
         "orientation": "v",
         "showlegend": true,
         "type": "scatter",
         "x": [
          17813188.7
         ],
         "xaxis": "x",
         "y": [
          81.9675
         ],
         "yaxis": "y"
        },
        {
         "hovertemplate": "Country=China<br>P_Mean=%{x}<br>LE_Mean=%{y}<br>width=%{marker.size}<extra></extra>",
         "legendgroup": "China",
         "marker": {
          "color": "#FFA15A",
          "size": [
           0.5
          ],
          "sizemode": "area",
          "sizeref": 0.00125,
          "symbol": "circle"
         },
         "mode": "markers",
         "name": "China",
         "orientation": "v",
         "showlegend": true,
         "type": "scatter",
         "x": [
          1432561500
         ],
         "xaxis": "x",
         "y": [
          78.301
         ],
         "yaxis": "y"
        },
        {
         "hovertemplate": "Country=Cote d'Ivoire<br>P_Mean=%{x}<br>LE_Mean=%{y}<br>width=%{marker.size}<extra></extra>",
         "legendgroup": "Cote d'Ivoire",
         "marker": {
          "color": "#19d3f3",
          "size": [
           0.5
          ],
          "sizemode": "area",
          "sizeref": 0.00125,
          "symbol": "circle"
         },
         "mode": "markers",
         "name": "Cote d'Ivoire",
         "orientation": "v",
         "showlegend": true,
         "type": "scatter",
         "x": [
          20258766.8
         ],
         "xaxis": "x",
         "y": [
          54.0924
         ],
         "yaxis": "y"
        },
        {
         "hovertemplate": "Country=Cameroon<br>P_Mean=%{x}<br>LE_Mean=%{y}<br>width=%{marker.size}<extra></extra>",
         "legendgroup": "Cameroon",
         "marker": {
          "color": "#FF6692",
          "size": [
           0.5
          ],
          "sizemode": "area",
          "sizeref": 0.00125,
          "symbol": "circle"
         },
         "mode": "markers",
         "name": "Cameroon",
         "orientation": "v",
         "showlegend": true,
         "type": "scatter",
         "x": [
          19593185
         ],
         "xaxis": "x",
         "y": [
          56.7941
         ],
         "yaxis": "y"
        },
        {
         "hovertemplate": "Country=Congo, Dem. Rep.<br>P_Mean=%{x}<br>LE_Mean=%{y}<br>width=%{marker.size}<extra></extra>",
         "legendgroup": "Congo, Dem. Rep.",
         "marker": {
          "color": "#B6E880",
          "size": [
           0.5
          ],
          "sizemode": "area",
          "sizeref": 0.00125,
          "symbol": "circle"
         },
         "mode": "markers",
         "name": "Congo, Dem. Rep.",
         "orientation": "v",
         "showlegend": true,
         "type": "scatter",
         "x": [
          60714173.3
         ],
         "xaxis": "x",
         "y": [
          57.34680000000001
         ],
         "yaxis": "y"
        },
        {
         "hovertemplate": "Country=Congo, Rep.<br>P_Mean=%{x}<br>LE_Mean=%{y}<br>width=%{marker.size}<extra></extra>",
         "legendgroup": "Congo, Rep.",
         "marker": {
          "color": "#FF97FF",
          "size": [
           0.5
          ],
          "sizemode": "area",
          "sizeref": 0.00125,
          "symbol": "circle"
         },
         "mode": "markers",
         "name": "Congo, Rep.",
         "orientation": "v",
         "showlegend": true,
         "type": "scatter",
         "x": [
          4024777.5
         ],
         "xaxis": "x",
         "y": [
          60.134900000000016
         ],
         "yaxis": "y"
        },
        {
         "hovertemplate": "Country=Colombia<br>P_Mean=%{x}<br>LE_Mean=%{y}<br>width=%{marker.size}<extra></extra>",
         "legendgroup": "Colombia",
         "marker": {
          "color": "#FECB52",
          "size": [
           0.5
          ],
          "sizemode": "area",
          "sizeref": 0.00125,
          "symbol": "circle"
         },
         "mode": "markers",
         "name": "Colombia",
         "orientation": "v",
         "showlegend": true,
         "type": "scatter",
         "x": [
          46813497.8
         ],
         "xaxis": "x",
         "y": [
          78.1634
         ],
         "yaxis": "y"
        },
        {
         "hovertemplate": "Country=Comoros<br>P_Mean=%{x}<br>LE_Mean=%{y}<br>width=%{marker.size}<extra></extra>",
         "legendgroup": "Comoros",
         "marker": {
          "color": "#636efa",
          "size": [
           0.5
          ],
          "sizemode": "area",
          "sizeref": 0.00125,
          "symbol": "circle"
         },
         "mode": "markers",
         "name": "Comoros",
         "orientation": "v",
         "showlegend": true,
         "type": "scatter",
         "x": [
          674802.6
         ],
         "xaxis": "x",
         "y": [
          64.65529999999998
         ],
         "yaxis": "y"
        },
        {
         "hovertemplate": "Country=Cabo Verde<br>P_Mean=%{x}<br>LE_Mean=%{y}<br>width=%{marker.size}<extra></extra>",
         "legendgroup": "Cabo Verde",
         "marker": {
          "color": "#EF553B",
          "size": [
           0.5
          ],
          "sizemode": "area",
          "sizeref": 0.00125,
          "symbol": "circle"
         },
         "mode": "markers",
         "name": "Cabo Verde",
         "orientation": "v",
         "showlegend": true,
         "type": "scatter",
         "x": [
          508080.7
         ],
         "xaxis": "x",
         "y": [
          73.0386
         ],
         "yaxis": "y"
        },
        {
         "hovertemplate": "Country=Costa Rica<br>P_Mean=%{x}<br>LE_Mean=%{y}<br>width=%{marker.size}<extra></extra>",
         "legendgroup": "Costa Rica",
         "marker": {
          "color": "#00cc96",
          "size": [
           0.5
          ],
          "sizemode": "area",
          "sizeref": 0.00125,
          "symbol": "circle"
         },
         "mode": "markers",
         "name": "Costa Rica",
         "orientation": "v",
         "showlegend": true,
         "type": "scatter",
         "x": [
          4708335.8
         ],
         "xaxis": "x",
         "y": [
          83.3537
         ],
         "yaxis": "y"
        },
        {
         "hovertemplate": "Country=Cuba<br>P_Mean=%{x}<br>LE_Mean=%{y}<br>width=%{marker.size}<extra></extra>",
         "legendgroup": "Cuba",
         "marker": {
          "color": "#ab63fa",
          "size": [
           0.5
          ],
          "sizemode": "area",
          "sizeref": 0.00125,
          "symbol": "circle"
         },
         "mode": "markers",
         "name": "Cuba",
         "orientation": "v",
         "showlegend": true,
         "type": "scatter",
         "x": [
          12343378
         ],
         "xaxis": "x",
         "y": [
          83.2557
         ],
         "yaxis": "y"
        },
        {
         "hovertemplate": "Country=Curacao<br>P_Mean=%{x}<br>LE_Mean=%{y}<br>width=%{marker.size}<extra></extra>",
         "legendgroup": "Curacao",
         "marker": {
          "color": "#FFA15A",
          "size": [
           0.5
          ],
          "sizemode": "area",
          "sizeref": 0.00125,
          "symbol": "circle"
         },
         "mode": "markers",
         "name": "Curacao",
         "orientation": "v",
         "showlegend": true,
         "type": "scatter",
         "x": [
          152257
         ],
         "xaxis": "x",
         "y": [
          null
         ],
         "yaxis": "y"
        },
        {
         "hovertemplate": "Country=Cayman Islands<br>P_Mean=%{x}<br>LE_Mean=%{y}<br>width=%{marker.size}<extra></extra>",
         "legendgroup": "Cayman Islands",
         "marker": {
          "color": "#19d3f3",
          "size": [
           0.5
          ],
          "sizemode": "area",
          "sizeref": 0.00125,
          "symbol": "circle"
         },
         "mode": "markers",
         "name": "Cayman Islands",
         "orientation": "v",
         "showlegend": true,
         "type": "scatter",
         "x": [
          54420.7
         ],
         "xaxis": "x",
         "y": [
          null
         ],
         "yaxis": "y"
        },
        {
         "hovertemplate": "Country=Cyprus<br>P_Mean=%{x}<br>LE_Mean=%{y}<br>width=%{marker.size}<extra></extra>",
         "legendgroup": "Cyprus",
         "marker": {
          "color": "#FF6692",
          "size": [
           0.5
          ],
          "sizemode": "area",
          "sizeref": 0.00125,
          "symbol": "circle"
         },
         "mode": "markers",
         "name": "Cyprus",
         "orientation": "v",
         "showlegend": true,
         "type": "scatter",
         "x": [
          1131364.9
         ],
         "xaxis": "x",
         "y": [
          84.2125
         ],
         "yaxis": "y"
        },
        {
         "hovertemplate": "Country=Czech Republic<br>P_Mean=%{x}<br>LE_Mean=%{y}<br>width=%{marker.size}<extra></extra>",
         "legendgroup": "Czech Republic",
         "marker": {
          "color": "#B6E880",
          "size": [
           0.5
          ],
          "sizemode": "area",
          "sizeref": 0.00125,
          "symbol": "circle"
         },
         "mode": "markers",
         "name": "Czech Republic",
         "orientation": "v",
         "showlegend": true,
         "type": "scatter",
         "x": [
          11311158.1
         ],
         "xaxis": "x",
         "y": [
          80.32000000000001
         ],
         "yaxis": "y"
        },
        {
         "hovertemplate": "Country=Germany<br>P_Mean=%{x}<br>LE_Mean=%{y}<br>width=%{marker.size}<extra></extra>",
         "legendgroup": "Germany",
         "marker": {
          "color": "#FF97FF",
          "size": [
           0.5
          ],
          "sizemode": "area",
          "sizeref": 0.00125,
          "symbol": "circle"
         },
         "mode": "markers",
         "name": "Germany",
         "orientation": "v",
         "showlegend": true,
         "type": "scatter",
         "x": [
          90500194.3
         ],
         "xaxis": "x",
         "y": [
          83.89
         ],
         "yaxis": "y"
        },
        {
         "hovertemplate": "Country=Djibouti<br>P_Mean=%{x}<br>LE_Mean=%{y}<br>width=%{marker.size}<extra></extra>",
         "legendgroup": "Djibouti",
         "marker": {
          "color": "#FECB52",
          "size": [
           0.5
          ],
          "sizemode": "area",
          "sizeref": 0.00125,
          "symbol": "circle"
         },
         "mode": "markers",
         "name": "Djibouti",
         "orientation": "v",
         "showlegend": true,
         "type": "scatter",
         "x": [
          859641.4
         ],
         "xaxis": "x",
         "y": [
          62.427800000000005
         ],
         "yaxis": "y"
        },
        {
         "hovertemplate": "Country=Dominica<br>P_Mean=%{x}<br>LE_Mean=%{y}<br>width=%{marker.size}<extra></extra>",
         "legendgroup": "Dominica",
         "marker": {
          "color": "#636efa",
          "size": [
           0.5
          ],
          "sizemode": "area",
          "sizeref": 0.00125,
          "symbol": "circle"
         },
         "mode": "markers",
         "name": "Dominica",
         "orientation": "v",
         "showlegend": true,
         "type": "scatter",
         "x": [
          77429.9
         ],
         "xaxis": "x",
         "y": [
          null
         ],
         "yaxis": "y"
        },
        {
         "hovertemplate": "Country=Denmark<br>P_Mean=%{x}<br>LE_Mean=%{y}<br>width=%{marker.size}<extra></extra>",
         "legendgroup": "Denmark",
         "marker": {
          "color": "#EF553B",
          "size": [
           0.5
          ],
          "sizemode": "area",
          "sizeref": 0.00125,
          "symbol": "circle"
         },
         "mode": "markers",
         "name": "Denmark",
         "orientation": "v",
         "showlegend": true,
         "type": "scatter",
         "x": [
          5975196.8
         ],
         "xaxis": "x",
         "y": [
          83.1
         ],
         "yaxis": "y"
        },
        {
         "hovertemplate": "Country=Dominican Republic<br>P_Mean=%{x}<br>LE_Mean=%{y}<br>width=%{marker.size}<extra></extra>",
         "legendgroup": "Dominican Republic",
         "marker": {
          "color": "#00cc96",
          "size": [
           0.5
          ],
          "sizemode": "area",
          "sizeref": 0.00125,
          "symbol": "circle"
         },
         "mode": "markers",
         "name": "Dominican Republic",
         "orientation": "v",
         "showlegend": true,
         "type": "scatter",
         "x": [
          10000438.2
         ],
         "xaxis": "x",
         "y": [
          74.6493
         ],
         "yaxis": "y"
        },
        {
         "hovertemplate": "Country=Algeria<br>P_Mean=%{x}<br>LE_Mean=%{y}<br>width=%{marker.size}<extra></extra>",
         "legendgroup": "Algeria",
         "marker": {
          "color": "#ab63fa",
          "size": [
           0.5
          ],
          "sizemode": "area",
          "sizeref": 0.00125,
          "symbol": "circle"
         },
         "mode": "markers",
         "name": "Algeria",
         "orientation": "v",
         "showlegend": true,
         "type": "scatter",
         "x": [
          36630481.3
         ],
         "xaxis": "x",
         "y": [
          78.8364
         ],
         "yaxis": "y"
        },
        {
         "hovertemplate": "Country=Ecuador<br>P_Mean=%{x}<br>LE_Mean=%{y}<br>width=%{marker.size}<extra></extra>",
         "legendgroup": "Ecuador",
         "marker": {
          "color": "#FFA15A",
          "size": [
           0.5
          ],
          "sizemode": "area",
          "sizeref": 0.00125,
          "symbol": "circle"
         },
         "mode": "markers",
         "name": "Ecuador",
         "orientation": "v",
         "showlegend": true,
         "type": "scatter",
         "x": [
          15220835.4
         ],
         "xaxis": "x",
         "y": [
          78.30010000000001
         ],
         "yaxis": "y"
        },
        {
         "hovertemplate": "Country=Egypt, Arab Rep.<br>P_Mean=%{x}<br>LE_Mean=%{y}<br>width=%{marker.size}<extra></extra>",
         "legendgroup": "Egypt, Arab Rep.",
         "marker": {
          "color": "#19d3f3",
          "size": [
           0.5
          ],
          "sizemode": "area",
          "sizeref": 0.00125,
          "symbol": "circle"
         },
         "mode": "markers",
         "name": "Egypt, Arab Rep.",
         "orientation": "v",
         "showlegend": true,
         "type": "scatter",
         "x": [
          83162892.6
         ],
         "xaxis": "x",
         "y": [
          73.8942
         ],
         "yaxis": "y"
        },
        {
         "hovertemplate": "Country=Eritrea<br>P_Mean=%{x}<br>LE_Mean=%{y}<br>width=%{marker.size}<extra></extra>",
         "legendgroup": "Eritrea",
         "marker": {
          "color": "#FF6692",
          "size": [
           0.5
          ],
          "sizemode": "area",
          "sizeref": 0.00125,
          "symbol": "circle"
         },
         "mode": "markers",
         "name": "Eritrea",
         "orientation": "v",
         "showlegend": true,
         "type": "scatter",
         "x": [
          3056351.5
         ],
         "xaxis": "x",
         "y": [
          62.432900000000004
         ],
         "yaxis": "y"
        },
        {
         "hovertemplate": "Country=Spain<br>P_Mean=%{x}<br>LE_Mean=%{y}<br>width=%{marker.size}<extra></extra>",
         "legendgroup": "Spain",
         "marker": {
          "color": "#B6E880",
          "size": [
           0.5
          ],
          "sizemode": "area",
          "sizeref": 0.00125,
          "symbol": "circle"
         },
         "mode": "markers",
         "name": "Spain",
         "orientation": "v",
         "showlegend": true,
         "type": "scatter",
         "x": [
          48013060
         ],
         "xaxis": "x",
         "y": [
          84.9
         ],
         "yaxis": "y"
        },
        {
         "hovertemplate": "Country=Estonia<br>P_Mean=%{x}<br>LE_Mean=%{y}<br>width=%{marker.size}<extra></extra>",
         "legendgroup": "Estonia",
         "marker": {
          "color": "#FF97FF",
          "size": [
           0.5
          ],
          "sizemode": "area",
          "sizeref": 0.00125,
          "symbol": "circle"
         },
         "mode": "markers",
         "name": "Estonia",
         "orientation": "v",
         "showlegend": true,
         "type": "scatter",
         "x": [
          1494306.5
         ],
         "xaxis": "x",
         "y": [
          73.815
         ],
         "yaxis": "y"
        },
        {
         "hovertemplate": "Country=Ethiopia<br>P_Mean=%{x}<br>LE_Mean=%{y}<br>width=%{marker.size}<extra></extra>",
         "legendgroup": "Ethiopia",
         "marker": {
          "color": "#FECB52",
          "size": [
           0.5
          ],
          "sizemode": "area",
          "sizeref": 0.00125,
          "symbol": "circle"
         },
         "mode": "markers",
         "name": "Ethiopia",
         "orientation": "v",
         "showlegend": true,
         "type": "scatter",
         "x": [
          84223638.9
         ],
         "xaxis": "x",
         "y": [
          60.54139999999999
         ],
         "yaxis": "y"
        },
        {
         "hovertemplate": "Country=Finland<br>P_Mean=%{x}<br>LE_Mean=%{y}<br>width=%{marker.size}<extra></extra>",
         "legendgroup": "Finland",
         "marker": {
          "color": "#636efa",
          "size": [
           0.5
          ],
          "sizemode": "area",
          "sizeref": 0.00125,
          "symbol": "circle"
         },
         "mode": "markers",
         "name": "Finland",
         "orientation": "v",
         "showlegend": true,
         "type": "scatter",
         "x": [
          5782270.7
         ],
         "xaxis": "x",
         "y": [
          83.05999999999999
         ],
         "yaxis": "y"
        },
        {
         "hovertemplate": "Country=Fiji<br>P_Mean=%{x}<br>LE_Mean=%{y}<br>width=%{marker.size}<extra></extra>",
         "legendgroup": "Fiji",
         "marker": {
          "color": "#EF553B",
          "size": [
           0.5
          ],
          "sizemode": "area",
          "sizeref": 0.00125,
          "symbol": "circle"
         },
         "mode": "markers",
         "name": "Fiji",
         "orientation": "v",
         "showlegend": true,
         "type": "scatter",
         "x": [
          911860.1
         ],
         "xaxis": "x",
         "y": [
          71.173
         ],
         "yaxis": "y"
        },
        {
         "hovertemplate": "Country=France<br>P_Mean=%{x}<br>LE_Mean=%{y}<br>width=%{marker.size}<extra></extra>",
         "legendgroup": "France",
         "marker": {
          "color": "#00cc96",
          "size": [
           0.5
          ],
          "sizemode": "area",
          "sizeref": 0.00125,
          "symbol": "circle"
         },
         "mode": "markers",
         "name": "France",
         "orientation": "v",
         "showlegend": true,
         "type": "scatter",
         "x": [
          69395145.7
         ],
         "xaxis": "x",
         "y": [
          84.45
         ],
         "yaxis": "y"
        },
        {
         "hovertemplate": "Country=Faroe Islands<br>P_Mean=%{x}<br>LE_Mean=%{y}<br>width=%{marker.size}<extra></extra>",
         "legendgroup": "Faroe Islands",
         "marker": {
          "color": "#ab63fa",
          "size": [
           0.5
          ],
          "sizemode": "area",
          "sizeref": 0.00125,
          "symbol": "circle"
         },
         "mode": "markers",
         "name": "Faroe Islands",
         "orientation": "v",
         "showlegend": true,
         "type": "scatter",
         "x": [
          52279.9
         ],
         "xaxis": "x",
         "y": [
          84.75
         ],
         "yaxis": "y"
        },
        {
         "hovertemplate": "Country=Gabon<br>P_Mean=%{x}<br>LE_Mean=%{y}<br>width=%{marker.size}<extra></extra>",
         "legendgroup": "Gabon",
         "marker": {
          "color": "#FFA15A",
          "size": [
           0.5
          ],
          "sizemode": "area",
          "sizeref": 0.00125,
          "symbol": "circle"
         },
         "mode": "markers",
         "name": "Gabon",
         "orientation": "v",
         "showlegend": true,
         "type": "scatter",
         "x": [
          1545327.9
         ],
         "xaxis": "x",
         "y": [
          63.304500000000004
         ],
         "yaxis": "y"
        },
        {
         "hovertemplate": "Country=United Kingdom<br>P_Mean=%{x}<br>LE_Mean=%{y}<br>width=%{marker.size}<extra></extra>",
         "legendgroup": "United Kingdom",
         "marker": {
          "color": "#19d3f3",
          "size": [
           0.5
          ],
          "sizemode": "area",
          "sizeref": 0.00125,
          "symbol": "circle"
         },
         "mode": "markers",
         "name": "United Kingdom",
         "orientation": "v",
         "showlegend": true,
         "type": "scatter",
         "x": [
          66643826.7
         ],
         "xaxis": "x",
         "y": [
          84.57000000000001
         ],
         "yaxis": "y"
        },
        {
         "hovertemplate": "Country=Georgia<br>P_Mean=%{x}<br>LE_Mean=%{y}<br>width=%{marker.size}<extra></extra>",
         "legendgroup": "Georgia",
         "marker": {
          "color": "#FF6692",
          "size": [
           0.5
          ],
          "sizemode": "area",
          "sizeref": 0.00125,
          "symbol": "circle"
         },
         "mode": "markers",
         "name": "Georgia",
         "orientation": "v",
         "showlegend": true,
         "type": "scatter",
         "x": [
          4304163.2
         ],
         "xaxis": "x",
         "y": [
          73.0454
         ],
         "yaxis": "y"
        },
        {
         "hovertemplate": "Country=Ghana<br>P_Mean=%{x}<br>LE_Mean=%{y}<br>width=%{marker.size}<extra></extra>",
         "legendgroup": "Ghana",
         "marker": {
          "color": "#B6E880",
          "size": [
           0.5
          ],
          "sizemode": "area",
          "sizeref": 0.00125,
          "symbol": "circle"
         },
         "mode": "markers",
         "name": "Ghana",
         "orientation": "v",
         "showlegend": true,
         "type": "scatter",
         "x": [
          24097683.1
         ],
         "xaxis": "x",
         "y": [
          63.765600000000006
         ],
         "yaxis": "y"
        },
        {
         "hovertemplate": "Country=Gibraltar<br>P_Mean=%{x}<br>LE_Mean=%{y}<br>width=%{marker.size}<extra></extra>",
         "legendgroup": "Gibraltar",
         "marker": {
          "color": "#FF97FF",
          "size": [
           0.5
          ],
          "sizemode": "area",
          "sizeref": 0.00125,
          "symbol": "circle"
         },
         "mode": "markers",
         "name": "Gibraltar",
         "orientation": "v",
         "showlegend": true,
         "type": "scatter",
         "x": [
          36115.1
         ],
         "xaxis": "x",
         "y": [
          null
         ],
         "yaxis": "y"
        },
        {
         "hovertemplate": "Country=Guinea<br>P_Mean=%{x}<br>LE_Mean=%{y}<br>width=%{marker.size}<extra></extra>",
         "legendgroup": "Guinea",
         "marker": {
          "color": "#FECB52",
          "size": [
           0.5
          ],
          "sizemode": "area",
          "sizeref": 0.00125,
          "symbol": "circle"
         },
         "mode": "markers",
         "name": "Guinea",
         "orientation": "v",
         "showlegend": true,
         "type": "scatter",
         "x": [
          10075331.9
         ],
         "xaxis": "x",
         "y": [
          58.3793
         ],
         "yaxis": "y"
        },
        {
         "hovertemplate": "Country=Gambia, The<br>P_Mean=%{x}<br>LE_Mean=%{y}<br>width=%{marker.size}<extra></extra>",
         "legendgroup": "Gambia, The",
         "marker": {
          "color": "#636efa",
          "size": [
           0.5
          ],
          "sizemode": "area",
          "sizeref": 0.00125,
          "symbol": "circle"
         },
         "mode": "markers",
         "name": "Gambia, The",
         "orientation": "v",
         "showlegend": true,
         "type": "scatter",
         "x": [
          1702628.9
         ],
         "xaxis": "x",
         "y": [
          62.41400000000001
         ],
         "yaxis": "y"
        },
        {
         "hovertemplate": "Country=Guinea-Bissau<br>P_Mean=%{x}<br>LE_Mean=%{y}<br>width=%{marker.size}<extra></extra>",
         "legendgroup": "Guinea-Bissau",
         "marker": {
          "color": "#EF553B",
          "size": [
           0.5
          ],
          "sizemode": "area",
          "sizeref": 0.00125,
          "symbol": "circle"
         },
         "mode": "markers",
         "name": "Guinea-Bissau",
         "orientation": "v",
         "showlegend": true,
         "type": "scatter",
         "x": [
          1486717
         ],
         "xaxis": "x",
         "y": [
          54.862
         ],
         "yaxis": "y"
        },
        {
         "hovertemplate": "Country=Greece<br>P_Mean=%{x}<br>LE_Mean=%{y}<br>width=%{marker.size}<extra></extra>",
         "legendgroup": "Greece",
         "marker": {
          "color": "#00cc96",
          "size": [
           0.5
          ],
          "sizemode": "area",
          "sizeref": 0.00125,
          "symbol": "circle"
         },
         "mode": "markers",
         "name": "Greece",
         "orientation": "v",
         "showlegend": true,
         "type": "scatter",
         "x": [
          12081552.1
         ],
         "xaxis": "x",
         "y": [
          84.46000000000001
         ],
         "yaxis": "y"
        },
        {
         "hovertemplate": "Country=Grenada<br>P_Mean=%{x}<br>LE_Mean=%{y}<br>width=%{marker.size}<extra></extra>",
         "legendgroup": "Grenada",
         "marker": {
          "color": "#ab63fa",
          "size": [
           0.5
          ],
          "sizemode": "area",
          "sizeref": 0.00125,
          "symbol": "circle"
         },
         "mode": "markers",
         "name": "Grenada",
         "orientation": "v",
         "showlegend": true,
         "type": "scatter",
         "x": [
          115031.4
         ],
         "xaxis": "x",
         "y": [
          77.50399999999999
         ],
         "yaxis": "y"
        },
        {
         "hovertemplate": "Country=Greenland<br>P_Mean=%{x}<br>LE_Mean=%{y}<br>width=%{marker.size}<extra></extra>",
         "legendgroup": "Greenland",
         "marker": {
          "color": "#FFA15A",
          "size": [
           0.5
          ],
          "sizemode": "area",
          "sizeref": 0.00125,
          "symbol": "circle"
         },
         "mode": "markers",
         "name": "Greenland",
         "orientation": "v",
         "showlegend": true,
         "type": "scatter",
         "x": [
          62265.5
         ],
         "xaxis": "x",
         "y": [
          73.292
         ],
         "yaxis": "y"
        },
        {
         "hovertemplate": "Country=Guatemala<br>P_Mean=%{x}<br>LE_Mean=%{y}<br>width=%{marker.size}<extra></extra>",
         "legendgroup": "Guatemala",
         "marker": {
          "color": "#19d3f3",
          "size": [
           0.5
          ],
          "sizemode": "area",
          "sizeref": 0.00125,
          "symbol": "circle"
         },
         "mode": "markers",
         "name": "Guatemala",
         "orientation": "v",
         "showlegend": true,
         "type": "scatter",
         "x": [
          14234410.1
         ],
         "xaxis": "x",
         "y": [
          73.14079999999998
         ],
         "yaxis": "y"
        },
        {
         "hovertemplate": "Country=Guam<br>P_Mean=%{x}<br>LE_Mean=%{y}<br>width=%{marker.size}<extra></extra>",
         "legendgroup": "Guam",
         "marker": {
          "color": "#FF6692",
          "size": [
           0.5
          ],
          "sizemode": "area",
          "sizeref": 0.00125,
          "symbol": "circle"
         },
         "mode": "markers",
         "name": "Guam",
         "orientation": "v",
         "showlegend": true,
         "type": "scatter",
         "x": [
          173831.9
         ],
         "xaxis": "x",
         "y": [
          81.51210000000002
         ],
         "yaxis": "y"
        },
        {
         "hovertemplate": "Country=Guyana<br>P_Mean=%{x}<br>LE_Mean=%{y}<br>width=%{marker.size}<extra></extra>",
         "legendgroup": "Guyana",
         "marker": {
          "color": "#B6E880",
          "size": [
           0.5
          ],
          "sizemode": "area",
          "sizeref": 0.00125,
          "symbol": "circle"
         },
         "mode": "markers",
         "name": "Guyana",
         "orientation": "v",
         "showlegend": true,
         "type": "scatter",
         "x": [
          821052.3
         ],
         "xaxis": "x",
         "y": [
          69.9281
         ],
         "yaxis": "y"
        },
        {
         "hovertemplate": "Country=Hong Kong SAR, China<br>P_Mean=%{x}<br>LE_Mean=%{y}<br>width=%{marker.size}<extra></extra>",
         "legendgroup": "Hong Kong SAR, China",
         "marker": {
          "color": "#FF97FF",
          "size": [
           0.5
          ],
          "sizemode": "area",
          "sizeref": 0.00125,
          "symbol": "circle"
         },
         "mode": "markers",
         "name": "Hong Kong SAR, China",
         "orientation": "v",
         "showlegend": true,
         "type": "scatter",
         "x": [
          7517910
         ],
         "xaxis": "x",
         "y": [
          86.92999999999999
         ],
         "yaxis": "y"
        },
        {
         "hovertemplate": "Country=Honduras<br>P_Mean=%{x}<br>LE_Mean=%{y}<br>width=%{marker.size}<extra></extra>",
         "legendgroup": "Honduras",
         "marker": {
          "color": "#FECB52",
          "size": [
           0.5
          ],
          "sizemode": "area",
          "sizeref": 0.00125,
          "symbol": "circle"
         },
         "mode": "markers",
         "name": "Honduras",
         "orientation": "v",
         "showlegend": true,
         "type": "scatter",
         "x": [
          8199596.4
         ],
         "xaxis": "x",
         "y": [
          76.6694
         ],
         "yaxis": "y"
        },
        {
         "hovertemplate": "Country=Croatia<br>P_Mean=%{x}<br>LE_Mean=%{y}<br>width=%{marker.size}<extra></extra>",
         "legendgroup": "Croatia",
         "marker": {
          "color": "#636efa",
          "size": [
           0.5
          ],
          "sizemode": "area",
          "sizeref": 0.00125,
          "symbol": "circle"
         },
         "mode": "markers",
         "name": "Croatia",
         "orientation": "v",
         "showlegend": true,
         "type": "scatter",
         "x": [
          4751995.1
         ],
         "xaxis": "x",
         "y": [
          79.013
         ],
         "yaxis": "y"
        },
        {
         "hovertemplate": "Country=Haiti<br>P_Mean=%{x}<br>LE_Mean=%{y}<br>width=%{marker.size}<extra></extra>",
         "legendgroup": "Haiti",
         "marker": {
          "color": "#EF553B",
          "size": [
           0.5
          ],
          "sizemode": "area",
          "sizeref": 0.00125,
          "symbol": "circle"
         },
         "mode": "markers",
         "name": "Haiti",
         "orientation": "v",
         "showlegend": true,
         "type": "scatter",
         "x": [
          10120329.3
         ],
         "xaxis": "x",
         "y": [
          62.47059999999999
         ],
         "yaxis": "y"
        },
        {
         "hovertemplate": "Country=Hungary<br>P_Mean=%{x}<br>LE_Mean=%{y}<br>width=%{marker.size}<extra></extra>",
         "legendgroup": "Hungary",
         "marker": {
          "color": "#00cc96",
          "size": [
           0.5
          ],
          "sizemode": "area",
          "sizeref": 0.00125,
          "symbol": "circle"
         },
         "mode": "markers",
         "name": "Hungary",
         "orientation": "v",
         "showlegend": true,
         "type": "scatter",
         "x": [
          11106892.9
         ],
         "xaxis": "x",
         "y": [
          75.77000000000001
         ],
         "yaxis": "y"
        },
        {
         "hovertemplate": "Country=Indonesia<br>P_Mean=%{x}<br>LE_Mean=%{y}<br>width=%{marker.size}<extra></extra>",
         "legendgroup": "Indonesia",
         "marker": {
          "color": "#ab63fa",
          "size": [
           0.5
          ],
          "sizemode": "area",
          "sizeref": 0.00125,
          "symbol": "circle"
         },
         "mode": "markers",
         "name": "Indonesia",
         "orientation": "v",
         "showlegend": true,
         "type": "scatter",
         "x": [
          249080067.4
         ],
         "xaxis": "x",
         "y": [
          72.2279
         ],
         "yaxis": "y"
        },
        {
         "hovertemplate": "Country=India<br>P_Mean=%{x}<br>LE_Mean=%{y}<br>width=%{marker.size}<extra></extra>",
         "legendgroup": "India",
         "marker": {
          "color": "#FFA15A",
          "size": [
           0.5
          ],
          "sizemode": "area",
          "sizeref": 0.00125,
          "symbol": "circle"
         },
         "mode": "markers",
         "name": "India",
         "orientation": "v",
         "showlegend": true,
         "type": "scatter",
         "x": [
          1261502226.9
         ],
         "xaxis": "x",
         "y": [
          70.0788
         ],
         "yaxis": "y"
        },
        {
         "hovertemplate": "Country=Ireland<br>P_Mean=%{x}<br>LE_Mean=%{y}<br>width=%{marker.size}<extra></extra>",
         "legendgroup": "Ireland",
         "marker": {
          "color": "#19d3f3",
          "size": [
           0.5
          ],
          "sizemode": "area",
          "sizeref": 0.00125,
          "symbol": "circle"
         },
         "mode": "markers",
         "name": "Ireland",
         "orientation": "v",
         "showlegend": true,
         "type": "scatter",
         "x": [
          4608766.8
         ],
         "xaxis": "x",
         "y": [
          84.03999999999999
         ],
         "yaxis": "y"
        },
        {
         "hovertemplate": "Country=Iran, Islamic Rep.<br>P_Mean=%{x}<br>LE_Mean=%{y}<br>width=%{marker.size}<extra></extra>",
         "legendgroup": "Iran, Islamic Rep.",
         "marker": {
          "color": "#FF6692",
          "size": [
           0.5
          ],
          "sizemode": "area",
          "sizeref": 0.00125,
          "symbol": "circle"
         },
         "mode": "markers",
         "name": "Iran, Islamic Rep.",
         "orientation": "v",
         "showlegend": true,
         "type": "scatter",
         "x": [
          76689307.2
         ],
         "xaxis": "x",
         "y": [
          77.68589999999999
         ],
         "yaxis": "y"
        },
        {
         "hovertemplate": "Country=Iraq<br>P_Mean=%{x}<br>LE_Mean=%{y}<br>width=%{marker.size}<extra></extra>",
         "legendgroup": "Iraq",
         "marker": {
          "color": "#B6E880",
          "size": [
           0.5
          ],
          "sizemode": "area",
          "sizeref": 0.00125,
          "symbol": "circle"
         },
         "mode": "markers",
         "name": "Iraq",
         "orientation": "v",
         "showlegend": true,
         "type": "scatter",
         "x": [
          29397854.8
         ],
         "xaxis": "x",
         "y": [
          72.51480000000001
         ],
         "yaxis": "y"
        },
        {
         "hovertemplate": "Country=Iceland<br>P_Mean=%{x}<br>LE_Mean=%{y}<br>width=%{marker.size}<extra></extra>",
         "legendgroup": "Iceland",
         "marker": {
          "color": "#FF97FF",
          "size": [
           0.5
          ],
          "sizemode": "area",
          "sizeref": 0.00125,
          "symbol": "circle"
         },
         "mode": "markers",
         "name": "Iceland",
         "orientation": "v",
         "showlegend": true,
         "type": "scatter",
         "x": [
          330132.7
         ],
         "xaxis": "x",
         "y": [
          87.14
         ],
         "yaxis": "y"
        },
        {
         "hovertemplate": "Country=Israel<br>P_Mean=%{x}<br>LE_Mean=%{y}<br>width=%{marker.size}<extra></extra>",
         "legendgroup": "Israel",
         "marker": {
          "color": "#FECB52",
          "size": [
           0.5
          ],
          "sizemode": "area",
          "sizeref": 0.00125,
          "symbol": "circle"
         },
         "mode": "markers",
         "name": "Israel",
         "orientation": "v",
         "showlegend": true,
         "type": "scatter",
         "x": [
          7637860
         ],
         "xaxis": "x",
         "y": [
          86.18
         ],
         "yaxis": "y"
        },
        {
         "hovertemplate": "Country=Italy<br>P_Mean=%{x}<br>LE_Mean=%{y}<br>width=%{marker.size}<extra></extra>",
         "legendgroup": "Italy",
         "marker": {
          "color": "#636efa",
          "size": [
           0.5
          ],
          "sizemode": "area",
          "sizeref": 0.00125,
          "symbol": "circle"
         },
         "mode": "markers",
         "name": "Italy",
         "orientation": "v",
         "showlegend": true,
         "type": "scatter",
         "x": [
          63772503.1
         ],
         "xaxis": "x",
         "y": [
          85.97999999999999
         ],
         "yaxis": "y"
        },
        {
         "hovertemplate": "Country=Jamaica<br>P_Mean=%{x}<br>LE_Mean=%{y}<br>width=%{marker.size}<extra></extra>",
         "legendgroup": "Jamaica",
         "marker": {
          "color": "#EF553B",
          "size": [
           0.5
          ],
          "sizemode": "area",
          "sizeref": 0.00125,
          "symbol": "circle"
         },
         "mode": "markers",
         "name": "Jamaica",
         "orientation": "v",
         "showlegend": true,
         "type": "scatter",
         "x": [
          3010751.7
         ],
         "xaxis": "x",
         "y": [
          80.06190000000001
         ],
         "yaxis": "y"
        },
        {
         "hovertemplate": "Country=Jordan<br>P_Mean=%{x}<br>LE_Mean=%{y}<br>width=%{marker.size}<extra></extra>",
         "legendgroup": "Jordan",
         "marker": {
          "color": "#00cc96",
          "size": [
           0.5
          ],
          "sizemode": "area",
          "sizeref": 0.00125,
          "symbol": "circle"
         },
         "mode": "markers",
         "name": "Jordan",
         "orientation": "v",
         "showlegend": true,
         "type": "scatter",
         "x": [
          6539536.2
         ],
         "xaxis": "x",
         "y": [
          78.26060000000001
         ],
         "yaxis": "y"
        },
        {
         "hovertemplate": "Country=Japan<br>P_Mean=%{x}<br>LE_Mean=%{y}<br>width=%{marker.size}<extra></extra>",
         "legendgroup": "Japan",
         "marker": {
          "color": "#ab63fa",
          "size": [
           0.5
          ],
          "sizemode": "area",
          "sizeref": 0.00125,
          "symbol": "circle"
         },
         "mode": "markers",
         "name": "Japan",
         "orientation": "v",
         "showlegend": true,
         "type": "scatter",
         "x": [
          140472400
         ],
         "xaxis": "x",
         "y": [
          86.60699999999999
         ],
         "yaxis": "y"
        },
        {
         "hovertemplate": "Country=Kazakhstan<br>P_Mean=%{x}<br>LE_Mean=%{y}<br>width=%{marker.size}<extra></extra>",
         "legendgroup": "Kazakhstan",
         "marker": {
          "color": "#FFA15A",
          "size": [
           0.5
          ],
          "sizemode": "area",
          "sizeref": 0.00125,
          "symbol": "circle"
         },
         "mode": "markers",
         "name": "Kazakhstan",
         "orientation": "v",
         "showlegend": true,
         "type": "scatter",
         "x": [
          16865385
         ],
         "xaxis": "x",
         "y": [
          67.30999999999999
         ],
         "yaxis": "y"
        },
        {
         "hovertemplate": "Country=Kenya<br>P_Mean=%{x}<br>LE_Mean=%{y}<br>width=%{marker.size}<extra></extra>",
         "legendgroup": "Kenya",
         "marker": {
          "color": "#19d3f3",
          "size": [
           0.5
          ],
          "sizemode": "area",
          "sizeref": 0.00125,
          "symbol": "circle"
         },
         "mode": "markers",
         "name": "Kenya",
         "orientation": "v",
         "showlegend": true,
         "type": "scatter",
         "x": [
          40458325.6
         ],
         "xaxis": "x",
         "y": [
          58.5318
         ],
         "yaxis": "y"
        },
        {
         "hovertemplate": "Country=Kyrgyz Republic<br>P_Mean=%{x}<br>LE_Mean=%{y}<br>width=%{marker.size}<extra></extra>",
         "legendgroup": "Kyrgyz Republic",
         "marker": {
          "color": "#FF6692",
          "size": [
           0.5
          ],
          "sizemode": "area",
          "sizeref": 0.00125,
          "symbol": "circle"
         },
         "mode": "markers",
         "name": "Kyrgyz Republic",
         "orientation": "v",
         "showlegend": true,
         "type": "scatter",
         "x": [
          5678150
         ],
         "xaxis": "x",
         "y": [
          70.95
         ],
         "yaxis": "y"
        },
        {
         "hovertemplate": "Country=Cambodia<br>P_Mean=%{x}<br>LE_Mean=%{y}<br>width=%{marker.size}<extra></extra>",
         "legendgroup": "Cambodia",
         "marker": {
          "color": "#B6E880",
          "size": [
           0.5
          ],
          "sizemode": "area",
          "sizeref": 0.00125,
          "symbol": "circle"
         },
         "mode": "markers",
         "name": "Cambodia",
         "orientation": "v",
         "showlegend": true,
         "type": "scatter",
         "x": [
          14584167.5
         ],
         "xaxis": "x",
         "y": [
          66.5812
         ],
         "yaxis": "y"
        },
        {
         "hovertemplate": "Country=Kiribati<br>P_Mean=%{x}<br>LE_Mean=%{y}<br>width=%{marker.size}<extra></extra>",
         "legendgroup": "Kiribati",
         "marker": {
          "color": "#FF97FF",
          "size": [
           0.5
          ],
          "sizemode": "area",
          "sizeref": 0.00125,
          "symbol": "circle"
         },
         "mode": "markers",
         "name": "Kiribati",
         "orientation": "v",
         "showlegend": true,
         "type": "scatter",
         "x": [
          102270.4
         ],
         "xaxis": "x",
         "y": [
          67.3249
         ],
         "yaxis": "y"
        },
        {
         "hovertemplate": "Country=St. Kitts and Nevis<br>P_Mean=%{x}<br>LE_Mean=%{y}<br>width=%{marker.size}<extra></extra>",
         "legendgroup": "St. Kitts and Nevis",
         "marker": {
          "color": "#FECB52",
          "size": [
           0.5
          ],
          "sizemode": "area",
          "sizeref": 0.00125,
          "symbol": "circle"
         },
         "mode": "markers",
         "name": "St. Kitts and Nevis",
         "orientation": "v",
         "showlegend": true,
         "type": "scatter",
         "x": [
          51366.7
         ],
         "xaxis": "x",
         "y": [
          null
         ],
         "yaxis": "y"
        },
        {
         "hovertemplate": "Country=Korea, Rep.<br>P_Mean=%{x}<br>LE_Mean=%{y}<br>width=%{marker.size}<extra></extra>",
         "legendgroup": "Korea, Rep.",
         "marker": {
          "color": "#636efa",
          "size": [
           0.5
          ],
          "sizemode": "area",
          "sizeref": 0.00125,
          "symbol": "circle"
         },
         "mode": "markers",
         "name": "Korea, Rep.",
         "orientation": "v",
         "showlegend": true,
         "type": "scatter",
         "x": [
          53122100.6
         ],
         "xaxis": "x",
         "y": [
          82.26
         ],
         "yaxis": "y"
        },
        {
         "hovertemplate": "Country=Kuwait<br>P_Mean=%{x}<br>LE_Mean=%{y}<br>width=%{marker.size}<extra></extra>",
         "legendgroup": "Kuwait",
         "marker": {
          "color": "#EF553B",
          "size": [
           0.5
          ],
          "sizemode": "area",
          "sizeref": 0.00125,
          "symbol": "circle"
         },
         "mode": "markers",
         "name": "Kuwait",
         "orientation": "v",
         "showlegend": true,
         "type": "scatter",
         "x": [
          2626432.9
         ],
         "xaxis": "x",
         "y": [
          80.1842
         ],
         "yaxis": "y"
        },
        {
         "hovertemplate": "Country=Lao PDR<br>P_Mean=%{x}<br>LE_Mean=%{y}<br>width=%{marker.size}<extra></extra>",
         "legendgroup": "Lao PDR",
         "marker": {
          "color": "#00cc96",
          "size": [
           0.5
          ],
          "sizemode": "area",
          "sizeref": 0.00125,
          "symbol": "circle"
         },
         "mode": "markers",
         "name": "Lao PDR",
         "orientation": "v",
         "showlegend": true,
         "type": "scatter",
         "x": [
          6345249
         ],
         "xaxis": "x",
         "y": [
          65.7457
         ],
         "yaxis": "y"
        },
        {
         "hovertemplate": "Country=Lebanon<br>P_Mean=%{x}<br>LE_Mean=%{y}<br>width=%{marker.size}<extra></extra>",
         "legendgroup": "Lebanon",
         "marker": {
          "color": "#ab63fa",
          "size": [
           0.5
          ],
          "sizemode": "area",
          "sizeref": 0.00125,
          "symbol": "circle"
         },
         "mode": "markers",
         "name": "Lebanon",
         "orientation": "v",
         "showlegend": true,
         "type": "scatter",
         "x": [
          4973043.6
         ],
         "xaxis": "x",
         "y": [
          82.4225
         ],
         "yaxis": "y"
        },
        {
         "hovertemplate": "Country=Liberia<br>P_Mean=%{x}<br>LE_Mean=%{y}<br>width=%{marker.size}<extra></extra>",
         "legendgroup": "Liberia",
         "marker": {
          "color": "#FFA15A",
          "size": [
           0.5
          ],
          "sizemode": "area",
          "sizeref": 0.00125,
          "symbol": "circle"
         },
         "mode": "markers",
         "name": "Liberia",
         "orientation": "v",
         "showlegend": true,
         "type": "scatter",
         "x": [
          3630239.6
         ],
         "xaxis": "x",
         "y": [
          59.5832
         ],
         "yaxis": "y"
        },
        {
         "hovertemplate": "Country=Libya<br>P_Mean=%{x}<br>LE_Mean=%{y}<br>width=%{marker.size}<extra></extra>",
         "legendgroup": "Libya",
         "marker": {
          "color": "#19d3f3",
          "size": [
           0.5
          ],
          "sizemode": "area",
          "sizeref": 0.00125,
          "symbol": "circle"
         },
         "mode": "markers",
         "name": "Libya",
         "orientation": "v",
         "showlegend": true,
         "type": "scatter",
         "x": [
          6371361.6
         ],
         "xaxis": "x",
         "y": [
          76.68509999999999
         ],
         "yaxis": "y"
        },
        {
         "hovertemplate": "Country=St. Lucia<br>P_Mean=%{x}<br>LE_Mean=%{y}<br>width=%{marker.size}<extra></extra>",
         "legendgroup": "St. Lucia",
         "marker": {
          "color": "#FF6692",
          "size": [
           0.5
          ],
          "sizemode": "area",
          "sizeref": 0.00125,
          "symbol": "circle"
         },
         "mode": "markers",
         "name": "St. Lucia",
         "orientation": "v",
         "showlegend": true,
         "type": "scatter",
         "x": [
          180942
         ],
         "xaxis": "x",
         "y": [
          79.92499999999998
         ],
         "yaxis": "y"
        },
        {
         "hovertemplate": "Country=Liechtenstein<br>P_Mean=%{x}<br>LE_Mean=%{y}<br>width=%{marker.size}<extra></extra>",
         "legendgroup": "Liechtenstein",
         "marker": {
          "color": "#B6E880",
          "size": [
           0.5
          ],
          "sizemode": "area",
          "sizeref": 0.00125,
          "symbol": "circle"
         },
         "mode": "markers",
         "name": "Liechtenstein",
         "orientation": "v",
         "showlegend": true,
         "type": "scatter",
         "x": [
          38132.6
         ],
         "xaxis": "x",
         "y": [
          85.86999999999999
         ],
         "yaxis": "y"
        },
        {
         "hovertemplate": "Country=Sri Lanka<br>P_Mean=%{x}<br>LE_Mean=%{y}<br>width=%{marker.size}<extra></extra>",
         "legendgroup": "Sri Lanka",
         "marker": {
          "color": "#FF97FF",
          "size": [
           0.5
          ],
          "sizemode": "area",
          "sizeref": 0.00125,
          "symbol": "circle"
         },
         "mode": "markers",
         "name": "Sri Lanka",
         "orientation": "v",
         "showlegend": true,
         "type": "scatter",
         "x": [
          21481523.7
         ],
         "xaxis": "x",
         "y": [
          77.7337
         ],
         "yaxis": "y"
        },
        {
         "hovertemplate": "Country=Lesotho<br>P_Mean=%{x}<br>LE_Mean=%{y}<br>width=%{marker.size}<extra></extra>",
         "legendgroup": "Lesotho",
         "marker": {
          "color": "#FECB52",
          "size": [
           0.5
          ],
          "sizemode": "area",
          "sizeref": 0.00125,
          "symbol": "circle"
         },
         "mode": "markers",
         "name": "Lesotho",
         "orientation": "v",
         "showlegend": true,
         "type": "scatter",
         "x": [
          2206849.7
         ],
         "xaxis": "x",
         "y": [
          46.0472
         ],
         "yaxis": "y"
        },
        {
         "hovertemplate": "Country=Lithuania<br>P_Mean=%{x}<br>LE_Mean=%{y}<br>width=%{marker.size}<extra></extra>",
         "legendgroup": "Lithuania",
         "marker": {
          "color": "#636efa",
          "size": [
           0.5
          ],
          "sizemode": "area",
          "sizeref": 0.00125,
          "symbol": "circle"
         },
         "mode": "markers",
         "name": "Lithuania",
         "orientation": "v",
         "showlegend": true,
         "type": "scatter",
         "x": [
          3648786.9
         ],
         "xaxis": "x",
         "y": [
          72.92999999999999
         ],
         "yaxis": "y"
        },
        {
         "hovertemplate": "Country=Luxembourg<br>P_Mean=%{x}<br>LE_Mean=%{y}<br>width=%{marker.size}<extra></extra>",
         "legendgroup": "Luxembourg",
         "marker": {
          "color": "#EF553B",
          "size": [
           0.5
          ],
          "sizemode": "area",
          "sizeref": 0.00125,
          "symbol": "circle"
         },
         "mode": "markers",
         "name": "Luxembourg",
         "orientation": "v",
         "showlegend": true,
         "type": "scatter",
         "x": [
          514489.9
         ],
         "xaxis": "x",
         "y": [
          83.93
         ],
         "yaxis": "y"
        },
        {
         "hovertemplate": "Country=Latvia<br>P_Mean=%{x}<br>LE_Mean=%{y}<br>width=%{marker.size}<extra></extra>",
         "legendgroup": "Latvia",
         "marker": {
          "color": "#00cc96",
          "size": [
           0.5
          ],
          "sizemode": "area",
          "sizeref": 0.00125,
          "symbol": "circle"
         },
         "mode": "markers",
         "name": "Latvia",
         "orientation": "v",
         "showlegend": true,
         "type": "scatter",
         "x": [
          2463999.7
         ],
         "xaxis": "x",
         "y": [
          72.97
         ],
         "yaxis": "y"
        },
        {
         "hovertemplate": "Country=Morocco<br>P_Mean=%{x}<br>LE_Mean=%{y}<br>width=%{marker.size}<extra></extra>",
         "legendgroup": "Morocco",
         "marker": {
          "color": "#ab63fa",
          "size": [
           0.5
          ],
          "sizemode": "area",
          "sizeref": 0.00125,
          "symbol": "circle"
         },
         "mode": "markers",
         "name": "Morocco",
         "orientation": "v",
         "showlegend": true,
         "type": "scatter",
         "x": [
          33550604
         ],
         "xaxis": "x",
         "y": [
          77.2493
         ],
         "yaxis": "y"
        },
        {
         "hovertemplate": "Country=Monaco<br>P_Mean=%{x}<br>LE_Mean=%{y}<br>width=%{marker.size}<extra></extra>",
         "legendgroup": "Monaco",
         "marker": {
          "color": "#FFA15A",
          "size": [
           0.5
          ],
          "sizemode": "area",
          "sizeref": 0.00125,
          "symbol": "circle"
         },
         "mode": "markers",
         "name": "Monaco",
         "orientation": "v",
         "showlegend": true,
         "type": "scatter",
         "x": [
          37231.6
         ],
         "xaxis": "x",
         "y": [
          null
         ],
         "yaxis": "y"
        },
        {
         "hovertemplate": "Country=Moldova<br>P_Mean=%{x}<br>LE_Mean=%{y}<br>width=%{marker.size}<extra></extra>",
         "legendgroup": "Moldova",
         "marker": {
          "color": "#19d3f3",
          "size": [
           0.5
          ],
          "sizemode": "area",
          "sizeref": 0.00125,
          "symbol": "circle"
         },
         "mode": "markers",
         "name": "Moldova",
         "orientation": "v",
         "showlegend": true,
         "type": "scatter",
         "x": [
          3178443.8
         ],
         "xaxis": "x",
         "y": [
          70.4799
         ],
         "yaxis": "y"
        },
        {
         "hovertemplate": "Country=Madagascar<br>P_Mean=%{x}<br>LE_Mean=%{y}<br>width=%{marker.size}<extra></extra>",
         "legendgroup": "Madagascar",
         "marker": {
          "color": "#FF6692",
          "size": [
           0.5
          ],
          "sizemode": "area",
          "sizeref": 0.00125,
          "symbol": "circle"
         },
         "mode": "markers",
         "name": "Madagascar",
         "orientation": "v",
         "showlegend": true,
         "type": "scatter",
         "x": [
          20224273
         ],
         "xaxis": "x",
         "y": [
          65.76609999999998
         ],
         "yaxis": "y"
        },
        {
         "hovertemplate": "Country=Maldives<br>P_Mean=%{x}<br>LE_Mean=%{y}<br>width=%{marker.size}<extra></extra>",
         "legendgroup": "Maldives",
         "marker": {
          "color": "#B6E880",
          "size": [
           0.5
          ],
          "sizemode": "area",
          "sizeref": 0.00125,
          "symbol": "circle"
         },
         "mode": "markers",
         "name": "Maldives",
         "orientation": "v",
         "showlegend": true,
         "type": "scatter",
         "x": [
          351867
         ],
         "xaxis": "x",
         "y": [
          79.55279999999999
         ],
         "yaxis": "y"
        },
        {
         "hovertemplate": "Country=Mexico<br>P_Mean=%{x}<br>LE_Mean=%{y}<br>width=%{marker.size}<extra></extra>",
         "legendgroup": "Mexico",
         "marker": {
          "color": "#FF97FF",
          "size": [
           0.5
          ],
          "sizemode": "area",
          "sizeref": 0.00125,
          "symbol": "circle"
         },
         "mode": "markers",
         "name": "Mexico",
         "orientation": "v",
         "showlegend": true,
         "type": "scatter",
         "x": [
          116858669.1
         ],
         "xaxis": "x",
         "y": [
          79.5181
         ],
         "yaxis": "y"
        },
        {
         "hovertemplate": "Country=Marshall Islands<br>P_Mean=%{x}<br>LE_Mean=%{y}<br>width=%{marker.size}<extra></extra>",
         "legendgroup": "Marshall Islands",
         "marker": {
          "color": "#FECB52",
          "size": [
           0.5
          ],
          "sizemode": "area",
          "sizeref": 0.00125,
          "symbol": "circle"
         },
         "mode": "markers",
         "name": "Marshall Islands",
         "orientation": "v",
         "showlegend": true,
         "type": "scatter",
         "x": [
          59832.4
         ],
         "xaxis": "x",
         "y": [
          null
         ],
         "yaxis": "y"
        },
        {
         "hovertemplate": "Country=North Macedonia<br>P_Mean=%{x}<br>LE_Mean=%{y}<br>width=%{marker.size}<extra></extra>",
         "legendgroup": "North Macedonia",
         "marker": {
          "color": "#636efa",
          "size": [
           0.5
          ],
          "sizemode": "area",
          "sizeref": 0.00125,
          "symbol": "circle"
         },
         "mode": "markers",
         "name": "North Macedonia",
         "orientation": "v",
         "showlegend": true,
         "type": "scatter",
         "x": [
          2263296.3
         ],
         "xaxis": "x",
         "y": [
          78.88179999999998
         ],
         "yaxis": "y"
        },
        {
         "hovertemplate": "Country=Mali<br>P_Mean=%{x}<br>LE_Mean=%{y}<br>width=%{marker.size}<extra></extra>",
         "legendgroup": "Mali",
         "marker": {
          "color": "#EF553B",
          "size": [
           0.5
          ],
          "sizemode": "area",
          "sizeref": 0.00125,
          "symbol": "circle"
         },
         "mode": "markers",
         "name": "Mali",
         "orientation": "v",
         "showlegend": true,
         "type": "scatter",
         "x": [
          14156141
         ],
         "xaxis": "x",
         "y": [
          56.35719999999999
         ],
         "yaxis": "y"
        },
        {
         "hovertemplate": "Country=Malta<br>P_Mean=%{x}<br>LE_Mean=%{y}<br>width=%{marker.size}<extra></extra>",
         "legendgroup": "Malta",
         "marker": {
          "color": "#00cc96",
          "size": [
           0.5
          ],
          "sizemode": "area",
          "sizeref": 0.00125,
          "symbol": "circle"
         },
         "mode": "markers",
         "name": "Malta",
         "orientation": "v",
         "showlegend": true,
         "type": "scatter",
         "x": [
          443116.4
         ],
         "xaxis": "x",
         "y": [
          84.91
         ],
         "yaxis": "y"
        },
        {
         "hovertemplate": "Country=Myanmar<br>P_Mean=%{x}<br>LE_Mean=%{y}<br>width=%{marker.size}<extra></extra>",
         "legendgroup": "Myanmar",
         "marker": {
          "color": "#ab63fa",
          "size": [
           0.5
          ],
          "sizemode": "area",
          "sizeref": 0.00125,
          "symbol": "circle"
         },
         "mode": "markers",
         "name": "Myanmar",
         "orientation": "v",
         "showlegend": true,
         "type": "scatter",
         "x": [
          53701367
         ],
         "xaxis": "x",
         "y": [
          64.33739999999999
         ],
         "yaxis": "y"
        },
        {
         "hovertemplate": "Country=Montenegro<br>P_Mean=%{x}<br>LE_Mean=%{y}<br>width=%{marker.size}<extra></extra>",
         "legendgroup": "Montenegro",
         "marker": {
          "color": "#FFA15A",
          "size": [
           0.5
          ],
          "sizemode": "area",
          "sizeref": 0.00125,
          "symbol": "circle"
         },
         "mode": "markers",
         "name": "Montenegro",
         "orientation": "v",
         "showlegend": true,
         "type": "scatter",
         "x": [
          674763.9
         ],
         "xaxis": "x",
         "y": [
          78.4622
         ],
         "yaxis": "y"
        },
        {
         "hovertemplate": "Country=Mongolia<br>P_Mean=%{x}<br>LE_Mean=%{y}<br>width=%{marker.size}<extra></extra>",
         "legendgroup": "Mongolia",
         "marker": {
          "color": "#19d3f3",
          "size": [
           0.5
          ],
          "sizemode": "area",
          "sizeref": 0.00125,
          "symbol": "circle"
         },
         "mode": "markers",
         "name": "Mongolia",
         "orientation": "v",
         "showlegend": true,
         "type": "scatter",
         "x": [
          2793012.8
         ],
         "xaxis": "x",
         "y": [
          67.7915
         ],
         "yaxis": "y"
        },
        {
         "hovertemplate": "Country=Northern Mariana Islands<br>P_Mean=%{x}<br>LE_Mean=%{y}<br>width=%{marker.size}<extra></extra>",
         "legendgroup": "Northern Mariana Islands",
         "marker": {
          "color": "#FF6692",
          "size": [
           0.5
          ],
          "sizemode": "area",
          "sizeref": 0.00125,
          "symbol": "circle"
         },
         "mode": "markers",
         "name": "Northern Mariana Islands",
         "orientation": "v",
         "showlegend": true,
         "type": "scatter",
         "x": [
          61981.2
         ],
         "xaxis": "x",
         "y": [
          null
         ],
         "yaxis": "y"
        },
        {
         "hovertemplate": "Country=Mozambique<br>P_Mean=%{x}<br>LE_Mean=%{y}<br>width=%{marker.size}<extra></extra>",
         "legendgroup": "Mozambique",
         "marker": {
          "color": "#B6E880",
          "size": [
           0.5
          ],
          "sizemode": "area",
          "sizeref": 0.00125,
          "symbol": "circle"
         },
         "mode": "markers",
         "name": "Mozambique",
         "orientation": "v",
         "showlegend": true,
         "type": "scatter",
         "x": [
          22588983.7
         ],
         "xaxis": "x",
         "y": [
          53.0492
         ],
         "yaxis": "y"
        },
        {
         "hovertemplate": "Country=Mauritania<br>P_Mean=%{x}<br>LE_Mean=%{y}<br>width=%{marker.size}<extra></extra>",
         "legendgroup": "Mauritania",
         "marker": {
          "color": "#FF97FF",
          "size": [
           0.5
          ],
          "sizemode": "area",
          "sizeref": 0.00125,
          "symbol": "circle"
         },
         "mode": "markers",
         "name": "Mauritania",
         "orientation": "v",
         "showlegend": true,
         "type": "scatter",
         "x": [
          3342957.8
         ],
         "xaxis": "x",
         "y": [
          65.5635
         ],
         "yaxis": "y"
        },
        {
         "hovertemplate": "Country=Mauritius<br>P_Mean=%{x}<br>LE_Mean=%{y}<br>width=%{marker.size}<extra></extra>",
         "legendgroup": "Mauritius",
         "marker": {
          "color": "#FECB52",
          "size": [
           0.5
          ],
          "sizemode": "area",
          "sizeref": 0.00125,
          "symbol": "circle"
         },
         "mode": "markers",
         "name": "Mauritius",
         "orientation": "v",
         "showlegend": true,
         "type": "scatter",
         "x": [
          1346598.4
         ],
         "xaxis": "x",
         "y": [
          75.83800000000001
         ],
         "yaxis": "y"
        },
        {
         "hovertemplate": "Country=Malawi<br>P_Mean=%{x}<br>LE_Mean=%{y}<br>width=%{marker.size}<extra></extra>",
         "legendgroup": "Malawi",
         "marker": {
          "color": "#636efa",
          "size": [
           0.5
          ],
          "sizemode": "area",
          "sizeref": 0.00125,
          "symbol": "circle"
         },
         "mode": "markers",
         "name": "Malawi",
         "orientation": "v",
         "showlegend": true,
         "type": "scatter",
         "x": [
          13993355.5
         ],
         "xaxis": "x",
         "y": [
          51.1338
         ],
         "yaxis": "y"
        },
        {
         "hovertemplate": "Country=Malaysia<br>P_Mean=%{x}<br>LE_Mean=%{y}<br>width=%{marker.size}<extra></extra>",
         "legendgroup": "Malaysia",
         "marker": {
          "color": "#EF553B",
          "size": [
           0.5
          ],
          "sizemode": "area",
          "sizeref": 0.00125,
          "symbol": "circle"
         },
         "mode": "markers",
         "name": "Malaysia",
         "orientation": "v",
         "showlegend": true,
         "type": "scatter",
         "x": [
          28279323.1
         ],
         "xaxis": "x",
         "y": [
          78.6745
         ],
         "yaxis": "y"
        },
        {
         "hovertemplate": "Country=Namibia<br>P_Mean=%{x}<br>LE_Mean=%{y}<br>width=%{marker.size}<extra></extra>",
         "legendgroup": "Namibia",
         "marker": {
          "color": "#00cc96",
          "size": [
           0.5
          ],
          "sizemode": "area",
          "sizeref": 0.00125,
          "symbol": "circle"
         },
         "mode": "markers",
         "name": "Namibia",
         "orientation": "v",
         "showlegend": true,
         "type": "scatter",
         "x": [
          2141606.7
         ],
         "xaxis": "x",
         "y": [
          55.61409999999999
         ],
         "yaxis": "y"
        },
        {
         "hovertemplate": "Country=New Caledonia<br>P_Mean=%{x}<br>LE_Mean=%{y}<br>width=%{marker.size}<extra></extra>",
         "legendgroup": "New Caledonia",
         "marker": {
          "color": "#ab63fa",
          "size": [
           0.5
          ],
          "sizemode": "area",
          "sizeref": 0.00125,
          "symbol": "circle"
         },
         "mode": "markers",
         "name": "New Caledonia",
         "orientation": "v",
         "showlegend": true,
         "type": "scatter",
         "x": [
          255179
         ],
         "xaxis": "x",
         "y": [
          80.13000000000001
         ],
         "yaxis": "y"
        },
        {
         "hovertemplate": "Country=Niger<br>P_Mean=%{x}<br>LE_Mean=%{y}<br>width=%{marker.size}<extra></extra>",
         "legendgroup": "Niger",
         "marker": {
          "color": "#FFA15A",
          "size": [
           0.5
          ],
          "sizemode": "area",
          "sizeref": 0.00125,
          "symbol": "circle"
         },
         "mode": "markers",
         "name": "Niger",
         "orientation": "v",
         "showlegend": true,
         "type": "scatter",
         "x": [
          15105872.6
         ],
         "xaxis": "x",
         "y": [
          57.997
         ],
         "yaxis": "y"
        },
        {
         "hovertemplate": "Country=Nigeria<br>P_Mean=%{x}<br>LE_Mean=%{y}<br>width=%{marker.size}<extra></extra>",
         "legendgroup": "Nigeria",
         "marker": {
          "color": "#19d3f3",
          "size": [
           0.5
          ],
          "sizemode": "area",
          "sizeref": 0.00125,
          "symbol": "circle"
         },
         "mode": "markers",
         "name": "Nigeria",
         "orientation": "v",
         "showlegend": true,
         "type": "scatter",
         "x": [
          153433608.6
         ],
         "xaxis": "x",
         "y": [
          52.374200000000016
         ],
         "yaxis": "y"
        },
        {
         "hovertemplate": "Country=Nicaragua<br>P_Mean=%{x}<br>LE_Mean=%{y}<br>width=%{marker.size}<extra></extra>",
         "legendgroup": "Nicaragua",
         "marker": {
          "color": "#FF6692",
          "size": [
           0.5
          ],
          "sizemode": "area",
          "sizeref": 0.00125,
          "symbol": "circle"
         },
         "mode": "markers",
         "name": "Nicaragua",
         "orientation": "v",
         "showlegend": true,
         "type": "scatter",
         "x": [
          5987059.3
         ],
         "xaxis": "x",
         "y": [
          74.8029
         ],
         "yaxis": "y"
        },
        {
         "hovertemplate": "Country=Netherlands<br>P_Mean=%{x}<br>LE_Mean=%{y}<br>width=%{marker.size}<extra></extra>",
         "legendgroup": "Netherlands",
         "marker": {
          "color": "#B6E880",
          "size": [
           0.5
          ],
          "sizemode": "area",
          "sizeref": 0.00125,
          "symbol": "circle"
         },
         "mode": "markers",
         "name": "Netherlands",
         "orientation": "v",
         "showlegend": true,
         "type": "scatter",
         "x": [
          17926674.3
         ],
         "xaxis": "x",
         "y": [
          84.87999999999998
         ],
         "yaxis": "y"
        },
        {
         "hovertemplate": "Country=Norway<br>P_Mean=%{x}<br>LE_Mean=%{y}<br>width=%{marker.size}<extra></extra>",
         "legendgroup": "Norway",
         "marker": {
          "color": "#FF97FF",
          "size": [
           0.5
          ],
          "sizemode": "area",
          "sizeref": 0.00125,
          "symbol": "circle"
         },
         "mode": "markers",
         "name": "Norway",
         "orientation": "v",
         "showlegend": true,
         "type": "scatter",
         "x": [
          5117895.3
         ],
         "xaxis": "x",
         "y": [
          85.3
         ],
         "yaxis": "y"
        },
        {
         "hovertemplate": "Country=Nepal<br>P_Mean=%{x}<br>LE_Mean=%{y}<br>width=%{marker.size}<extra></extra>",
         "legendgroup": "Nepal",
         "marker": {
          "color": "#FECB52",
          "size": [
           0.5
          ],
          "sizemode": "area",
          "sizeref": 0.00125,
          "symbol": "circle"
         },
         "mode": "markers",
         "name": "Nepal",
         "orientation": "v",
         "showlegend": true,
         "type": "scatter",
         "x": [
          28227114.6
         ],
         "xaxis": "x",
         "y": [
          70.2778
         ],
         "yaxis": "y"
        },
        {
         "hovertemplate": "Country=Nauru<br>P_Mean=%{x}<br>LE_Mean=%{y}<br>width=%{marker.size}<extra></extra>",
         "legendgroup": "Nauru",
         "marker": {
          "color": "#636efa",
          "size": [
           0.5
          ],
          "sizemode": "area",
          "sizeref": 0.00125,
          "symbol": "circle"
         },
         "mode": "markers",
         "name": "Nauru",
         "orientation": "v",
         "showlegend": true,
         "type": "scatter",
         "x": [
          10990.7
         ],
         "xaxis": "x",
         "y": [
          null
         ],
         "yaxis": "y"
        },
        {
         "hovertemplate": "Country=New Zealand<br>P_Mean=%{x}<br>LE_Mean=%{y}<br>width=%{marker.size}<extra></extra>",
         "legendgroup": "New Zealand",
         "marker": {
          "color": "#EF553B",
          "size": [
           0.5
          ],
          "sizemode": "area",
          "sizeref": 0.00125,
          "symbol": "circle"
         },
         "mode": "markers",
         "name": "New Zealand",
         "orientation": "v",
         "showlegend": true,
         "type": "scatter",
         "x": [
          4525680
         ],
         "xaxis": "x",
         "y": [
          85.38
         ],
         "yaxis": "y"
        },
        {
         "hovertemplate": "Country=Oman<br>P_Mean=%{x}<br>LE_Mean=%{y}<br>width=%{marker.size}<extra></extra>",
         "legendgroup": "Oman",
         "marker": {
          "color": "#00cc96",
          "size": [
           0.5
          ],
          "sizemode": "area",
          "sizeref": 0.00125,
          "symbol": "circle"
         },
         "mode": "markers",
         "name": "Oman",
         "orientation": "v",
         "showlegend": true,
         "type": "scatter",
         "x": [
          2814722.6
         ],
         "xaxis": "x",
         "y": [
          79.47540000000001
         ],
         "yaxis": "y"
        },
        {
         "hovertemplate": "Country=Pakistan<br>P_Mean=%{x}<br>LE_Mean=%{y}<br>width=%{marker.size}<extra></extra>",
         "legendgroup": "Pakistan",
         "marker": {
          "color": "#ab63fa",
          "size": [
           0.5
          ],
          "sizemode": "area",
          "sizeref": 0.00125,
          "symbol": "circle"
         },
         "mode": "markers",
         "name": "Pakistan",
         "orientation": "v",
         "showlegend": true,
         "type": "scatter",
         "x": [
          176636373.1
         ],
         "xaxis": "x",
         "y": [
          69.46770000000001
         ],
         "yaxis": "y"
        },
        {
         "hovertemplate": "Country=Panama<br>P_Mean=%{x}<br>LE_Mean=%{y}<br>width=%{marker.size}<extra></extra>",
         "legendgroup": "Panama",
         "marker": {
          "color": "#FFA15A",
          "size": [
           0.5
          ],
          "sizemode": "area",
          "sizeref": 0.00125,
          "symbol": "circle"
         },
         "mode": "markers",
         "name": "Panama",
         "orientation": "v",
         "showlegend": true,
         "type": "scatter",
         "x": [
          3666125.7
         ],
         "xaxis": "x",
         "y": [
          80.61160000000001
         ],
         "yaxis": "y"
        },
        {
         "hovertemplate": "Country=Peru<br>P_Mean=%{x}<br>LE_Mean=%{y}<br>width=%{marker.size}<extra></extra>",
         "legendgroup": "Peru",
         "marker": {
          "color": "#19d3f3",
          "size": [
           0.5
          ],
          "sizemode": "area",
          "sizeref": 0.00125,
          "symbol": "circle"
         },
         "mode": "markers",
         "name": "Peru",
         "orientation": "v",
         "showlegend": true,
         "type": "scatter",
         "x": [
          30604054.9
         ],
         "xaxis": "x",
         "y": [
          77.54889999999999
         ],
         "yaxis": "y"
        },
        {
         "hovertemplate": "Country=Philippines<br>P_Mean=%{x}<br>LE_Mean=%{y}<br>width=%{marker.size}<extra></extra>",
         "legendgroup": "Philippines",
         "marker": {
          "color": "#FF6692",
          "size": [
           0.5
          ],
          "sizemode": "area",
          "sizeref": 0.00125,
          "symbol": "circle"
         },
         "mode": "markers",
         "name": "Philippines",
         "orientation": "v",
         "showlegend": true,
         "type": "scatter",
         "x": [
          94769572
         ],
         "xaxis": "x",
         "y": [
          72.2188
         ],
         "yaxis": "y"
        },
        {
         "hovertemplate": "Country=Palau<br>P_Mean=%{x}<br>LE_Mean=%{y}<br>width=%{marker.size}<extra></extra>",
         "legendgroup": "Palau",
         "marker": {
          "color": "#B6E880",
          "size": [
           0.5
          ],
          "sizemode": "area",
          "sizeref": 0.00125,
          "symbol": "circle"
         },
         "mode": "markers",
         "name": "Palau",
         "orientation": "v",
         "showlegend": true,
         "type": "scatter",
         "x": [
          21124.9
         ],
         "xaxis": "x",
         "y": [
          null
         ],
         "yaxis": "y"
        },
        {
         "hovertemplate": "Country=Papua New Guinea<br>P_Mean=%{x}<br>LE_Mean=%{y}<br>width=%{marker.size}<extra></extra>",
         "legendgroup": "Papua New Guinea",
         "marker": {
          "color": "#FF97FF",
          "size": [
           0.5
          ],
          "sizemode": "area",
          "sizeref": 0.00125,
          "symbol": "circle"
         },
         "mode": "markers",
         "name": "Papua New Guinea",
         "orientation": "v",
         "showlegend": true,
         "type": "scatter",
         "x": [
          7188024.5
         ],
         "xaxis": "x",
         "y": [
          65.196
         ],
         "yaxis": "y"
        },
        {
         "hovertemplate": "Country=Poland<br>P_Mean=%{x}<br>LE_Mean=%{y}<br>width=%{marker.size}<extra></extra>",
         "legendgroup": "Poland",
         "marker": {
          "color": "#FECB52",
          "size": [
           0.5
          ],
          "sizemode": "area",
          "sizeref": 0.00125,
          "symbol": "circle"
         },
         "mode": "markers",
         "name": "Poland",
         "orientation": "v",
         "showlegend": true,
         "type": "scatter",
         "x": [
          41987128.9
         ],
         "xaxis": "x",
         "y": [
          77.91
         ],
         "yaxis": "y"
        },
        {
         "hovertemplate": "Country=Puerto Rico<br>P_Mean=%{x}<br>LE_Mean=%{y}<br>width=%{marker.size}<extra></extra>",
         "legendgroup": "Puerto Rico",
         "marker": {
          "color": "#636efa",
          "size": [
           0.5
          ],
          "sizemode": "area",
          "sizeref": 0.00125,
          "symbol": "circle"
         },
         "mode": "markers",
         "name": "Puerto Rico",
         "orientation": "v",
         "showlegend": true,
         "type": "scatter",
         "x": [
          4173842.5
         ],
         "xaxis": "x",
         "y": [
          81.42540000000001
         ],
         "yaxis": "y"
        },
        {
         "hovertemplate": "Country=Korea, Dem. People's Rep.<br>P_Mean=%{x}<br>LE_Mean=%{y}<br>width=%{marker.size}<extra></extra>",
         "legendgroup": "Korea, Dem. People's Rep.",
         "marker": {
          "color": "#EF553B",
          "size": [
           0.5
          ],
          "sizemode": "area",
          "sizeref": 0.00125,
          "symbol": "circle"
         },
         "mode": "markers",
         "name": "Korea, Dem. People's Rep.",
         "orientation": "v",
         "showlegend": true,
         "type": "scatter",
         "x": [
          26211137.3
         ],
         "xaxis": "x",
         "y": [
          70.5618
         ],
         "yaxis": "y"
        },
        {
         "hovertemplate": "Country=Portugal<br>P_Mean=%{x}<br>LE_Mean=%{y}<br>width=%{marker.size}<extra></extra>",
         "legendgroup": "Portugal",
         "marker": {
          "color": "#00cc96",
          "size": [
           0.5
          ],
          "sizemode": "area",
          "sizeref": 0.00125,
          "symbol": "circle"
         },
         "mode": "markers",
         "name": "Portugal",
         "orientation": "v",
         "showlegend": true,
         "type": "scatter",
         "x": [
          11528303.9
         ],
         "xaxis": "x",
         "y": [
          82.12
         ],
         "yaxis": "y"
        },
        {
         "hovertemplate": "Country=Paraguay<br>P_Mean=%{x}<br>LE_Mean=%{y}<br>width=%{marker.size}<extra></extra>",
         "legendgroup": "Paraguay",
         "marker": {
          "color": "#ab63fa",
          "size": [
           0.5
          ],
          "sizemode": "area",
          "sizeref": 0.00125,
          "symbol": "circle"
         },
         "mode": "markers",
         "name": "Paraguay",
         "orientation": "v",
         "showlegend": true,
         "type": "scatter",
         "x": [
          6387616.1
         ],
         "xaxis": "x",
         "y": [
          76.65489999999998
         ],
         "yaxis": "y"
        },
        {
         "hovertemplate": "Country=French Polynesia<br>P_Mean=%{x}<br>LE_Mean=%{y}<br>width=%{marker.size}<extra></extra>",
         "legendgroup": "French Polynesia",
         "marker": {
          "color": "#FFA15A",
          "size": [
           0.5
          ],
          "sizemode": "area",
          "sizeref": 0.00125,
          "symbol": "circle"
         },
         "mode": "markers",
         "name": "French Polynesia",
         "orientation": "v",
         "showlegend": true,
         "type": "scatter",
         "x": [
          282156.1
         ],
         "xaxis": "x",
         "y": [
          78.8697
         ],
         "yaxis": "y"
        },
        {
         "hovertemplate": "Country=Qatar<br>P_Mean=%{x}<br>LE_Mean=%{y}<br>width=%{marker.size}<extra></extra>",
         "legendgroup": "Qatar",
         "marker": {
          "color": "#19d3f3",
          "size": [
           0.5
          ],
          "sizemode": "area",
          "sizeref": 0.00125,
          "symbol": "circle"
         },
         "mode": "markers",
         "name": "Qatar",
         "orientation": "v",
         "showlegend": true,
         "type": "scatter",
         "x": [
          1133797.3
         ],
         "xaxis": "x",
         "y": [
          84.9463
         ],
         "yaxis": "y"
        },
        {
         "hovertemplate": "Country=Romania<br>P_Mean=%{x}<br>LE_Mean=%{y}<br>width=%{marker.size}<extra></extra>",
         "legendgroup": "Romania",
         "marker": {
          "color": "#FF6692",
          "size": [
           0.5
          ],
          "sizemode": "area",
          "sizeref": 0.00125,
          "symbol": "circle"
         },
         "mode": "markers",
         "name": "Romania",
         "orientation": "v",
         "showlegend": true,
         "type": "scatter",
         "x": [
          23388017.1
         ],
         "xaxis": "x",
         "y": [
          75.34
         ],
         "yaxis": "y"
        },
        {
         "hovertemplate": "Country=Russian Federation<br>P_Mean=%{x}<br>LE_Mean=%{y}<br>width=%{marker.size}<extra></extra>",
         "legendgroup": "Russian Federation",
         "marker": {
          "color": "#B6E880",
          "size": [
           0.5
          ],
          "sizemode": "area",
          "sizeref": 0.00125,
          "symbol": "circle"
         },
         "mode": "markers",
         "name": "Russian Federation",
         "orientation": "v",
         "showlegend": true,
         "type": "scatter",
         "x": [
          158434653
         ],
         "xaxis": "x",
         "y": [
          66.276
         ],
         "yaxis": "y"
        },
        {
         "hovertemplate": "Country=Rwanda<br>P_Mean=%{x}<br>LE_Mean=%{y}<br>width=%{marker.size}<extra></extra>",
         "legendgroup": "Rwanda",
         "marker": {
          "color": "#FF97FF",
          "size": [
           0.5
          ],
          "sizemode": "area",
          "sizeref": 0.00125,
          "symbol": "circle"
         },
         "mode": "markers",
         "name": "Rwanda",
         "orientation": "v",
         "showlegend": true,
         "type": "scatter",
         "x": [
          9833353.6
         ],
         "xaxis": "x",
         "y": [
          59.8686
         ],
         "yaxis": "y"
        },
        {
         "hovertemplate": "Country=Saudi Arabia<br>P_Mean=%{x}<br>LE_Mean=%{y}<br>width=%{marker.size}<extra></extra>",
         "legendgroup": "Saudi Arabia",
         "marker": {
          "color": "#FECB52",
          "size": [
           0.5
          ],
          "sizemode": "area",
          "sizeref": 0.00125,
          "symbol": "circle"
         },
         "mode": "markers",
         "name": "Saudi Arabia",
         "orientation": "v",
         "showlegend": true,
         "type": "scatter",
         "x": [
          26270052.2
         ],
         "xaxis": "x",
         "y": [
          79.04710000000001
         ],
         "yaxis": "y"
        },
        {
         "hovertemplate": "Country=Sudan<br>P_Mean=%{x}<br>LE_Mean=%{y}<br>width=%{marker.size}<extra></extra>",
         "legendgroup": "Sudan",
         "marker": {
          "color": "#636efa",
          "size": [
           0.5
          ],
          "sizemode": "area",
          "sizeref": 0.00125,
          "symbol": "circle"
         },
         "mode": "markers",
         "name": "Sudan",
         "orientation": "v",
         "showlegend": true,
         "type": "scatter",
         "x": [
          33998718.2
         ],
         "xaxis": "x",
         "y": [
          64.59
         ],
         "yaxis": "y"
        },
        {
         "hovertemplate": "Country=Senegal<br>P_Mean=%{x}<br>LE_Mean=%{y}<br>width=%{marker.size}<extra></extra>",
         "legendgroup": "Senegal",
         "marker": {
          "color": "#EF553B",
          "size": [
           0.5
          ],
          "sizemode": "area",
          "sizeref": 0.00125,
          "symbol": "circle"
         },
         "mode": "markers",
         "name": "Senegal",
         "orientation": "v",
         "showlegend": true,
         "type": "scatter",
         "x": [
          12264649.1
         ],
         "xaxis": "x",
         "y": [
          65.13570000000001
         ],
         "yaxis": "y"
        },
        {
         "hovertemplate": "Country=Singapore<br>P_Mean=%{x}<br>LE_Mean=%{y}<br>width=%{marker.size}<extra></extra>",
         "legendgroup": "Singapore",
         "marker": {
          "color": "#00cc96",
          "size": [
           0.5
          ],
          "sizemode": "area",
          "sizeref": 0.00125,
          "symbol": "circle"
         },
         "mode": "markers",
         "name": "Singapore",
         "orientation": "v",
         "showlegend": true,
         "type": "scatter",
         "x": [
          4878276.6
         ],
         "xaxis": "x",
         "y": [
          85.26
         ],
         "yaxis": "y"
        },
        {
         "hovertemplate": "Country=Solomon Islands<br>P_Mean=%{x}<br>LE_Mean=%{y}<br>width=%{marker.size}<extra></extra>",
         "legendgroup": "Solomon Islands",
         "marker": {
          "color": "#ab63fa",
          "size": [
           0.5
          ],
          "sizemode": "area",
          "sizeref": 0.00125,
          "symbol": "circle"
         },
         "mode": "markers",
         "name": "Solomon Islands",
         "orientation": "v",
         "showlegend": true,
         "type": "scatter",
         "x": [
          516715.9
         ],
         "xaxis": "x",
         "y": [
          74.4451
         ],
         "yaxis": "y"
        },
        {
         "hovertemplate": "Country=Sierra Leone<br>P_Mean=%{x}<br>LE_Mean=%{y}<br>width=%{marker.size}<extra></extra>",
         "legendgroup": "Sierra Leone",
         "marker": {
          "color": "#FFA15A",
          "size": [
           0.5
          ],
          "sizemode": "area",
          "sizeref": 0.00125,
          "symbol": "circle"
         },
         "mode": "markers",
         "name": "Sierra Leone",
         "orientation": "v",
         "showlegend": true,
         "type": "scatter",
         "x": [
          6122595.8
         ],
         "xaxis": "x",
         "y": [
          48.0666
         ],
         "yaxis": "y"
        },
        {
         "hovertemplate": "Country=El Salvador<br>P_Mean=%{x}<br>LE_Mean=%{y}<br>width=%{marker.size}<extra></extra>",
         "legendgroup": "El Salvador",
         "marker": {
          "color": "#19d3f3",
          "size": [
           0.5
          ],
          "sizemode": "area",
          "sizeref": 0.00125,
          "symbol": "circle"
         },
         "mode": "markers",
         "name": "El Salvador",
         "orientation": "v",
         "showlegend": true,
         "type": "scatter",
         "x": [
          6650559.7
         ],
         "xaxis": "x",
         "y": [
          72.0051
         ],
         "yaxis": "y"
        },
        {
         "hovertemplate": "Country=San Marino<br>P_Mean=%{x}<br>LE_Mean=%{y}<br>width=%{marker.size}<extra></extra>",
         "legendgroup": "San Marino",
         "marker": {
          "color": "#FF6692",
          "size": [
           0.5
          ],
          "sizemode": "area",
          "sizeref": 0.00125,
          "symbol": "circle"
         },
         "mode": "markers",
         "name": "San Marino",
         "orientation": "v",
         "showlegend": true,
         "type": "scatter",
         "x": [
          32252.2
         ],
         "xaxis": "x",
         "y": [
          null
         ],
         "yaxis": "y"
        },
        {
         "hovertemplate": "Country=Somalia<br>P_Mean=%{x}<br>LE_Mean=%{y}<br>width=%{marker.size}<extra></extra>",
         "legendgroup": "Somalia",
         "marker": {
          "color": "#B6E880",
          "size": [
           0.5
          ],
          "sizemode": "area",
          "sizeref": 0.00125,
          "symbol": "circle"
         },
         "mode": "markers",
         "name": "Somalia",
         "orientation": "v",
         "showlegend": true,
         "type": "scatter",
         "x": [
          11495561.4
         ],
         "xaxis": "x",
         "y": [
          55.959399999999995
         ],
         "yaxis": "y"
        },
        {
         "hovertemplate": "Country=Serbia<br>P_Mean=%{x}<br>LE_Mean=%{y}<br>width=%{marker.size}<extra></extra>",
         "legendgroup": "Serbia",
         "marker": {
          "color": "#FF97FF",
          "size": [
           0.5
          ],
          "sizemode": "area",
          "sizeref": 0.00125,
          "symbol": "circle"
         },
         "mode": "markers",
         "name": "Serbia",
         "orientation": "v",
         "showlegend": true,
         "type": "scatter",
         "x": [
          8165643.1
         ],
         "xaxis": "x",
         "y": [
          77.44999999999999
         ],
         "yaxis": "y"
        },
        {
         "hovertemplate": "Country=Sao Tome and Principe<br>P_Mean=%{x}<br>LE_Mean=%{y}<br>width=%{marker.size}<extra></extra>",
         "legendgroup": "Sao Tome and Principe",
         "marker": {
          "color": "#FECB52",
          "size": [
           0.5
          ],
          "sizemode": "area",
          "sizeref": 0.00125,
          "symbol": "circle"
         },
         "mode": "markers",
         "name": "Sao Tome and Principe",
         "orientation": "v",
         "showlegend": true,
         "type": "scatter",
         "x": [
          175143.1
         ],
         "xaxis": "x",
         "y": [
          68.65990000000001
         ],
         "yaxis": "y"
        },
        {
         "hovertemplate": "Country=Suriname<br>P_Mean=%{x}<br>LE_Mean=%{y}<br>width=%{marker.size}<extra></extra>",
         "legendgroup": "Suriname",
         "marker": {
          "color": "#636efa",
          "size": [
           0.5
          ],
          "sizemode": "area",
          "sizeref": 0.00125,
          "symbol": "circle"
         },
         "mode": "markers",
         "name": "Suriname",
         "orientation": "v",
         "showlegend": true,
         "type": "scatter",
         "x": [
          549665.9
         ],
         "xaxis": "x",
         "y": [
          72.4042
         ],
         "yaxis": "y"
        },
        {
         "hovertemplate": "Country=Slovak Republic<br>P_Mean=%{x}<br>LE_Mean=%{y}<br>width=%{marker.size}<extra></extra>",
         "legendgroup": "Slovak Republic",
         "marker": {
          "color": "#EF553B",
          "size": [
           0.5
          ],
          "sizemode": "area",
          "sizeref": 0.00125,
          "symbol": "circle"
         },
         "mode": "markers",
         "name": "Slovak Republic",
         "orientation": "v",
         "showlegend": true,
         "type": "scatter",
         "x": [
          5916770.3
         ],
         "xaxis": "x",
         "y": [
          77.33
         ],
         "yaxis": "y"
        },
        {
         "hovertemplate": "Country=Slovenia<br>P_Mean=%{x}<br>LE_Mean=%{y}<br>width=%{marker.size}<extra></extra>",
         "legendgroup": "Slovenia",
         "marker": {
          "color": "#00cc96",
          "size": [
           0.5
          ],
          "sizemode": "area",
          "sizeref": 0.00125,
          "symbol": "circle"
         },
         "mode": "markers",
         "name": "Slovenia",
         "orientation": "v",
         "showlegend": true,
         "type": "scatter",
         "x": [
          2210329.2
         ],
         "xaxis": "x",
         "y": [
          81.41499999999999
         ],
         "yaxis": "y"
        },
        {
         "hovertemplate": "Country=Sweden<br>P_Mean=%{x}<br>LE_Mean=%{y}<br>width=%{marker.size}<extra></extra>",
         "legendgroup": "Sweden",
         "marker": {
          "color": "#ab63fa",
          "size": [
           0.5
          ],
          "sizemode": "area",
          "sizeref": 0.00125,
          "symbol": "circle"
         },
         "mode": "markers",
         "name": "Sweden",
         "orientation": "v",
         "showlegend": true,
         "type": "scatter",
         "x": [
          9979923.4
         ],
         "xaxis": "x",
         "y": [
          86.3
         ],
         "yaxis": "y"
        },
        {
         "hovertemplate": "Country=Eswatini<br>P_Mean=%{x}<br>LE_Mean=%{y}<br>width=%{marker.size}<extra></extra>",
         "legendgroup": "Eswatini",
         "marker": {
          "color": "#FFA15A",
          "size": [
           0.5
          ],
          "sizemode": "area",
          "sizeref": 0.00125,
          "symbol": "circle"
         },
         "mode": "markers",
         "name": "Eswatini",
         "orientation": "v",
         "showlegend": true,
         "type": "scatter",
         "x": [
          1136874.9
         ],
         "xaxis": "x",
         "y": [
          46.439800000000005
         ],
         "yaxis": "y"
        },
        {
         "hovertemplate": "Country=Seychelles<br>P_Mean=%{x}<br>LE_Mean=%{y}<br>width=%{marker.size}<extra></extra>",
         "legendgroup": "Seychelles",
         "marker": {
          "color": "#19d3f3",
          "size": [
           0.5
          ],
          "sizemode": "area",
          "sizeref": 0.00125,
          "symbol": "circle"
         },
         "mode": "markers",
         "name": "Seychelles",
         "orientation": "v",
         "showlegend": true,
         "type": "scatter",
         "x": [
          92782.7
         ],
         "xaxis": "x",
         "y": [
          74.76
         ],
         "yaxis": "y"
        },
        {
         "hovertemplate": "Country=Syrian Arab Republic<br>P_Mean=%{x}<br>LE_Mean=%{y}<br>width=%{marker.size}<extra></extra>",
         "legendgroup": "Syrian Arab Republic",
         "marker": {
          "color": "#FF6692",
          "size": [
           0.5
          ],
          "sizemode": "area",
          "sizeref": 0.00125,
          "symbol": "circle"
         },
         "mode": "markers",
         "name": "Syrian Arab Republic",
         "orientation": "v",
         "showlegend": true,
         "type": "scatter",
         "x": [
          20603621.4
         ],
         "xaxis": "x",
         "y": [
          78.2287
         ],
         "yaxis": "y"
        },
        {
         "hovertemplate": "Country=Turks and Caicos Islands<br>P_Mean=%{x}<br>LE_Mean=%{y}<br>width=%{marker.size}<extra></extra>",
         "legendgroup": "Turks and Caicos Islands",
         "marker": {
          "color": "#B6E880",
          "size": [
           0.5
          ],
          "sizemode": "area",
          "sizeref": 0.00125,
          "symbol": "circle"
         },
         "mode": "markers",
         "name": "Turks and Caicos Islands",
         "orientation": "v",
         "showlegend": true,
         "type": "scatter",
         "x": [
          30044.5
         ],
         "xaxis": "x",
         "y": [
          null
         ],
         "yaxis": "y"
        },
        {
         "hovertemplate": "Country=Chad<br>P_Mean=%{x}<br>LE_Mean=%{y}<br>width=%{marker.size}<extra></extra>",
         "legendgroup": "Chad",
         "marker": {
          "color": "#FF97FF",
          "size": [
           0.5
          ],
          "sizemode": "area",
          "sizeref": 0.00125,
          "symbol": "circle"
         },
         "mode": "markers",
         "name": "Chad",
         "orientation": "v",
         "showlegend": true,
         "type": "scatter",
         "x": [
          11122925.1
         ],
         "xaxis": "x",
         "y": [
          52.4393
         ],
         "yaxis": "y"
        },
        {
         "hovertemplate": "Country=Togo<br>P_Mean=%{x}<br>LE_Mean=%{y}<br>width=%{marker.size}<extra></extra>",
         "legendgroup": "Togo",
         "marker": {
          "color": "#FECB52",
          "size": [
           0.5
          ],
          "sizemode": "area",
          "sizeref": 0.00125,
          "symbol": "circle"
         },
         "mode": "markers",
         "name": "Togo",
         "orientation": "v",
         "showlegend": true,
         "type": "scatter",
         "x": [
          6203323.1
         ],
         "xaxis": "x",
         "y": [
          59.6339
         ],
         "yaxis": "y"
        },
        {
         "hovertemplate": "Country=Thailand<br>P_Mean=%{x}<br>LE_Mean=%{y}<br>width=%{marker.size}<extra></extra>",
         "legendgroup": "Thailand",
         "marker": {
          "color": "#636efa",
          "size": [
           0.5
          ],
          "sizemode": "area",
          "sizeref": 0.00125,
          "symbol": "circle"
         },
         "mode": "markers",
         "name": "Thailand",
         "orientation": "v",
         "showlegend": true,
         "type": "scatter",
         "x": [
          71810973.1
         ],
         "xaxis": "x",
         "y": [
          75.6351
         ],
         "yaxis": "y"
        },
        {
         "hovertemplate": "Country=Tajikistan<br>P_Mean=%{x}<br>LE_Mean=%{y}<br>width=%{marker.size}<extra></extra>",
         "legendgroup": "Tajikistan",
         "marker": {
          "color": "#EF553B",
          "size": [
           0.5
          ],
          "sizemode": "area",
          "sizeref": 0.00125,
          "symbol": "circle"
         },
         "mode": "markers",
         "name": "Tajikistan",
         "orientation": "v",
         "showlegend": true,
         "type": "scatter",
         "x": [
          7504228.9
         ],
         "xaxis": "x",
         "y": [
          70.1314
         ],
         "yaxis": "y"
        },
        {
         "hovertemplate": "Country=Turkmenistan<br>P_Mean=%{x}<br>LE_Mean=%{y}<br>width=%{marker.size}<extra></extra>",
         "legendgroup": "Turkmenistan",
         "marker": {
          "color": "#00cc96",
          "size": [
           0.5
          ],
          "sizemode": "area",
          "sizeref": 0.00125,
          "symbol": "circle"
         },
         "mode": "markers",
         "name": "Turkmenistan",
         "orientation": "v",
         "showlegend": true,
         "type": "scatter",
         "x": [
          5251521.8
         ],
         "xaxis": "x",
         "y": [
          67.44539999999999
         ],
         "yaxis": "y"
        },
        {
         "hovertemplate": "Country=Tonga<br>P_Mean=%{x}<br>LE_Mean=%{y}<br>width=%{marker.size}<extra></extra>",
         "legendgroup": "Tonga",
         "marker": {
          "color": "#ab63fa",
          "size": [
           0.5
          ],
          "sizemode": "area",
          "sizeref": 0.00125,
          "symbol": "circle"
         },
         "mode": "markers",
         "name": "Tonga",
         "orientation": "v",
         "showlegend": true,
         "type": "scatter",
         "x": [
          111173.3
         ],
         "xaxis": "x",
         "y": [
          75.13970000000002
         ],
         "yaxis": "y"
        },
        {
         "hovertemplate": "Country=Trinidad and Tobago<br>P_Mean=%{x}<br>LE_Mean=%{y}<br>width=%{marker.size}<extra></extra>",
         "legendgroup": "Trinidad and Tobago",
         "marker": {
          "color": "#FFA15A",
          "size": [
           0.5
          ],
          "sizemode": "area",
          "sizeref": 0.00125,
          "symbol": "circle"
         },
         "mode": "markers",
         "name": "Trinidad and Tobago",
         "orientation": "v",
         "showlegend": true,
         "type": "scatter",
         "x": [
          1426068.8
         ],
         "xaxis": "x",
         "y": [
          74.96279999999999
         ],
         "yaxis": "y"
        },
        {
         "hovertemplate": "Country=Tunisia<br>P_Mean=%{x}<br>LE_Mean=%{y}<br>width=%{marker.size}<extra></extra>",
         "legendgroup": "Tunisia",
         "marker": {
          "color": "#19d3f3",
          "size": [
           0.5
          ],
          "sizemode": "area",
          "sizeref": 0.00125,
          "symbol": "circle"
         },
         "mode": "markers",
         "name": "Tunisia",
         "orientation": "v",
         "showlegend": true,
         "type": "scatter",
         "x": [
          11152916.2
         ],
         "xaxis": "x",
         "y": [
          79.0629
         ],
         "yaxis": "y"
        },
        {
         "hovertemplate": "Country=Turkey<br>P_Mean=%{x}<br>LE_Mean=%{y}<br>width=%{marker.size}<extra></extra>",
         "legendgroup": "Turkey",
         "marker": {
          "color": "#FF6692",
          "size": [
           0.5
          ],
          "sizemode": "area",
          "sizeref": 0.00125,
          "symbol": "circle"
         },
         "mode": "markers",
         "name": "Turkey",
         "orientation": "v",
         "showlegend": true,
         "type": "scatter",
         "x": [
          74598726.2
         ],
         "xaxis": "x",
         "y": [
          75.8095
         ],
         "yaxis": "y"
        },
        {
         "hovertemplate": "Country=Tuvalu<br>P_Mean=%{x}<br>LE_Mean=%{y}<br>width=%{marker.size}<extra></extra>",
         "legendgroup": "Tuvalu",
         "marker": {
          "color": "#B6E880",
          "size": [
           0.5
          ],
          "sizemode": "area",
          "sizeref": 0.00125,
          "symbol": "circle"
         },
         "mode": "markers",
         "name": "Tuvalu",
         "orientation": "v",
         "showlegend": true,
         "type": "scatter",
         "x": [
          10964.1
         ],
         "xaxis": "x",
         "y": [
          null
         ],
         "yaxis": "y"
        },
        {
         "hovertemplate": "Country=Tanzania<br>P_Mean=%{x}<br>LE_Mean=%{y}<br>width=%{marker.size}<extra></extra>",
         "legendgroup": "Tanzania",
         "marker": {
          "color": "#FF97FF",
          "size": [
           0.5
          ],
          "sizemode": "area",
          "sizeref": 0.00125,
          "symbol": "circle"
         },
         "mode": "markers",
         "name": "Tanzania",
         "orientation": "v",
         "showlegend": true,
         "type": "scatter",
         "x": [
          42489207.1
         ],
         "xaxis": "x",
         "y": [
          58.0865
         ],
         "yaxis": "y"
        },
        {
         "hovertemplate": "Country=Uganda<br>P_Mean=%{x}<br>LE_Mean=%{y}<br>width=%{marker.size}<extra></extra>",
         "legendgroup": "Uganda",
         "marker": {
          "color": "#FECB52",
          "size": [
           0.5
          ],
          "sizemode": "area",
          "sizeref": 0.00125,
          "symbol": "circle"
         },
         "mode": "markers",
         "name": "Uganda",
         "orientation": "v",
         "showlegend": true,
         "type": "scatter",
         "x": [
          30602163.5
         ],
         "xaxis": "x",
         "y": [
          54.3263
         ],
         "yaxis": "y"
        },
        {
         "hovertemplate": "Country=Ukraine<br>P_Mean=%{x}<br>LE_Mean=%{y}<br>width=%{marker.size}<extra></extra>",
         "legendgroup": "Ukraine",
         "marker": {
          "color": "#636efa",
          "size": [
           0.5
          ],
          "sizemode": "area",
          "sizeref": 0.00125,
          "symbol": "circle"
         },
         "mode": "markers",
         "name": "Ukraine",
         "orientation": "v",
         "showlegend": true,
         "type": "scatter",
         "x": [
          51989051.8
         ],
         "xaxis": "x",
         "y": [
          69.106
         ],
         "yaxis": "y"
        },
        {
         "hovertemplate": "Country=Uruguay<br>P_Mean=%{x}<br>LE_Mean=%{y}<br>width=%{marker.size}<extra></extra>",
         "legendgroup": "Uruguay",
         "marker": {
          "color": "#EF553B",
          "size": [
           0.5
          ],
          "sizemode": "area",
          "sizeref": 0.00125,
          "symbol": "circle"
         },
         "mode": "markers",
         "name": "Uruguay",
         "orientation": "v",
         "showlegend": true,
         "type": "scatter",
         "x": [
          3664452.3
         ],
         "xaxis": "x",
         "y": [
          79.2094
         ],
         "yaxis": "y"
        },
        {
         "hovertemplate": "Country=United States<br>P_Mean=%{x}<br>LE_Mean=%{y}<br>width=%{marker.size}<extra></extra>",
         "legendgroup": "United States",
         "marker": {
          "color": "#00cc96",
          "size": [
           0.5
          ],
          "sizemode": "area",
          "sizeref": 0.00125,
          "symbol": "circle"
         },
         "mode": "markers",
         "name": "United States",
         "orientation": "v",
         "showlegend": true,
         "type": "scatter",
         "x": [
          325299014.6
         ],
         "xaxis": "x",
         "y": [
          82.58000000000001
         ],
         "yaxis": "y"
        },
        {
         "hovertemplate": "Country=Uzbekistan<br>P_Mean=%{x}<br>LE_Mean=%{y}<br>width=%{marker.size}<extra></extra>",
         "legendgroup": "Uzbekistan",
         "marker": {
          "color": "#ab63fa",
          "size": [
           0.5
          ],
          "sizemode": "area",
          "sizeref": 0.00125,
          "symbol": "circle"
         },
         "mode": "markers",
         "name": "Uzbekistan",
         "orientation": "v",
         "showlegend": true,
         "type": "scatter",
         "x": [
          28947455
         ],
         "xaxis": "x",
         "y": [
          71.86540000000001
         ],
         "yaxis": "y"
        },
        {
         "hovertemplate": "Country=St. Vincent and the Grenadines<br>P_Mean=%{x}<br>LE_Mean=%{y}<br>width=%{marker.size}<extra></extra>",
         "legendgroup": "St. Vincent and the Grenadines",
         "marker": {
          "color": "#FFA15A",
          "size": [
           0.5
          ],
          "sizemode": "area",
          "sizeref": 0.00125,
          "symbol": "circle"
         },
         "mode": "markers",
         "name": "St. Vincent and the Grenadines",
         "orientation": "v",
         "showlegend": true,
         "type": "scatter",
         "x": [
          119130.6
         ],
         "xaxis": "x",
         "y": [
          75.99910000000001
         ],
         "yaxis": "y"
        },
        {
         "hovertemplate": "Country=Venezuela, RB<br>P_Mean=%{x}<br>LE_Mean=%{y}<br>width=%{marker.size}<extra></extra>",
         "legendgroup": "Venezuela, RB",
         "marker": {
          "color": "#19d3f3",
          "size": [
           0.5
          ],
          "sizemode": "area",
          "sizeref": 0.00125,
          "symbol": "circle"
         },
         "mode": "markers",
         "name": "Venezuela, RB",
         "orientation": "v",
         "showlegend": true,
         "type": "scatter",
         "x": [
          29012456
         ],
         "xaxis": "x",
         "y": [
          75.95599999999999
         ],
         "yaxis": "y"
        },
        {
         "hovertemplate": "Country=British Virgin Islands<br>P_Mean=%{x}<br>LE_Mean=%{y}<br>width=%{marker.size}<extra></extra>",
         "legendgroup": "British Virgin Islands",
         "marker": {
          "color": "#FF6692",
          "size": [
           0.5
          ],
          "sizemode": "area",
          "sizeref": 0.00125,
          "symbol": "circle"
         },
         "mode": "markers",
         "name": "British Virgin Islands",
         "orientation": "v",
         "showlegend": true,
         "type": "scatter",
         "x": [
          25922.4
         ],
         "xaxis": "x",
         "y": [
          null
         ],
         "yaxis": "y"
        },
        {
         "hovertemplate": "Country=Virgin Islands (U.S.)<br>P_Mean=%{x}<br>LE_Mean=%{y}<br>width=%{marker.size}<extra></extra>",
         "legendgroup": "Virgin Islands (U.S.)",
         "marker": {
          "color": "#B6E880",
          "size": [
           0.5
          ],
          "sizemode": "area",
          "sizeref": 0.00125,
          "symbol": "circle"
         },
         "mode": "markers",
         "name": "Virgin Islands (U.S.)",
         "orientation": "v",
         "showlegend": true,
         "type": "scatter",
         "x": [
          119298.8
         ],
         "xaxis": "x",
         "y": [
          81.67
         ],
         "yaxis": "y"
        },
        {
         "hovertemplate": "Country=Vietnam<br>P_Mean=%{x}<br>LE_Mean=%{y}<br>width=%{marker.size}<extra></extra>",
         "legendgroup": "Vietnam",
         "marker": {
          "color": "#FF97FF",
          "size": [
           0.5
          ],
          "sizemode": "area",
          "sizeref": 0.00125,
          "symbol": "circle"
         },
         "mode": "markers",
         "name": "Vietnam",
         "orientation": "v",
         "showlegend": true,
         "type": "scatter",
         "x": [
          92272491
         ],
         "xaxis": "x",
         "y": [
          76.6129
         ],
         "yaxis": "y"
        },
        {
         "hovertemplate": "Country=Vanuatu<br>P_Mean=%{x}<br>LE_Mean=%{y}<br>width=%{marker.size}<extra></extra>",
         "legendgroup": "Vanuatu",
         "marker": {
          "color": "#FECB52",
          "size": [
           0.5
          ],
          "sizemode": "area",
          "sizeref": 0.00125,
          "symbol": "circle"
         },
         "mode": "markers",
         "name": "Vanuatu",
         "orientation": "v",
         "showlegend": true,
         "type": "scatter",
         "x": [
          230546.8
         ],
         "xaxis": "x",
         "y": [
          73.6779
         ],
         "yaxis": "y"
        },
        {
         "hovertemplate": "Country=Samoa<br>P_Mean=%{x}<br>LE_Mean=%{y}<br>width=%{marker.size}<extra></extra>",
         "legendgroup": "Samoa",
         "marker": {
          "color": "#636efa",
          "size": [
           0.5
          ],
          "sizemode": "area",
          "sizeref": 0.00125,
          "symbol": "circle"
         },
         "mode": "markers",
         "name": "Samoa",
         "orientation": "v",
         "showlegend": true,
         "type": "scatter",
         "x": [
          197874.4
         ],
         "xaxis": "x",
         "y": [
          74.82509999999999
         ],
         "yaxis": "y"
        },
        {
         "hovertemplate": "Country=Kosovo<br>P_Mean=%{x}<br>LE_Mean=%{y}<br>width=%{marker.size}<extra></extra>",
         "legendgroup": "Kosovo",
         "marker": {
          "color": "#EF553B",
          "size": [
           0.5
          ],
          "sizemode": "area",
          "sizeref": 0.00125,
          "symbol": "circle"
         },
         "mode": "markers",
         "name": "Kosovo",
         "orientation": "v",
         "showlegend": true,
         "type": "scatter",
         "x": [
          1895480.9
         ],
         "xaxis": "x",
         "y": [
          73.25
         ],
         "yaxis": "y"
        },
        {
         "hovertemplate": "Country=Yemen, Rep.<br>P_Mean=%{x}<br>LE_Mean=%{y}<br>width=%{marker.size}<extra></extra>",
         "legendgroup": "Yemen, Rep.",
         "marker": {
          "color": "#00cc96",
          "size": [
           0.5
          ],
          "sizemode": "area",
          "sizeref": 0.00125,
          "symbol": "circle"
         },
         "mode": "markers",
         "name": "Yemen, Rep.",
         "orientation": "v",
         "showlegend": true,
         "type": "scatter",
         "x": [
          22193726.6
         ],
         "xaxis": "x",
         "y": [
          67.9688
         ],
         "yaxis": "y"
        },
        {
         "hovertemplate": "Country=South Africa<br>P_Mean=%{x}<br>LE_Mean=%{y}<br>width=%{marker.size}<extra></extra>",
         "legendgroup": "South Africa",
         "marker": {
          "color": "#ab63fa",
          "size": [
           0.5
          ],
          "sizemode": "area",
          "sizeref": 0.00125,
          "symbol": "circle"
         },
         "mode": "markers",
         "name": "South Africa",
         "orientation": "v",
         "showlegend": true,
         "type": "scatter",
         "x": [
          52766398.8
         ],
         "xaxis": "x",
         "y": [
          57.5711
         ],
         "yaxis": "y"
        },
        {
         "hovertemplate": "Country=Zambia<br>P_Mean=%{x}<br>LE_Mean=%{y}<br>width=%{marker.size}<extra></extra>",
         "legendgroup": "Zambia",
         "marker": {
          "color": "#FFA15A",
          "size": [
           0.5
          ],
          "sizemode": "area",
          "sizeref": 0.00125,
          "symbol": "circle"
         },
         "mode": "markers",
         "name": "Zambia",
         "orientation": "v",
         "showlegend": true,
         "type": "scatter",
         "x": [
          13108960.3
         ],
         "xaxis": "x",
         "y": [
          51.62579999999999
         ],
         "yaxis": "y"
        },
        {
         "hovertemplate": "Country=Zimbabwe<br>P_Mean=%{x}<br>LE_Mean=%{y}<br>width=%{marker.size}<extra></extra>",
         "legendgroup": "Zimbabwe",
         "marker": {
          "color": "#19d3f3",
          "size": [
           0.5
          ],
          "sizemode": "area",
          "sizeref": 0.00125,
          "symbol": "circle"
         },
         "mode": "markers",
         "name": "Zimbabwe",
         "orientation": "v",
         "showlegend": true,
         "type": "scatter",
         "x": [
          13385416.9
         ],
         "xaxis": "x",
         "y": [
          47.665800000000004
         ],
         "yaxis": "y"
        }
       ],
       "layout": {
        "legend": {
         "itemsizing": "constant",
         "title": {
          "text": "Country"
         },
         "tracegroupgap": 0
        },
        "margin": {
         "t": 60
        },
        "template": {
         "data": {
          "bar": [
           {
            "error_x": {
             "color": "#2a3f5f"
            },
            "error_y": {
             "color": "#2a3f5f"
            },
            "marker": {
             "line": {
              "color": "#E5ECF6",
              "width": 0.5
             },
             "pattern": {
              "fillmode": "overlay",
              "size": 10,
              "solidity": 0.2
             }
            },
            "type": "bar"
           }
          ],
          "barpolar": [
           {
            "marker": {
             "line": {
              "color": "#E5ECF6",
              "width": 0.5
             },
             "pattern": {
              "fillmode": "overlay",
              "size": 10,
              "solidity": 0.2
             }
            },
            "type": "barpolar"
           }
          ],
          "carpet": [
           {
            "aaxis": {
             "endlinecolor": "#2a3f5f",
             "gridcolor": "white",
             "linecolor": "white",
             "minorgridcolor": "white",
             "startlinecolor": "#2a3f5f"
            },
            "baxis": {
             "endlinecolor": "#2a3f5f",
             "gridcolor": "white",
             "linecolor": "white",
             "minorgridcolor": "white",
             "startlinecolor": "#2a3f5f"
            },
            "type": "carpet"
           }
          ],
          "choropleth": [
           {
            "colorbar": {
             "outlinewidth": 0,
             "ticks": ""
            },
            "type": "choropleth"
           }
          ],
          "contour": [
           {
            "colorbar": {
             "outlinewidth": 0,
             "ticks": ""
            },
            "colorscale": [
             [
              0,
              "#0d0887"
             ],
             [
              0.1111111111111111,
              "#46039f"
             ],
             [
              0.2222222222222222,
              "#7201a8"
             ],
             [
              0.3333333333333333,
              "#9c179e"
             ],
             [
              0.4444444444444444,
              "#bd3786"
             ],
             [
              0.5555555555555556,
              "#d8576b"
             ],
             [
              0.6666666666666666,
              "#ed7953"
             ],
             [
              0.7777777777777778,
              "#fb9f3a"
             ],
             [
              0.8888888888888888,
              "#fdca26"
             ],
             [
              1,
              "#f0f921"
             ]
            ],
            "type": "contour"
           }
          ],
          "contourcarpet": [
           {
            "colorbar": {
             "outlinewidth": 0,
             "ticks": ""
            },
            "type": "contourcarpet"
           }
          ],
          "heatmap": [
           {
            "colorbar": {
             "outlinewidth": 0,
             "ticks": ""
            },
            "colorscale": [
             [
              0,
              "#0d0887"
             ],
             [
              0.1111111111111111,
              "#46039f"
             ],
             [
              0.2222222222222222,
              "#7201a8"
             ],
             [
              0.3333333333333333,
              "#9c179e"
             ],
             [
              0.4444444444444444,
              "#bd3786"
             ],
             [
              0.5555555555555556,
              "#d8576b"
             ],
             [
              0.6666666666666666,
              "#ed7953"
             ],
             [
              0.7777777777777778,
              "#fb9f3a"
             ],
             [
              0.8888888888888888,
              "#fdca26"
             ],
             [
              1,
              "#f0f921"
             ]
            ],
            "type": "heatmap"
           }
          ],
          "heatmapgl": [
           {
            "colorbar": {
             "outlinewidth": 0,
             "ticks": ""
            },
            "colorscale": [
             [
              0,
              "#0d0887"
             ],
             [
              0.1111111111111111,
              "#46039f"
             ],
             [
              0.2222222222222222,
              "#7201a8"
             ],
             [
              0.3333333333333333,
              "#9c179e"
             ],
             [
              0.4444444444444444,
              "#bd3786"
             ],
             [
              0.5555555555555556,
              "#d8576b"
             ],
             [
              0.6666666666666666,
              "#ed7953"
             ],
             [
              0.7777777777777778,
              "#fb9f3a"
             ],
             [
              0.8888888888888888,
              "#fdca26"
             ],
             [
              1,
              "#f0f921"
             ]
            ],
            "type": "heatmapgl"
           }
          ],
          "histogram": [
           {
            "marker": {
             "pattern": {
              "fillmode": "overlay",
              "size": 10,
              "solidity": 0.2
             }
            },
            "type": "histogram"
           }
          ],
          "histogram2d": [
           {
            "colorbar": {
             "outlinewidth": 0,
             "ticks": ""
            },
            "colorscale": [
             [
              0,
              "#0d0887"
             ],
             [
              0.1111111111111111,
              "#46039f"
             ],
             [
              0.2222222222222222,
              "#7201a8"
             ],
             [
              0.3333333333333333,
              "#9c179e"
             ],
             [
              0.4444444444444444,
              "#bd3786"
             ],
             [
              0.5555555555555556,
              "#d8576b"
             ],
             [
              0.6666666666666666,
              "#ed7953"
             ],
             [
              0.7777777777777778,
              "#fb9f3a"
             ],
             [
              0.8888888888888888,
              "#fdca26"
             ],
             [
              1,
              "#f0f921"
             ]
            ],
            "type": "histogram2d"
           }
          ],
          "histogram2dcontour": [
           {
            "colorbar": {
             "outlinewidth": 0,
             "ticks": ""
            },
            "colorscale": [
             [
              0,
              "#0d0887"
             ],
             [
              0.1111111111111111,
              "#46039f"
             ],
             [
              0.2222222222222222,
              "#7201a8"
             ],
             [
              0.3333333333333333,
              "#9c179e"
             ],
             [
              0.4444444444444444,
              "#bd3786"
             ],
             [
              0.5555555555555556,
              "#d8576b"
             ],
             [
              0.6666666666666666,
              "#ed7953"
             ],
             [
              0.7777777777777778,
              "#fb9f3a"
             ],
             [
              0.8888888888888888,
              "#fdca26"
             ],
             [
              1,
              "#f0f921"
             ]
            ],
            "type": "histogram2dcontour"
           }
          ],
          "mesh3d": [
           {
            "colorbar": {
             "outlinewidth": 0,
             "ticks": ""
            },
            "type": "mesh3d"
           }
          ],
          "parcoords": [
           {
            "line": {
             "colorbar": {
              "outlinewidth": 0,
              "ticks": ""
             }
            },
            "type": "parcoords"
           }
          ],
          "pie": [
           {
            "automargin": true,
            "type": "pie"
           }
          ],
          "scatter": [
           {
            "marker": {
             "colorbar": {
              "outlinewidth": 0,
              "ticks": ""
             }
            },
            "type": "scatter"
           }
          ],
          "scatter3d": [
           {
            "line": {
             "colorbar": {
              "outlinewidth": 0,
              "ticks": ""
             }
            },
            "marker": {
             "colorbar": {
              "outlinewidth": 0,
              "ticks": ""
             }
            },
            "type": "scatter3d"
           }
          ],
          "scattercarpet": [
           {
            "marker": {
             "colorbar": {
              "outlinewidth": 0,
              "ticks": ""
             }
            },
            "type": "scattercarpet"
           }
          ],
          "scattergeo": [
           {
            "marker": {
             "colorbar": {
              "outlinewidth": 0,
              "ticks": ""
             }
            },
            "type": "scattergeo"
           }
          ],
          "scattergl": [
           {
            "marker": {
             "colorbar": {
              "outlinewidth": 0,
              "ticks": ""
             }
            },
            "type": "scattergl"
           }
          ],
          "scattermapbox": [
           {
            "marker": {
             "colorbar": {
              "outlinewidth": 0,
              "ticks": ""
             }
            },
            "type": "scattermapbox"
           }
          ],
          "scatterpolar": [
           {
            "marker": {
             "colorbar": {
              "outlinewidth": 0,
              "ticks": ""
             }
            },
            "type": "scatterpolar"
           }
          ],
          "scatterpolargl": [
           {
            "marker": {
             "colorbar": {
              "outlinewidth": 0,
              "ticks": ""
             }
            },
            "type": "scatterpolargl"
           }
          ],
          "scatterternary": [
           {
            "marker": {
             "colorbar": {
              "outlinewidth": 0,
              "ticks": ""
             }
            },
            "type": "scatterternary"
           }
          ],
          "surface": [
           {
            "colorbar": {
             "outlinewidth": 0,
             "ticks": ""
            },
            "colorscale": [
             [
              0,
              "#0d0887"
             ],
             [
              0.1111111111111111,
              "#46039f"
             ],
             [
              0.2222222222222222,
              "#7201a8"
             ],
             [
              0.3333333333333333,
              "#9c179e"
             ],
             [
              0.4444444444444444,
              "#bd3786"
             ],
             [
              0.5555555555555556,
              "#d8576b"
             ],
             [
              0.6666666666666666,
              "#ed7953"
             ],
             [
              0.7777777777777778,
              "#fb9f3a"
             ],
             [
              0.8888888888888888,
              "#fdca26"
             ],
             [
              1,
              "#f0f921"
             ]
            ],
            "type": "surface"
           }
          ],
          "table": [
           {
            "cells": {
             "fill": {
              "color": "#EBF0F8"
             },
             "line": {
              "color": "white"
             }
            },
            "header": {
             "fill": {
              "color": "#C8D4E3"
             },
             "line": {
              "color": "white"
             }
            },
            "type": "table"
           }
          ]
         },
         "layout": {
          "annotationdefaults": {
           "arrowcolor": "#2a3f5f",
           "arrowhead": 0,
           "arrowwidth": 1
          },
          "autotypenumbers": "strict",
          "coloraxis": {
           "colorbar": {
            "outlinewidth": 0,
            "ticks": ""
           }
          },
          "colorscale": {
           "diverging": [
            [
             0,
             "#8e0152"
            ],
            [
             0.1,
             "#c51b7d"
            ],
            [
             0.2,
             "#de77ae"
            ],
            [
             0.3,
             "#f1b6da"
            ],
            [
             0.4,
             "#fde0ef"
            ],
            [
             0.5,
             "#f7f7f7"
            ],
            [
             0.6,
             "#e6f5d0"
            ],
            [
             0.7,
             "#b8e186"
            ],
            [
             0.8,
             "#7fbc41"
            ],
            [
             0.9,
             "#4d9221"
            ],
            [
             1,
             "#276419"
            ]
           ],
           "sequential": [
            [
             0,
             "#0d0887"
            ],
            [
             0.1111111111111111,
             "#46039f"
            ],
            [
             0.2222222222222222,
             "#7201a8"
            ],
            [
             0.3333333333333333,
             "#9c179e"
            ],
            [
             0.4444444444444444,
             "#bd3786"
            ],
            [
             0.5555555555555556,
             "#d8576b"
            ],
            [
             0.6666666666666666,
             "#ed7953"
            ],
            [
             0.7777777777777778,
             "#fb9f3a"
            ],
            [
             0.8888888888888888,
             "#fdca26"
            ],
            [
             1,
             "#f0f921"
            ]
           ],
           "sequentialminus": [
            [
             0,
             "#0d0887"
            ],
            [
             0.1111111111111111,
             "#46039f"
            ],
            [
             0.2222222222222222,
             "#7201a8"
            ],
            [
             0.3333333333333333,
             "#9c179e"
            ],
            [
             0.4444444444444444,
             "#bd3786"
            ],
            [
             0.5555555555555556,
             "#d8576b"
            ],
            [
             0.6666666666666666,
             "#ed7953"
            ],
            [
             0.7777777777777778,
             "#fb9f3a"
            ],
            [
             0.8888888888888888,
             "#fdca26"
            ],
            [
             1,
             "#f0f921"
            ]
           ]
          },
          "colorway": [
           "#636efa",
           "#EF553B",
           "#00cc96",
           "#ab63fa",
           "#FFA15A",
           "#19d3f3",
           "#FF6692",
           "#B6E880",
           "#FF97FF",
           "#FECB52"
          ],
          "font": {
           "color": "#2a3f5f"
          },
          "geo": {
           "bgcolor": "white",
           "lakecolor": "white",
           "landcolor": "#E5ECF6",
           "showlakes": true,
           "showland": true,
           "subunitcolor": "white"
          },
          "hoverlabel": {
           "align": "left"
          },
          "hovermode": "closest",
          "mapbox": {
           "style": "light"
          },
          "paper_bgcolor": "white",
          "plot_bgcolor": "#E5ECF6",
          "polar": {
           "angularaxis": {
            "gridcolor": "white",
            "linecolor": "white",
            "ticks": ""
           },
           "bgcolor": "#E5ECF6",
           "radialaxis": {
            "gridcolor": "white",
            "linecolor": "white",
            "ticks": ""
           }
          },
          "scene": {
           "xaxis": {
            "backgroundcolor": "#E5ECF6",
            "gridcolor": "white",
            "gridwidth": 2,
            "linecolor": "white",
            "showbackground": true,
            "ticks": "",
            "zerolinecolor": "white"
           },
           "yaxis": {
            "backgroundcolor": "#E5ECF6",
            "gridcolor": "white",
            "gridwidth": 2,
            "linecolor": "white",
            "showbackground": true,
            "ticks": "",
            "zerolinecolor": "white"
           },
           "zaxis": {
            "backgroundcolor": "#E5ECF6",
            "gridcolor": "white",
            "gridwidth": 2,
            "linecolor": "white",
            "showbackground": true,
            "ticks": "",
            "zerolinecolor": "white"
           }
          },
          "shapedefaults": {
           "line": {
            "color": "#2a3f5f"
           }
          },
          "ternary": {
           "aaxis": {
            "gridcolor": "white",
            "linecolor": "white",
            "ticks": ""
           },
           "baxis": {
            "gridcolor": "white",
            "linecolor": "white",
            "ticks": ""
           },
           "bgcolor": "#E5ECF6",
           "caxis": {
            "gridcolor": "white",
            "linecolor": "white",
            "ticks": ""
           }
          },
          "title": {
           "x": 0.05
          },
          "xaxis": {
           "automargin": true,
           "gridcolor": "white",
           "linecolor": "white",
           "ticks": "",
           "title": {
            "standoff": 15
           },
           "zerolinecolor": "white",
           "zerolinewidth": 2
          },
          "yaxis": {
           "automargin": true,
           "gridcolor": "white",
           "linecolor": "white",
           "ticks": "",
           "title": {
            "standoff": 15
           },
           "zerolinecolor": "white",
           "zerolinewidth": 2
          }
         }
        },
        "xaxis": {
         "anchor": "y",
         "domain": [
          0,
          1
         ],
         "title": {
          "text": "P_Mean"
         }
        },
        "yaxis": {
         "anchor": "x",
         "domain": [
          0,
          1
         ],
         "title": {
          "text": "LE_Mean"
         }
        }
       }
      },
      "text/html": [
       "<div>                            <div id=\"e99179a6-72a7-46bf-8b61-64abcb297349\" class=\"plotly-graph-div\" style=\"height:525px; width:100%;\"></div>            <script type=\"text/javascript\">                require([\"plotly\"], function(Plotly) {                    window.PLOTLYENV=window.PLOTLYENV || {};                                    if (document.getElementById(\"e99179a6-72a7-46bf-8b61-64abcb297349\")) {                    Plotly.newPlot(                        \"e99179a6-72a7-46bf-8b61-64abcb297349\",                        [{\"hovertemplate\":\"Country=Aruba<br>P_Mean=%{x}<br>LE_Mean=%{y}<br>width=%{marker.size}<extra></extra>\",\"legendgroup\":\"Aruba\",\"marker\":{\"color\":\"#636efa\",\"size\":[0.5],\"sizemode\":\"area\",\"sizeref\":0.00125,\"symbol\":\"circle\"},\"mode\":\"markers\",\"name\":\"Aruba\",\"orientation\":\"v\",\"showlegend\":true,\"x\":[108107.3],\"xaxis\":\"x\",\"y\":[79.0413],\"yaxis\":\"y\",\"type\":\"scatter\"},{\"hovertemplate\":\"Country=Afghanistan<br>P_Mean=%{x}<br>LE_Mean=%{y}<br>width=%{marker.size}<extra></extra>\",\"legendgroup\":\"Afghanistan\",\"marker\":{\"color\":\"#EF553B\",\"size\":[0.5],\"sizemode\":\"area\",\"sizeref\":0.00125,\"symbol\":\"circle\"},\"mode\":\"markers\",\"name\":\"Afghanistan\",\"orientation\":\"v\",\"showlegend\":true,\"x\":[27788575.5],\"xaxis\":\"x\",\"y\":[62.81289999999999],\"yaxis\":\"y\",\"type\":\"scatter\"},{\"hovertemplate\":\"Country=Angola<br>P_Mean=%{x}<br>LE_Mean=%{y}<br>width=%{marker.size}<extra></extra>\",\"legendgroup\":\"Angola\",\"marker\":{\"color\":\"#00cc96\",\"size\":[0.5],\"sizemode\":\"area\",\"sizeref\":0.00125,\"symbol\":\"circle\"},\"mode\":\"markers\",\"name\":\"Angola\",\"orientation\":\"v\",\"showlegend\":true,\"x\":[21579529.0],\"xaxis\":\"x\",\"y\":[53.03430000000001],\"yaxis\":\"y\",\"type\":\"scatter\"},{\"hovertemplate\":\"Country=Albania<br>P_Mean=%{x}<br>LE_Mean=%{y}<br>width=%{marker.size}<extra></extra>\",\"legendgroup\":\"Albania\",\"marker\":{\"color\":\"#ab63fa\",\"size\":[0.5],\"sizemode\":\"area\",\"sizeref\":0.00125,\"symbol\":\"circle\"},\"mode\":\"markers\",\"name\":\"Albania\",\"orientation\":\"v\",\"showlegend\":true,\"x\":[3302867.0],\"xaxis\":\"x\",\"y\":[79.96470000000001],\"yaxis\":\"y\",\"type\":\"scatter\"},{\"hovertemplate\":\"Country=Andorra<br>P_Mean=%{x}<br>LE_Mean=%{y}<br>width=%{marker.size}<extra></extra>\",\"legendgroup\":\"Andorra\",\"marker\":{\"color\":\"#FFA15A\",\"size\":[0.5],\"sizemode\":\"area\",\"sizeref\":0.00125,\"symbol\":\"circle\"},\"mode\":\"markers\",\"name\":\"Andorra\",\"orientation\":\"v\",\"showlegend\":true,\"x\":[84753.5],\"xaxis\":\"x\",\"y\":[null],\"yaxis\":\"y\",\"type\":\"scatter\"},{\"hovertemplate\":\"Country=United Arab Emirates<br>P_Mean=%{x}<br>LE_Mean=%{y}<br>width=%{marker.size}<extra></extra>\",\"legendgroup\":\"United Arab Emirates\",\"marker\":{\"color\":\"#19d3f3\",\"size\":[0.5],\"sizemode\":\"area\",\"sizeref\":0.00125,\"symbol\":\"circle\"},\"mode\":\"markers\",\"name\":\"United Arab Emirates\",\"orientation\":\"v\",\"showlegend\":true,\"x\":[5731015.8],\"xaxis\":\"x\",\"y\":[82.04740000000001],\"yaxis\":\"y\",\"type\":\"scatter\"},{\"hovertemplate\":\"Country=Argentina<br>P_Mean=%{x}<br>LE_Mean=%{y}<br>width=%{marker.size}<extra></extra>\",\"legendgroup\":\"Argentina\",\"marker\":{\"color\":\"#FF6692\",\"size\":[0.5],\"sizemode\":\"area\",\"sizeref\":0.00125,\"symbol\":\"circle\"},\"mode\":\"markers\",\"name\":\"Argentina\",\"orientation\":\"v\",\"showlegend\":true,\"x\":[42762652.0],\"xaxis\":\"x\",\"y\":[78.0975],\"yaxis\":\"y\",\"type\":\"scatter\"},{\"hovertemplate\":\"Country=Armenia<br>P_Mean=%{x}<br>LE_Mean=%{y}<br>width=%{marker.size}<extra></extra>\",\"legendgroup\":\"Armenia\",\"marker\":{\"color\":\"#B6E880\",\"size\":[0.5],\"sizemode\":\"area\",\"sizeref\":0.00125,\"symbol\":\"circle\"},\"mode\":\"markers\",\"name\":\"Armenia\",\"orientation\":\"v\",\"showlegend\":true,\"x\":[3271811.3],\"xaxis\":\"x\",\"y\":[76.1225],\"yaxis\":\"y\",\"type\":\"scatter\"},{\"hovertemplate\":\"Country=American Samoa<br>P_Mean=%{x}<br>LE_Mean=%{y}<br>width=%{marker.size}<extra></extra>\",\"legendgroup\":\"American Samoa\",\"marker\":{\"color\":\"#FF97FF\",\"size\":[0.5],\"sizemode\":\"area\",\"sizeref\":0.00125,\"symbol\":\"circle\"},\"mode\":\"markers\",\"name\":\"American Samoa\",\"orientation\":\"v\",\"showlegend\":true,\"x\":[64185.0],\"xaxis\":\"x\",\"y\":[null],\"yaxis\":\"y\",\"type\":\"scatter\"},{\"hovertemplate\":\"Country=Antigua and Barbuda<br>P_Mean=%{x}<br>LE_Mean=%{y}<br>width=%{marker.size}<extra></extra>\",\"legendgroup\":\"Antigua and Barbuda\",\"marker\":{\"color\":\"#FECB52\",\"size\":[0.5],\"sizemode\":\"area\",\"sizeref\":0.00125,\"symbol\":\"circle\"},\"mode\":\"markers\",\"name\":\"Antigua and Barbuda\",\"orientation\":\"v\",\"showlegend\":true,\"x\":[89954.8],\"xaxis\":\"x\",\"y\":[80.86909999999999],\"yaxis\":\"y\",\"type\":\"scatter\"},{\"hovertemplate\":\"Country=Australia<br>P_Mean=%{x}<br>LE_Mean=%{y}<br>width=%{marker.size}<extra></extra>\",\"legendgroup\":\"Australia\",\"marker\":{\"color\":\"#636efa\",\"size\":[0.5],\"sizemode\":\"area\",\"sizeref\":0.00125,\"symbol\":\"circle\"},\"mode\":\"markers\",\"name\":\"Australia\",\"orientation\":\"v\",\"showlegend\":true,\"x\":[22513315.0],\"xaxis\":\"x\",\"y\":[86.11],\"yaxis\":\"y\",\"type\":\"scatter\"},{\"hovertemplate\":\"Country=Austria<br>P_Mean=%{x}<br>LE_Mean=%{y}<br>width=%{marker.size}<extra></extra>\",\"legendgroup\":\"Austria\",\"marker\":{\"color\":\"#EF553B\",\"size\":[0.5],\"sizemode\":\"area\",\"sizeref\":0.00125,\"symbol\":\"circle\"},\"mode\":\"markers\",\"name\":\"Austria\",\"orientation\":\"v\",\"showlegend\":true,\"x\":[9024938.5],\"xaxis\":\"x\",\"y\":[84.31],\"yaxis\":\"y\",\"type\":\"scatter\"},{\"hovertemplate\":\"Country=Azerbaijan<br>P_Mean=%{x}<br>LE_Mean=%{y}<br>width=%{marker.size}<extra></extra>\",\"legendgroup\":\"Azerbaijan\",\"marker\":{\"color\":\"#00cc96\",\"size\":[0.5],\"sizemode\":\"area\",\"sizeref\":0.00125,\"symbol\":\"circle\"},\"mode\":\"markers\",\"name\":\"Azerbaijan\",\"orientation\":\"v\",\"showlegend\":true,\"x\":[9309502.5],\"xaxis\":\"x\",\"y\":[72.2977],\"yaxis\":\"y\",\"type\":\"scatter\"},{\"hovertemplate\":\"Country=Burundi<br>P_Mean=%{x}<br>LE_Mean=%{y}<br>width=%{marker.size}<extra></extra>\",\"legendgroup\":\"Burundi\",\"marker\":{\"color\":\"#ab63fa\",\"size\":[0.5],\"sizemode\":\"area\",\"sizeref\":0.00125,\"symbol\":\"circle\"},\"mode\":\"markers\",\"name\":\"Burundi\",\"orientation\":\"v\",\"showlegend\":true,\"x\":[8168368.8],\"xaxis\":\"x\",\"y\":[56.823899999999995],\"yaxis\":\"y\",\"type\":\"scatter\"},{\"hovertemplate\":\"Country=Belgium<br>P_Mean=%{x}<br>LE_Mean=%{y}<br>width=%{marker.size}<extra></extra>\",\"legendgroup\":\"Belgium\",\"marker\":{\"color\":\"#FFA15A\",\"size\":[0.5],\"sizemode\":\"area\",\"sizeref\":0.00125,\"symbol\":\"circle\"},\"mode\":\"markers\",\"name\":\"Belgium\",\"orientation\":\"v\",\"showlegend\":true,\"x\":[11572220.2],\"xaxis\":\"x\",\"y\":[83.75999999999999],\"yaxis\":\"y\",\"type\":\"scatter\"},{\"hovertemplate\":\"Country=Benin<br>P_Mean=%{x}<br>LE_Mean=%{y}<br>width=%{marker.size}<extra></extra>\",\"legendgroup\":\"Benin\",\"marker\":{\"color\":\"#19d3f3\",\"size\":[0.5],\"sizemode\":\"area\",\"sizeref\":0.00125,\"symbol\":\"circle\"},\"mode\":\"markers\",\"name\":\"Benin\",\"orientation\":\"v\",\"showlegend\":true,\"x\":[8800342.1],\"xaxis\":\"x\",\"y\":[61.39490000000001],\"yaxis\":\"y\",\"type\":\"scatter\"},{\"hovertemplate\":\"Country=Burkina Faso<br>P_Mean=%{x}<br>LE_Mean=%{y}<br>width=%{marker.size}<extra></extra>\",\"legendgroup\":\"Burkina Faso\",\"marker\":{\"color\":\"#FF6692\",\"size\":[0.5],\"sizemode\":\"area\",\"sizeref\":0.00125,\"symbol\":\"circle\"},\"mode\":\"markers\",\"name\":\"Burkina Faso\",\"orientation\":\"v\",\"showlegend\":true,\"x\":[14847000.8],\"xaxis\":\"x\",\"y\":[57.8341],\"yaxis\":\"y\",\"type\":\"scatter\"},{\"hovertemplate\":\"Country=Bangladesh<br>P_Mean=%{x}<br>LE_Mean=%{y}<br>width=%{marker.size}<extra></extra>\",\"legendgroup\":\"Bangladesh\",\"marker\":{\"color\":\"#B6E880\",\"size\":[0.5],\"sizemode\":\"area\",\"sizeref\":0.00125,\"symbol\":\"circle\"},\"mode\":\"markers\",\"name\":\"Bangladesh\",\"orientation\":\"v\",\"showlegend\":true,\"x\":[152242410.7],\"xaxis\":\"x\",\"y\":[73.60079999999999],\"yaxis\":\"y\",\"type\":\"scatter\"},{\"hovertemplate\":\"Country=Bulgaria<br>P_Mean=%{x}<br>LE_Mean=%{y}<br>width=%{marker.size}<extra></extra>\",\"legendgroup\":\"Bulgaria\",\"marker\":{\"color\":\"#FF97FF\",\"size\":[0.5],\"sizemode\":\"area\",\"sizeref\":0.00125,\"symbol\":\"circle\"},\"mode\":\"markers\",\"name\":\"Bulgaria\",\"orientation\":\"v\",\"showlegend\":true,\"x\":[8464659.7],\"xaxis\":\"x\",\"y\":[75.97],\"yaxis\":\"y\",\"type\":\"scatter\"},{\"hovertemplate\":\"Country=Bahrain<br>P_Mean=%{x}<br>LE_Mean=%{y}<br>width=%{marker.size}<extra></extra>\",\"legendgroup\":\"Bahrain\",\"marker\":{\"color\":\"#FECB52\",\"size\":[0.5],\"sizemode\":\"area\",\"sizeref\":0.00125,\"symbol\":\"circle\"},\"mode\":\"markers\",\"name\":\"Bahrain\",\"orientation\":\"v\",\"showlegend\":true,\"x\":[1012994.2],\"xaxis\":\"x\",\"y\":[81.9834],\"yaxis\":\"y\",\"type\":\"scatter\"},{\"hovertemplate\":\"Country=Bahamas, The<br>P_Mean=%{x}<br>LE_Mean=%{y}<br>width=%{marker.size}<extra></extra>\",\"legendgroup\":\"Bahamas, The\",\"marker\":{\"color\":\"#636efa\",\"size\":[0.5],\"sizemode\":\"area\",\"sizeref\":0.00125,\"symbol\":\"circle\"},\"mode\":\"markers\",\"name\":\"Bahamas, The\",\"orientation\":\"v\",\"showlegend\":true,\"x\":[358181.9],\"xaxis\":\"x\",\"y\":[76.03139999999999],\"yaxis\":\"y\",\"type\":\"scatter\"},{\"hovertemplate\":\"Country=Bosnia and Herzegovina<br>P_Mean=%{x}<br>LE_Mean=%{y}<br>width=%{marker.size}<extra></extra>\",\"legendgroup\":\"Bosnia and Herzegovina\",\"marker\":{\"color\":\"#EF553B\",\"size\":[0.5],\"sizemode\":\"area\",\"sizeref\":0.00125,\"symbol\":\"circle\"},\"mode\":\"markers\",\"name\":\"Bosnia and Herzegovina\",\"orientation\":\"v\",\"showlegend\":true,\"x\":[4128168.1],\"xaxis\":\"x\",\"y\":[79.8013],\"yaxis\":\"y\",\"type\":\"scatter\"},{\"hovertemplate\":\"Country=Belarus<br>P_Mean=%{x}<br>LE_Mean=%{y}<br>width=%{marker.size}<extra></extra>\",\"legendgroup\":\"Belarus\",\"marker\":{\"color\":\"#00cc96\",\"size\":[0.5],\"sizemode\":\"area\",\"sizeref\":0.00125,\"symbol\":\"circle\"},\"mode\":\"markers\",\"name\":\"Belarus\",\"orientation\":\"v\",\"showlegend\":true,\"x\":[10665572.7],\"xaxis\":\"x\",\"y\":[69.94000000000001],\"yaxis\":\"y\",\"type\":\"scatter\"},{\"hovertemplate\":\"Country=Belize<br>P_Mean=%{x}<br>LE_Mean=%{y}<br>width=%{marker.size}<extra></extra>\",\"legendgroup\":\"Belize\",\"marker\":{\"color\":\"#ab63fa\",\"size\":[0.5],\"sizemode\":\"area\",\"sizeref\":0.00125,\"symbol\":\"circle\"},\"mode\":\"markers\",\"name\":\"Belize\",\"orientation\":\"v\",\"showlegend\":true,\"x\":[312881.8],\"xaxis\":\"x\",\"y\":[74.30969999999999],\"yaxis\":\"y\",\"type\":\"scatter\"},{\"hovertemplate\":\"Country=Bermuda<br>P_Mean=%{x}<br>LE_Mean=%{y}<br>width=%{marker.size}<extra></extra>\",\"legendgroup\":\"Bermuda\",\"marker\":{\"color\":\"#FFA15A\",\"size\":[0.5],\"sizemode\":\"area\",\"sizeref\":0.00125,\"symbol\":\"circle\"},\"mode\":\"markers\",\"name\":\"Bermuda\",\"orientation\":\"v\",\"showlegend\":true,\"x\":[70391.2],\"xaxis\":\"x\",\"y\":[83.6736],\"yaxis\":\"y\",\"type\":\"scatter\"},{\"hovertemplate\":\"Country=Bolivia<br>P_Mean=%{x}<br>LE_Mean=%{y}<br>width=%{marker.size}<extra></extra>\",\"legendgroup\":\"Bolivia\",\"marker\":{\"color\":\"#19d3f3\",\"size\":[0.5],\"sizemode\":\"area\",\"sizeref\":0.00125,\"symbol\":\"circle\"},\"mode\":\"markers\",\"name\":\"Bolivia\",\"orientation\":\"v\",\"showlegend\":true,\"x\":[10155723.2],\"xaxis\":\"x\",\"y\":[69.4762],\"yaxis\":\"y\",\"type\":\"scatter\"},{\"hovertemplate\":\"Country=Brazil<br>P_Mean=%{x}<br>LE_Mean=%{y}<br>width=%{marker.size}<extra></extra>\",\"legendgroup\":\"Brazil\",\"marker\":{\"color\":\"#FF6692\",\"size\":[0.5],\"sizemode\":\"area\",\"sizeref\":0.00125,\"symbol\":\"circle\"},\"mode\":\"markers\",\"name\":\"Brazil\",\"orientation\":\"v\",\"showlegend\":true,\"x\":[204339504.6],\"xaxis\":\"x\",\"y\":[74.9939],\"yaxis\":\"y\",\"type\":\"scatter\"},{\"hovertemplate\":\"Country=Barbados<br>P_Mean=%{x}<br>LE_Mean=%{y}<br>width=%{marker.size}<extra></extra>\",\"legendgroup\":\"Barbados\",\"marker\":{\"color\":\"#B6E880\",\"size\":[0.5],\"sizemode\":\"area\",\"sizeref\":0.00125,\"symbol\":\"circle\"},\"mode\":\"markers\",\"name\":\"Barbados\",\"orientation\":\"v\",\"showlegend\":true,\"x\":[304272.2],\"xaxis\":\"x\",\"y\":[83.76950000000001],\"yaxis\":\"y\",\"type\":\"scatter\"},{\"hovertemplate\":\"Country=Brunei Darussalam<br>P_Mean=%{x}<br>LE_Mean=%{y}<br>width=%{marker.size}<extra></extra>\",\"legendgroup\":\"Brunei Darussalam\",\"marker\":{\"color\":\"#FF97FF\",\"size\":[0.5],\"sizemode\":\"area\",\"sizeref\":0.00125,\"symbol\":\"circle\"},\"mode\":\"markers\",\"name\":\"Brunei Darussalam\",\"orientation\":\"v\",\"showlegend\":true,\"x\":[399500.4],\"xaxis\":\"x\",\"y\":[80.1549],\"yaxis\":\"y\",\"type\":\"scatter\"},{\"hovertemplate\":\"Country=Bhutan<br>P_Mean=%{x}<br>LE_Mean=%{y}<br>width=%{marker.size}<extra></extra>\",\"legendgroup\":\"Bhutan\",\"marker\":{\"color\":\"#FECB52\",\"size\":[0.5],\"sizemode\":\"area\",\"sizeref\":0.00125,\"symbol\":\"circle\"},\"mode\":\"markers\",\"name\":\"Bhutan\",\"orientation\":\"v\",\"showlegend\":true,\"x\":[708379.4],\"xaxis\":\"x\",\"y\":[71.223],\"yaxis\":\"y\",\"type\":\"scatter\"},{\"hovertemplate\":\"Country=Botswana<br>P_Mean=%{x}<br>LE_Mean=%{y}<br>width=%{marker.size}<extra></extra>\",\"legendgroup\":\"Botswana\",\"marker\":{\"color\":\"#636efa\",\"size\":[0.5],\"sizemode\":\"area\",\"sizeref\":0.00125,\"symbol\":\"circle\"},\"mode\":\"markers\",\"name\":\"Botswana\",\"orientation\":\"v\",\"showlegend\":true,\"x\":[1988924.7],\"xaxis\":\"x\",\"y\":[56.388],\"yaxis\":\"y\",\"type\":\"scatter\"},{\"hovertemplate\":\"Country=Canada<br>P_Mean=%{x}<br>LE_Mean=%{y}<br>width=%{marker.size}<extra></extra>\",\"legendgroup\":\"Canada\",\"marker\":{\"color\":\"#EF553B\",\"size\":[0.5],\"sizemode\":\"area\",\"sizeref\":0.00125,\"symbol\":\"circle\"},\"mode\":\"markers\",\"name\":\"Canada\",\"orientation\":\"v\",\"showlegend\":true,\"x\":[35523624.8],\"xaxis\":\"x\",\"y\":[85.63],\"yaxis\":\"y\",\"type\":\"scatter\"},{\"hovertemplate\":\"Country=Switzerland<br>P_Mean=%{x}<br>LE_Mean=%{y}<br>width=%{marker.size}<extra></extra>\",\"legendgroup\":\"Switzerland\",\"marker\":{\"color\":\"#00cc96\",\"size\":[0.5],\"sizemode\":\"area\",\"sizeref\":0.00125,\"symbol\":\"circle\"},\"mode\":\"markers\",\"name\":\"Switzerland\",\"orientation\":\"v\",\"showlegend\":true,\"x\":[8211606.4],\"xaxis\":\"x\",\"y\":[86.55],\"yaxis\":\"y\",\"type\":\"scatter\"},{\"hovertemplate\":\"Country=Chile<br>P_Mean=%{x}<br>LE_Mean=%{y}<br>width=%{marker.size}<extra></extra>\",\"legendgroup\":\"Chile\",\"marker\":{\"color\":\"#ab63fa\",\"size\":[0.5],\"sizemode\":\"area\",\"sizeref\":0.00125,\"symbol\":\"circle\"},\"mode\":\"markers\",\"name\":\"Chile\",\"orientation\":\"v\",\"showlegend\":true,\"x\":[17813188.7],\"xaxis\":\"x\",\"y\":[81.9675],\"yaxis\":\"y\",\"type\":\"scatter\"},{\"hovertemplate\":\"Country=China<br>P_Mean=%{x}<br>LE_Mean=%{y}<br>width=%{marker.size}<extra></extra>\",\"legendgroup\":\"China\",\"marker\":{\"color\":\"#FFA15A\",\"size\":[0.5],\"sizemode\":\"area\",\"sizeref\":0.00125,\"symbol\":\"circle\"},\"mode\":\"markers\",\"name\":\"China\",\"orientation\":\"v\",\"showlegend\":true,\"x\":[1432561500.0],\"xaxis\":\"x\",\"y\":[78.301],\"yaxis\":\"y\",\"type\":\"scatter\"},{\"hovertemplate\":\"Country=Cote d'Ivoire<br>P_Mean=%{x}<br>LE_Mean=%{y}<br>width=%{marker.size}<extra></extra>\",\"legendgroup\":\"Cote d'Ivoire\",\"marker\":{\"color\":\"#19d3f3\",\"size\":[0.5],\"sizemode\":\"area\",\"sizeref\":0.00125,\"symbol\":\"circle\"},\"mode\":\"markers\",\"name\":\"Cote d'Ivoire\",\"orientation\":\"v\",\"showlegend\":true,\"x\":[20258766.8],\"xaxis\":\"x\",\"y\":[54.0924],\"yaxis\":\"y\",\"type\":\"scatter\"},{\"hovertemplate\":\"Country=Cameroon<br>P_Mean=%{x}<br>LE_Mean=%{y}<br>width=%{marker.size}<extra></extra>\",\"legendgroup\":\"Cameroon\",\"marker\":{\"color\":\"#FF6692\",\"size\":[0.5],\"sizemode\":\"area\",\"sizeref\":0.00125,\"symbol\":\"circle\"},\"mode\":\"markers\",\"name\":\"Cameroon\",\"orientation\":\"v\",\"showlegend\":true,\"x\":[19593185.0],\"xaxis\":\"x\",\"y\":[56.7941],\"yaxis\":\"y\",\"type\":\"scatter\"},{\"hovertemplate\":\"Country=Congo, Dem. Rep.<br>P_Mean=%{x}<br>LE_Mean=%{y}<br>width=%{marker.size}<extra></extra>\",\"legendgroup\":\"Congo, Dem. Rep.\",\"marker\":{\"color\":\"#B6E880\",\"size\":[0.5],\"sizemode\":\"area\",\"sizeref\":0.00125,\"symbol\":\"circle\"},\"mode\":\"markers\",\"name\":\"Congo, Dem. Rep.\",\"orientation\":\"v\",\"showlegend\":true,\"x\":[60714173.3],\"xaxis\":\"x\",\"y\":[57.34680000000001],\"yaxis\":\"y\",\"type\":\"scatter\"},{\"hovertemplate\":\"Country=Congo, Rep.<br>P_Mean=%{x}<br>LE_Mean=%{y}<br>width=%{marker.size}<extra></extra>\",\"legendgroup\":\"Congo, Rep.\",\"marker\":{\"color\":\"#FF97FF\",\"size\":[0.5],\"sizemode\":\"area\",\"sizeref\":0.00125,\"symbol\":\"circle\"},\"mode\":\"markers\",\"name\":\"Congo, Rep.\",\"orientation\":\"v\",\"showlegend\":true,\"x\":[4024777.5],\"xaxis\":\"x\",\"y\":[60.134900000000016],\"yaxis\":\"y\",\"type\":\"scatter\"},{\"hovertemplate\":\"Country=Colombia<br>P_Mean=%{x}<br>LE_Mean=%{y}<br>width=%{marker.size}<extra></extra>\",\"legendgroup\":\"Colombia\",\"marker\":{\"color\":\"#FECB52\",\"size\":[0.5],\"sizemode\":\"area\",\"sizeref\":0.00125,\"symbol\":\"circle\"},\"mode\":\"markers\",\"name\":\"Colombia\",\"orientation\":\"v\",\"showlegend\":true,\"x\":[46813497.8],\"xaxis\":\"x\",\"y\":[78.1634],\"yaxis\":\"y\",\"type\":\"scatter\"},{\"hovertemplate\":\"Country=Comoros<br>P_Mean=%{x}<br>LE_Mean=%{y}<br>width=%{marker.size}<extra></extra>\",\"legendgroup\":\"Comoros\",\"marker\":{\"color\":\"#636efa\",\"size\":[0.5],\"sizemode\":\"area\",\"sizeref\":0.00125,\"symbol\":\"circle\"},\"mode\":\"markers\",\"name\":\"Comoros\",\"orientation\":\"v\",\"showlegend\":true,\"x\":[674802.6],\"xaxis\":\"x\",\"y\":[64.65529999999998],\"yaxis\":\"y\",\"type\":\"scatter\"},{\"hovertemplate\":\"Country=Cabo Verde<br>P_Mean=%{x}<br>LE_Mean=%{y}<br>width=%{marker.size}<extra></extra>\",\"legendgroup\":\"Cabo Verde\",\"marker\":{\"color\":\"#EF553B\",\"size\":[0.5],\"sizemode\":\"area\",\"sizeref\":0.00125,\"symbol\":\"circle\"},\"mode\":\"markers\",\"name\":\"Cabo Verde\",\"orientation\":\"v\",\"showlegend\":true,\"x\":[508080.7],\"xaxis\":\"x\",\"y\":[73.0386],\"yaxis\":\"y\",\"type\":\"scatter\"},{\"hovertemplate\":\"Country=Costa Rica<br>P_Mean=%{x}<br>LE_Mean=%{y}<br>width=%{marker.size}<extra></extra>\",\"legendgroup\":\"Costa Rica\",\"marker\":{\"color\":\"#00cc96\",\"size\":[0.5],\"sizemode\":\"area\",\"sizeref\":0.00125,\"symbol\":\"circle\"},\"mode\":\"markers\",\"name\":\"Costa Rica\",\"orientation\":\"v\",\"showlegend\":true,\"x\":[4708335.8],\"xaxis\":\"x\",\"y\":[83.3537],\"yaxis\":\"y\",\"type\":\"scatter\"},{\"hovertemplate\":\"Country=Cuba<br>P_Mean=%{x}<br>LE_Mean=%{y}<br>width=%{marker.size}<extra></extra>\",\"legendgroup\":\"Cuba\",\"marker\":{\"color\":\"#ab63fa\",\"size\":[0.5],\"sizemode\":\"area\",\"sizeref\":0.00125,\"symbol\":\"circle\"},\"mode\":\"markers\",\"name\":\"Cuba\",\"orientation\":\"v\",\"showlegend\":true,\"x\":[12343378.0],\"xaxis\":\"x\",\"y\":[83.2557],\"yaxis\":\"y\",\"type\":\"scatter\"},{\"hovertemplate\":\"Country=Curacao<br>P_Mean=%{x}<br>LE_Mean=%{y}<br>width=%{marker.size}<extra></extra>\",\"legendgroup\":\"Curacao\",\"marker\":{\"color\":\"#FFA15A\",\"size\":[0.5],\"sizemode\":\"area\",\"sizeref\":0.00125,\"symbol\":\"circle\"},\"mode\":\"markers\",\"name\":\"Curacao\",\"orientation\":\"v\",\"showlegend\":true,\"x\":[152257.0],\"xaxis\":\"x\",\"y\":[null],\"yaxis\":\"y\",\"type\":\"scatter\"},{\"hovertemplate\":\"Country=Cayman Islands<br>P_Mean=%{x}<br>LE_Mean=%{y}<br>width=%{marker.size}<extra></extra>\",\"legendgroup\":\"Cayman Islands\",\"marker\":{\"color\":\"#19d3f3\",\"size\":[0.5],\"sizemode\":\"area\",\"sizeref\":0.00125,\"symbol\":\"circle\"},\"mode\":\"markers\",\"name\":\"Cayman Islands\",\"orientation\":\"v\",\"showlegend\":true,\"x\":[54420.7],\"xaxis\":\"x\",\"y\":[null],\"yaxis\":\"y\",\"type\":\"scatter\"},{\"hovertemplate\":\"Country=Cyprus<br>P_Mean=%{x}<br>LE_Mean=%{y}<br>width=%{marker.size}<extra></extra>\",\"legendgroup\":\"Cyprus\",\"marker\":{\"color\":\"#FF6692\",\"size\":[0.5],\"sizemode\":\"area\",\"sizeref\":0.00125,\"symbol\":\"circle\"},\"mode\":\"markers\",\"name\":\"Cyprus\",\"orientation\":\"v\",\"showlegend\":true,\"x\":[1131364.9],\"xaxis\":\"x\",\"y\":[84.2125],\"yaxis\":\"y\",\"type\":\"scatter\"},{\"hovertemplate\":\"Country=Czech Republic<br>P_Mean=%{x}<br>LE_Mean=%{y}<br>width=%{marker.size}<extra></extra>\",\"legendgroup\":\"Czech Republic\",\"marker\":{\"color\":\"#B6E880\",\"size\":[0.5],\"sizemode\":\"area\",\"sizeref\":0.00125,\"symbol\":\"circle\"},\"mode\":\"markers\",\"name\":\"Czech Republic\",\"orientation\":\"v\",\"showlegend\":true,\"x\":[11311158.1],\"xaxis\":\"x\",\"y\":[80.32000000000001],\"yaxis\":\"y\",\"type\":\"scatter\"},{\"hovertemplate\":\"Country=Germany<br>P_Mean=%{x}<br>LE_Mean=%{y}<br>width=%{marker.size}<extra></extra>\",\"legendgroup\":\"Germany\",\"marker\":{\"color\":\"#FF97FF\",\"size\":[0.5],\"sizemode\":\"area\",\"sizeref\":0.00125,\"symbol\":\"circle\"},\"mode\":\"markers\",\"name\":\"Germany\",\"orientation\":\"v\",\"showlegend\":true,\"x\":[90500194.3],\"xaxis\":\"x\",\"y\":[83.89],\"yaxis\":\"y\",\"type\":\"scatter\"},{\"hovertemplate\":\"Country=Djibouti<br>P_Mean=%{x}<br>LE_Mean=%{y}<br>width=%{marker.size}<extra></extra>\",\"legendgroup\":\"Djibouti\",\"marker\":{\"color\":\"#FECB52\",\"size\":[0.5],\"sizemode\":\"area\",\"sizeref\":0.00125,\"symbol\":\"circle\"},\"mode\":\"markers\",\"name\":\"Djibouti\",\"orientation\":\"v\",\"showlegend\":true,\"x\":[859641.4],\"xaxis\":\"x\",\"y\":[62.427800000000005],\"yaxis\":\"y\",\"type\":\"scatter\"},{\"hovertemplate\":\"Country=Dominica<br>P_Mean=%{x}<br>LE_Mean=%{y}<br>width=%{marker.size}<extra></extra>\",\"legendgroup\":\"Dominica\",\"marker\":{\"color\":\"#636efa\",\"size\":[0.5],\"sizemode\":\"area\",\"sizeref\":0.00125,\"symbol\":\"circle\"},\"mode\":\"markers\",\"name\":\"Dominica\",\"orientation\":\"v\",\"showlegend\":true,\"x\":[77429.9],\"xaxis\":\"x\",\"y\":[null],\"yaxis\":\"y\",\"type\":\"scatter\"},{\"hovertemplate\":\"Country=Denmark<br>P_Mean=%{x}<br>LE_Mean=%{y}<br>width=%{marker.size}<extra></extra>\",\"legendgroup\":\"Denmark\",\"marker\":{\"color\":\"#EF553B\",\"size\":[0.5],\"sizemode\":\"area\",\"sizeref\":0.00125,\"symbol\":\"circle\"},\"mode\":\"markers\",\"name\":\"Denmark\",\"orientation\":\"v\",\"showlegend\":true,\"x\":[5975196.8],\"xaxis\":\"x\",\"y\":[83.1],\"yaxis\":\"y\",\"type\":\"scatter\"},{\"hovertemplate\":\"Country=Dominican Republic<br>P_Mean=%{x}<br>LE_Mean=%{y}<br>width=%{marker.size}<extra></extra>\",\"legendgroup\":\"Dominican Republic\",\"marker\":{\"color\":\"#00cc96\",\"size\":[0.5],\"sizemode\":\"area\",\"sizeref\":0.00125,\"symbol\":\"circle\"},\"mode\":\"markers\",\"name\":\"Dominican Republic\",\"orientation\":\"v\",\"showlegend\":true,\"x\":[10000438.2],\"xaxis\":\"x\",\"y\":[74.6493],\"yaxis\":\"y\",\"type\":\"scatter\"},{\"hovertemplate\":\"Country=Algeria<br>P_Mean=%{x}<br>LE_Mean=%{y}<br>width=%{marker.size}<extra></extra>\",\"legendgroup\":\"Algeria\",\"marker\":{\"color\":\"#ab63fa\",\"size\":[0.5],\"sizemode\":\"area\",\"sizeref\":0.00125,\"symbol\":\"circle\"},\"mode\":\"markers\",\"name\":\"Algeria\",\"orientation\":\"v\",\"showlegend\":true,\"x\":[36630481.3],\"xaxis\":\"x\",\"y\":[78.8364],\"yaxis\":\"y\",\"type\":\"scatter\"},{\"hovertemplate\":\"Country=Ecuador<br>P_Mean=%{x}<br>LE_Mean=%{y}<br>width=%{marker.size}<extra></extra>\",\"legendgroup\":\"Ecuador\",\"marker\":{\"color\":\"#FFA15A\",\"size\":[0.5],\"sizemode\":\"area\",\"sizeref\":0.00125,\"symbol\":\"circle\"},\"mode\":\"markers\",\"name\":\"Ecuador\",\"orientation\":\"v\",\"showlegend\":true,\"x\":[15220835.4],\"xaxis\":\"x\",\"y\":[78.30010000000001],\"yaxis\":\"y\",\"type\":\"scatter\"},{\"hovertemplate\":\"Country=Egypt, Arab Rep.<br>P_Mean=%{x}<br>LE_Mean=%{y}<br>width=%{marker.size}<extra></extra>\",\"legendgroup\":\"Egypt, Arab Rep.\",\"marker\":{\"color\":\"#19d3f3\",\"size\":[0.5],\"sizemode\":\"area\",\"sizeref\":0.00125,\"symbol\":\"circle\"},\"mode\":\"markers\",\"name\":\"Egypt, Arab Rep.\",\"orientation\":\"v\",\"showlegend\":true,\"x\":[83162892.6],\"xaxis\":\"x\",\"y\":[73.8942],\"yaxis\":\"y\",\"type\":\"scatter\"},{\"hovertemplate\":\"Country=Eritrea<br>P_Mean=%{x}<br>LE_Mean=%{y}<br>width=%{marker.size}<extra></extra>\",\"legendgroup\":\"Eritrea\",\"marker\":{\"color\":\"#FF6692\",\"size\":[0.5],\"sizemode\":\"area\",\"sizeref\":0.00125,\"symbol\":\"circle\"},\"mode\":\"markers\",\"name\":\"Eritrea\",\"orientation\":\"v\",\"showlegend\":true,\"x\":[3056351.5],\"xaxis\":\"x\",\"y\":[62.432900000000004],\"yaxis\":\"y\",\"type\":\"scatter\"},{\"hovertemplate\":\"Country=Spain<br>P_Mean=%{x}<br>LE_Mean=%{y}<br>width=%{marker.size}<extra></extra>\",\"legendgroup\":\"Spain\",\"marker\":{\"color\":\"#B6E880\",\"size\":[0.5],\"sizemode\":\"area\",\"sizeref\":0.00125,\"symbol\":\"circle\"},\"mode\":\"markers\",\"name\":\"Spain\",\"orientation\":\"v\",\"showlegend\":true,\"x\":[48013060.0],\"xaxis\":\"x\",\"y\":[84.9],\"yaxis\":\"y\",\"type\":\"scatter\"},{\"hovertemplate\":\"Country=Estonia<br>P_Mean=%{x}<br>LE_Mean=%{y}<br>width=%{marker.size}<extra></extra>\",\"legendgroup\":\"Estonia\",\"marker\":{\"color\":\"#FF97FF\",\"size\":[0.5],\"sizemode\":\"area\",\"sizeref\":0.00125,\"symbol\":\"circle\"},\"mode\":\"markers\",\"name\":\"Estonia\",\"orientation\":\"v\",\"showlegend\":true,\"x\":[1494306.5],\"xaxis\":\"x\",\"y\":[73.815],\"yaxis\":\"y\",\"type\":\"scatter\"},{\"hovertemplate\":\"Country=Ethiopia<br>P_Mean=%{x}<br>LE_Mean=%{y}<br>width=%{marker.size}<extra></extra>\",\"legendgroup\":\"Ethiopia\",\"marker\":{\"color\":\"#FECB52\",\"size\":[0.5],\"sizemode\":\"area\",\"sizeref\":0.00125,\"symbol\":\"circle\"},\"mode\":\"markers\",\"name\":\"Ethiopia\",\"orientation\":\"v\",\"showlegend\":true,\"x\":[84223638.9],\"xaxis\":\"x\",\"y\":[60.54139999999999],\"yaxis\":\"y\",\"type\":\"scatter\"},{\"hovertemplate\":\"Country=Finland<br>P_Mean=%{x}<br>LE_Mean=%{y}<br>width=%{marker.size}<extra></extra>\",\"legendgroup\":\"Finland\",\"marker\":{\"color\":\"#636efa\",\"size\":[0.5],\"sizemode\":\"area\",\"sizeref\":0.00125,\"symbol\":\"circle\"},\"mode\":\"markers\",\"name\":\"Finland\",\"orientation\":\"v\",\"showlegend\":true,\"x\":[5782270.7],\"xaxis\":\"x\",\"y\":[83.05999999999999],\"yaxis\":\"y\",\"type\":\"scatter\"},{\"hovertemplate\":\"Country=Fiji<br>P_Mean=%{x}<br>LE_Mean=%{y}<br>width=%{marker.size}<extra></extra>\",\"legendgroup\":\"Fiji\",\"marker\":{\"color\":\"#EF553B\",\"size\":[0.5],\"sizemode\":\"area\",\"sizeref\":0.00125,\"symbol\":\"circle\"},\"mode\":\"markers\",\"name\":\"Fiji\",\"orientation\":\"v\",\"showlegend\":true,\"x\":[911860.1],\"xaxis\":\"x\",\"y\":[71.173],\"yaxis\":\"y\",\"type\":\"scatter\"},{\"hovertemplate\":\"Country=France<br>P_Mean=%{x}<br>LE_Mean=%{y}<br>width=%{marker.size}<extra></extra>\",\"legendgroup\":\"France\",\"marker\":{\"color\":\"#00cc96\",\"size\":[0.5],\"sizemode\":\"area\",\"sizeref\":0.00125,\"symbol\":\"circle\"},\"mode\":\"markers\",\"name\":\"France\",\"orientation\":\"v\",\"showlegend\":true,\"x\":[69395145.7],\"xaxis\":\"x\",\"y\":[84.45],\"yaxis\":\"y\",\"type\":\"scatter\"},{\"hovertemplate\":\"Country=Faroe Islands<br>P_Mean=%{x}<br>LE_Mean=%{y}<br>width=%{marker.size}<extra></extra>\",\"legendgroup\":\"Faroe Islands\",\"marker\":{\"color\":\"#ab63fa\",\"size\":[0.5],\"sizemode\":\"area\",\"sizeref\":0.00125,\"symbol\":\"circle\"},\"mode\":\"markers\",\"name\":\"Faroe Islands\",\"orientation\":\"v\",\"showlegend\":true,\"x\":[52279.9],\"xaxis\":\"x\",\"y\":[84.75],\"yaxis\":\"y\",\"type\":\"scatter\"},{\"hovertemplate\":\"Country=Gabon<br>P_Mean=%{x}<br>LE_Mean=%{y}<br>width=%{marker.size}<extra></extra>\",\"legendgroup\":\"Gabon\",\"marker\":{\"color\":\"#FFA15A\",\"size\":[0.5],\"sizemode\":\"area\",\"sizeref\":0.00125,\"symbol\":\"circle\"},\"mode\":\"markers\",\"name\":\"Gabon\",\"orientation\":\"v\",\"showlegend\":true,\"x\":[1545327.9],\"xaxis\":\"x\",\"y\":[63.304500000000004],\"yaxis\":\"y\",\"type\":\"scatter\"},{\"hovertemplate\":\"Country=United Kingdom<br>P_Mean=%{x}<br>LE_Mean=%{y}<br>width=%{marker.size}<extra></extra>\",\"legendgroup\":\"United Kingdom\",\"marker\":{\"color\":\"#19d3f3\",\"size\":[0.5],\"sizemode\":\"area\",\"sizeref\":0.00125,\"symbol\":\"circle\"},\"mode\":\"markers\",\"name\":\"United Kingdom\",\"orientation\":\"v\",\"showlegend\":true,\"x\":[66643826.7],\"xaxis\":\"x\",\"y\":[84.57000000000001],\"yaxis\":\"y\",\"type\":\"scatter\"},{\"hovertemplate\":\"Country=Georgia<br>P_Mean=%{x}<br>LE_Mean=%{y}<br>width=%{marker.size}<extra></extra>\",\"legendgroup\":\"Georgia\",\"marker\":{\"color\":\"#FF6692\",\"size\":[0.5],\"sizemode\":\"area\",\"sizeref\":0.00125,\"symbol\":\"circle\"},\"mode\":\"markers\",\"name\":\"Georgia\",\"orientation\":\"v\",\"showlegend\":true,\"x\":[4304163.2],\"xaxis\":\"x\",\"y\":[73.0454],\"yaxis\":\"y\",\"type\":\"scatter\"},{\"hovertemplate\":\"Country=Ghana<br>P_Mean=%{x}<br>LE_Mean=%{y}<br>width=%{marker.size}<extra></extra>\",\"legendgroup\":\"Ghana\",\"marker\":{\"color\":\"#B6E880\",\"size\":[0.5],\"sizemode\":\"area\",\"sizeref\":0.00125,\"symbol\":\"circle\"},\"mode\":\"markers\",\"name\":\"Ghana\",\"orientation\":\"v\",\"showlegend\":true,\"x\":[24097683.1],\"xaxis\":\"x\",\"y\":[63.765600000000006],\"yaxis\":\"y\",\"type\":\"scatter\"},{\"hovertemplate\":\"Country=Gibraltar<br>P_Mean=%{x}<br>LE_Mean=%{y}<br>width=%{marker.size}<extra></extra>\",\"legendgroup\":\"Gibraltar\",\"marker\":{\"color\":\"#FF97FF\",\"size\":[0.5],\"sizemode\":\"area\",\"sizeref\":0.00125,\"symbol\":\"circle\"},\"mode\":\"markers\",\"name\":\"Gibraltar\",\"orientation\":\"v\",\"showlegend\":true,\"x\":[36115.1],\"xaxis\":\"x\",\"y\":[null],\"yaxis\":\"y\",\"type\":\"scatter\"},{\"hovertemplate\":\"Country=Guinea<br>P_Mean=%{x}<br>LE_Mean=%{y}<br>width=%{marker.size}<extra></extra>\",\"legendgroup\":\"Guinea\",\"marker\":{\"color\":\"#FECB52\",\"size\":[0.5],\"sizemode\":\"area\",\"sizeref\":0.00125,\"symbol\":\"circle\"},\"mode\":\"markers\",\"name\":\"Guinea\",\"orientation\":\"v\",\"showlegend\":true,\"x\":[10075331.9],\"xaxis\":\"x\",\"y\":[58.3793],\"yaxis\":\"y\",\"type\":\"scatter\"},{\"hovertemplate\":\"Country=Gambia, The<br>P_Mean=%{x}<br>LE_Mean=%{y}<br>width=%{marker.size}<extra></extra>\",\"legendgroup\":\"Gambia, The\",\"marker\":{\"color\":\"#636efa\",\"size\":[0.5],\"sizemode\":\"area\",\"sizeref\":0.00125,\"symbol\":\"circle\"},\"mode\":\"markers\",\"name\":\"Gambia, The\",\"orientation\":\"v\",\"showlegend\":true,\"x\":[1702628.9],\"xaxis\":\"x\",\"y\":[62.41400000000001],\"yaxis\":\"y\",\"type\":\"scatter\"},{\"hovertemplate\":\"Country=Guinea-Bissau<br>P_Mean=%{x}<br>LE_Mean=%{y}<br>width=%{marker.size}<extra></extra>\",\"legendgroup\":\"Guinea-Bissau\",\"marker\":{\"color\":\"#EF553B\",\"size\":[0.5],\"sizemode\":\"area\",\"sizeref\":0.00125,\"symbol\":\"circle\"},\"mode\":\"markers\",\"name\":\"Guinea-Bissau\",\"orientation\":\"v\",\"showlegend\":true,\"x\":[1486717.0],\"xaxis\":\"x\",\"y\":[54.862],\"yaxis\":\"y\",\"type\":\"scatter\"},{\"hovertemplate\":\"Country=Greece<br>P_Mean=%{x}<br>LE_Mean=%{y}<br>width=%{marker.size}<extra></extra>\",\"legendgroup\":\"Greece\",\"marker\":{\"color\":\"#00cc96\",\"size\":[0.5],\"sizemode\":\"area\",\"sizeref\":0.00125,\"symbol\":\"circle\"},\"mode\":\"markers\",\"name\":\"Greece\",\"orientation\":\"v\",\"showlegend\":true,\"x\":[12081552.1],\"xaxis\":\"x\",\"y\":[84.46000000000001],\"yaxis\":\"y\",\"type\":\"scatter\"},{\"hovertemplate\":\"Country=Grenada<br>P_Mean=%{x}<br>LE_Mean=%{y}<br>width=%{marker.size}<extra></extra>\",\"legendgroup\":\"Grenada\",\"marker\":{\"color\":\"#ab63fa\",\"size\":[0.5],\"sizemode\":\"area\",\"sizeref\":0.00125,\"symbol\":\"circle\"},\"mode\":\"markers\",\"name\":\"Grenada\",\"orientation\":\"v\",\"showlegend\":true,\"x\":[115031.4],\"xaxis\":\"x\",\"y\":[77.50399999999999],\"yaxis\":\"y\",\"type\":\"scatter\"},{\"hovertemplate\":\"Country=Greenland<br>P_Mean=%{x}<br>LE_Mean=%{y}<br>width=%{marker.size}<extra></extra>\",\"legendgroup\":\"Greenland\",\"marker\":{\"color\":\"#FFA15A\",\"size\":[0.5],\"sizemode\":\"area\",\"sizeref\":0.00125,\"symbol\":\"circle\"},\"mode\":\"markers\",\"name\":\"Greenland\",\"orientation\":\"v\",\"showlegend\":true,\"x\":[62265.5],\"xaxis\":\"x\",\"y\":[73.292],\"yaxis\":\"y\",\"type\":\"scatter\"},{\"hovertemplate\":\"Country=Guatemala<br>P_Mean=%{x}<br>LE_Mean=%{y}<br>width=%{marker.size}<extra></extra>\",\"legendgroup\":\"Guatemala\",\"marker\":{\"color\":\"#19d3f3\",\"size\":[0.5],\"sizemode\":\"area\",\"sizeref\":0.00125,\"symbol\":\"circle\"},\"mode\":\"markers\",\"name\":\"Guatemala\",\"orientation\":\"v\",\"showlegend\":true,\"x\":[14234410.1],\"xaxis\":\"x\",\"y\":[73.14079999999998],\"yaxis\":\"y\",\"type\":\"scatter\"},{\"hovertemplate\":\"Country=Guam<br>P_Mean=%{x}<br>LE_Mean=%{y}<br>width=%{marker.size}<extra></extra>\",\"legendgroup\":\"Guam\",\"marker\":{\"color\":\"#FF6692\",\"size\":[0.5],\"sizemode\":\"area\",\"sizeref\":0.00125,\"symbol\":\"circle\"},\"mode\":\"markers\",\"name\":\"Guam\",\"orientation\":\"v\",\"showlegend\":true,\"x\":[173831.9],\"xaxis\":\"x\",\"y\":[81.51210000000002],\"yaxis\":\"y\",\"type\":\"scatter\"},{\"hovertemplate\":\"Country=Guyana<br>P_Mean=%{x}<br>LE_Mean=%{y}<br>width=%{marker.size}<extra></extra>\",\"legendgroup\":\"Guyana\",\"marker\":{\"color\":\"#B6E880\",\"size\":[0.5],\"sizemode\":\"area\",\"sizeref\":0.00125,\"symbol\":\"circle\"},\"mode\":\"markers\",\"name\":\"Guyana\",\"orientation\":\"v\",\"showlegend\":true,\"x\":[821052.3],\"xaxis\":\"x\",\"y\":[69.9281],\"yaxis\":\"y\",\"type\":\"scatter\"},{\"hovertemplate\":\"Country=Hong Kong SAR, China<br>P_Mean=%{x}<br>LE_Mean=%{y}<br>width=%{marker.size}<extra></extra>\",\"legendgroup\":\"Hong Kong SAR, China\",\"marker\":{\"color\":\"#FF97FF\",\"size\":[0.5],\"sizemode\":\"area\",\"sizeref\":0.00125,\"symbol\":\"circle\"},\"mode\":\"markers\",\"name\":\"Hong Kong SAR, China\",\"orientation\":\"v\",\"showlegend\":true,\"x\":[7517910.0],\"xaxis\":\"x\",\"y\":[86.92999999999999],\"yaxis\":\"y\",\"type\":\"scatter\"},{\"hovertemplate\":\"Country=Honduras<br>P_Mean=%{x}<br>LE_Mean=%{y}<br>width=%{marker.size}<extra></extra>\",\"legendgroup\":\"Honduras\",\"marker\":{\"color\":\"#FECB52\",\"size\":[0.5],\"sizemode\":\"area\",\"sizeref\":0.00125,\"symbol\":\"circle\"},\"mode\":\"markers\",\"name\":\"Honduras\",\"orientation\":\"v\",\"showlegend\":true,\"x\":[8199596.4],\"xaxis\":\"x\",\"y\":[76.6694],\"yaxis\":\"y\",\"type\":\"scatter\"},{\"hovertemplate\":\"Country=Croatia<br>P_Mean=%{x}<br>LE_Mean=%{y}<br>width=%{marker.size}<extra></extra>\",\"legendgroup\":\"Croatia\",\"marker\":{\"color\":\"#636efa\",\"size\":[0.5],\"sizemode\":\"area\",\"sizeref\":0.00125,\"symbol\":\"circle\"},\"mode\":\"markers\",\"name\":\"Croatia\",\"orientation\":\"v\",\"showlegend\":true,\"x\":[4751995.1],\"xaxis\":\"x\",\"y\":[79.013],\"yaxis\":\"y\",\"type\":\"scatter\"},{\"hovertemplate\":\"Country=Haiti<br>P_Mean=%{x}<br>LE_Mean=%{y}<br>width=%{marker.size}<extra></extra>\",\"legendgroup\":\"Haiti\",\"marker\":{\"color\":\"#EF553B\",\"size\":[0.5],\"sizemode\":\"area\",\"sizeref\":0.00125,\"symbol\":\"circle\"},\"mode\":\"markers\",\"name\":\"Haiti\",\"orientation\":\"v\",\"showlegend\":true,\"x\":[10120329.3],\"xaxis\":\"x\",\"y\":[62.47059999999999],\"yaxis\":\"y\",\"type\":\"scatter\"},{\"hovertemplate\":\"Country=Hungary<br>P_Mean=%{x}<br>LE_Mean=%{y}<br>width=%{marker.size}<extra></extra>\",\"legendgroup\":\"Hungary\",\"marker\":{\"color\":\"#00cc96\",\"size\":[0.5],\"sizemode\":\"area\",\"sizeref\":0.00125,\"symbol\":\"circle\"},\"mode\":\"markers\",\"name\":\"Hungary\",\"orientation\":\"v\",\"showlegend\":true,\"x\":[11106892.9],\"xaxis\":\"x\",\"y\":[75.77000000000001],\"yaxis\":\"y\",\"type\":\"scatter\"},{\"hovertemplate\":\"Country=Indonesia<br>P_Mean=%{x}<br>LE_Mean=%{y}<br>width=%{marker.size}<extra></extra>\",\"legendgroup\":\"Indonesia\",\"marker\":{\"color\":\"#ab63fa\",\"size\":[0.5],\"sizemode\":\"area\",\"sizeref\":0.00125,\"symbol\":\"circle\"},\"mode\":\"markers\",\"name\":\"Indonesia\",\"orientation\":\"v\",\"showlegend\":true,\"x\":[249080067.4],\"xaxis\":\"x\",\"y\":[72.2279],\"yaxis\":\"y\",\"type\":\"scatter\"},{\"hovertemplate\":\"Country=India<br>P_Mean=%{x}<br>LE_Mean=%{y}<br>width=%{marker.size}<extra></extra>\",\"legendgroup\":\"India\",\"marker\":{\"color\":\"#FFA15A\",\"size\":[0.5],\"sizemode\":\"area\",\"sizeref\":0.00125,\"symbol\":\"circle\"},\"mode\":\"markers\",\"name\":\"India\",\"orientation\":\"v\",\"showlegend\":true,\"x\":[1261502226.9],\"xaxis\":\"x\",\"y\":[70.0788],\"yaxis\":\"y\",\"type\":\"scatter\"},{\"hovertemplate\":\"Country=Ireland<br>P_Mean=%{x}<br>LE_Mean=%{y}<br>width=%{marker.size}<extra></extra>\",\"legendgroup\":\"Ireland\",\"marker\":{\"color\":\"#19d3f3\",\"size\":[0.5],\"sizemode\":\"area\",\"sizeref\":0.00125,\"symbol\":\"circle\"},\"mode\":\"markers\",\"name\":\"Ireland\",\"orientation\":\"v\",\"showlegend\":true,\"x\":[4608766.8],\"xaxis\":\"x\",\"y\":[84.03999999999999],\"yaxis\":\"y\",\"type\":\"scatter\"},{\"hovertemplate\":\"Country=Iran, Islamic Rep.<br>P_Mean=%{x}<br>LE_Mean=%{y}<br>width=%{marker.size}<extra></extra>\",\"legendgroup\":\"Iran, Islamic Rep.\",\"marker\":{\"color\":\"#FF6692\",\"size\":[0.5],\"sizemode\":\"area\",\"sizeref\":0.00125,\"symbol\":\"circle\"},\"mode\":\"markers\",\"name\":\"Iran, Islamic Rep.\",\"orientation\":\"v\",\"showlegend\":true,\"x\":[76689307.2],\"xaxis\":\"x\",\"y\":[77.68589999999999],\"yaxis\":\"y\",\"type\":\"scatter\"},{\"hovertemplate\":\"Country=Iraq<br>P_Mean=%{x}<br>LE_Mean=%{y}<br>width=%{marker.size}<extra></extra>\",\"legendgroup\":\"Iraq\",\"marker\":{\"color\":\"#B6E880\",\"size\":[0.5],\"sizemode\":\"area\",\"sizeref\":0.00125,\"symbol\":\"circle\"},\"mode\":\"markers\",\"name\":\"Iraq\",\"orientation\":\"v\",\"showlegend\":true,\"x\":[29397854.8],\"xaxis\":\"x\",\"y\":[72.51480000000001],\"yaxis\":\"y\",\"type\":\"scatter\"},{\"hovertemplate\":\"Country=Iceland<br>P_Mean=%{x}<br>LE_Mean=%{y}<br>width=%{marker.size}<extra></extra>\",\"legendgroup\":\"Iceland\",\"marker\":{\"color\":\"#FF97FF\",\"size\":[0.5],\"sizemode\":\"area\",\"sizeref\":0.00125,\"symbol\":\"circle\"},\"mode\":\"markers\",\"name\":\"Iceland\",\"orientation\":\"v\",\"showlegend\":true,\"x\":[330132.7],\"xaxis\":\"x\",\"y\":[87.14],\"yaxis\":\"y\",\"type\":\"scatter\"},{\"hovertemplate\":\"Country=Israel<br>P_Mean=%{x}<br>LE_Mean=%{y}<br>width=%{marker.size}<extra></extra>\",\"legendgroup\":\"Israel\",\"marker\":{\"color\":\"#FECB52\",\"size\":[0.5],\"sizemode\":\"area\",\"sizeref\":0.00125,\"symbol\":\"circle\"},\"mode\":\"markers\",\"name\":\"Israel\",\"orientation\":\"v\",\"showlegend\":true,\"x\":[7637860.0],\"xaxis\":\"x\",\"y\":[86.18],\"yaxis\":\"y\",\"type\":\"scatter\"},{\"hovertemplate\":\"Country=Italy<br>P_Mean=%{x}<br>LE_Mean=%{y}<br>width=%{marker.size}<extra></extra>\",\"legendgroup\":\"Italy\",\"marker\":{\"color\":\"#636efa\",\"size\":[0.5],\"sizemode\":\"area\",\"sizeref\":0.00125,\"symbol\":\"circle\"},\"mode\":\"markers\",\"name\":\"Italy\",\"orientation\":\"v\",\"showlegend\":true,\"x\":[63772503.1],\"xaxis\":\"x\",\"y\":[85.97999999999999],\"yaxis\":\"y\",\"type\":\"scatter\"},{\"hovertemplate\":\"Country=Jamaica<br>P_Mean=%{x}<br>LE_Mean=%{y}<br>width=%{marker.size}<extra></extra>\",\"legendgroup\":\"Jamaica\",\"marker\":{\"color\":\"#EF553B\",\"size\":[0.5],\"sizemode\":\"area\",\"sizeref\":0.00125,\"symbol\":\"circle\"},\"mode\":\"markers\",\"name\":\"Jamaica\",\"orientation\":\"v\",\"showlegend\":true,\"x\":[3010751.7],\"xaxis\":\"x\",\"y\":[80.06190000000001],\"yaxis\":\"y\",\"type\":\"scatter\"},{\"hovertemplate\":\"Country=Jordan<br>P_Mean=%{x}<br>LE_Mean=%{y}<br>width=%{marker.size}<extra></extra>\",\"legendgroup\":\"Jordan\",\"marker\":{\"color\":\"#00cc96\",\"size\":[0.5],\"sizemode\":\"area\",\"sizeref\":0.00125,\"symbol\":\"circle\"},\"mode\":\"markers\",\"name\":\"Jordan\",\"orientation\":\"v\",\"showlegend\":true,\"x\":[6539536.2],\"xaxis\":\"x\",\"y\":[78.26060000000001],\"yaxis\":\"y\",\"type\":\"scatter\"},{\"hovertemplate\":\"Country=Japan<br>P_Mean=%{x}<br>LE_Mean=%{y}<br>width=%{marker.size}<extra></extra>\",\"legendgroup\":\"Japan\",\"marker\":{\"color\":\"#ab63fa\",\"size\":[0.5],\"sizemode\":\"area\",\"sizeref\":0.00125,\"symbol\":\"circle\"},\"mode\":\"markers\",\"name\":\"Japan\",\"orientation\":\"v\",\"showlegend\":true,\"x\":[140472400.0],\"xaxis\":\"x\",\"y\":[86.60699999999999],\"yaxis\":\"y\",\"type\":\"scatter\"},{\"hovertemplate\":\"Country=Kazakhstan<br>P_Mean=%{x}<br>LE_Mean=%{y}<br>width=%{marker.size}<extra></extra>\",\"legendgroup\":\"Kazakhstan\",\"marker\":{\"color\":\"#FFA15A\",\"size\":[0.5],\"sizemode\":\"area\",\"sizeref\":0.00125,\"symbol\":\"circle\"},\"mode\":\"markers\",\"name\":\"Kazakhstan\",\"orientation\":\"v\",\"showlegend\":true,\"x\":[16865385.0],\"xaxis\":\"x\",\"y\":[67.30999999999999],\"yaxis\":\"y\",\"type\":\"scatter\"},{\"hovertemplate\":\"Country=Kenya<br>P_Mean=%{x}<br>LE_Mean=%{y}<br>width=%{marker.size}<extra></extra>\",\"legendgroup\":\"Kenya\",\"marker\":{\"color\":\"#19d3f3\",\"size\":[0.5],\"sizemode\":\"area\",\"sizeref\":0.00125,\"symbol\":\"circle\"},\"mode\":\"markers\",\"name\":\"Kenya\",\"orientation\":\"v\",\"showlegend\":true,\"x\":[40458325.6],\"xaxis\":\"x\",\"y\":[58.5318],\"yaxis\":\"y\",\"type\":\"scatter\"},{\"hovertemplate\":\"Country=Kyrgyz Republic<br>P_Mean=%{x}<br>LE_Mean=%{y}<br>width=%{marker.size}<extra></extra>\",\"legendgroup\":\"Kyrgyz Republic\",\"marker\":{\"color\":\"#FF6692\",\"size\":[0.5],\"sizemode\":\"area\",\"sizeref\":0.00125,\"symbol\":\"circle\"},\"mode\":\"markers\",\"name\":\"Kyrgyz Republic\",\"orientation\":\"v\",\"showlegend\":true,\"x\":[5678150.0],\"xaxis\":\"x\",\"y\":[70.95],\"yaxis\":\"y\",\"type\":\"scatter\"},{\"hovertemplate\":\"Country=Cambodia<br>P_Mean=%{x}<br>LE_Mean=%{y}<br>width=%{marker.size}<extra></extra>\",\"legendgroup\":\"Cambodia\",\"marker\":{\"color\":\"#B6E880\",\"size\":[0.5],\"sizemode\":\"area\",\"sizeref\":0.00125,\"symbol\":\"circle\"},\"mode\":\"markers\",\"name\":\"Cambodia\",\"orientation\":\"v\",\"showlegend\":true,\"x\":[14584167.5],\"xaxis\":\"x\",\"y\":[66.5812],\"yaxis\":\"y\",\"type\":\"scatter\"},{\"hovertemplate\":\"Country=Kiribati<br>P_Mean=%{x}<br>LE_Mean=%{y}<br>width=%{marker.size}<extra></extra>\",\"legendgroup\":\"Kiribati\",\"marker\":{\"color\":\"#FF97FF\",\"size\":[0.5],\"sizemode\":\"area\",\"sizeref\":0.00125,\"symbol\":\"circle\"},\"mode\":\"markers\",\"name\":\"Kiribati\",\"orientation\":\"v\",\"showlegend\":true,\"x\":[102270.4],\"xaxis\":\"x\",\"y\":[67.3249],\"yaxis\":\"y\",\"type\":\"scatter\"},{\"hovertemplate\":\"Country=St. Kitts and Nevis<br>P_Mean=%{x}<br>LE_Mean=%{y}<br>width=%{marker.size}<extra></extra>\",\"legendgroup\":\"St. Kitts and Nevis\",\"marker\":{\"color\":\"#FECB52\",\"size\":[0.5],\"sizemode\":\"area\",\"sizeref\":0.00125,\"symbol\":\"circle\"},\"mode\":\"markers\",\"name\":\"St. Kitts and Nevis\",\"orientation\":\"v\",\"showlegend\":true,\"x\":[51366.7],\"xaxis\":\"x\",\"y\":[null],\"yaxis\":\"y\",\"type\":\"scatter\"},{\"hovertemplate\":\"Country=Korea, Rep.<br>P_Mean=%{x}<br>LE_Mean=%{y}<br>width=%{marker.size}<extra></extra>\",\"legendgroup\":\"Korea, Rep.\",\"marker\":{\"color\":\"#636efa\",\"size\":[0.5],\"sizemode\":\"area\",\"sizeref\":0.00125,\"symbol\":\"circle\"},\"mode\":\"markers\",\"name\":\"Korea, Rep.\",\"orientation\":\"v\",\"showlegend\":true,\"x\":[53122100.6],\"xaxis\":\"x\",\"y\":[82.26],\"yaxis\":\"y\",\"type\":\"scatter\"},{\"hovertemplate\":\"Country=Kuwait<br>P_Mean=%{x}<br>LE_Mean=%{y}<br>width=%{marker.size}<extra></extra>\",\"legendgroup\":\"Kuwait\",\"marker\":{\"color\":\"#EF553B\",\"size\":[0.5],\"sizemode\":\"area\",\"sizeref\":0.00125,\"symbol\":\"circle\"},\"mode\":\"markers\",\"name\":\"Kuwait\",\"orientation\":\"v\",\"showlegend\":true,\"x\":[2626432.9],\"xaxis\":\"x\",\"y\":[80.1842],\"yaxis\":\"y\",\"type\":\"scatter\"},{\"hovertemplate\":\"Country=Lao PDR<br>P_Mean=%{x}<br>LE_Mean=%{y}<br>width=%{marker.size}<extra></extra>\",\"legendgroup\":\"Lao PDR\",\"marker\":{\"color\":\"#00cc96\",\"size\":[0.5],\"sizemode\":\"area\",\"sizeref\":0.00125,\"symbol\":\"circle\"},\"mode\":\"markers\",\"name\":\"Lao PDR\",\"orientation\":\"v\",\"showlegend\":true,\"x\":[6345249.0],\"xaxis\":\"x\",\"y\":[65.7457],\"yaxis\":\"y\",\"type\":\"scatter\"},{\"hovertemplate\":\"Country=Lebanon<br>P_Mean=%{x}<br>LE_Mean=%{y}<br>width=%{marker.size}<extra></extra>\",\"legendgroup\":\"Lebanon\",\"marker\":{\"color\":\"#ab63fa\",\"size\":[0.5],\"sizemode\":\"area\",\"sizeref\":0.00125,\"symbol\":\"circle\"},\"mode\":\"markers\",\"name\":\"Lebanon\",\"orientation\":\"v\",\"showlegend\":true,\"x\":[4973043.6],\"xaxis\":\"x\",\"y\":[82.4225],\"yaxis\":\"y\",\"type\":\"scatter\"},{\"hovertemplate\":\"Country=Liberia<br>P_Mean=%{x}<br>LE_Mean=%{y}<br>width=%{marker.size}<extra></extra>\",\"legendgroup\":\"Liberia\",\"marker\":{\"color\":\"#FFA15A\",\"size\":[0.5],\"sizemode\":\"area\",\"sizeref\":0.00125,\"symbol\":\"circle\"},\"mode\":\"markers\",\"name\":\"Liberia\",\"orientation\":\"v\",\"showlegend\":true,\"x\":[3630239.6],\"xaxis\":\"x\",\"y\":[59.5832],\"yaxis\":\"y\",\"type\":\"scatter\"},{\"hovertemplate\":\"Country=Libya<br>P_Mean=%{x}<br>LE_Mean=%{y}<br>width=%{marker.size}<extra></extra>\",\"legendgroup\":\"Libya\",\"marker\":{\"color\":\"#19d3f3\",\"size\":[0.5],\"sizemode\":\"area\",\"sizeref\":0.00125,\"symbol\":\"circle\"},\"mode\":\"markers\",\"name\":\"Libya\",\"orientation\":\"v\",\"showlegend\":true,\"x\":[6371361.6],\"xaxis\":\"x\",\"y\":[76.68509999999999],\"yaxis\":\"y\",\"type\":\"scatter\"},{\"hovertemplate\":\"Country=St. Lucia<br>P_Mean=%{x}<br>LE_Mean=%{y}<br>width=%{marker.size}<extra></extra>\",\"legendgroup\":\"St. Lucia\",\"marker\":{\"color\":\"#FF6692\",\"size\":[0.5],\"sizemode\":\"area\",\"sizeref\":0.00125,\"symbol\":\"circle\"},\"mode\":\"markers\",\"name\":\"St. Lucia\",\"orientation\":\"v\",\"showlegend\":true,\"x\":[180942.0],\"xaxis\":\"x\",\"y\":[79.92499999999998],\"yaxis\":\"y\",\"type\":\"scatter\"},{\"hovertemplate\":\"Country=Liechtenstein<br>P_Mean=%{x}<br>LE_Mean=%{y}<br>width=%{marker.size}<extra></extra>\",\"legendgroup\":\"Liechtenstein\",\"marker\":{\"color\":\"#B6E880\",\"size\":[0.5],\"sizemode\":\"area\",\"sizeref\":0.00125,\"symbol\":\"circle\"},\"mode\":\"markers\",\"name\":\"Liechtenstein\",\"orientation\":\"v\",\"showlegend\":true,\"x\":[38132.6],\"xaxis\":\"x\",\"y\":[85.86999999999999],\"yaxis\":\"y\",\"type\":\"scatter\"},{\"hovertemplate\":\"Country=Sri Lanka<br>P_Mean=%{x}<br>LE_Mean=%{y}<br>width=%{marker.size}<extra></extra>\",\"legendgroup\":\"Sri Lanka\",\"marker\":{\"color\":\"#FF97FF\",\"size\":[0.5],\"sizemode\":\"area\",\"sizeref\":0.00125,\"symbol\":\"circle\"},\"mode\":\"markers\",\"name\":\"Sri Lanka\",\"orientation\":\"v\",\"showlegend\":true,\"x\":[21481523.7],\"xaxis\":\"x\",\"y\":[77.7337],\"yaxis\":\"y\",\"type\":\"scatter\"},{\"hovertemplate\":\"Country=Lesotho<br>P_Mean=%{x}<br>LE_Mean=%{y}<br>width=%{marker.size}<extra></extra>\",\"legendgroup\":\"Lesotho\",\"marker\":{\"color\":\"#FECB52\",\"size\":[0.5],\"sizemode\":\"area\",\"sizeref\":0.00125,\"symbol\":\"circle\"},\"mode\":\"markers\",\"name\":\"Lesotho\",\"orientation\":\"v\",\"showlegend\":true,\"x\":[2206849.7],\"xaxis\":\"x\",\"y\":[46.0472],\"yaxis\":\"y\",\"type\":\"scatter\"},{\"hovertemplate\":\"Country=Lithuania<br>P_Mean=%{x}<br>LE_Mean=%{y}<br>width=%{marker.size}<extra></extra>\",\"legendgroup\":\"Lithuania\",\"marker\":{\"color\":\"#636efa\",\"size\":[0.5],\"sizemode\":\"area\",\"sizeref\":0.00125,\"symbol\":\"circle\"},\"mode\":\"markers\",\"name\":\"Lithuania\",\"orientation\":\"v\",\"showlegend\":true,\"x\":[3648786.9],\"xaxis\":\"x\",\"y\":[72.92999999999999],\"yaxis\":\"y\",\"type\":\"scatter\"},{\"hovertemplate\":\"Country=Luxembourg<br>P_Mean=%{x}<br>LE_Mean=%{y}<br>width=%{marker.size}<extra></extra>\",\"legendgroup\":\"Luxembourg\",\"marker\":{\"color\":\"#EF553B\",\"size\":[0.5],\"sizemode\":\"area\",\"sizeref\":0.00125,\"symbol\":\"circle\"},\"mode\":\"markers\",\"name\":\"Luxembourg\",\"orientation\":\"v\",\"showlegend\":true,\"x\":[514489.9],\"xaxis\":\"x\",\"y\":[83.93],\"yaxis\":\"y\",\"type\":\"scatter\"},{\"hovertemplate\":\"Country=Latvia<br>P_Mean=%{x}<br>LE_Mean=%{y}<br>width=%{marker.size}<extra></extra>\",\"legendgroup\":\"Latvia\",\"marker\":{\"color\":\"#00cc96\",\"size\":[0.5],\"sizemode\":\"area\",\"sizeref\":0.00125,\"symbol\":\"circle\"},\"mode\":\"markers\",\"name\":\"Latvia\",\"orientation\":\"v\",\"showlegend\":true,\"x\":[2463999.7],\"xaxis\":\"x\",\"y\":[72.97],\"yaxis\":\"y\",\"type\":\"scatter\"},{\"hovertemplate\":\"Country=Morocco<br>P_Mean=%{x}<br>LE_Mean=%{y}<br>width=%{marker.size}<extra></extra>\",\"legendgroup\":\"Morocco\",\"marker\":{\"color\":\"#ab63fa\",\"size\":[0.5],\"sizemode\":\"area\",\"sizeref\":0.00125,\"symbol\":\"circle\"},\"mode\":\"markers\",\"name\":\"Morocco\",\"orientation\":\"v\",\"showlegend\":true,\"x\":[33550604.0],\"xaxis\":\"x\",\"y\":[77.2493],\"yaxis\":\"y\",\"type\":\"scatter\"},{\"hovertemplate\":\"Country=Monaco<br>P_Mean=%{x}<br>LE_Mean=%{y}<br>width=%{marker.size}<extra></extra>\",\"legendgroup\":\"Monaco\",\"marker\":{\"color\":\"#FFA15A\",\"size\":[0.5],\"sizemode\":\"area\",\"sizeref\":0.00125,\"symbol\":\"circle\"},\"mode\":\"markers\",\"name\":\"Monaco\",\"orientation\":\"v\",\"showlegend\":true,\"x\":[37231.6],\"xaxis\":\"x\",\"y\":[null],\"yaxis\":\"y\",\"type\":\"scatter\"},{\"hovertemplate\":\"Country=Moldova<br>P_Mean=%{x}<br>LE_Mean=%{y}<br>width=%{marker.size}<extra></extra>\",\"legendgroup\":\"Moldova\",\"marker\":{\"color\":\"#19d3f3\",\"size\":[0.5],\"sizemode\":\"area\",\"sizeref\":0.00125,\"symbol\":\"circle\"},\"mode\":\"markers\",\"name\":\"Moldova\",\"orientation\":\"v\",\"showlegend\":true,\"x\":[3178443.8],\"xaxis\":\"x\",\"y\":[70.4799],\"yaxis\":\"y\",\"type\":\"scatter\"},{\"hovertemplate\":\"Country=Madagascar<br>P_Mean=%{x}<br>LE_Mean=%{y}<br>width=%{marker.size}<extra></extra>\",\"legendgroup\":\"Madagascar\",\"marker\":{\"color\":\"#FF6692\",\"size\":[0.5],\"sizemode\":\"area\",\"sizeref\":0.00125,\"symbol\":\"circle\"},\"mode\":\"markers\",\"name\":\"Madagascar\",\"orientation\":\"v\",\"showlegend\":true,\"x\":[20224273.0],\"xaxis\":\"x\",\"y\":[65.76609999999998],\"yaxis\":\"y\",\"type\":\"scatter\"},{\"hovertemplate\":\"Country=Maldives<br>P_Mean=%{x}<br>LE_Mean=%{y}<br>width=%{marker.size}<extra></extra>\",\"legendgroup\":\"Maldives\",\"marker\":{\"color\":\"#B6E880\",\"size\":[0.5],\"sizemode\":\"area\",\"sizeref\":0.00125,\"symbol\":\"circle\"},\"mode\":\"markers\",\"name\":\"Maldives\",\"orientation\":\"v\",\"showlegend\":true,\"x\":[351867.0],\"xaxis\":\"x\",\"y\":[79.55279999999999],\"yaxis\":\"y\",\"type\":\"scatter\"},{\"hovertemplate\":\"Country=Mexico<br>P_Mean=%{x}<br>LE_Mean=%{y}<br>width=%{marker.size}<extra></extra>\",\"legendgroup\":\"Mexico\",\"marker\":{\"color\":\"#FF97FF\",\"size\":[0.5],\"sizemode\":\"area\",\"sizeref\":0.00125,\"symbol\":\"circle\"},\"mode\":\"markers\",\"name\":\"Mexico\",\"orientation\":\"v\",\"showlegend\":true,\"x\":[116858669.1],\"xaxis\":\"x\",\"y\":[79.5181],\"yaxis\":\"y\",\"type\":\"scatter\"},{\"hovertemplate\":\"Country=Marshall Islands<br>P_Mean=%{x}<br>LE_Mean=%{y}<br>width=%{marker.size}<extra></extra>\",\"legendgroup\":\"Marshall Islands\",\"marker\":{\"color\":\"#FECB52\",\"size\":[0.5],\"sizemode\":\"area\",\"sizeref\":0.00125,\"symbol\":\"circle\"},\"mode\":\"markers\",\"name\":\"Marshall Islands\",\"orientation\":\"v\",\"showlegend\":true,\"x\":[59832.4],\"xaxis\":\"x\",\"y\":[null],\"yaxis\":\"y\",\"type\":\"scatter\"},{\"hovertemplate\":\"Country=North Macedonia<br>P_Mean=%{x}<br>LE_Mean=%{y}<br>width=%{marker.size}<extra></extra>\",\"legendgroup\":\"North Macedonia\",\"marker\":{\"color\":\"#636efa\",\"size\":[0.5],\"sizemode\":\"area\",\"sizeref\":0.00125,\"symbol\":\"circle\"},\"mode\":\"markers\",\"name\":\"North Macedonia\",\"orientation\":\"v\",\"showlegend\":true,\"x\":[2263296.3],\"xaxis\":\"x\",\"y\":[78.88179999999998],\"yaxis\":\"y\",\"type\":\"scatter\"},{\"hovertemplate\":\"Country=Mali<br>P_Mean=%{x}<br>LE_Mean=%{y}<br>width=%{marker.size}<extra></extra>\",\"legendgroup\":\"Mali\",\"marker\":{\"color\":\"#EF553B\",\"size\":[0.5],\"sizemode\":\"area\",\"sizeref\":0.00125,\"symbol\":\"circle\"},\"mode\":\"markers\",\"name\":\"Mali\",\"orientation\":\"v\",\"showlegend\":true,\"x\":[14156141.0],\"xaxis\":\"x\",\"y\":[56.35719999999999],\"yaxis\":\"y\",\"type\":\"scatter\"},{\"hovertemplate\":\"Country=Malta<br>P_Mean=%{x}<br>LE_Mean=%{y}<br>width=%{marker.size}<extra></extra>\",\"legendgroup\":\"Malta\",\"marker\":{\"color\":\"#00cc96\",\"size\":[0.5],\"sizemode\":\"area\",\"sizeref\":0.00125,\"symbol\":\"circle\"},\"mode\":\"markers\",\"name\":\"Malta\",\"orientation\":\"v\",\"showlegend\":true,\"x\":[443116.4],\"xaxis\":\"x\",\"y\":[84.91],\"yaxis\":\"y\",\"type\":\"scatter\"},{\"hovertemplate\":\"Country=Myanmar<br>P_Mean=%{x}<br>LE_Mean=%{y}<br>width=%{marker.size}<extra></extra>\",\"legendgroup\":\"Myanmar\",\"marker\":{\"color\":\"#ab63fa\",\"size\":[0.5],\"sizemode\":\"area\",\"sizeref\":0.00125,\"symbol\":\"circle\"},\"mode\":\"markers\",\"name\":\"Myanmar\",\"orientation\":\"v\",\"showlegend\":true,\"x\":[53701367.0],\"xaxis\":\"x\",\"y\":[64.33739999999999],\"yaxis\":\"y\",\"type\":\"scatter\"},{\"hovertemplate\":\"Country=Montenegro<br>P_Mean=%{x}<br>LE_Mean=%{y}<br>width=%{marker.size}<extra></extra>\",\"legendgroup\":\"Montenegro\",\"marker\":{\"color\":\"#FFA15A\",\"size\":[0.5],\"sizemode\":\"area\",\"sizeref\":0.00125,\"symbol\":\"circle\"},\"mode\":\"markers\",\"name\":\"Montenegro\",\"orientation\":\"v\",\"showlegend\":true,\"x\":[674763.9],\"xaxis\":\"x\",\"y\":[78.4622],\"yaxis\":\"y\",\"type\":\"scatter\"},{\"hovertemplate\":\"Country=Mongolia<br>P_Mean=%{x}<br>LE_Mean=%{y}<br>width=%{marker.size}<extra></extra>\",\"legendgroup\":\"Mongolia\",\"marker\":{\"color\":\"#19d3f3\",\"size\":[0.5],\"sizemode\":\"area\",\"sizeref\":0.00125,\"symbol\":\"circle\"},\"mode\":\"markers\",\"name\":\"Mongolia\",\"orientation\":\"v\",\"showlegend\":true,\"x\":[2793012.8],\"xaxis\":\"x\",\"y\":[67.7915],\"yaxis\":\"y\",\"type\":\"scatter\"},{\"hovertemplate\":\"Country=Northern Mariana Islands<br>P_Mean=%{x}<br>LE_Mean=%{y}<br>width=%{marker.size}<extra></extra>\",\"legendgroup\":\"Northern Mariana Islands\",\"marker\":{\"color\":\"#FF6692\",\"size\":[0.5],\"sizemode\":\"area\",\"sizeref\":0.00125,\"symbol\":\"circle\"},\"mode\":\"markers\",\"name\":\"Northern Mariana Islands\",\"orientation\":\"v\",\"showlegend\":true,\"x\":[61981.2],\"xaxis\":\"x\",\"y\":[null],\"yaxis\":\"y\",\"type\":\"scatter\"},{\"hovertemplate\":\"Country=Mozambique<br>P_Mean=%{x}<br>LE_Mean=%{y}<br>width=%{marker.size}<extra></extra>\",\"legendgroup\":\"Mozambique\",\"marker\":{\"color\":\"#B6E880\",\"size\":[0.5],\"sizemode\":\"area\",\"sizeref\":0.00125,\"symbol\":\"circle\"},\"mode\":\"markers\",\"name\":\"Mozambique\",\"orientation\":\"v\",\"showlegend\":true,\"x\":[22588983.7],\"xaxis\":\"x\",\"y\":[53.0492],\"yaxis\":\"y\",\"type\":\"scatter\"},{\"hovertemplate\":\"Country=Mauritania<br>P_Mean=%{x}<br>LE_Mean=%{y}<br>width=%{marker.size}<extra></extra>\",\"legendgroup\":\"Mauritania\",\"marker\":{\"color\":\"#FF97FF\",\"size\":[0.5],\"sizemode\":\"area\",\"sizeref\":0.00125,\"symbol\":\"circle\"},\"mode\":\"markers\",\"name\":\"Mauritania\",\"orientation\":\"v\",\"showlegend\":true,\"x\":[3342957.8],\"xaxis\":\"x\",\"y\":[65.5635],\"yaxis\":\"y\",\"type\":\"scatter\"},{\"hovertemplate\":\"Country=Mauritius<br>P_Mean=%{x}<br>LE_Mean=%{y}<br>width=%{marker.size}<extra></extra>\",\"legendgroup\":\"Mauritius\",\"marker\":{\"color\":\"#FECB52\",\"size\":[0.5],\"sizemode\":\"area\",\"sizeref\":0.00125,\"symbol\":\"circle\"},\"mode\":\"markers\",\"name\":\"Mauritius\",\"orientation\":\"v\",\"showlegend\":true,\"x\":[1346598.4],\"xaxis\":\"x\",\"y\":[75.83800000000001],\"yaxis\":\"y\",\"type\":\"scatter\"},{\"hovertemplate\":\"Country=Malawi<br>P_Mean=%{x}<br>LE_Mean=%{y}<br>width=%{marker.size}<extra></extra>\",\"legendgroup\":\"Malawi\",\"marker\":{\"color\":\"#636efa\",\"size\":[0.5],\"sizemode\":\"area\",\"sizeref\":0.00125,\"symbol\":\"circle\"},\"mode\":\"markers\",\"name\":\"Malawi\",\"orientation\":\"v\",\"showlegend\":true,\"x\":[13993355.5],\"xaxis\":\"x\",\"y\":[51.1338],\"yaxis\":\"y\",\"type\":\"scatter\"},{\"hovertemplate\":\"Country=Malaysia<br>P_Mean=%{x}<br>LE_Mean=%{y}<br>width=%{marker.size}<extra></extra>\",\"legendgroup\":\"Malaysia\",\"marker\":{\"color\":\"#EF553B\",\"size\":[0.5],\"sizemode\":\"area\",\"sizeref\":0.00125,\"symbol\":\"circle\"},\"mode\":\"markers\",\"name\":\"Malaysia\",\"orientation\":\"v\",\"showlegend\":true,\"x\":[28279323.1],\"xaxis\":\"x\",\"y\":[78.6745],\"yaxis\":\"y\",\"type\":\"scatter\"},{\"hovertemplate\":\"Country=Namibia<br>P_Mean=%{x}<br>LE_Mean=%{y}<br>width=%{marker.size}<extra></extra>\",\"legendgroup\":\"Namibia\",\"marker\":{\"color\":\"#00cc96\",\"size\":[0.5],\"sizemode\":\"area\",\"sizeref\":0.00125,\"symbol\":\"circle\"},\"mode\":\"markers\",\"name\":\"Namibia\",\"orientation\":\"v\",\"showlegend\":true,\"x\":[2141606.7],\"xaxis\":\"x\",\"y\":[55.61409999999999],\"yaxis\":\"y\",\"type\":\"scatter\"},{\"hovertemplate\":\"Country=New Caledonia<br>P_Mean=%{x}<br>LE_Mean=%{y}<br>width=%{marker.size}<extra></extra>\",\"legendgroup\":\"New Caledonia\",\"marker\":{\"color\":\"#ab63fa\",\"size\":[0.5],\"sizemode\":\"area\",\"sizeref\":0.00125,\"symbol\":\"circle\"},\"mode\":\"markers\",\"name\":\"New Caledonia\",\"orientation\":\"v\",\"showlegend\":true,\"x\":[255179.0],\"xaxis\":\"x\",\"y\":[80.13000000000001],\"yaxis\":\"y\",\"type\":\"scatter\"},{\"hovertemplate\":\"Country=Niger<br>P_Mean=%{x}<br>LE_Mean=%{y}<br>width=%{marker.size}<extra></extra>\",\"legendgroup\":\"Niger\",\"marker\":{\"color\":\"#FFA15A\",\"size\":[0.5],\"sizemode\":\"area\",\"sizeref\":0.00125,\"symbol\":\"circle\"},\"mode\":\"markers\",\"name\":\"Niger\",\"orientation\":\"v\",\"showlegend\":true,\"x\":[15105872.6],\"xaxis\":\"x\",\"y\":[57.997],\"yaxis\":\"y\",\"type\":\"scatter\"},{\"hovertemplate\":\"Country=Nigeria<br>P_Mean=%{x}<br>LE_Mean=%{y}<br>width=%{marker.size}<extra></extra>\",\"legendgroup\":\"Nigeria\",\"marker\":{\"color\":\"#19d3f3\",\"size\":[0.5],\"sizemode\":\"area\",\"sizeref\":0.00125,\"symbol\":\"circle\"},\"mode\":\"markers\",\"name\":\"Nigeria\",\"orientation\":\"v\",\"showlegend\":true,\"x\":[153433608.6],\"xaxis\":\"x\",\"y\":[52.374200000000016],\"yaxis\":\"y\",\"type\":\"scatter\"},{\"hovertemplate\":\"Country=Nicaragua<br>P_Mean=%{x}<br>LE_Mean=%{y}<br>width=%{marker.size}<extra></extra>\",\"legendgroup\":\"Nicaragua\",\"marker\":{\"color\":\"#FF6692\",\"size\":[0.5],\"sizemode\":\"area\",\"sizeref\":0.00125,\"symbol\":\"circle\"},\"mode\":\"markers\",\"name\":\"Nicaragua\",\"orientation\":\"v\",\"showlegend\":true,\"x\":[5987059.3],\"xaxis\":\"x\",\"y\":[74.8029],\"yaxis\":\"y\",\"type\":\"scatter\"},{\"hovertemplate\":\"Country=Netherlands<br>P_Mean=%{x}<br>LE_Mean=%{y}<br>width=%{marker.size}<extra></extra>\",\"legendgroup\":\"Netherlands\",\"marker\":{\"color\":\"#B6E880\",\"size\":[0.5],\"sizemode\":\"area\",\"sizeref\":0.00125,\"symbol\":\"circle\"},\"mode\":\"markers\",\"name\":\"Netherlands\",\"orientation\":\"v\",\"showlegend\":true,\"x\":[17926674.3],\"xaxis\":\"x\",\"y\":[84.87999999999998],\"yaxis\":\"y\",\"type\":\"scatter\"},{\"hovertemplate\":\"Country=Norway<br>P_Mean=%{x}<br>LE_Mean=%{y}<br>width=%{marker.size}<extra></extra>\",\"legendgroup\":\"Norway\",\"marker\":{\"color\":\"#FF97FF\",\"size\":[0.5],\"sizemode\":\"area\",\"sizeref\":0.00125,\"symbol\":\"circle\"},\"mode\":\"markers\",\"name\":\"Norway\",\"orientation\":\"v\",\"showlegend\":true,\"x\":[5117895.3],\"xaxis\":\"x\",\"y\":[85.3],\"yaxis\":\"y\",\"type\":\"scatter\"},{\"hovertemplate\":\"Country=Nepal<br>P_Mean=%{x}<br>LE_Mean=%{y}<br>width=%{marker.size}<extra></extra>\",\"legendgroup\":\"Nepal\",\"marker\":{\"color\":\"#FECB52\",\"size\":[0.5],\"sizemode\":\"area\",\"sizeref\":0.00125,\"symbol\":\"circle\"},\"mode\":\"markers\",\"name\":\"Nepal\",\"orientation\":\"v\",\"showlegend\":true,\"x\":[28227114.6],\"xaxis\":\"x\",\"y\":[70.2778],\"yaxis\":\"y\",\"type\":\"scatter\"},{\"hovertemplate\":\"Country=Nauru<br>P_Mean=%{x}<br>LE_Mean=%{y}<br>width=%{marker.size}<extra></extra>\",\"legendgroup\":\"Nauru\",\"marker\":{\"color\":\"#636efa\",\"size\":[0.5],\"sizemode\":\"area\",\"sizeref\":0.00125,\"symbol\":\"circle\"},\"mode\":\"markers\",\"name\":\"Nauru\",\"orientation\":\"v\",\"showlegend\":true,\"x\":[10990.7],\"xaxis\":\"x\",\"y\":[null],\"yaxis\":\"y\",\"type\":\"scatter\"},{\"hovertemplate\":\"Country=New Zealand<br>P_Mean=%{x}<br>LE_Mean=%{y}<br>width=%{marker.size}<extra></extra>\",\"legendgroup\":\"New Zealand\",\"marker\":{\"color\":\"#EF553B\",\"size\":[0.5],\"sizemode\":\"area\",\"sizeref\":0.00125,\"symbol\":\"circle\"},\"mode\":\"markers\",\"name\":\"New Zealand\",\"orientation\":\"v\",\"showlegend\":true,\"x\":[4525680.0],\"xaxis\":\"x\",\"y\":[85.38],\"yaxis\":\"y\",\"type\":\"scatter\"},{\"hovertemplate\":\"Country=Oman<br>P_Mean=%{x}<br>LE_Mean=%{y}<br>width=%{marker.size}<extra></extra>\",\"legendgroup\":\"Oman\",\"marker\":{\"color\":\"#00cc96\",\"size\":[0.5],\"sizemode\":\"area\",\"sizeref\":0.00125,\"symbol\":\"circle\"},\"mode\":\"markers\",\"name\":\"Oman\",\"orientation\":\"v\",\"showlegend\":true,\"x\":[2814722.6],\"xaxis\":\"x\",\"y\":[79.47540000000001],\"yaxis\":\"y\",\"type\":\"scatter\"},{\"hovertemplate\":\"Country=Pakistan<br>P_Mean=%{x}<br>LE_Mean=%{y}<br>width=%{marker.size}<extra></extra>\",\"legendgroup\":\"Pakistan\",\"marker\":{\"color\":\"#ab63fa\",\"size\":[0.5],\"sizemode\":\"area\",\"sizeref\":0.00125,\"symbol\":\"circle\"},\"mode\":\"markers\",\"name\":\"Pakistan\",\"orientation\":\"v\",\"showlegend\":true,\"x\":[176636373.1],\"xaxis\":\"x\",\"y\":[69.46770000000001],\"yaxis\":\"y\",\"type\":\"scatter\"},{\"hovertemplate\":\"Country=Panama<br>P_Mean=%{x}<br>LE_Mean=%{y}<br>width=%{marker.size}<extra></extra>\",\"legendgroup\":\"Panama\",\"marker\":{\"color\":\"#FFA15A\",\"size\":[0.5],\"sizemode\":\"area\",\"sizeref\":0.00125,\"symbol\":\"circle\"},\"mode\":\"markers\",\"name\":\"Panama\",\"orientation\":\"v\",\"showlegend\":true,\"x\":[3666125.7],\"xaxis\":\"x\",\"y\":[80.61160000000001],\"yaxis\":\"y\",\"type\":\"scatter\"},{\"hovertemplate\":\"Country=Peru<br>P_Mean=%{x}<br>LE_Mean=%{y}<br>width=%{marker.size}<extra></extra>\",\"legendgroup\":\"Peru\",\"marker\":{\"color\":\"#19d3f3\",\"size\":[0.5],\"sizemode\":\"area\",\"sizeref\":0.00125,\"symbol\":\"circle\"},\"mode\":\"markers\",\"name\":\"Peru\",\"orientation\":\"v\",\"showlegend\":true,\"x\":[30604054.9],\"xaxis\":\"x\",\"y\":[77.54889999999999],\"yaxis\":\"y\",\"type\":\"scatter\"},{\"hovertemplate\":\"Country=Philippines<br>P_Mean=%{x}<br>LE_Mean=%{y}<br>width=%{marker.size}<extra></extra>\",\"legendgroup\":\"Philippines\",\"marker\":{\"color\":\"#FF6692\",\"size\":[0.5],\"sizemode\":\"area\",\"sizeref\":0.00125,\"symbol\":\"circle\"},\"mode\":\"markers\",\"name\":\"Philippines\",\"orientation\":\"v\",\"showlegend\":true,\"x\":[94769572.0],\"xaxis\":\"x\",\"y\":[72.2188],\"yaxis\":\"y\",\"type\":\"scatter\"},{\"hovertemplate\":\"Country=Palau<br>P_Mean=%{x}<br>LE_Mean=%{y}<br>width=%{marker.size}<extra></extra>\",\"legendgroup\":\"Palau\",\"marker\":{\"color\":\"#B6E880\",\"size\":[0.5],\"sizemode\":\"area\",\"sizeref\":0.00125,\"symbol\":\"circle\"},\"mode\":\"markers\",\"name\":\"Palau\",\"orientation\":\"v\",\"showlegend\":true,\"x\":[21124.9],\"xaxis\":\"x\",\"y\":[null],\"yaxis\":\"y\",\"type\":\"scatter\"},{\"hovertemplate\":\"Country=Papua New Guinea<br>P_Mean=%{x}<br>LE_Mean=%{y}<br>width=%{marker.size}<extra></extra>\",\"legendgroup\":\"Papua New Guinea\",\"marker\":{\"color\":\"#FF97FF\",\"size\":[0.5],\"sizemode\":\"area\",\"sizeref\":0.00125,\"symbol\":\"circle\"},\"mode\":\"markers\",\"name\":\"Papua New Guinea\",\"orientation\":\"v\",\"showlegend\":true,\"x\":[7188024.5],\"xaxis\":\"x\",\"y\":[65.196],\"yaxis\":\"y\",\"type\":\"scatter\"},{\"hovertemplate\":\"Country=Poland<br>P_Mean=%{x}<br>LE_Mean=%{y}<br>width=%{marker.size}<extra></extra>\",\"legendgroup\":\"Poland\",\"marker\":{\"color\":\"#FECB52\",\"size\":[0.5],\"sizemode\":\"area\",\"sizeref\":0.00125,\"symbol\":\"circle\"},\"mode\":\"markers\",\"name\":\"Poland\",\"orientation\":\"v\",\"showlegend\":true,\"x\":[41987128.9],\"xaxis\":\"x\",\"y\":[77.91],\"yaxis\":\"y\",\"type\":\"scatter\"},{\"hovertemplate\":\"Country=Puerto Rico<br>P_Mean=%{x}<br>LE_Mean=%{y}<br>width=%{marker.size}<extra></extra>\",\"legendgroup\":\"Puerto Rico\",\"marker\":{\"color\":\"#636efa\",\"size\":[0.5],\"sizemode\":\"area\",\"sizeref\":0.00125,\"symbol\":\"circle\"},\"mode\":\"markers\",\"name\":\"Puerto Rico\",\"orientation\":\"v\",\"showlegend\":true,\"x\":[4173842.5],\"xaxis\":\"x\",\"y\":[81.42540000000001],\"yaxis\":\"y\",\"type\":\"scatter\"},{\"hovertemplate\":\"Country=Korea, Dem. People's Rep.<br>P_Mean=%{x}<br>LE_Mean=%{y}<br>width=%{marker.size}<extra></extra>\",\"legendgroup\":\"Korea, Dem. People's Rep.\",\"marker\":{\"color\":\"#EF553B\",\"size\":[0.5],\"sizemode\":\"area\",\"sizeref\":0.00125,\"symbol\":\"circle\"},\"mode\":\"markers\",\"name\":\"Korea, Dem. People's Rep.\",\"orientation\":\"v\",\"showlegend\":true,\"x\":[26211137.3],\"xaxis\":\"x\",\"y\":[70.5618],\"yaxis\":\"y\",\"type\":\"scatter\"},{\"hovertemplate\":\"Country=Portugal<br>P_Mean=%{x}<br>LE_Mean=%{y}<br>width=%{marker.size}<extra></extra>\",\"legendgroup\":\"Portugal\",\"marker\":{\"color\":\"#00cc96\",\"size\":[0.5],\"sizemode\":\"area\",\"sizeref\":0.00125,\"symbol\":\"circle\"},\"mode\":\"markers\",\"name\":\"Portugal\",\"orientation\":\"v\",\"showlegend\":true,\"x\":[11528303.9],\"xaxis\":\"x\",\"y\":[82.12],\"yaxis\":\"y\",\"type\":\"scatter\"},{\"hovertemplate\":\"Country=Paraguay<br>P_Mean=%{x}<br>LE_Mean=%{y}<br>width=%{marker.size}<extra></extra>\",\"legendgroup\":\"Paraguay\",\"marker\":{\"color\":\"#ab63fa\",\"size\":[0.5],\"sizemode\":\"area\",\"sizeref\":0.00125,\"symbol\":\"circle\"},\"mode\":\"markers\",\"name\":\"Paraguay\",\"orientation\":\"v\",\"showlegend\":true,\"x\":[6387616.1],\"xaxis\":\"x\",\"y\":[76.65489999999998],\"yaxis\":\"y\",\"type\":\"scatter\"},{\"hovertemplate\":\"Country=French Polynesia<br>P_Mean=%{x}<br>LE_Mean=%{y}<br>width=%{marker.size}<extra></extra>\",\"legendgroup\":\"French Polynesia\",\"marker\":{\"color\":\"#FFA15A\",\"size\":[0.5],\"sizemode\":\"area\",\"sizeref\":0.00125,\"symbol\":\"circle\"},\"mode\":\"markers\",\"name\":\"French Polynesia\",\"orientation\":\"v\",\"showlegend\":true,\"x\":[282156.1],\"xaxis\":\"x\",\"y\":[78.8697],\"yaxis\":\"y\",\"type\":\"scatter\"},{\"hovertemplate\":\"Country=Qatar<br>P_Mean=%{x}<br>LE_Mean=%{y}<br>width=%{marker.size}<extra></extra>\",\"legendgroup\":\"Qatar\",\"marker\":{\"color\":\"#19d3f3\",\"size\":[0.5],\"sizemode\":\"area\",\"sizeref\":0.00125,\"symbol\":\"circle\"},\"mode\":\"markers\",\"name\":\"Qatar\",\"orientation\":\"v\",\"showlegend\":true,\"x\":[1133797.3],\"xaxis\":\"x\",\"y\":[84.9463],\"yaxis\":\"y\",\"type\":\"scatter\"},{\"hovertemplate\":\"Country=Romania<br>P_Mean=%{x}<br>LE_Mean=%{y}<br>width=%{marker.size}<extra></extra>\",\"legendgroup\":\"Romania\",\"marker\":{\"color\":\"#FF6692\",\"size\":[0.5],\"sizemode\":\"area\",\"sizeref\":0.00125,\"symbol\":\"circle\"},\"mode\":\"markers\",\"name\":\"Romania\",\"orientation\":\"v\",\"showlegend\":true,\"x\":[23388017.1],\"xaxis\":\"x\",\"y\":[75.34],\"yaxis\":\"y\",\"type\":\"scatter\"},{\"hovertemplate\":\"Country=Russian Federation<br>P_Mean=%{x}<br>LE_Mean=%{y}<br>width=%{marker.size}<extra></extra>\",\"legendgroup\":\"Russian Federation\",\"marker\":{\"color\":\"#B6E880\",\"size\":[0.5],\"sizemode\":\"area\",\"sizeref\":0.00125,\"symbol\":\"circle\"},\"mode\":\"markers\",\"name\":\"Russian Federation\",\"orientation\":\"v\",\"showlegend\":true,\"x\":[158434653.0],\"xaxis\":\"x\",\"y\":[66.276],\"yaxis\":\"y\",\"type\":\"scatter\"},{\"hovertemplate\":\"Country=Rwanda<br>P_Mean=%{x}<br>LE_Mean=%{y}<br>width=%{marker.size}<extra></extra>\",\"legendgroup\":\"Rwanda\",\"marker\":{\"color\":\"#FF97FF\",\"size\":[0.5],\"sizemode\":\"area\",\"sizeref\":0.00125,\"symbol\":\"circle\"},\"mode\":\"markers\",\"name\":\"Rwanda\",\"orientation\":\"v\",\"showlegend\":true,\"x\":[9833353.6],\"xaxis\":\"x\",\"y\":[59.8686],\"yaxis\":\"y\",\"type\":\"scatter\"},{\"hovertemplate\":\"Country=Saudi Arabia<br>P_Mean=%{x}<br>LE_Mean=%{y}<br>width=%{marker.size}<extra></extra>\",\"legendgroup\":\"Saudi Arabia\",\"marker\":{\"color\":\"#FECB52\",\"size\":[0.5],\"sizemode\":\"area\",\"sizeref\":0.00125,\"symbol\":\"circle\"},\"mode\":\"markers\",\"name\":\"Saudi Arabia\",\"orientation\":\"v\",\"showlegend\":true,\"x\":[26270052.2],\"xaxis\":\"x\",\"y\":[79.04710000000001],\"yaxis\":\"y\",\"type\":\"scatter\"},{\"hovertemplate\":\"Country=Sudan<br>P_Mean=%{x}<br>LE_Mean=%{y}<br>width=%{marker.size}<extra></extra>\",\"legendgroup\":\"Sudan\",\"marker\":{\"color\":\"#636efa\",\"size\":[0.5],\"sizemode\":\"area\",\"sizeref\":0.00125,\"symbol\":\"circle\"},\"mode\":\"markers\",\"name\":\"Sudan\",\"orientation\":\"v\",\"showlegend\":true,\"x\":[33998718.2],\"xaxis\":\"x\",\"y\":[64.59],\"yaxis\":\"y\",\"type\":\"scatter\"},{\"hovertemplate\":\"Country=Senegal<br>P_Mean=%{x}<br>LE_Mean=%{y}<br>width=%{marker.size}<extra></extra>\",\"legendgroup\":\"Senegal\",\"marker\":{\"color\":\"#EF553B\",\"size\":[0.5],\"sizemode\":\"area\",\"sizeref\":0.00125,\"symbol\":\"circle\"},\"mode\":\"markers\",\"name\":\"Senegal\",\"orientation\":\"v\",\"showlegend\":true,\"x\":[12264649.1],\"xaxis\":\"x\",\"y\":[65.13570000000001],\"yaxis\":\"y\",\"type\":\"scatter\"},{\"hovertemplate\":\"Country=Singapore<br>P_Mean=%{x}<br>LE_Mean=%{y}<br>width=%{marker.size}<extra></extra>\",\"legendgroup\":\"Singapore\",\"marker\":{\"color\":\"#00cc96\",\"size\":[0.5],\"sizemode\":\"area\",\"sizeref\":0.00125,\"symbol\":\"circle\"},\"mode\":\"markers\",\"name\":\"Singapore\",\"orientation\":\"v\",\"showlegend\":true,\"x\":[4878276.6],\"xaxis\":\"x\",\"y\":[85.26],\"yaxis\":\"y\",\"type\":\"scatter\"},{\"hovertemplate\":\"Country=Solomon Islands<br>P_Mean=%{x}<br>LE_Mean=%{y}<br>width=%{marker.size}<extra></extra>\",\"legendgroup\":\"Solomon Islands\",\"marker\":{\"color\":\"#ab63fa\",\"size\":[0.5],\"sizemode\":\"area\",\"sizeref\":0.00125,\"symbol\":\"circle\"},\"mode\":\"markers\",\"name\":\"Solomon Islands\",\"orientation\":\"v\",\"showlegend\":true,\"x\":[516715.9],\"xaxis\":\"x\",\"y\":[74.4451],\"yaxis\":\"y\",\"type\":\"scatter\"},{\"hovertemplate\":\"Country=Sierra Leone<br>P_Mean=%{x}<br>LE_Mean=%{y}<br>width=%{marker.size}<extra></extra>\",\"legendgroup\":\"Sierra Leone\",\"marker\":{\"color\":\"#FFA15A\",\"size\":[0.5],\"sizemode\":\"area\",\"sizeref\":0.00125,\"symbol\":\"circle\"},\"mode\":\"markers\",\"name\":\"Sierra Leone\",\"orientation\":\"v\",\"showlegend\":true,\"x\":[6122595.8],\"xaxis\":\"x\",\"y\":[48.0666],\"yaxis\":\"y\",\"type\":\"scatter\"},{\"hovertemplate\":\"Country=El Salvador<br>P_Mean=%{x}<br>LE_Mean=%{y}<br>width=%{marker.size}<extra></extra>\",\"legendgroup\":\"El Salvador\",\"marker\":{\"color\":\"#19d3f3\",\"size\":[0.5],\"sizemode\":\"area\",\"sizeref\":0.00125,\"symbol\":\"circle\"},\"mode\":\"markers\",\"name\":\"El Salvador\",\"orientation\":\"v\",\"showlegend\":true,\"x\":[6650559.7],\"xaxis\":\"x\",\"y\":[72.0051],\"yaxis\":\"y\",\"type\":\"scatter\"},{\"hovertemplate\":\"Country=San Marino<br>P_Mean=%{x}<br>LE_Mean=%{y}<br>width=%{marker.size}<extra></extra>\",\"legendgroup\":\"San Marino\",\"marker\":{\"color\":\"#FF6692\",\"size\":[0.5],\"sizemode\":\"area\",\"sizeref\":0.00125,\"symbol\":\"circle\"},\"mode\":\"markers\",\"name\":\"San Marino\",\"orientation\":\"v\",\"showlegend\":true,\"x\":[32252.2],\"xaxis\":\"x\",\"y\":[null],\"yaxis\":\"y\",\"type\":\"scatter\"},{\"hovertemplate\":\"Country=Somalia<br>P_Mean=%{x}<br>LE_Mean=%{y}<br>width=%{marker.size}<extra></extra>\",\"legendgroup\":\"Somalia\",\"marker\":{\"color\":\"#B6E880\",\"size\":[0.5],\"sizemode\":\"area\",\"sizeref\":0.00125,\"symbol\":\"circle\"},\"mode\":\"markers\",\"name\":\"Somalia\",\"orientation\":\"v\",\"showlegend\":true,\"x\":[11495561.4],\"xaxis\":\"x\",\"y\":[55.959399999999995],\"yaxis\":\"y\",\"type\":\"scatter\"},{\"hovertemplate\":\"Country=Serbia<br>P_Mean=%{x}<br>LE_Mean=%{y}<br>width=%{marker.size}<extra></extra>\",\"legendgroup\":\"Serbia\",\"marker\":{\"color\":\"#FF97FF\",\"size\":[0.5],\"sizemode\":\"area\",\"sizeref\":0.00125,\"symbol\":\"circle\"},\"mode\":\"markers\",\"name\":\"Serbia\",\"orientation\":\"v\",\"showlegend\":true,\"x\":[8165643.1],\"xaxis\":\"x\",\"y\":[77.44999999999999],\"yaxis\":\"y\",\"type\":\"scatter\"},{\"hovertemplate\":\"Country=Sao Tome and Principe<br>P_Mean=%{x}<br>LE_Mean=%{y}<br>width=%{marker.size}<extra></extra>\",\"legendgroup\":\"Sao Tome and Principe\",\"marker\":{\"color\":\"#FECB52\",\"size\":[0.5],\"sizemode\":\"area\",\"sizeref\":0.00125,\"symbol\":\"circle\"},\"mode\":\"markers\",\"name\":\"Sao Tome and Principe\",\"orientation\":\"v\",\"showlegend\":true,\"x\":[175143.1],\"xaxis\":\"x\",\"y\":[68.65990000000001],\"yaxis\":\"y\",\"type\":\"scatter\"},{\"hovertemplate\":\"Country=Suriname<br>P_Mean=%{x}<br>LE_Mean=%{y}<br>width=%{marker.size}<extra></extra>\",\"legendgroup\":\"Suriname\",\"marker\":{\"color\":\"#636efa\",\"size\":[0.5],\"sizemode\":\"area\",\"sizeref\":0.00125,\"symbol\":\"circle\"},\"mode\":\"markers\",\"name\":\"Suriname\",\"orientation\":\"v\",\"showlegend\":true,\"x\":[549665.9],\"xaxis\":\"x\",\"y\":[72.4042],\"yaxis\":\"y\",\"type\":\"scatter\"},{\"hovertemplate\":\"Country=Slovak Republic<br>P_Mean=%{x}<br>LE_Mean=%{y}<br>width=%{marker.size}<extra></extra>\",\"legendgroup\":\"Slovak Republic\",\"marker\":{\"color\":\"#EF553B\",\"size\":[0.5],\"sizemode\":\"area\",\"sizeref\":0.00125,\"symbol\":\"circle\"},\"mode\":\"markers\",\"name\":\"Slovak Republic\",\"orientation\":\"v\",\"showlegend\":true,\"x\":[5916770.3],\"xaxis\":\"x\",\"y\":[77.33],\"yaxis\":\"y\",\"type\":\"scatter\"},{\"hovertemplate\":\"Country=Slovenia<br>P_Mean=%{x}<br>LE_Mean=%{y}<br>width=%{marker.size}<extra></extra>\",\"legendgroup\":\"Slovenia\",\"marker\":{\"color\":\"#00cc96\",\"size\":[0.5],\"sizemode\":\"area\",\"sizeref\":0.00125,\"symbol\":\"circle\"},\"mode\":\"markers\",\"name\":\"Slovenia\",\"orientation\":\"v\",\"showlegend\":true,\"x\":[2210329.2],\"xaxis\":\"x\",\"y\":[81.41499999999999],\"yaxis\":\"y\",\"type\":\"scatter\"},{\"hovertemplate\":\"Country=Sweden<br>P_Mean=%{x}<br>LE_Mean=%{y}<br>width=%{marker.size}<extra></extra>\",\"legendgroup\":\"Sweden\",\"marker\":{\"color\":\"#ab63fa\",\"size\":[0.5],\"sizemode\":\"area\",\"sizeref\":0.00125,\"symbol\":\"circle\"},\"mode\":\"markers\",\"name\":\"Sweden\",\"orientation\":\"v\",\"showlegend\":true,\"x\":[9979923.4],\"xaxis\":\"x\",\"y\":[86.3],\"yaxis\":\"y\",\"type\":\"scatter\"},{\"hovertemplate\":\"Country=Eswatini<br>P_Mean=%{x}<br>LE_Mean=%{y}<br>width=%{marker.size}<extra></extra>\",\"legendgroup\":\"Eswatini\",\"marker\":{\"color\":\"#FFA15A\",\"size\":[0.5],\"sizemode\":\"area\",\"sizeref\":0.00125,\"symbol\":\"circle\"},\"mode\":\"markers\",\"name\":\"Eswatini\",\"orientation\":\"v\",\"showlegend\":true,\"x\":[1136874.9],\"xaxis\":\"x\",\"y\":[46.439800000000005],\"yaxis\":\"y\",\"type\":\"scatter\"},{\"hovertemplate\":\"Country=Seychelles<br>P_Mean=%{x}<br>LE_Mean=%{y}<br>width=%{marker.size}<extra></extra>\",\"legendgroup\":\"Seychelles\",\"marker\":{\"color\":\"#19d3f3\",\"size\":[0.5],\"sizemode\":\"area\",\"sizeref\":0.00125,\"symbol\":\"circle\"},\"mode\":\"markers\",\"name\":\"Seychelles\",\"orientation\":\"v\",\"showlegend\":true,\"x\":[92782.7],\"xaxis\":\"x\",\"y\":[74.76],\"yaxis\":\"y\",\"type\":\"scatter\"},{\"hovertemplate\":\"Country=Syrian Arab Republic<br>P_Mean=%{x}<br>LE_Mean=%{y}<br>width=%{marker.size}<extra></extra>\",\"legendgroup\":\"Syrian Arab Republic\",\"marker\":{\"color\":\"#FF6692\",\"size\":[0.5],\"sizemode\":\"area\",\"sizeref\":0.00125,\"symbol\":\"circle\"},\"mode\":\"markers\",\"name\":\"Syrian Arab Republic\",\"orientation\":\"v\",\"showlegend\":true,\"x\":[20603621.4],\"xaxis\":\"x\",\"y\":[78.2287],\"yaxis\":\"y\",\"type\":\"scatter\"},{\"hovertemplate\":\"Country=Turks and Caicos Islands<br>P_Mean=%{x}<br>LE_Mean=%{y}<br>width=%{marker.size}<extra></extra>\",\"legendgroup\":\"Turks and Caicos Islands\",\"marker\":{\"color\":\"#B6E880\",\"size\":[0.5],\"sizemode\":\"area\",\"sizeref\":0.00125,\"symbol\":\"circle\"},\"mode\":\"markers\",\"name\":\"Turks and Caicos Islands\",\"orientation\":\"v\",\"showlegend\":true,\"x\":[30044.5],\"xaxis\":\"x\",\"y\":[null],\"yaxis\":\"y\",\"type\":\"scatter\"},{\"hovertemplate\":\"Country=Chad<br>P_Mean=%{x}<br>LE_Mean=%{y}<br>width=%{marker.size}<extra></extra>\",\"legendgroup\":\"Chad\",\"marker\":{\"color\":\"#FF97FF\",\"size\":[0.5],\"sizemode\":\"area\",\"sizeref\":0.00125,\"symbol\":\"circle\"},\"mode\":\"markers\",\"name\":\"Chad\",\"orientation\":\"v\",\"showlegend\":true,\"x\":[11122925.1],\"xaxis\":\"x\",\"y\":[52.4393],\"yaxis\":\"y\",\"type\":\"scatter\"},{\"hovertemplate\":\"Country=Togo<br>P_Mean=%{x}<br>LE_Mean=%{y}<br>width=%{marker.size}<extra></extra>\",\"legendgroup\":\"Togo\",\"marker\":{\"color\":\"#FECB52\",\"size\":[0.5],\"sizemode\":\"area\",\"sizeref\":0.00125,\"symbol\":\"circle\"},\"mode\":\"markers\",\"name\":\"Togo\",\"orientation\":\"v\",\"showlegend\":true,\"x\":[6203323.1],\"xaxis\":\"x\",\"y\":[59.6339],\"yaxis\":\"y\",\"type\":\"scatter\"},{\"hovertemplate\":\"Country=Thailand<br>P_Mean=%{x}<br>LE_Mean=%{y}<br>width=%{marker.size}<extra></extra>\",\"legendgroup\":\"Thailand\",\"marker\":{\"color\":\"#636efa\",\"size\":[0.5],\"sizemode\":\"area\",\"sizeref\":0.00125,\"symbol\":\"circle\"},\"mode\":\"markers\",\"name\":\"Thailand\",\"orientation\":\"v\",\"showlegend\":true,\"x\":[71810973.1],\"xaxis\":\"x\",\"y\":[75.6351],\"yaxis\":\"y\",\"type\":\"scatter\"},{\"hovertemplate\":\"Country=Tajikistan<br>P_Mean=%{x}<br>LE_Mean=%{y}<br>width=%{marker.size}<extra></extra>\",\"legendgroup\":\"Tajikistan\",\"marker\":{\"color\":\"#EF553B\",\"size\":[0.5],\"sizemode\":\"area\",\"sizeref\":0.00125,\"symbol\":\"circle\"},\"mode\":\"markers\",\"name\":\"Tajikistan\",\"orientation\":\"v\",\"showlegend\":true,\"x\":[7504228.9],\"xaxis\":\"x\",\"y\":[70.1314],\"yaxis\":\"y\",\"type\":\"scatter\"},{\"hovertemplate\":\"Country=Turkmenistan<br>P_Mean=%{x}<br>LE_Mean=%{y}<br>width=%{marker.size}<extra></extra>\",\"legendgroup\":\"Turkmenistan\",\"marker\":{\"color\":\"#00cc96\",\"size\":[0.5],\"sizemode\":\"area\",\"sizeref\":0.00125,\"symbol\":\"circle\"},\"mode\":\"markers\",\"name\":\"Turkmenistan\",\"orientation\":\"v\",\"showlegend\":true,\"x\":[5251521.8],\"xaxis\":\"x\",\"y\":[67.44539999999999],\"yaxis\":\"y\",\"type\":\"scatter\"},{\"hovertemplate\":\"Country=Tonga<br>P_Mean=%{x}<br>LE_Mean=%{y}<br>width=%{marker.size}<extra></extra>\",\"legendgroup\":\"Tonga\",\"marker\":{\"color\":\"#ab63fa\",\"size\":[0.5],\"sizemode\":\"area\",\"sizeref\":0.00125,\"symbol\":\"circle\"},\"mode\":\"markers\",\"name\":\"Tonga\",\"orientation\":\"v\",\"showlegend\":true,\"x\":[111173.3],\"xaxis\":\"x\",\"y\":[75.13970000000002],\"yaxis\":\"y\",\"type\":\"scatter\"},{\"hovertemplate\":\"Country=Trinidad and Tobago<br>P_Mean=%{x}<br>LE_Mean=%{y}<br>width=%{marker.size}<extra></extra>\",\"legendgroup\":\"Trinidad and Tobago\",\"marker\":{\"color\":\"#FFA15A\",\"size\":[0.5],\"sizemode\":\"area\",\"sizeref\":0.00125,\"symbol\":\"circle\"},\"mode\":\"markers\",\"name\":\"Trinidad and Tobago\",\"orientation\":\"v\",\"showlegend\":true,\"x\":[1426068.8],\"xaxis\":\"x\",\"y\":[74.96279999999999],\"yaxis\":\"y\",\"type\":\"scatter\"},{\"hovertemplate\":\"Country=Tunisia<br>P_Mean=%{x}<br>LE_Mean=%{y}<br>width=%{marker.size}<extra></extra>\",\"legendgroup\":\"Tunisia\",\"marker\":{\"color\":\"#19d3f3\",\"size\":[0.5],\"sizemode\":\"area\",\"sizeref\":0.00125,\"symbol\":\"circle\"},\"mode\":\"markers\",\"name\":\"Tunisia\",\"orientation\":\"v\",\"showlegend\":true,\"x\":[11152916.2],\"xaxis\":\"x\",\"y\":[79.0629],\"yaxis\":\"y\",\"type\":\"scatter\"},{\"hovertemplate\":\"Country=Turkey<br>P_Mean=%{x}<br>LE_Mean=%{y}<br>width=%{marker.size}<extra></extra>\",\"legendgroup\":\"Turkey\",\"marker\":{\"color\":\"#FF6692\",\"size\":[0.5],\"sizemode\":\"area\",\"sizeref\":0.00125,\"symbol\":\"circle\"},\"mode\":\"markers\",\"name\":\"Turkey\",\"orientation\":\"v\",\"showlegend\":true,\"x\":[74598726.2],\"xaxis\":\"x\",\"y\":[75.8095],\"yaxis\":\"y\",\"type\":\"scatter\"},{\"hovertemplate\":\"Country=Tuvalu<br>P_Mean=%{x}<br>LE_Mean=%{y}<br>width=%{marker.size}<extra></extra>\",\"legendgroup\":\"Tuvalu\",\"marker\":{\"color\":\"#B6E880\",\"size\":[0.5],\"sizemode\":\"area\",\"sizeref\":0.00125,\"symbol\":\"circle\"},\"mode\":\"markers\",\"name\":\"Tuvalu\",\"orientation\":\"v\",\"showlegend\":true,\"x\":[10964.1],\"xaxis\":\"x\",\"y\":[null],\"yaxis\":\"y\",\"type\":\"scatter\"},{\"hovertemplate\":\"Country=Tanzania<br>P_Mean=%{x}<br>LE_Mean=%{y}<br>width=%{marker.size}<extra></extra>\",\"legendgroup\":\"Tanzania\",\"marker\":{\"color\":\"#FF97FF\",\"size\":[0.5],\"sizemode\":\"area\",\"sizeref\":0.00125,\"symbol\":\"circle\"},\"mode\":\"markers\",\"name\":\"Tanzania\",\"orientation\":\"v\",\"showlegend\":true,\"x\":[42489207.1],\"xaxis\":\"x\",\"y\":[58.0865],\"yaxis\":\"y\",\"type\":\"scatter\"},{\"hovertemplate\":\"Country=Uganda<br>P_Mean=%{x}<br>LE_Mean=%{y}<br>width=%{marker.size}<extra></extra>\",\"legendgroup\":\"Uganda\",\"marker\":{\"color\":\"#FECB52\",\"size\":[0.5],\"sizemode\":\"area\",\"sizeref\":0.00125,\"symbol\":\"circle\"},\"mode\":\"markers\",\"name\":\"Uganda\",\"orientation\":\"v\",\"showlegend\":true,\"x\":[30602163.5],\"xaxis\":\"x\",\"y\":[54.3263],\"yaxis\":\"y\",\"type\":\"scatter\"},{\"hovertemplate\":\"Country=Ukraine<br>P_Mean=%{x}<br>LE_Mean=%{y}<br>width=%{marker.size}<extra></extra>\",\"legendgroup\":\"Ukraine\",\"marker\":{\"color\":\"#636efa\",\"size\":[0.5],\"sizemode\":\"area\",\"sizeref\":0.00125,\"symbol\":\"circle\"},\"mode\":\"markers\",\"name\":\"Ukraine\",\"orientation\":\"v\",\"showlegend\":true,\"x\":[51989051.8],\"xaxis\":\"x\",\"y\":[69.106],\"yaxis\":\"y\",\"type\":\"scatter\"},{\"hovertemplate\":\"Country=Uruguay<br>P_Mean=%{x}<br>LE_Mean=%{y}<br>width=%{marker.size}<extra></extra>\",\"legendgroup\":\"Uruguay\",\"marker\":{\"color\":\"#EF553B\",\"size\":[0.5],\"sizemode\":\"area\",\"sizeref\":0.00125,\"symbol\":\"circle\"},\"mode\":\"markers\",\"name\":\"Uruguay\",\"orientation\":\"v\",\"showlegend\":true,\"x\":[3664452.3],\"xaxis\":\"x\",\"y\":[79.2094],\"yaxis\":\"y\",\"type\":\"scatter\"},{\"hovertemplate\":\"Country=United States<br>P_Mean=%{x}<br>LE_Mean=%{y}<br>width=%{marker.size}<extra></extra>\",\"legendgroup\":\"United States\",\"marker\":{\"color\":\"#00cc96\",\"size\":[0.5],\"sizemode\":\"area\",\"sizeref\":0.00125,\"symbol\":\"circle\"},\"mode\":\"markers\",\"name\":\"United States\",\"orientation\":\"v\",\"showlegend\":true,\"x\":[325299014.6],\"xaxis\":\"x\",\"y\":[82.58000000000001],\"yaxis\":\"y\",\"type\":\"scatter\"},{\"hovertemplate\":\"Country=Uzbekistan<br>P_Mean=%{x}<br>LE_Mean=%{y}<br>width=%{marker.size}<extra></extra>\",\"legendgroup\":\"Uzbekistan\",\"marker\":{\"color\":\"#ab63fa\",\"size\":[0.5],\"sizemode\":\"area\",\"sizeref\":0.00125,\"symbol\":\"circle\"},\"mode\":\"markers\",\"name\":\"Uzbekistan\",\"orientation\":\"v\",\"showlegend\":true,\"x\":[28947455.0],\"xaxis\":\"x\",\"y\":[71.86540000000001],\"yaxis\":\"y\",\"type\":\"scatter\"},{\"hovertemplate\":\"Country=St. Vincent and the Grenadines<br>P_Mean=%{x}<br>LE_Mean=%{y}<br>width=%{marker.size}<extra></extra>\",\"legendgroup\":\"St. Vincent and the Grenadines\",\"marker\":{\"color\":\"#FFA15A\",\"size\":[0.5],\"sizemode\":\"area\",\"sizeref\":0.00125,\"symbol\":\"circle\"},\"mode\":\"markers\",\"name\":\"St. Vincent and the Grenadines\",\"orientation\":\"v\",\"showlegend\":true,\"x\":[119130.6],\"xaxis\":\"x\",\"y\":[75.99910000000001],\"yaxis\":\"y\",\"type\":\"scatter\"},{\"hovertemplate\":\"Country=Venezuela, RB<br>P_Mean=%{x}<br>LE_Mean=%{y}<br>width=%{marker.size}<extra></extra>\",\"legendgroup\":\"Venezuela, RB\",\"marker\":{\"color\":\"#19d3f3\",\"size\":[0.5],\"sizemode\":\"area\",\"sizeref\":0.00125,\"symbol\":\"circle\"},\"mode\":\"markers\",\"name\":\"Venezuela, RB\",\"orientation\":\"v\",\"showlegend\":true,\"x\":[29012456.0],\"xaxis\":\"x\",\"y\":[75.95599999999999],\"yaxis\":\"y\",\"type\":\"scatter\"},{\"hovertemplate\":\"Country=British Virgin Islands<br>P_Mean=%{x}<br>LE_Mean=%{y}<br>width=%{marker.size}<extra></extra>\",\"legendgroup\":\"British Virgin Islands\",\"marker\":{\"color\":\"#FF6692\",\"size\":[0.5],\"sizemode\":\"area\",\"sizeref\":0.00125,\"symbol\":\"circle\"},\"mode\":\"markers\",\"name\":\"British Virgin Islands\",\"orientation\":\"v\",\"showlegend\":true,\"x\":[25922.4],\"xaxis\":\"x\",\"y\":[null],\"yaxis\":\"y\",\"type\":\"scatter\"},{\"hovertemplate\":\"Country=Virgin Islands (U.S.)<br>P_Mean=%{x}<br>LE_Mean=%{y}<br>width=%{marker.size}<extra></extra>\",\"legendgroup\":\"Virgin Islands (U.S.)\",\"marker\":{\"color\":\"#B6E880\",\"size\":[0.5],\"sizemode\":\"area\",\"sizeref\":0.00125,\"symbol\":\"circle\"},\"mode\":\"markers\",\"name\":\"Virgin Islands (U.S.)\",\"orientation\":\"v\",\"showlegend\":true,\"x\":[119298.8],\"xaxis\":\"x\",\"y\":[81.67],\"yaxis\":\"y\",\"type\":\"scatter\"},{\"hovertemplate\":\"Country=Vietnam<br>P_Mean=%{x}<br>LE_Mean=%{y}<br>width=%{marker.size}<extra></extra>\",\"legendgroup\":\"Vietnam\",\"marker\":{\"color\":\"#FF97FF\",\"size\":[0.5],\"sizemode\":\"area\",\"sizeref\":0.00125,\"symbol\":\"circle\"},\"mode\":\"markers\",\"name\":\"Vietnam\",\"orientation\":\"v\",\"showlegend\":true,\"x\":[92272491.0],\"xaxis\":\"x\",\"y\":[76.6129],\"yaxis\":\"y\",\"type\":\"scatter\"},{\"hovertemplate\":\"Country=Vanuatu<br>P_Mean=%{x}<br>LE_Mean=%{y}<br>width=%{marker.size}<extra></extra>\",\"legendgroup\":\"Vanuatu\",\"marker\":{\"color\":\"#FECB52\",\"size\":[0.5],\"sizemode\":\"area\",\"sizeref\":0.00125,\"symbol\":\"circle\"},\"mode\":\"markers\",\"name\":\"Vanuatu\",\"orientation\":\"v\",\"showlegend\":true,\"x\":[230546.8],\"xaxis\":\"x\",\"y\":[73.6779],\"yaxis\":\"y\",\"type\":\"scatter\"},{\"hovertemplate\":\"Country=Samoa<br>P_Mean=%{x}<br>LE_Mean=%{y}<br>width=%{marker.size}<extra></extra>\",\"legendgroup\":\"Samoa\",\"marker\":{\"color\":\"#636efa\",\"size\":[0.5],\"sizemode\":\"area\",\"sizeref\":0.00125,\"symbol\":\"circle\"},\"mode\":\"markers\",\"name\":\"Samoa\",\"orientation\":\"v\",\"showlegend\":true,\"x\":[197874.4],\"xaxis\":\"x\",\"y\":[74.82509999999999],\"yaxis\":\"y\",\"type\":\"scatter\"},{\"hovertemplate\":\"Country=Kosovo<br>P_Mean=%{x}<br>LE_Mean=%{y}<br>width=%{marker.size}<extra></extra>\",\"legendgroup\":\"Kosovo\",\"marker\":{\"color\":\"#EF553B\",\"size\":[0.5],\"sizemode\":\"area\",\"sizeref\":0.00125,\"symbol\":\"circle\"},\"mode\":\"markers\",\"name\":\"Kosovo\",\"orientation\":\"v\",\"showlegend\":true,\"x\":[1895480.9],\"xaxis\":\"x\",\"y\":[73.25],\"yaxis\":\"y\",\"type\":\"scatter\"},{\"hovertemplate\":\"Country=Yemen, Rep.<br>P_Mean=%{x}<br>LE_Mean=%{y}<br>width=%{marker.size}<extra></extra>\",\"legendgroup\":\"Yemen, Rep.\",\"marker\":{\"color\":\"#00cc96\",\"size\":[0.5],\"sizemode\":\"area\",\"sizeref\":0.00125,\"symbol\":\"circle\"},\"mode\":\"markers\",\"name\":\"Yemen, Rep.\",\"orientation\":\"v\",\"showlegend\":true,\"x\":[22193726.6],\"xaxis\":\"x\",\"y\":[67.9688],\"yaxis\":\"y\",\"type\":\"scatter\"},{\"hovertemplate\":\"Country=South Africa<br>P_Mean=%{x}<br>LE_Mean=%{y}<br>width=%{marker.size}<extra></extra>\",\"legendgroup\":\"South Africa\",\"marker\":{\"color\":\"#ab63fa\",\"size\":[0.5],\"sizemode\":\"area\",\"sizeref\":0.00125,\"symbol\":\"circle\"},\"mode\":\"markers\",\"name\":\"South Africa\",\"orientation\":\"v\",\"showlegend\":true,\"x\":[52766398.8],\"xaxis\":\"x\",\"y\":[57.5711],\"yaxis\":\"y\",\"type\":\"scatter\"},{\"hovertemplate\":\"Country=Zambia<br>P_Mean=%{x}<br>LE_Mean=%{y}<br>width=%{marker.size}<extra></extra>\",\"legendgroup\":\"Zambia\",\"marker\":{\"color\":\"#FFA15A\",\"size\":[0.5],\"sizemode\":\"area\",\"sizeref\":0.00125,\"symbol\":\"circle\"},\"mode\":\"markers\",\"name\":\"Zambia\",\"orientation\":\"v\",\"showlegend\":true,\"x\":[13108960.3],\"xaxis\":\"x\",\"y\":[51.62579999999999],\"yaxis\":\"y\",\"type\":\"scatter\"},{\"hovertemplate\":\"Country=Zimbabwe<br>P_Mean=%{x}<br>LE_Mean=%{y}<br>width=%{marker.size}<extra></extra>\",\"legendgroup\":\"Zimbabwe\",\"marker\":{\"color\":\"#19d3f3\",\"size\":[0.5],\"sizemode\":\"area\",\"sizeref\":0.00125,\"symbol\":\"circle\"},\"mode\":\"markers\",\"name\":\"Zimbabwe\",\"orientation\":\"v\",\"showlegend\":true,\"x\":[13385416.9],\"xaxis\":\"x\",\"y\":[47.665800000000004],\"yaxis\":\"y\",\"type\":\"scatter\"}],                        {\"template\":{\"data\":{\"bar\":[{\"error_x\":{\"color\":\"#2a3f5f\"},\"error_y\":{\"color\":\"#2a3f5f\"},\"marker\":{\"line\":{\"color\":\"#E5ECF6\",\"width\":0.5},\"pattern\":{\"fillmode\":\"overlay\",\"size\":10,\"solidity\":0.2}},\"type\":\"bar\"}],\"barpolar\":[{\"marker\":{\"line\":{\"color\":\"#E5ECF6\",\"width\":0.5},\"pattern\":{\"fillmode\":\"overlay\",\"size\":10,\"solidity\":0.2}},\"type\":\"barpolar\"}],\"carpet\":[{\"aaxis\":{\"endlinecolor\":\"#2a3f5f\",\"gridcolor\":\"white\",\"linecolor\":\"white\",\"minorgridcolor\":\"white\",\"startlinecolor\":\"#2a3f5f\"},\"baxis\":{\"endlinecolor\":\"#2a3f5f\",\"gridcolor\":\"white\",\"linecolor\":\"white\",\"minorgridcolor\":\"white\",\"startlinecolor\":\"#2a3f5f\"},\"type\":\"carpet\"}],\"choropleth\":[{\"colorbar\":{\"outlinewidth\":0,\"ticks\":\"\"},\"type\":\"choropleth\"}],\"contour\":[{\"colorbar\":{\"outlinewidth\":0,\"ticks\":\"\"},\"colorscale\":[[0.0,\"#0d0887\"],[0.1111111111111111,\"#46039f\"],[0.2222222222222222,\"#7201a8\"],[0.3333333333333333,\"#9c179e\"],[0.4444444444444444,\"#bd3786\"],[0.5555555555555556,\"#d8576b\"],[0.6666666666666666,\"#ed7953\"],[0.7777777777777778,\"#fb9f3a\"],[0.8888888888888888,\"#fdca26\"],[1.0,\"#f0f921\"]],\"type\":\"contour\"}],\"contourcarpet\":[{\"colorbar\":{\"outlinewidth\":0,\"ticks\":\"\"},\"type\":\"contourcarpet\"}],\"heatmap\":[{\"colorbar\":{\"outlinewidth\":0,\"ticks\":\"\"},\"colorscale\":[[0.0,\"#0d0887\"],[0.1111111111111111,\"#46039f\"],[0.2222222222222222,\"#7201a8\"],[0.3333333333333333,\"#9c179e\"],[0.4444444444444444,\"#bd3786\"],[0.5555555555555556,\"#d8576b\"],[0.6666666666666666,\"#ed7953\"],[0.7777777777777778,\"#fb9f3a\"],[0.8888888888888888,\"#fdca26\"],[1.0,\"#f0f921\"]],\"type\":\"heatmap\"}],\"heatmapgl\":[{\"colorbar\":{\"outlinewidth\":0,\"ticks\":\"\"},\"colorscale\":[[0.0,\"#0d0887\"],[0.1111111111111111,\"#46039f\"],[0.2222222222222222,\"#7201a8\"],[0.3333333333333333,\"#9c179e\"],[0.4444444444444444,\"#bd3786\"],[0.5555555555555556,\"#d8576b\"],[0.6666666666666666,\"#ed7953\"],[0.7777777777777778,\"#fb9f3a\"],[0.8888888888888888,\"#fdca26\"],[1.0,\"#f0f921\"]],\"type\":\"heatmapgl\"}],\"histogram\":[{\"marker\":{\"pattern\":{\"fillmode\":\"overlay\",\"size\":10,\"solidity\":0.2}},\"type\":\"histogram\"}],\"histogram2d\":[{\"colorbar\":{\"outlinewidth\":0,\"ticks\":\"\"},\"colorscale\":[[0.0,\"#0d0887\"],[0.1111111111111111,\"#46039f\"],[0.2222222222222222,\"#7201a8\"],[0.3333333333333333,\"#9c179e\"],[0.4444444444444444,\"#bd3786\"],[0.5555555555555556,\"#d8576b\"],[0.6666666666666666,\"#ed7953\"],[0.7777777777777778,\"#fb9f3a\"],[0.8888888888888888,\"#fdca26\"],[1.0,\"#f0f921\"]],\"type\":\"histogram2d\"}],\"histogram2dcontour\":[{\"colorbar\":{\"outlinewidth\":0,\"ticks\":\"\"},\"colorscale\":[[0.0,\"#0d0887\"],[0.1111111111111111,\"#46039f\"],[0.2222222222222222,\"#7201a8\"],[0.3333333333333333,\"#9c179e\"],[0.4444444444444444,\"#bd3786\"],[0.5555555555555556,\"#d8576b\"],[0.6666666666666666,\"#ed7953\"],[0.7777777777777778,\"#fb9f3a\"],[0.8888888888888888,\"#fdca26\"],[1.0,\"#f0f921\"]],\"type\":\"histogram2dcontour\"}],\"mesh3d\":[{\"colorbar\":{\"outlinewidth\":0,\"ticks\":\"\"},\"type\":\"mesh3d\"}],\"parcoords\":[{\"line\":{\"colorbar\":{\"outlinewidth\":0,\"ticks\":\"\"}},\"type\":\"parcoords\"}],\"pie\":[{\"automargin\":true,\"type\":\"pie\"}],\"scatter\":[{\"marker\":{\"colorbar\":{\"outlinewidth\":0,\"ticks\":\"\"}},\"type\":\"scatter\"}],\"scatter3d\":[{\"line\":{\"colorbar\":{\"outlinewidth\":0,\"ticks\":\"\"}},\"marker\":{\"colorbar\":{\"outlinewidth\":0,\"ticks\":\"\"}},\"type\":\"scatter3d\"}],\"scattercarpet\":[{\"marker\":{\"colorbar\":{\"outlinewidth\":0,\"ticks\":\"\"}},\"type\":\"scattercarpet\"}],\"scattergeo\":[{\"marker\":{\"colorbar\":{\"outlinewidth\":0,\"ticks\":\"\"}},\"type\":\"scattergeo\"}],\"scattergl\":[{\"marker\":{\"colorbar\":{\"outlinewidth\":0,\"ticks\":\"\"}},\"type\":\"scattergl\"}],\"scattermapbox\":[{\"marker\":{\"colorbar\":{\"outlinewidth\":0,\"ticks\":\"\"}},\"type\":\"scattermapbox\"}],\"scatterpolar\":[{\"marker\":{\"colorbar\":{\"outlinewidth\":0,\"ticks\":\"\"}},\"type\":\"scatterpolar\"}],\"scatterpolargl\":[{\"marker\":{\"colorbar\":{\"outlinewidth\":0,\"ticks\":\"\"}},\"type\":\"scatterpolargl\"}],\"scatterternary\":[{\"marker\":{\"colorbar\":{\"outlinewidth\":0,\"ticks\":\"\"}},\"type\":\"scatterternary\"}],\"surface\":[{\"colorbar\":{\"outlinewidth\":0,\"ticks\":\"\"},\"colorscale\":[[0.0,\"#0d0887\"],[0.1111111111111111,\"#46039f\"],[0.2222222222222222,\"#7201a8\"],[0.3333333333333333,\"#9c179e\"],[0.4444444444444444,\"#bd3786\"],[0.5555555555555556,\"#d8576b\"],[0.6666666666666666,\"#ed7953\"],[0.7777777777777778,\"#fb9f3a\"],[0.8888888888888888,\"#fdca26\"],[1.0,\"#f0f921\"]],\"type\":\"surface\"}],\"table\":[{\"cells\":{\"fill\":{\"color\":\"#EBF0F8\"},\"line\":{\"color\":\"white\"}},\"header\":{\"fill\":{\"color\":\"#C8D4E3\"},\"line\":{\"color\":\"white\"}},\"type\":\"table\"}]},\"layout\":{\"annotationdefaults\":{\"arrowcolor\":\"#2a3f5f\",\"arrowhead\":0,\"arrowwidth\":1},\"autotypenumbers\":\"strict\",\"coloraxis\":{\"colorbar\":{\"outlinewidth\":0,\"ticks\":\"\"}},\"colorscale\":{\"diverging\":[[0,\"#8e0152\"],[0.1,\"#c51b7d\"],[0.2,\"#de77ae\"],[0.3,\"#f1b6da\"],[0.4,\"#fde0ef\"],[0.5,\"#f7f7f7\"],[0.6,\"#e6f5d0\"],[0.7,\"#b8e186\"],[0.8,\"#7fbc41\"],[0.9,\"#4d9221\"],[1,\"#276419\"]],\"sequential\":[[0.0,\"#0d0887\"],[0.1111111111111111,\"#46039f\"],[0.2222222222222222,\"#7201a8\"],[0.3333333333333333,\"#9c179e\"],[0.4444444444444444,\"#bd3786\"],[0.5555555555555556,\"#d8576b\"],[0.6666666666666666,\"#ed7953\"],[0.7777777777777778,\"#fb9f3a\"],[0.8888888888888888,\"#fdca26\"],[1.0,\"#f0f921\"]],\"sequentialminus\":[[0.0,\"#0d0887\"],[0.1111111111111111,\"#46039f\"],[0.2222222222222222,\"#7201a8\"],[0.3333333333333333,\"#9c179e\"],[0.4444444444444444,\"#bd3786\"],[0.5555555555555556,\"#d8576b\"],[0.6666666666666666,\"#ed7953\"],[0.7777777777777778,\"#fb9f3a\"],[0.8888888888888888,\"#fdca26\"],[1.0,\"#f0f921\"]]},\"colorway\":[\"#636efa\",\"#EF553B\",\"#00cc96\",\"#ab63fa\",\"#FFA15A\",\"#19d3f3\",\"#FF6692\",\"#B6E880\",\"#FF97FF\",\"#FECB52\"],\"font\":{\"color\":\"#2a3f5f\"},\"geo\":{\"bgcolor\":\"white\",\"lakecolor\":\"white\",\"landcolor\":\"#E5ECF6\",\"showlakes\":true,\"showland\":true,\"subunitcolor\":\"white\"},\"hoverlabel\":{\"align\":\"left\"},\"hovermode\":\"closest\",\"mapbox\":{\"style\":\"light\"},\"paper_bgcolor\":\"white\",\"plot_bgcolor\":\"#E5ECF6\",\"polar\":{\"angularaxis\":{\"gridcolor\":\"white\",\"linecolor\":\"white\",\"ticks\":\"\"},\"bgcolor\":\"#E5ECF6\",\"radialaxis\":{\"gridcolor\":\"white\",\"linecolor\":\"white\",\"ticks\":\"\"}},\"scene\":{\"xaxis\":{\"backgroundcolor\":\"#E5ECF6\",\"gridcolor\":\"white\",\"gridwidth\":2,\"linecolor\":\"white\",\"showbackground\":true,\"ticks\":\"\",\"zerolinecolor\":\"white\"},\"yaxis\":{\"backgroundcolor\":\"#E5ECF6\",\"gridcolor\":\"white\",\"gridwidth\":2,\"linecolor\":\"white\",\"showbackground\":true,\"ticks\":\"\",\"zerolinecolor\":\"white\"},\"zaxis\":{\"backgroundcolor\":\"#E5ECF6\",\"gridcolor\":\"white\",\"gridwidth\":2,\"linecolor\":\"white\",\"showbackground\":true,\"ticks\":\"\",\"zerolinecolor\":\"white\"}},\"shapedefaults\":{\"line\":{\"color\":\"#2a3f5f\"}},\"ternary\":{\"aaxis\":{\"gridcolor\":\"white\",\"linecolor\":\"white\",\"ticks\":\"\"},\"baxis\":{\"gridcolor\":\"white\",\"linecolor\":\"white\",\"ticks\":\"\"},\"bgcolor\":\"#E5ECF6\",\"caxis\":{\"gridcolor\":\"white\",\"linecolor\":\"white\",\"ticks\":\"\"}},\"title\":{\"x\":0.05},\"xaxis\":{\"automargin\":true,\"gridcolor\":\"white\",\"linecolor\":\"white\",\"ticks\":\"\",\"title\":{\"standoff\":15},\"zerolinecolor\":\"white\",\"zerolinewidth\":2},\"yaxis\":{\"automargin\":true,\"gridcolor\":\"white\",\"linecolor\":\"white\",\"ticks\":\"\",\"title\":{\"standoff\":15},\"zerolinecolor\":\"white\",\"zerolinewidth\":2}}},\"xaxis\":{\"anchor\":\"y\",\"domain\":[0.0,1.0],\"title\":{\"text\":\"P_Mean\"}},\"yaxis\":{\"anchor\":\"x\",\"domain\":[0.0,1.0],\"title\":{\"text\":\"LE_Mean\"}},\"legend\":{\"title\":{\"text\":\"Country\"},\"tracegroupgap\":0,\"itemsizing\":\"constant\"},\"margin\":{\"t\":60}},                        {\"responsive\": true}                    ).then(function(){\n",
       "                            \n",
       "var gd = document.getElementById('e99179a6-72a7-46bf-8b61-64abcb297349');\n",
       "var x = new MutationObserver(function (mutations, observer) {{\n",
       "        var display = window.getComputedStyle(gd).display;\n",
       "        if (!display || display === 'none') {{\n",
       "            console.log([gd, 'removed!']);\n",
       "            Plotly.purge(gd);\n",
       "            observer.disconnect();\n",
       "        }}\n",
       "}});\n",
       "\n",
       "// Listen for the removal of the full notebook cells\n",
       "var notebookContainer = gd.closest('#notebook-container');\n",
       "if (notebookContainer) {{\n",
       "    x.observe(notebookContainer, {childList: true});\n",
       "}}\n",
       "\n",
       "// Listen for the clearing of the current output cell\n",
       "var outputEl = gd.closest('.output');\n",
       "if (outputEl) {{\n",
       "    x.observe(outputEl, {childList: true});\n",
       "}}\n",
       "\n",
       "                        })                };                });            </script>        </div>"
      ]
     },
     "metadata": {},
     "output_type": "display_data"
    }
   ],
   "source": [
    "'''\n",
    "TASK 1.2.5:\n",
    "          \n",
    "'''\n",
    "df_5= pd.DataFrame(columns = ['Country','LE_Mean','P_Mean','width'])\n",
    "##Life expectancy mean is the average of life expectancy years for a country in a given time range.\n",
    "##Here in the question the date range is 10 years that is from 2000 to 2010\n",
    "## For every country the mean life expectancy and mean population is calculcated\n",
    "for i in df.index:\n",
    "  row = df.loc[i].to_list()\n",
    "  country = row[0]\n",
    "  life_expectancy_mean = sum(row[103:114])/10\n",
    "  population_mean = sum(row[42:53])/10\n",
    "  df_5.loc[len(df_5.index)] = [country,life_expectancy_mean,population_mean,0.5].copy()\n",
    "\n",
    "import plotly.express as px\n",
    "##The mean life expectancy and mean populations is plotted in a scatter plot for each country\n",
    "fig = px.scatter(df_5, x=\"P_Mean\", y=\"LE_Mean\", color=\"Country\",\n",
    "                 size='width')\n",
    "fig.show()\n"
   ]
  },
  {
   "cell_type": "code",
   "execution_count": null,
   "metadata": {},
   "outputs": [],
   "source": []
  },
  {
   "cell_type": "code",
   "execution_count": null,
   "metadata": {},
   "outputs": [],
   "source": []
  }
 ],
 "metadata": {
  "colab": {
   "collapsed_sections": [],
   "name": "Task1",
   "provenance": []
  },
  "kernelspec": {
   "display_name": "Python 3 (ipykernel)",
   "language": "python",
   "name": "python3"
  },
  "language_info": {
   "codemirror_mode": {
    "name": "ipython",
    "version": 3
   },
   "file_extension": ".py",
   "mimetype": "text/x-python",
   "name": "python",
   "nbconvert_exporter": "python",
   "pygments_lexer": "ipython3",
   "version": "3.8.11"
  }
 },
 "nbformat": 4,
 "nbformat_minor": 1
}
